{
 "cells": [
  {
   "cell_type": "code",
   "execution_count": 1,
   "metadata": {},
   "outputs": [],
   "source": [
    "import torch"
   ]
  },
  {
   "cell_type": "code",
   "execution_count": 7,
   "metadata": {},
   "outputs": [],
   "source": [
    "# Simple Linear Function, f = w * x\n",
    "\n",
    "# f = 2 * x\n",
    "\n",
    "# Some training data\n",
    "X = torch.tensor([1, 2, 3, 4], dtype=torch.float32)\n",
    "y = torch.tensor([2, 4, 6, 8], dtype=torch.float32)\n",
    "\n",
    "# Start with initial value of the weights, and since we compute our\n",
    "# gradients with respect to this variable, we need to indicate that\n",
    "w = torch.tensor(0.0, dtype=torch.float32, requires_grad=True)"
   ]
  },
  {
   "cell_type": "markdown",
   "metadata": {},
   "source": [
    "Now, let's use PyTorch"
   ]
  },
  {
   "cell_type": "code",
   "execution_count": 9,
   "metadata": {},
   "outputs": [],
   "source": [
    "# model prediction\n",
    "\n",
    "def forward(x):\n",
    "    return w * x\n",
    "\n",
    "# calculate the loss=MSE\n",
    "def loss(y, y_predicted):\n",
    "    return ((y_predicted - y) **2).mean()\n"
   ]
  },
  {
   "cell_type": "code",
   "execution_count": 11,
   "metadata": {},
   "outputs": [
    {
     "name": "stdout",
     "output_type": "stream",
     "text": [
      "epoch: 1; w: 1.934; loss: 0.045069\n",
      "epoch: 11; w: 1.987; loss: 0.001747\n",
      "epoch: 21; w: 1.997; loss: 0.000068\n",
      "epoch: 31; w: 1.999; loss: 0.000003\n",
      "epoch: 41; w: 2.000; loss: 0.000000\n",
      "epoch: 51; w: 2.000; loss: 0.000000\n",
      "epoch: 61; w: 2.000; loss: 0.000000\n",
      "epoch: 71; w: 2.000; loss: 0.000000\n",
      "epoch: 81; w: 2.000; loss: 0.000000\n",
      "epoch: 91; w: 2.000; loss: 0.000000\n",
      "Prediciction after training f(5): 10.0\n"
     ]
    }
   ],
   "source": [
    "learing_rate = 0.01\n",
    "n_iterations = 100\n",
    "\n",
    "for epoch in range(n_iterations):\n",
    "    # prediction = forward pass\n",
    "    y_pred = forward(X)\n",
    "    \n",
    "    # Compute the loss\n",
    "    l = loss(y, y_pred)\n",
    "    \n",
    "    # gradients = backward pass in PyTroch\n",
    "    l.backward() # dl/dw\n",
    "    \n",
    "    # update the weights\n",
    "    with torch.no_grad():\n",
    "        w -= learing_rate * w.grad\n",
    "    \n",
    "    # zero the gradients for the next pass\n",
    "    w.grad.zero_()\n",
    "    \n",
    "    # print some values\n",
    "    if epoch % 10 == 0:\n",
    "        print(f'epoch: {epoch + 1}; w: {w:.3f}; loss: {l:8f}')\n",
    "        \n",
    "print(f'Prediciction after training f(5): {forward(5):.3}')"
   ]
  },
  {
   "cell_type": "code",
   "execution_count": null,
   "metadata": {},
   "outputs": [],
   "source": []
  }
 ],
 "metadata": {
  "kernelspec": {
   "display_name": "Python 3",
   "language": "python",
   "name": "python3"
  },
  "language_info": {
   "codemirror_mode": {
    "name": "ipython",
    "version": 3
   },
   "file_extension": ".py",
   "mimetype": "text/x-python",
   "name": "python",
   "nbconvert_exporter": "python",
   "pygments_lexer": "ipython3",
   "version": "3.7.5"
  }
 },
 "nbformat": 4,
 "nbformat_minor": 4
}
