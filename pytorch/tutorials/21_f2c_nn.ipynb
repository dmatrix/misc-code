{
 "cells": [
  {
   "cell_type": "code",
   "execution_count": 1,
   "metadata": {},
   "outputs": [],
   "source": [
    "import os\n",
    "import numpy as np\n",
    "import random\n",
    "from sklearn.preprocessing import MinMaxScaler\n",
    "\n",
    "import torch\n",
    "import torchvision\n",
    "from torchvision import transforms\n",
    "from torch.utils.data import Dataset, DataLoader"
   ]
  },
  {
   "cell_type": "code",
   "execution_count": 2,
   "metadata": {},
   "outputs": [],
   "source": [
    "os.environ['KMP_DUPLICATE_LIB_OK'] = 'True'"
   ]
  },
  {
   "cell_type": "code",
   "execution_count": 3,
   "metadata": {},
   "outputs": [],
   "source": [
    "class FahrenheitTemperatures(Dataset):\n",
    "    def __init__(self, start=-212, stop=212, size=5000):\n",
    "        super(FahrenheitTemperatures, self).__init__()\n",
    "        \n",
    "        # Intialize local variables and scale the data\n",
    "        self.scaler_f =  MinMaxScaler()\n",
    "        self.scaler_c = MinMaxScaler()\n",
    "        \n",
    "        np.random.seed(42)\n",
    "        f_temp = np.random.randint(start, high=stop, size=size).reshape(-1, 1)\n",
    "        c_temp = np.array([self._f2c(f) for f in f_temp]).reshape(-1, 1)\n",
    "        \n",
    "        # transform and scale the X, y data \n",
    "        f_temp = self.scaler_f.fit_transform(f_temp)\n",
    "        c_temp = self.scaler_c.fit_transform(c_temp)\n",
    "        \n",
    "        # convert to tensors\n",
    "        self.X = torch.from_numpy(f_temp).float()\n",
    "        self.y = torch.from_numpy(c_temp).float()\n",
    "        self._samples = self.X.shape[0]\n",
    "        \n",
    "    def __getitem__(self, index):\n",
    "        # support indexing such that dataset[i] can be used to get i-th sample\n",
    "        # implement this python function for indexing\n",
    "        return self.X[index], self.y[index] \n",
    "        \n",
    "    def __len__(self):\n",
    "        # we can call len(dataset) to return the size, so this can be used\n",
    "        # as an iterator\n",
    "        return self._samples\n",
    "    \n",
    "    def _f2c(self, f) -> float:\n",
    "        return (f - 32) * 5.0/9.0\n",
    "    \n",
    "    @property\n",
    "    def samples(self):\n",
    "        return self._samples"
   ]
  },
  {
   "cell_type": "code",
   "execution_count": 4,
   "metadata": {},
   "outputs": [],
   "source": [
    "class LinearNN(torch.nn.Module):\n",
    "    def __init__(self, input_size, output_size, hidden_size=10):\n",
    "        super(LinearNN, self).__init__()\n",
    "        \n",
    "        # Input, output, and hidden size paramaters\n",
    "        self.input_size = input_size\n",
    "        self.output_size = output_size\n",
    "        self.hidden_size = hidden_size\n",
    "        \n",
    "        # Build the NN architecture\n",
    "        self.l1 = torch.nn.Linear(input_size, output_size)\n",
    "        \n",
    "    def forward(self, x):\n",
    "        out = self.l1(x)\n",
    "        return out"
   ]
  },
  {
   "cell_type": "code",
   "execution_count": 5,
   "metadata": {},
   "outputs": [
    {
     "name": "stdout",
     "output_type": "stream",
     "text": [
      "Fahrenheit: 0.2411\n",
      "Celcius   : 0.2411\n",
      "Samples   : 5000.00\n"
     ]
    }
   ],
   "source": [
    "# Let's now access our dataset\n",
    "dataset = FahrenheitTemperatures()\n",
    "first_dataset = dataset[0]\n",
    "features, labels = first_dataset\n",
    "samples = dataset.samples\n",
    "print('Fahrenheit: {:.4f}'.format(features[0]))\n",
    "print('Celcius   : {:.4f}'.format(labels[0]))\n",
    "print('Samples   : {:.2f}'.format(samples))"
   ]
  },
  {
   "cell_type": "code",
   "execution_count": 6,
   "metadata": {},
   "outputs": [],
   "source": [
    "data_loader = DataLoader(dataset=dataset, batch_size=100, shuffle=True)"
   ]
  },
  {
   "cell_type": "code",
   "execution_count": 7,
   "metadata": {},
   "outputs": [],
   "source": [
    "# our model, loss function, and optimizer\n",
    "model = LinearNN(1, 1, 128)\n",
    "criterion = torch.nn.MSELoss()\n",
    "optimizer = torch.optim.SGD(model.parameters(), lr=1e-3)"
   ]
  },
  {
   "cell_type": "code",
   "execution_count": 8,
   "metadata": {},
   "outputs": [
    {
     "name": "stdout",
     "output_type": "stream",
     "text": [
      "Epoch: 100.0/1000, loss: 0.0002, Weight: 1.0536, bias: -0.0287\n",
      "Epoch: 200.0/1000, loss: 0.0001, Weight: 1.0275, bias: -0.0147\n",
      "Epoch: 300.0/1000, loss: 0.0000, Weight: 1.0141, bias: -0.0076\n",
      "Epoch: 400.0/1000, loss: 0.0000, Weight: 1.0072, bias: -0.0039\n",
      "Epoch: 500.0/1000, loss: 0.0000, Weight: 1.0037, bias: -0.0020\n",
      "Epoch: 600.0/1000, loss: 0.0000, Weight: 1.0019, bias: -0.0010\n",
      "Epoch: 700.0/1000, loss: 0.0000, Weight: 1.0010, bias: -0.0005\n",
      "Epoch: 800.0/1000, loss: 0.0000, Weight: 1.0005, bias: -0.0003\n",
      "Epoch: 900.0/1000, loss: 0.0000, Weight: 1.0003, bias: -0.0002\n",
      "Epoch: 1000.0/1000, loss: 0.0000, Weight: 1.0003, bias: -0.0001\n"
     ]
    }
   ],
   "source": [
    "# Training loop\n",
    "epochs= 1000\n",
    "for epoch in range(epochs):\n",
    "    for i, (inputs, labels) in enumerate(data_loader):\n",
    "        \n",
    "        # Forward pass: Compute predicted y by passing x to the model\n",
    "        y_pred = model(inputs)\n",
    "        \n",
    "        # Compute and print loss\n",
    "        loss = criterion(y_pred, labels)\n",
    "        \n",
    "        # Zero gradients, perform a backward pass, and update the weights.\n",
    "        optimizer.zero_grad()\n",
    "        loss.backward()\n",
    "        optimizer.step()\n",
    "    if (epoch + 1) % 100 == 0:\n",
    "        print('Epoch: {}/{}, loss: {:.4f}, Weight: {:.4f}, bias: {:.4f}'\n",
    "              .format(epoch + 1., epochs, loss.data.item(), model.l1.weight.item(), model.l1.bias.item()))"
   ]
  },
  {
   "cell_type": "code",
   "execution_count": 9,
   "metadata": {},
   "outputs": [
    {
     "name": "stdout",
     "output_type": "stream",
     "text": [
      "tensor([[212.0564],\n",
      "        [207.0551],\n",
      "        [202.0537],\n",
      "        [197.0524],\n",
      "        [192.0511],\n",
      "        [187.0497]])\n"
     ]
    }
   ],
   "source": [
    "with torch.no_grad():\n",
    "    f_temp = np.arange(212, 185, -5).reshape(-1, 1)\n",
    "    y_pred = model(torch.from_numpy(f_temp).float())\n",
    "    print(y_pred)"
   ]
  },
  {
   "cell_type": "code",
   "execution_count": null,
   "metadata": {},
   "outputs": [],
   "source": [
    "def f2c(f):\n",
    "    return (f - 32) * 5.0/9.0"
   ]
  },
  {
   "cell_type": "code",
   "execution_count": 10,
   "metadata": {},
   "outputs": [
    {
     "data": {
      "text/plain": [
       "array([[212],\n",
       "       [207],\n",
       "       [202],\n",
       "       [197],\n",
       "       [192],\n",
       "       [187]])"
      ]
     },
     "execution_count": 10,
     "metadata": {},
     "output_type": "execute_result"
    }
   ],
   "source": [
    "f_temp = np.arange(212, 185, -5).reshape(-1, 1)\n",
    "f_temp"
   ]
  },
  {
   "cell_type": "code",
   "execution_count": null,
   "metadata": {},
   "outputs": [],
   "source": [
    "f2c(187)"
   ]
  },
  {
   "cell_type": "code",
   "execution_count": null,
   "metadata": {},
   "outputs": [],
   "source": [
    "f2c(-110)"
   ]
  },
  {
   "cell_type": "code",
   "execution_count": null,
   "metadata": {},
   "outputs": [],
   "source": [
    "f2c(0)"
   ]
  },
  {
   "cell_type": "code",
   "execution_count": 11,
   "metadata": {},
   "outputs": [
    {
     "data": {
      "text/plain": [
       "array([[ 1.],\n",
       "       [-1.],\n",
       "       [ 1.],\n",
       "       ...,\n",
       "       [-1.],\n",
       "       [ 1.],\n",
       "       [ 1.]])"
      ]
     },
     "execution_count": 11,
     "metadata": {},
     "output_type": "execute_result"
    }
   ],
   "source": [
    "from sklearn import preprocessing\n",
    "\n",
    "import numpy as np\n",
    "f_temp = f_temp = np.random.randint(-212, high=212, size=5000).reshape(-1, 1)\n",
    "f_temp = preprocessing.normalize(f_temp, norm='l1')\n",
    "f_temp"
   ]
  },
  {
   "cell_type": "code",
   "execution_count": 17,
   "metadata": {},
   "outputs": [
    {
     "data": {
      "text/plain": [
       "(array([211]), array([-212]), array([1.2]), array([122.80974228]))"
      ]
     },
     "execution_count": 17,
     "metadata": {},
     "output_type": "execute_result"
    }
   ],
   "source": [
    "f_temp = f_temp = np.random.randint(-212, high=212, size=5000).reshape(-1, 1)\n",
    "f_temp.max(axis=0), f_temp.min(axis=0), f_temp.mean(axis=0),  f_temp.std(axis=0)"
   ]
  },
  {
   "cell_type": "code",
   "execution_count": null,
   "metadata": {},
   "outputs": [],
   "source": []
  }
 ],
 "metadata": {
  "kernelspec": {
   "display_name": "Python 3",
   "language": "python",
   "name": "python3"
  },
  "language_info": {
   "codemirror_mode": {
    "name": "ipython",
    "version": 3
   },
   "file_extension": ".py",
   "mimetype": "text/x-python",
   "name": "python",
   "nbconvert_exporter": "python",
   "pygments_lexer": "ipython3",
   "version": "3.7.5"
  }
 },
 "nbformat": 4,
 "nbformat_minor": 4
}
