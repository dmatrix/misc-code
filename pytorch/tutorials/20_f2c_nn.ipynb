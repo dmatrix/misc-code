{
 "cells": [
  {
   "cell_type": "code",
   "execution_count": 132,
   "metadata": {},
   "outputs": [],
   "source": [
    "import os\n",
    "import numpy as np\n",
    "from sklearn.preprocessing import StandardScaler\n",
    "\n",
    "import torch\n",
    "import torchvision\n",
    "from torchvision import transforms\n",
    "from torch.utils.data import Dataset, DataLoader"
   ]
  },
  {
   "cell_type": "code",
   "execution_count": 133,
   "metadata": {},
   "outputs": [],
   "source": [
    "os.environ['KMP_DUPLICATE_LIB_OK'] = 'True'"
   ]
  },
  {
   "cell_type": "code",
   "execution_count": 134,
   "metadata": {},
   "outputs": [],
   "source": [
    "class FahrenheitTemperatures(Dataset):\n",
    "    def __init__(self, start=-212, stop=10214, step=2):\n",
    "        super(FahrenheitTemperatures, self).__init__()\n",
    "        \n",
    "        # Intialize local variables and scale the data\n",
    "        scaler_f = StandardScaler()\n",
    "        scaler_c = StandardScaler()\n",
    "        f_temp = np.arange(start, stop, step).reshape(-1, 1)\n",
    "        c_temp = np.array([self._f2c(f) for f in f_temp]).reshape(-1, 1)\n",
    "        \n",
    "        # transform data \n",
    "        f_temp = scaler_f.fit_transform(f_temp)\n",
    "        c_temp = scaler_c.fit_transform(c_temp)\n",
    "        \n",
    "        # convert to tensors\n",
    "        self.X = torch.from_numpy(f_temp).float()\n",
    "        self.y = torch.from_numpy(c_temp).float()\n",
    "        self._samples = self.X.shape[0]\n",
    "        \n",
    "    def __getitem__(self, index):\n",
    "        # support indexing such that dataset[i] can be used to get i-th sample\n",
    "        # implement this python function for indexing\n",
    "        return self.X[index], self.y[index] \n",
    "        \n",
    "    def __len__(self):\n",
    "        # we can call len(dataset) to return the size, so this can be used\n",
    "        # as an iterator\n",
    "        return self._samples\n",
    "    \n",
    "    def _f2c(self, f) -> float:\n",
    "        return (f - 32) * 5.0/9.0\n",
    "    \n",
    "    @property\n",
    "    def samples(self):\n",
    "        return self._samples"
   ]
  },
  {
   "cell_type": "code",
   "execution_count": 135,
   "metadata": {},
   "outputs": [],
   "source": [
    "class LinearNN(torch.nn.Module):\n",
    "    def __init__(self, input_size, output_size, hidden_size):\n",
    "        super(LinearNN, self).__init__()\n",
    "        \n",
    "        # Input, output, and hidden size paramaters\n",
    "        self.input_size = input_size\n",
    "        self.output_size = output_size\n",
    "        self.hidden_size = hidden_size\n",
    "        \n",
    "        # Build the NN architecture\n",
    "        self.model = torch.nn.Sequential(\n",
    "            torch.nn.Linear(input_size, hidden_size),\n",
    "            torch.nn.ReLU(),\n",
    "            torch.nn.Linear(hidden_size, 1),\n",
    "            torch.nn.ReLU())\n",
    "        \n",
    "    def forward(self, x):\n",
    "        out = self.model(x)\n",
    "        return out    "
   ]
  },
  {
   "cell_type": "code",
   "execution_count": 136,
   "metadata": {},
   "outputs": [
    {
     "name": "stdout",
     "output_type": "stream",
     "text": [
      "Fahrenheit: -1.7317\n",
      "Celcius   : -1.7317\n",
      "Samples   : 5213.00\n"
     ]
    }
   ],
   "source": [
    "# Let's now access our dataset\n",
    "dataset = FahrenheitTemperatures()\n",
    "first_dataset = dataset[0]\n",
    "features, labels = first_dataset\n",
    "samples = dataset.samples\n",
    "print('Fahrenheit: {:.4f}'.format(features[0]))\n",
    "print('Celcius   : {:.4f}'.format(labels[0]))\n",
    "print('Samples   : {:.2f}'.format(samples))"
   ]
  },
  {
   "cell_type": "code",
   "execution_count": 137,
   "metadata": {},
   "outputs": [],
   "source": [
    "data_loader = DataLoader(dataset=dataset, batch_size=50, shuffle=True)"
   ]
  },
  {
   "cell_type": "code",
   "execution_count": 138,
   "metadata": {},
   "outputs": [],
   "source": [
    "# our model, loss function, and optimizer\n",
    "model = LinearNN(1, 1, 10)\n",
    "criterion = torch.nn.MSELoss()\n",
    "optimizer = torch.optim.SGD(model.parameters(), lr=0.01)"
   ]
  },
  {
   "cell_type": "code",
   "execution_count": 139,
   "metadata": {},
   "outputs": [
    {
     "name": "stdout",
     "output_type": "stream",
     "text": [
      "Epoch: 100.0/2000, loss: 1.4299\n",
      "Epoch: 200.0/2000, loss: 0.9665\n",
      "Epoch: 300.0/2000, loss: 0.6518\n",
      "Epoch: 400.0/2000, loss: 1.0255\n",
      "Epoch: 500.0/2000, loss: 0.9042\n",
      "Epoch: 600.0/2000, loss: 0.5256\n",
      "Epoch: 700.0/2000, loss: 1.3524\n",
      "Epoch: 800.0/2000, loss: 0.7821\n",
      "Epoch: 900.0/2000, loss: 1.3277\n",
      "Epoch: 1000.0/2000, loss: 1.1988\n",
      "Epoch: 1100.0/2000, loss: 0.5334\n",
      "Epoch: 1200.0/2000, loss: 1.2093\n",
      "Epoch: 1300.0/2000, loss: 0.8921\n",
      "Epoch: 1400.0/2000, loss: 0.7946\n",
      "Epoch: 1500.0/2000, loss: 0.9578\n",
      "Epoch: 1600.0/2000, loss: 1.0538\n",
      "Epoch: 1700.0/2000, loss: 0.8189\n",
      "Epoch: 1800.0/2000, loss: 1.2356\n",
      "Epoch: 1900.0/2000, loss: 1.0036\n",
      "Epoch: 2000.0/2000, loss: 1.0129\n"
     ]
    }
   ],
   "source": [
    "# Training loop\n",
    "epochs= 2000\n",
    "for epoch in range(epochs):\n",
    "    for i, (inputs, labels) in enumerate(data_loader):\n",
    "        \n",
    "        # Forward pass: Compute predicted y by passing x to the model\n",
    "        y_pred = model(inputs)\n",
    "        \n",
    "        # Compute and print loss\n",
    "        loss = criterion(y_pred, labels)\n",
    "        \n",
    "        # Zero gradients, perform a backward pass, and update the weights.\n",
    "        optimizer.zero_grad()\n",
    "        loss.backward()\n",
    "        optimizer.step()\n",
    "    \n",
    "    if (epoch + 1) % 100 == 0:\n",
    "        print('Epoch: {}/{}, loss: {:.4f}'.format(epoch + 1., epochs, loss.data.item()))"
   ]
  },
  {
   "cell_type": "code",
   "execution_count": 130,
   "metadata": {},
   "outputs": [
    {
     "name": "stdout",
     "output_type": "stream",
     "text": [
      "tensor([[200.8002],\n",
      "        [196.0702],\n",
      "        [191.3403],\n",
      "        [186.6104],\n",
      "        [181.8804],\n",
      "        [177.1505]])\n"
     ]
    }
   ],
   "source": [
    "with torch.no_grad():\n",
    "    f_temp = np.arange(212, 185, -5).reshape(-1, 1)\n",
    "    y_pred = model(torch.from_numpy(f_temp).float())\n",
    "    print(y_pred)"
   ]
  },
  {
   "cell_type": "code",
   "execution_count": 131,
   "metadata": {},
   "outputs": [],
   "source": [
    "with torch.no_grad():\n",
    "    model(torch.tensor([212]).float())"
   ]
  },
  {
   "cell_type": "code",
   "execution_count": null,
   "metadata": {},
   "outputs": [],
   "source": []
  },
  {
   "cell_type": "code",
   "execution_count": null,
   "metadata": {},
   "outputs": [],
   "source": []
  }
 ],
 "metadata": {
  "kernelspec": {
   "display_name": "Python 3",
   "language": "python",
   "name": "python3"
  },
  "language_info": {
   "codemirror_mode": {
    "name": "ipython",
    "version": 3
   },
   "file_extension": ".py",
   "mimetype": "text/x-python",
   "name": "python",
   "nbconvert_exporter": "python",
   "pygments_lexer": "ipython3",
   "version": "3.7.5"
  }
 },
 "nbformat": 4,
 "nbformat_minor": 4
}
