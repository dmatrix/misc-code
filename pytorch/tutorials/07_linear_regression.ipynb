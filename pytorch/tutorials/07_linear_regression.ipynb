{
 "cells": [
  {
   "cell_type": "markdown",
   "metadata": {},
   "source": [
    "This notebook now replaces everything we did in manually and semi-manully in the previous\n",
    "two nodebooks. We will use\n",
    "\n",
    "1. PyTorch Models for prediction\n",
    "2. Autograd for gradient computation\n",
    "3. PyTorch Loss for loss computation\n",
    "4. PyTorch Optimizer for parameter updates\n",
    "\n",
    "A PyTorch Pipeline has three steps:\n",
    "\n",
    "1. Design a model (input_size, output_size, forward_pass)\n",
    "2. Construct the loss and optimizer\n",
    "3. Training loop\n",
    " - forward pass: compute prediction and loss\n",
    " - backward pass: gradients\n",
    " - update the weights\n",
    " \n",
    " For all the above pipeline steps, we use PyTorch classes and methods "
   ]
  },
  {
   "cell_type": "code",
   "execution_count": 1,
   "metadata": {},
   "outputs": [],
   "source": [
    "import torch\n",
    "import torch.nn as nn\n",
    "import numpy as np\n",
    "from sklearn import datasets\n",
    "import matplotlib.pyplot as plt"
   ]
  },
  {
   "cell_type": "markdown",
   "metadata": {},
   "source": [
    "### Step 0. Prepare data\n",
    "\n",
    "Create tensors from our numpy dataset returned from sklearn "
   ]
  },
  {
   "cell_type": "code",
   "execution_count": 2,
   "metadata": {},
   "outputs": [
    {
     "name": "stdout",
     "output_type": "stream",
     "text": [
      "X shape: torch.Size([100, 1])\n",
      "y shape: torch.Size([100, 1])\n",
      "samples: 100; features: 1\n"
     ]
    }
   ],
   "source": [
    "X_numpy, y_numpy = datasets.make_regression(n_samples=100, n_features=1, noise=20, random_state=1)\n",
    "X = torch.from_numpy(X_numpy.astype(np.float32))\n",
    "y = torch.from_numpy(y_numpy.astype(np.float32))\n",
    "# Reshape y\n",
    "y = y.view(y.shape[0], 1)\n",
    "n_samples, n_features = X.shape\n",
    "print(f'X shape: {X.shape}')\n",
    "print(f'y shape: {y.shape}')\n",
    "print(f'samples: {n_samples}; features: {n_features}')"
   ]
  },
  {
   "cell_type": "markdown",
   "metadata": {},
   "source": [
    "### Step 1. Design the model"
   ]
  },
  {
   "cell_type": "code",
   "execution_count": 3,
   "metadata": {},
   "outputs": [],
   "source": [
    "input_size = n_features\n",
    "output_size = 1\n",
    "# Creatre a linear model\n",
    "model = nn.Linear(input_size, output_size)"
   ]
  },
  {
   "cell_type": "markdown",
   "metadata": {},
   "source": [
    "### Step 2. Construct loss and optimizer"
   ]
  },
  {
   "cell_type": "code",
   "execution_count": 4,
   "metadata": {},
   "outputs": [],
   "source": [
    "learning_rate = 0.01\n",
    "criterion = nn.MSELoss()\n",
    "optimizer = torch.optim.SGD(model.parameters(), lr=learning_rate)"
   ]
  },
  {
   "cell_type": "markdown",
   "metadata": {},
   "source": [
    "### Step 4. Train loop"
   ]
  },
  {
   "cell_type": "code",
   "execution_count": 5,
   "metadata": {},
   "outputs": [],
   "source": [
    "%matplotlib inline"
   ]
  },
  {
   "cell_type": "code",
   "execution_count": 6,
   "metadata": {},
   "outputs": [
    {
     "name": "stdout",
     "output_type": "stream",
     "text": [
      "epoch: 1,  loss: 5727.850098\n",
      "epoch: 11,  loss: 4243.833008\n",
      "epoch: 21,  loss: 3170.628418\n",
      "epoch: 31,  loss: 2393.656006\n",
      "epoch: 41,  loss: 1830.572388\n",
      "epoch: 51,  loss: 1422.109009\n",
      "epoch: 61,  loss: 1125.549072\n",
      "epoch: 71,  loss: 910.061584\n",
      "epoch: 81,  loss: 753.366272\n",
      "epoch: 91,  loss: 639.345215\n"
     ]
    },
    {
     "data": {
      "text/plain": [
       "[<matplotlib.lines.Line2D at 0x18e0a2b10>]"
      ]
     },
     "execution_count": 6,
     "metadata": {},
     "output_type": "execute_result"
    },
    {
     "data": {
      "image/png": "[encoded data removed]",
      "text/plain": [
       "<Figure size 432x288 with 1 Axes>"
      ]
     },
     "metadata": {
      "needs_background": "light"
     },
     "output_type": "display_data"
    }
   ],
   "source": [
    "num_epochs = 100\n",
    "for epoch in range(num_epochs):\n",
    "    # Forward pass and loss\n",
    "    y_predicted = model(X)\n",
    "    loss = criterion(y_predicted, y)\n",
    "    \n",
    "    # Backward pass: compute gradients\n",
    "    loss.backward()\n",
    "    \n",
    "    # Update the weights\n",
    "    optimizer.step()\n",
    "    \n",
    "    # zero out the gradients computed in the backward pass as it sums\n",
    "    # in a list property .grad\n",
    "    optimizer.zero_grad()\n",
    "    \n",
    "    # print some status and progress\n",
    "    if epoch % 10 == 0:\n",
    "        print(f'epoch: {epoch + 1},  loss: {loss.item():4f}')\n",
    "        \n",
    "# Plot\n",
    "# detach the X from the computed DAG\n",
    "predicted = model(X).detach().numpy()\n",
    "\n",
    "# X and Y labels\n",
    "plt.xlabel('X')\n",
    "plt.ylabel('y')\n",
    "\n",
    "plt.plot(X_numpy, y_numpy, 'ro', label='X,y')\n",
    "plt.plot(X_numpy, predicted, 'b', label='y_predicted')  "
   ]
  },
  {
   "cell_type": "code",
   "execution_count": null,
   "metadata": {},
   "outputs": [],
   "source": []
  }
 ],
 "metadata": {
  "kernelspec": {
   "display_name": "Python 3",
   "language": "python",
   "name": "python3"
  },
  "language_info": {
   "codemirror_mode": {
    "name": "ipython",
    "version": 3
   },
   "file_extension": ".py",
   "mimetype": "text/x-python",
   "name": "python",
   "nbconvert_exporter": "python",
   "pygments_lexer": "ipython3",
   "version": "3.7.5"
  }
 },
 "nbformat": 4,
 "nbformat_minor": 4
}
