{
 "cells": [
  {
   "cell_type": "markdown",
   "metadata": {},
   "source": [
    "Transforms can be applied to PIL images, tensors, ndarrays, or custom data\n",
    "during creation of the Dataset.\n",
    "\n",
    "Refere to a complete list of [built-in transforms](https://pytorch.org/docs/stable/torchvision/transforms.html)\n",
    "\n",
    "\n",
    "### On Images\n",
    "\n",
    "CenterCrop, Grayscale, Pad, RandomAffine RandomCrop, RandomHorizontalFlip, RandomRotationResize, Scale\n",
    "\n",
    "### On Tensors\n",
    "\n",
    "LinearTransformation, Normalize, RandomErasing\n",
    "\n",
    "### Conversion\n",
    "\n",
    "**ToPILImage**: from tensor or ndrarray\n",
    "\n",
    "**ToTensor**: from numpy.ndarray or PILImage\n",
    "\n",
    "### Generic\n",
    "\n",
    "Use Lambda \n",
    "\n",
    "### Custom\n",
    "\n",
    "Write own class\n",
    "\n",
    "### Compose multiple Transforms\n",
    "\n",
    "```\n",
    "composed = transforms.Compose([Rescale(256),\n",
    "                               RandomCrop(224)]\n",
    "```"
   ]
  },
  {
   "cell_type": "code",
   "execution_count": 5,
   "metadata": {},
   "outputs": [],
   "source": [
    "import torch\n",
    "import torchvision\n",
    "from torch.utils.data import Dataset\n",
    "import numpy as np"
   ]
  },
  {
   "cell_type": "code",
   "execution_count": 23,
   "metadata": {},
   "outputs": [],
   "source": [
    "class WineDataset(Dataset):\n",
    "    \"\"\"\n",
    "    Implement a custom Dataset: inherit Dataset\n",
    "    Implement __init__ , __getitem__ , and __len__\n",
    "    \"\"\"\n",
    "    def __init__(self, transform=None):\n",
    "        # Initialize data, download, etc.\n",
    "        # read with numpy or pandas\n",
    "        xy = np.loadtxt('https://raw.githubusercontent.com/python-engineer/pytorchTutorial/master/data/wine/wine.csv', delimiter=',', dtype=np.float32, skiprows=1)\n",
    "        self.n_samples = xy.shape[0]\n",
    "        \n",
    "        # Here the first column is the class label, the rest are the features\n",
    "        # no need to convert to tensors from numpy\n",
    "        self.x_data = xy[:, 1:] # size [n_samples, n_features]\n",
    "        self.y_data = xy[:, [0]] # size [n_samples, 1]\n",
    "        \n",
    "        self.transform = transform\n",
    "        \n",
    "    def __getitem__(self, index):\n",
    "        # support indexing such that dataset[i] can be used to get i-th sample\n",
    "        # implement this python function for indexing\n",
    "        \n",
    "        sample = self.x_data[index], self.y_data[index]\n",
    "        \n",
    "        if self.transform:\n",
    "            sample = self.transform(sample)\n",
    "        \n",
    "        return sample\n",
    "\n",
    "    def __len__(self):\n",
    "        # we can call len(dataset) to return the size, so this can be used\n",
    "        # as an iterator\n",
    "        return self.n_sample"
   ]
  },
  {
   "cell_type": "markdown",
   "metadata": {},
   "source": [
    "Let's define our a couple of custom transformers"
   ]
  },
  {
   "cell_type": "code",
   "execution_count": 29,
   "metadata": {},
   "outputs": [],
   "source": [
    "class ToTensor:\n",
    "    # convert ndarrays to tensors\n",
    "    def __call__(self, sample):\n",
    "        # Unpack sample\n",
    "        inputs, targets = sample\n",
    "        \n",
    "        # convert to tensor\n",
    "        return torch.from_numpy(inputs), torch.from_numpy(targets)\n",
    "    \n",
    "class MultTransform:\n",
    "    # takes factor as multiplicant\n",
    "    def __init__(self, factor):\n",
    "        self.factor = factor\n",
    "    \n",
    "    # make it callable\n",
    "    def __call__(self, sample):\n",
    "        # Unpack sample\n",
    "        inputs, targets = sample\n",
    "        inputs *= self.factor\n",
    "        return inputs, targets\n",
    "    \n",
    "def print_tensor_info(features, labels):\n",
    "    print('features: {}'.format(features))\n",
    "    print('labels  :{}'.format(labels))"
   ]
  },
  {
   "cell_type": "code",
   "execution_count": 33,
   "metadata": {},
   "outputs": [
    {
     "name": "stdout",
     "output_type": "stream",
     "text": [
      "features: [1.423e+01 1.710e+00 2.430e+00 1.560e+01 1.270e+02 2.800e+00 3.060e+00\n",
      " 2.800e-01 2.290e+00 5.640e+00 1.040e+00 3.920e+00 1.065e+03]\n",
      "labels  :[1.]\n"
     ]
    }
   ],
   "source": [
    "# Let's now access our without transform dataset\n",
    "dataset = WineDataset()\n",
    "first_dataset = dataset[0]\n",
    "features, labels = first_dataset\n",
    "print_tensor_info(features, labels)"
   ]
  },
  {
   "cell_type": "code",
   "execution_count": 31,
   "metadata": {},
   "outputs": [
    {
     "name": "stdout",
     "output_type": "stream",
     "text": [
      "features: tensor([1.4230e+01, 1.7100e+00, 2.4300e+00, 1.5600e+01, 1.2700e+02, 2.8000e+00,\n",
      "        3.0600e+00, 2.8000e-01, 2.2900e+00, 5.6400e+00, 1.0400e+00, 3.9200e+00,\n",
      "        1.0650e+03])\n",
      "labels  :tensor([1.])\n"
     ]
    }
   ],
   "source": [
    "# Let's now access our with transform dataset\n",
    "dataset = WineDataset(transform=ToTensor())\n",
    "first_dataset = dataset[0]\n",
    "features, labels = first_dataset\n",
    "print_tensor_info(features, labels)"
   ]
  },
  {
   "cell_type": "markdown",
   "metadata": {},
   "source": [
    "Use compose functionality to create mulitple transformers for the data"
   ]
  },
  {
   "cell_type": "code",
   "execution_count": 35,
   "metadata": {},
   "outputs": [
    {
     "name": "stdout",
     "output_type": "stream",
     "text": [
      "features: tensor([1.4230e+01, 1.7100e+00, 2.4300e+00, 1.5600e+01, 1.2700e+02, 2.8000e+00,\n",
      "        3.0600e+00, 2.8000e-01, 2.2900e+00, 5.6400e+00, 1.0400e+00, 3.9200e+00,\n",
      "        1.0650e+03])\n",
      "labels  :tensor([1.])\n",
      "features: tensor([2.8460e+01, 3.4200e+00, 4.8600e+00, 3.1200e+01, 2.5400e+02, 5.6000e+00,\n",
      "        6.1200e+00, 5.6000e-01, 4.5800e+00, 1.1280e+01, 2.0800e+00, 7.8400e+00,\n",
      "        2.1300e+03])\n",
      "labels  :tensor([1.])\n",
      "features: tensor([4.2690e+01, 5.1300e+00, 7.2900e+00, 4.6800e+01, 3.8100e+02, 8.4000e+00,\n",
      "        9.1800e+00, 8.4000e-01, 6.8700e+00, 1.6920e+01, 3.1200e+00, 1.1760e+01,\n",
      "        3.1950e+03])\n",
      "labels  :tensor([1.])\n",
      "features: tensor([5.6920e+01, 6.8400e+00, 9.7200e+00, 6.2400e+01, 5.0800e+02, 1.1200e+01,\n",
      "        1.2240e+01, 1.1200e+00, 9.1600e+00, 2.2560e+01, 4.1600e+00, 1.5680e+01,\n",
      "        4.2600e+03])\n",
      "labels  :tensor([1.])\n"
     ]
    }
   ],
   "source": [
    "for factor in range(4):\n",
    "    composed = torchvision.transforms.Compose([ToTensor(), MultTransform(factor+1)])\n",
    "    dataset = WineDataset(transform=composed)\n",
    "    first_dataset = dataset[0]\n",
    "    features, labels = first_dataset\n",
    "    print_tensor_info(features, labels)"
   ]
  },
  {
   "cell_type": "code",
   "execution_count": null,
   "metadata": {},
   "outputs": [],
   "source": []
  }
 ],
 "metadata": {
  "kernelspec": {
   "display_name": "Python 3",
   "language": "python",
   "name": "python3"
  },
  "language_info": {
   "codemirror_mode": {
    "name": "ipython",
    "version": 3
   },
   "file_extension": ".py",
   "mimetype": "text/x-python",
   "name": "python",
   "nbconvert_exporter": "python",
   "pygments_lexer": "ipython3",
   "version": "3.7.5"
  }
 },
 "nbformat": 4,
 "nbformat_minor": 4
}
