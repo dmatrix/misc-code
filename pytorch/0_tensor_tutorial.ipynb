{
 "cells": [
  {
   "cell_type": "code",
   "execution_count": 29,
   "metadata": {},
   "outputs": [],
   "source": [
    "import torch\n",
    "import numpy as np"
   ]
  },
  {
   "cell_type": "code",
   "execution_count": 6,
   "metadata": {},
   "outputs": [
    {
     "name": "stdout",
     "output_type": "stream",
     "text": [
      "tensor([[0.7361, 0.1451],\n",
      "        [0.6354, 0.0369]])\n",
      "tensor([[0.9537, 0.0913],\n",
      "        [0.4191, 0.4927]])\n"
     ]
    }
   ],
   "source": [
    "# create two rand 2 x 2 tensors \n",
    "x = torch.rand(2,2)\n",
    "y = torch.rand(2,2)\n",
    "print(x)\n",
    "print(y)"
   ]
  },
  {
   "cell_type": "markdown",
   "metadata": {},
   "source": [
    "### Tensor torch common math operatitons:add, sub, mul, div etc"
   ]
  },
  {
   "cell_type": "code",
   "execution_count": 7,
   "metadata": {},
   "outputs": [
    {
     "name": "stdout",
     "output_type": "stream",
     "text": [
      "tensor([[1.6898, 0.2364],\n",
      "        [1.0545, 0.5296]])\n"
     ]
    }
   ],
   "source": [
    "# do element wise addition of the two tensors\n",
    "z = x + y\n",
    "print(z)"
   ]
  },
  {
   "cell_type": "code",
   "execution_count": 8,
   "metadata": {},
   "outputs": [
    {
     "name": "stdout",
     "output_type": "stream",
     "text": [
      "tensor([[1.6898, 0.2364],\n",
      "        [1.0545, 0.5296]])\n"
     ]
    }
   ],
   "source": [
    "z = torch.add(x,y)\n",
    "print(z)"
   ]
  },
  {
   "cell_type": "code",
   "execution_count": 9,
   "metadata": {},
   "outputs": [
    {
     "name": "stdout",
     "output_type": "stream",
     "text": [
      "tensor([[0.7020, 0.0133],\n",
      "        [0.2663, 0.0182]])\n"
     ]
    }
   ],
   "source": [
    "# do element wise tensor multiplication\n",
    "m = x * y\n",
    "print(m)"
   ]
  },
  {
   "cell_type": "code",
   "execution_count": 10,
   "metadata": {},
   "outputs": [
    {
     "name": "stdout",
     "output_type": "stream",
     "text": [
      "tensor([[0.7020, 0.0133],\n",
      "        [0.2663, 0.0182]])\n"
     ]
    }
   ],
   "source": [
    "m = torch.mul(x,y)\n",
    "print(m)"
   ]
  },
  {
   "cell_type": "code",
   "execution_count": 11,
   "metadata": {},
   "outputs": [
    {
     "name": "stdout",
     "output_type": "stream",
     "text": [
      "tensor([[0.7719, 1.5894],\n",
      "        [1.5161, 0.0749]])\n"
     ]
    }
   ],
   "source": [
    "# do element wise division\n",
    "d = x / y\n",
    "print(d)"
   ]
  },
  {
   "cell_type": "code",
   "execution_count": 13,
   "metadata": {},
   "outputs": [
    {
     "name": "stdout",
     "output_type": "stream",
     "text": [
      "tensor([[0.7719, 1.5894],\n",
      "        [1.5161, 0.0749]])\n"
     ]
    }
   ],
   "source": [
    "d = torch.div(x,y)\n",
    "print(d)"
   ]
  },
  {
   "cell_type": "code",
   "execution_count": 14,
   "metadata": {},
   "outputs": [
    {
     "name": "stdout",
     "output_type": "stream",
     "text": [
      "tensor([[-0.2175,  0.0538],\n",
      "        [ 0.2163, -0.4558]])\n"
     ]
    }
   ],
   "source": [
    "s = x - y\n",
    "print(s)"
   ]
  },
  {
   "cell_type": "code",
   "execution_count": 16,
   "metadata": {},
   "outputs": [
    {
     "name": "stdout",
     "output_type": "stream",
     "text": [
      "tensor([[-0.2175,  0.0538],\n",
      "        [ 0.2163, -0.4558]])\n"
     ]
    }
   ],
   "source": [
    "s = torch.sub(x,y)\n",
    "print(s)"
   ]
  },
  {
   "cell_type": "markdown",
   "metadata": {},
   "source": [
    "### Common slice operations"
   ]
  },
  {
   "cell_type": "code",
   "execution_count": 17,
   "metadata": {},
   "outputs": [
    {
     "name": "stdout",
     "output_type": "stream",
     "text": [
      "tensor([[0.2846, 0.3282, 0.1154],\n",
      "        [0.7743, 0.7224, 0.5586],\n",
      "        [0.5214, 0.3714, 0.5913],\n",
      "        [0.8415, 0.3570, 0.7835],\n",
      "        [0.8826, 0.3503, 0.9242]])\n"
     ]
    }
   ],
   "source": [
    "x = torch.rand(5,3)\n",
    "print(x)"
   ]
  },
  {
   "cell_type": "code",
   "execution_count": 18,
   "metadata": {},
   "outputs": [
    {
     "name": "stdout",
     "output_type": "stream",
     "text": [
      "tensor([0.2846, 0.7743, 0.5214, 0.8415, 0.8826])\n"
     ]
    }
   ],
   "source": [
    "# print all rows and only the 0th column\n",
    "print(x[:, 0])"
   ]
  },
  {
   "cell_type": "code",
   "execution_count": 23,
   "metadata": {},
   "outputs": [
    {
     "name": "stdout",
     "output_type": "stream",
     "text": [
      "tensor([0.7743, 0.7224, 0.5586])\n"
     ]
    }
   ],
   "source": [
    "# print all only row 1 and all columns\n",
    "print(x[1, :])"
   ]
  },
  {
   "cell_type": "code",
   "execution_count": 21,
   "metadata": {},
   "outputs": [
    {
     "name": "stdout",
     "output_type": "stream",
     "text": [
      "tensor(0.7224)\n",
      "0.722439706325531\n"
     ]
    }
   ],
   "source": [
    "# index into elemen [1,1], returns a tensor\n",
    "# .item() returns the value. You can only use item() on a tensor with a single value\n",
    "print(x[1,1])\n",
    "print(x[1,1].item())"
   ]
  },
  {
   "cell_type": "markdown",
   "metadata": {},
   "source": [
    "### Reshaping a tensor"
   ]
  },
  {
   "cell_type": "code",
   "execution_count": 26,
   "metadata": {},
   "outputs": [
    {
     "name": "stdout",
     "output_type": "stream",
     "text": [
      "tensor([[0.8615, 0.4939, 0.6771, 0.2069],\n",
      "        [0.5140, 0.3477, 0.0595, 0.6300],\n",
      "        [0.7064, 0.4010, 0.7143, 0.4969],\n",
      "        [0.3247, 0.6225, 0.4621, 0.5195]])\n",
      "torch.Size([4, 4])\n",
      "torch.Size([4, 4])\n"
     ]
    }
   ],
   "source": [
    "x = torch.rand(4,4)\n",
    "print(x)\n",
    "print(x.shape)\n",
    "print(x.size())"
   ]
  },
  {
   "cell_type": "code",
   "execution_count": 27,
   "metadata": {},
   "outputs": [
    {
     "name": "stdout",
     "output_type": "stream",
     "text": [
      "tensor([0.8615, 0.4939, 0.6771, 0.2069, 0.5140, 0.3477, 0.0595, 0.6300, 0.7064,\n",
      "        0.4010, 0.7143, 0.4969, 0.3247, 0.6225, 0.4621, 0.5195])\n",
      "torch.Size([16])\n"
     ]
    }
   ],
   "source": [
    "y = x.view(16) # 1-d vector of 16 values\n",
    "print(y)\n",
    "print(y.size())"
   ]
  },
  {
   "cell_type": "code",
   "execution_count": 28,
   "metadata": {},
   "outputs": [
    {
     "name": "stdout",
     "output_type": "stream",
     "text": [
      "tensor([[0.8615, 0.4939, 0.6771, 0.2069, 0.5140, 0.3477, 0.0595, 0.6300],\n",
      "        [0.7064, 0.4010, 0.7143, 0.4969, 0.3247, 0.6225, 0.4621, 0.5195]])\n",
      "torch.Size([2, 8])\n"
     ]
    }
   ],
   "source": [
    "y = x.view(-1, 8) # 2-d vector of 2 x 8\n",
    "print(y)\n",
    "print(y.size())"
   ]
  },
  {
   "cell_type": "markdown",
   "metadata": {},
   "source": [
    "### Convert from Numpy <--> Tensor"
   ]
  },
  {
   "cell_type": "code",
   "execution_count": 33,
   "metadata": {},
   "outputs": [
    {
     "name": "stdout",
     "output_type": "stream",
     "text": [
      "tensor([1., 1., 1., 1., 1.])\n",
      "[1. 1. 1. 1. 1.]\n",
      "<class 'numpy.ndarray'>\n"
     ]
    }
   ],
   "source": [
    "a = torch.ones(5)\n",
    "print(a)\n",
    "# convert tensor to numpy\n",
    "b = a.numpy()\n",
    "print(b)\n",
    "print(type(b))"
   ]
  },
  {
   "cell_type": "markdown",
   "metadata": {},
   "source": [
    "### Caveat:\n",
    "\n",
    "Both tensor `a` and numpy arrayh `b` point to the same memory location. \n",
    "Any inplace operations to either variable type will effect the other.\n",
    "This side effect is only on CPUs,not GPUs. So for on cuda, this will \n",
    "not affect the underlying memory location as they will be at different locations."
   ]
  },
  {
   "cell_type": "code",
   "execution_count": 34,
   "metadata": {},
   "outputs": [
    {
     "name": "stdout",
     "output_type": "stream",
     "text": [
      "tensor([3., 3., 3., 3., 3.])\n",
      "[3. 3. 3. 3. 3.]\n"
     ]
    }
   ],
   "source": [
    "a.add_(2) # change a in place by adding 2 to i\n",
    "print(a)\n",
    "print(b)"
   ]
  },
  {
   "cell_type": "markdown",
   "metadata": {},
   "source": [
    "### The reverse"
   ]
  },
  {
   "cell_type": "code",
   "execution_count": 36,
   "metadata": {},
   "outputs": [
    {
     "name": "stdout",
     "output_type": "stream",
     "text": [
      "[1. 1. 1. 1. 1.]\n",
      "tensor([1., 1., 1., 1., 1.], dtype=torch.float64)\n"
     ]
    }
   ],
   "source": [
    "a = np.ones(5)\n",
    "print(a)\n",
    "b = torch.from_numpy(a)\n",
    "print(b)\n"
   ]
  },
  {
   "cell_type": "code",
   "execution_count": 37,
   "metadata": {},
   "outputs": [
    {
     "name": "stdout",
     "output_type": "stream",
     "text": [
      "[3. 3. 3. 3. 3.]\n",
      "tensor([3., 3., 3., 3., 3.], dtype=torch.float64)\n"
     ]
    }
   ],
   "source": [
    "a += 2\n",
    "print(a)\n",
    "print(b)"
   ]
  },
  {
   "cell_type": "code",
   "execution_count": null,
   "metadata": {},
   "outputs": [],
   "source": []
  }
 ],
 "metadata": {
  "kernelspec": {
   "display_name": "Python 3",
   "language": "python",
   "name": "python3"
  },
  "language_info": {
   "codemirror_mode": {
    "name": "ipython",
    "version": 3
   },
   "file_extension": ".py",
   "mimetype": "text/x-python",
   "name": "python",
   "nbconvert_exporter": "python",
   "pygments_lexer": "ipython3",
   "version": "3.7.5"
  }
 },
 "nbformat": 4,
 "nbformat_minor": 4
}
