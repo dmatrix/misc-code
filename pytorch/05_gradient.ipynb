{
 "cells": [
  {
   "cell_type": "code",
   "execution_count": 3,
   "metadata": {},
   "outputs": [],
   "source": [
    "import numpy as np"
   ]
  },
  {
   "cell_type": "code",
   "execution_count": 21,
   "metadata": {},
   "outputs": [],
   "source": [
    "# Simple Linear Function, f = w * x\n",
    "\n",
    "# f = 2 * x\n",
    "\n",
    "# Some training data\n",
    "X = np.array([1, 2, 3, 4], dtype=np.float32)\n",
    "y = np.array([2, 4, 6, 8], dtype=np.float32)\n",
    "\n",
    "# Start with initial value of the weights\n",
    "w = 0.0"
   ]
  },
  {
   "cell_type": "markdown",
   "metadata": {},
   "source": [
    "First, let's do manual computation of these steps "
   ]
  },
  {
   "cell_type": "code",
   "execution_count": 22,
   "metadata": {},
   "outputs": [],
   "source": [
    "# model prediction\n",
    "\n",
    "def forward(x):\n",
    "    return w * x\n",
    "\n",
    "# calculate the loss=MSE\n",
    "def loss(y, y_predicted):\n",
    "    return ((y_predicted - y) **2).mean()\n",
    "\n",
    "# compute gradient is the derivative of the MSE with respect to x\n",
    "# MSE = 1/N * ( w * x - y) ** 2\n",
    "# dJ/dx = 1/N 2x (w * x - y)\n",
    "def gradient(x, y, y_predicted):\n",
    "    return np.dot(2*x, y_predicted - y).mean()\n"
   ]
  },
  {
   "cell_type": "code",
   "execution_count": 23,
   "metadata": {},
   "outputs": [
    {
     "name": "stdout",
     "output_type": "stream",
     "text": [
      "Prediciction before training f(5): 0.0\n"
     ]
    }
   ],
   "source": [
    "print(f'Prediciction before training f(5): {forward(5):.3}')"
   ]
  },
  {
   "cell_type": "markdown",
   "metadata": {},
   "source": [
    "Training over 10 iterations"
   ]
  },
  {
   "cell_type": "code",
   "execution_count": 26,
   "metadata": {},
   "outputs": [
    {
     "name": "stdout",
     "output_type": "stream",
     "text": [
      "epoch: 1; w: 2.000; loss: 0.000000\n",
      "epoch: 3; w: 2.000; loss: 0.000000\n",
      "epoch: 5; w: 2.000; loss: 0.000000\n",
      "epoch: 7; w: 2.000; loss: 0.000000\n",
      "epoch: 9; w: 2.000; loss: 0.000000\n",
      "epoch: 11; w: 2.000; loss: 0.000000\n",
      "epoch: 13; w: 2.000; loss: 0.000000\n",
      "epoch: 15; w: 2.000; loss: 0.000000\n",
      "epoch: 17; w: 2.000; loss: 0.000000\n",
      "epoch: 19; w: 2.000; loss: 0.000000\n",
      "Prediciction after training f(5): 10.0\n"
     ]
    }
   ],
   "source": [
    "learing_rate = 0.01\n",
    "n_iterations = 20\n",
    "\n",
    "for epoch in range(n_iterations):\n",
    "    # prediction = forward pass\n",
    "    y_pred = forward(X)\n",
    "    \n",
    "    # Compute the loss\n",
    "    l = loss(y, y_pred)\n",
    "    \n",
    "    # gradients: weights\n",
    "    dw = gradient(X, y, y_pred)\n",
    "    \n",
    "    # update the weights\n",
    "    w -= learing_rate * dw\n",
    "    \n",
    "    # print some values\n",
    "    if epoch % 2 == 0:\n",
    "        print(f'epoch: {epoch + 1}; w: {w:.3f}; loss: {l:8f}')\n",
    "        \n",
    "print(f'Prediciction after training f(5): {forward(5):.3}')"
   ]
  },
  {
   "cell_type": "code",
   "execution_count": null,
   "metadata": {},
   "outputs": [],
   "source": []
  },
  {
   "cell_type": "code",
   "execution_count": null,
   "metadata": {},
   "outputs": [],
   "source": []
  }
 ],
 "metadata": {
  "kernelspec": {
   "display_name": "Python 3",
   "language": "python",
   "name": "python3"
  },
  "language_info": {
   "codemirror_mode": {
    "name": "ipython",
    "version": 3
   },
   "file_extension": ".py",
   "mimetype": "text/x-python",
   "name": "python",
   "nbconvert_exporter": "python",
   "pygments_lexer": "ipython3",
   "version": "3.7.5"
  }
 },
 "nbformat": 4,
 "nbformat_minor": 4
}
