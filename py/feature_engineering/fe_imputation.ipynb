{
 "cells": [
  {
   "cell_type": "markdown",
   "id": "7f55786d-2abe-4da3-8357-961464d40607",
   "metadata": {},
   "source": [
    "### Feature Engineering Techniques: Imputation\n",
    "\n",
    "This is the second notebook in a series of hands-on methods of [feature engineering techniques](https://heartbeat.fritz.ai/hands-on-with-feature-engineering-techniques-variables-types-b2120e534680)"
   ]
  },
  {
   "cell_type": "code",
   "execution_count": 1,
   "id": "e5002e48-2659-4840-b313-0ba459a82807",
   "metadata": {},
   "outputs": [],
   "source": [
    "import warnings\n",
    "warnings.filterwarnings(\"ignore\")"
   ]
  },
  {
   "cell_type": "code",
   "execution_count": 2,
   "id": "c291dff4-bd28-46bc-80cf-94425fb9347d",
   "metadata": {},
   "outputs": [],
   "source": [
    "import pandas as pd\n",
    "import numpy as np\n",
    "from sklearn.impute import SimpleImputer"
   ]
  },
  {
   "cell_type": "code",
   "execution_count": 3,
   "id": "49c00a69-6463-4922-bc3a-2f93ec761db8",
   "metadata": {},
   "outputs": [
    {
     "data": {
      "text/html": [
       "<div>\n",
       "<style scoped>\n",
       "    .dataframe tbody tr th:only-of-type {\n",
       "        vertical-align: middle;\n",
       "    }\n",
       "\n",
       "    .dataframe tbody tr th {\n",
       "        vertical-align: top;\n",
       "    }\n",
       "\n",
       "    .dataframe thead th {\n",
       "        text-align: right;\n",
       "    }\n",
       "</style>\n",
       "<table border=\"1\" class=\"dataframe\">\n",
       "  <thead>\n",
       "    <tr style=\"text-align: right;\">\n",
       "      <th></th>\n",
       "      <th>Prefix</th>\n",
       "      <th>Assignment</th>\n",
       "      <th>Tutorial</th>\n",
       "      <th>Midterm</th>\n",
       "      <th>TakeHome</th>\n",
       "      <th>Final</th>\n",
       "    </tr>\n",
       "  </thead>\n",
       "  <tbody>\n",
       "    <tr>\n",
       "      <th>0</th>\n",
       "      <td>5</td>\n",
       "      <td>57.14</td>\n",
       "      <td>34.09</td>\n",
       "      <td>64.38</td>\n",
       "      <td>51.48</td>\n",
       "      <td>52.50</td>\n",
       "    </tr>\n",
       "    <tr>\n",
       "      <th>1</th>\n",
       "      <td>8</td>\n",
       "      <td>95.05</td>\n",
       "      <td>105.49</td>\n",
       "      <td>67.50</td>\n",
       "      <td>99.07</td>\n",
       "      <td>68.33</td>\n",
       "    </tr>\n",
       "  </tbody>\n",
       "</table>\n",
       "</div>"
      ],
      "text/plain": [
       "   Prefix  Assignment  Tutorial  Midterm  TakeHome  Final\n",
       "0       5       57.14     34.09    64.38     51.48  52.50\n",
       "1       8       95.05    105.49    67.50     99.07  68.33"
      ]
     },
     "execution_count": 3,
     "metadata": {},
     "output_type": "execute_result"
    }
   ],
   "source": [
    "grades = pd.read_csv(\"data/class-grades.csv\", na_values=\"NA\")\n",
    "grades.head(2)"
   ]
  },
  {
   "cell_type": "markdown",
   "id": "c0ac54cd-a84f-4835-a304-3666e9003a0b",
   "metadata": {},
   "source": [
    "### Use Mean/Median Imputation for missing values"
   ]
  },
  {
   "cell_type": "code",
   "execution_count": 4,
   "id": "4c2c2841-de38-40e7-ab6e-9260fe4ba6ee",
   "metadata": {},
   "outputs": [
    {
     "data": {
      "text/plain": [
       "Prefix        0\n",
       "Assignment    0\n",
       "Tutorial      0\n",
       "Midterm       0\n",
       "TakeHome      1\n",
       "Final         3\n",
       "dtype: int64"
      ]
     },
     "execution_count": 4,
     "metadata": {},
     "output_type": "execute_result"
    }
   ],
   "source": [
    "grades.isna().sum()"
   ]
  },
  {
   "cell_type": "code",
   "execution_count": 5,
   "id": "72afcd56-78e4-406b-b6ad-d3a78d271f4e",
   "metadata": {},
   "outputs": [
    {
     "data": {
      "text/plain": [
       "SimpleImputer()"
      ]
     },
     "execution_count": 5,
     "metadata": {},
     "output_type": "execute_result"
    }
   ],
   "source": [
    "imputer = SimpleImputer(missing_values=np.nan, strategy='mean')\n",
    "imputer.fit(grades)"
   ]
  },
  {
   "cell_type": "code",
   "execution_count": 6,
   "id": "64cdfd53-0b0c-40a1-963f-22328d845b04",
   "metadata": {},
   "outputs": [],
   "source": [
    "train = imputer.transform(grades)"
   ]
  },
  {
   "cell_type": "markdown",
   "id": "2d3d8ec0-8dc7-4363-a6d9-589275865ad7",
   "metadata": {},
   "source": [
    "### Aribtrary Value Attribution for Missing Values"
   ]
  },
  {
   "cell_type": "code",
   "execution_count": 7,
   "id": "757dba27-c37f-4f08-a10c-e092c90f1222",
   "metadata": {},
   "outputs": [],
   "source": [
    "#create the imputer, with fill value 999 as the arbitraty value\n",
    "imputer = SimpleImputer(missing_values=np.nan, strategy='constant', fill_value=999)"
   ]
  },
  {
   "cell_type": "code",
   "execution_count": 8,
   "id": "67225b63-c5df-44ab-97db-6b3e747d6433",
   "metadata": {},
   "outputs": [],
   "source": [
    "# fit the imputer to the train data\n",
    "imputer.fit(grades)\n",
    "\n",
    "# apply the transformation to the train and test\n",
    "train = imputer.transform(grades)"
   ]
  },
  {
   "cell_type": "markdown",
   "id": "938145f4-6cb8-42e1-9538-7da706612c39",
   "metadata": {},
   "source": [
    "### End of Tail Imputation"
   ]
  },
  {
   "cell_type": "code",
   "execution_count": 11,
   "id": "1c9b2e84-e272-4672-923d-15fce9d43ca2",
   "metadata": {},
   "outputs": [],
   "source": [
    "from feature_engine.imputation import EndTailImputer"
   ]
  },
  {
   "cell_type": "code",
   "execution_count": 16,
   "id": "53d475ee-e833-44b0-938c-50d3215e649d",
   "metadata": {},
   "outputs": [
    {
     "data": {
      "text/html": [
       "<div>\n",
       "<style scoped>\n",
       "    .dataframe tbody tr th:only-of-type {\n",
       "        vertical-align: middle;\n",
       "    }\n",
       "\n",
       "    .dataframe tbody tr th {\n",
       "        vertical-align: top;\n",
       "    }\n",
       "\n",
       "    .dataframe thead th {\n",
       "        text-align: right;\n",
       "    }\n",
       "</style>\n",
       "<table border=\"1\" class=\"dataframe\">\n",
       "  <thead>\n",
       "    <tr style=\"text-align: right;\">\n",
       "      <th></th>\n",
       "      <th>Prefix</th>\n",
       "      <th>Assignment</th>\n",
       "      <th>Tutorial</th>\n",
       "      <th>Midterm</th>\n",
       "      <th>TakeHome</th>\n",
       "      <th>Final</th>\n",
       "    </tr>\n",
       "  </thead>\n",
       "  <tbody>\n",
       "    <tr>\n",
       "      <th>0</th>\n",
       "      <td>5</td>\n",
       "      <td>57.14</td>\n",
       "      <td>34.09</td>\n",
       "      <td>64.38</td>\n",
       "      <td>51.48</td>\n",
       "      <td>52.50</td>\n",
       "    </tr>\n",
       "    <tr>\n",
       "      <th>1</th>\n",
       "      <td>8</td>\n",
       "      <td>95.05</td>\n",
       "      <td>105.49</td>\n",
       "      <td>67.50</td>\n",
       "      <td>99.07</td>\n",
       "      <td>68.33</td>\n",
       "    </tr>\n",
       "  </tbody>\n",
       "</table>\n",
       "</div>"
      ],
      "text/plain": [
       "   Prefix  Assignment  Tutorial  Midterm  TakeHome  Final\n",
       "0       5       57.14     34.09    64.38     51.48  52.50\n",
       "1       8       95.05    105.49    67.50     99.07  68.33"
      ]
     },
     "execution_count": 16,
     "metadata": {},
     "output_type": "execute_result"
    }
   ],
   "source": [
    "# create the imputer\n",
    "imputer = EndTailImputer(imputation_method='gaussian', tail='right')\n",
    "\n",
    "# fit the imputer to the train set\n",
    "imputer.fit(grades)\n",
    "\n",
    "# transform the data\n",
    "train = imputer.transform(grades)\n",
    "train.head(2)"
   ]
  },
  {
   "cell_type": "markdown",
   "id": "8ec3a822-1b37-416f-85a8-d5555d2d4419",
   "metadata": {},
   "source": [
    "### Frequent Category Imputation"
   ]
  },
  {
   "cell_type": "code",
   "execution_count": 17,
   "id": "fc297c12-69d6-4dda-a0f7-c72c2e8baeaa",
   "metadata": {},
   "outputs": [
    {
     "data": {
      "text/plain": [
       "SimpleImputer(strategy='most_frequent')"
      ]
     },
     "execution_count": 17,
     "metadata": {},
     "output_type": "execute_result"
    }
   ],
   "source": [
    "# create the imputer, with most frequent as strategy to fill missing value.\n",
    "imputer = SimpleImputer(missing_values=np.nan, strategy='most_frequent')\n",
    "\n",
    "# fit the imputer to the train set\n",
    "imputer.fit(grades)"
   ]
  },
  {
   "cell_type": "code",
   "execution_count": 19,
   "id": "5b3061c4-408d-4eb5-87a7-fc28929c5bff",
   "metadata": {},
   "outputs": [],
   "source": [
    "# transform the data\n",
    "train = imputer.transform(grades)"
   ]
  },
  {
   "cell_type": "markdown",
   "id": "8f721ae3-5767-49ab-95ca-36c3eb7a2538",
   "metadata": {},
   "source": [
    "### Complete Case Analysis Imputation"
   ]
  },
  {
   "cell_type": "code",
   "execution_count": 20,
   "id": "b7168aa2-a447-4d8f-88bd-1ae1f853866d",
   "metadata": {},
   "outputs": [],
   "source": [
    "#drop the missing values\n",
    "train= grades.dropna(inplace=False)"
   ]
  },
  {
   "cell_type": "code",
   "execution_count": null,
   "id": "becb16dc-c877-401d-b670-e910ee948c74",
   "metadata": {},
   "outputs": [],
   "source": []
  },
  {
   "cell_type": "code",
   "execution_count": 22,
   "id": "5891c2b6-ca69-4318-9622-bfede8ff5a5c",
   "metadata": {},
   "outputs": [
    {
     "data": {
      "text/plain": [
       "(95, 6)"
      ]
     },
     "execution_count": 22,
     "metadata": {},
     "output_type": "execute_result"
    }
   ],
   "source": [
    "train.shape"
   ]
  },
  {
   "cell_type": "code",
   "execution_count": 23,
   "id": "91835e07-c85e-46dc-b1a5-775ec84f71d0",
   "metadata": {},
   "outputs": [
    {
     "data": {
      "text/plain": [
       "(99, 6)"
      ]
     },
     "execution_count": 23,
     "metadata": {},
     "output_type": "execute_result"
    }
   ],
   "source": [
    "grades.shape"
   ]
  },
  {
   "cell_type": "markdown",
   "id": "c4edacbf-28f8-400d-a97a-d6e1c61c68ca",
   "metadata": {},
   "source": [
    "### Random Sample Imputation"
   ]
  },
  {
   "cell_type": "code",
   "execution_count": 25,
   "id": "61f05183-b5f7-4c68-8f75-db5b5d3aeb46",
   "metadata": {},
   "outputs": [],
   "source": [
    "from feature_engine.imputation import RandomSampleImputer\n",
    "\n",
    "# create a random sampler imputer\n",
    "imputer = RandomSampleImputer(random_state=42)\n",
    "\n",
    "# fit with data\n",
    "imputer.fit(grades)\n",
    "\n",
    "# transform the data \n",
    "train = imputer.transform(grades)\n",
    "train.shape())"
   ]
  }
 ],
 "metadata": {
  "kernelspec": {
   "display_name": "Python 3",
   "language": "python",
   "name": "python3"
  },
  "language_info": {
   "codemirror_mode": {
    "name": "ipython",
    "version": 3
   },
   "file_extension": ".py",
   "mimetype": "text/x-python",
   "name": "python",
   "nbconvert_exporter": "python",
   "pygments_lexer": "ipython3",
   "version": "3.9.4"
  }
 },
 "nbformat": 4,
 "nbformat_minor": 5
}
