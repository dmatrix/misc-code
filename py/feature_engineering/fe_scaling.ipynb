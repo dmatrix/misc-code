{
 "cells": [
  {
   "cell_type": "markdown",
   "id": "0bef6dd2-3db8-4116-b749-20910b09920e",
   "metadata": {},
   "source": [
    "### Feature Engineering Techniques: Scaling\n",
    "\n",
    "This is the sixth notebook in a series of hands-on methods of [feature engineering techniques](https://heartbeat.fritz.ai/hands-on-with-feature-engineering-techniques-variables-types-b2120e534680)"
   ]
  },
  {
   "cell_type": "code",
   "execution_count": 1,
   "id": "075d929c-3fa3-466e-82e4-c8f57bc9f077",
   "metadata": {},
   "outputs": [],
   "source": [
    "import pandas as pd\n",
    "import numpy as np"
   ]
  },
  {
   "cell_type": "code",
   "execution_count": 2,
   "id": "f0e3986d-6939-43bc-bc58-21141374ef78",
   "metadata": {},
   "outputs": [
    {
     "data": {
      "text/html": [
       "<div>\n",
       "<style scoped>\n",
       "    .dataframe tbody tr th:only-of-type {\n",
       "        vertical-align: middle;\n",
       "    }\n",
       "\n",
       "    .dataframe tbody tr th {\n",
       "        vertical-align: top;\n",
       "    }\n",
       "\n",
       "    .dataframe thead th {\n",
       "        text-align: right;\n",
       "    }\n",
       "</style>\n",
       "<table border=\"1\" class=\"dataframe\">\n",
       "  <thead>\n",
       "    <tr style=\"text-align: right;\">\n",
       "      <th></th>\n",
       "      <th>temperature_00</th>\n",
       "      <th>wind_direction_00</th>\n",
       "      <th>wind_speed_00</th>\n",
       "      <th>temperature_08</th>\n",
       "      <th>wind_direction_08</th>\n",
       "      <th>wind_speed_08</th>\n",
       "      <th>temperature_16</th>\n",
       "      <th>wind_direction_16</th>\n",
       "      <th>wind_speed_16</th>\n",
       "      <th>power</th>\n",
       "    </tr>\n",
       "    <tr>\n",
       "      <th>year_month_day</th>\n",
       "      <th></th>\n",
       "      <th></th>\n",
       "      <th></th>\n",
       "      <th></th>\n",
       "      <th></th>\n",
       "      <th></th>\n",
       "      <th></th>\n",
       "      <th></th>\n",
       "      <th></th>\n",
       "      <th></th>\n",
       "    </tr>\n",
       "  </thead>\n",
       "  <tbody>\n",
       "    <tr>\n",
       "      <th>2014-01-01</th>\n",
       "      <td>4.702022</td>\n",
       "      <td>106.742590</td>\n",
       "      <td>4.743292</td>\n",
       "      <td>7.189482</td>\n",
       "      <td>100.41638</td>\n",
       "      <td>6.593833</td>\n",
       "      <td>8.172301</td>\n",
       "      <td>99.28800</td>\n",
       "      <td>5.967206</td>\n",
       "      <td>1959.3535</td>\n",
       "    </tr>\n",
       "    <tr>\n",
       "      <th>2014-01-02</th>\n",
       "      <td>7.695733</td>\n",
       "      <td>98.036705</td>\n",
       "      <td>6.142716</td>\n",
       "      <td>9.977118</td>\n",
       "      <td>94.03181</td>\n",
       "      <td>4.383676</td>\n",
       "      <td>9.690135</td>\n",
       "      <td>204.25444</td>\n",
       "      <td>1.696528</td>\n",
       "      <td>1266.6239</td>\n",
       "    </tr>\n",
       "  </tbody>\n",
       "</table>\n",
       "</div>"
      ],
      "text/plain": [
       "                temperature_00  wind_direction_00  wind_speed_00  \\\n",
       "year_month_day                                                     \n",
       "2014-01-01            4.702022         106.742590       4.743292   \n",
       "2014-01-02            7.695733          98.036705       6.142716   \n",
       "\n",
       "                temperature_08  wind_direction_08  wind_speed_08  \\\n",
       "year_month_day                                                     \n",
       "2014-01-01            7.189482          100.41638       6.593833   \n",
       "2014-01-02            9.977118           94.03181       4.383676   \n",
       "\n",
       "                temperature_16  wind_direction_16  wind_speed_16      power  \n",
       "year_month_day                                                               \n",
       "2014-01-01            8.172301           99.28800       5.967206  1959.3535  \n",
       "2014-01-02            9.690135          204.25444       1.696528  1266.6239  "
      ]
     },
     "execution_count": 2,
     "metadata": {},
     "output_type": "execute_result"
    }
   ],
   "source": [
    "wind_farm_data = pd.read_csv(\"data/windfarm_data.csv\", index_col=\"year_month_day\")\n",
    "wind_farm_data.head(2)"
   ]
  },
  {
   "cell_type": "markdown",
   "id": "02ae4ab4-6375-4ed8-9652-ebb70cdb6f1a",
   "metadata": {},
   "source": [
    "### Mean Normalization\n",
    "\n",
    "x' = X - Mean(X)/Max(X) - Min(X), where X is the variable being normalized, along the axis=0\n",
    "\n",
    "\n"
   ]
  },
  {
   "cell_type": "code",
   "execution_count": 4,
   "id": "262c4a42-70db-4369-b215-1267530e4daf",
   "metadata": {},
   "outputs": [
    {
     "data": {
      "text/plain": [
       "temperature_00          9.613588\n",
       "wind_direction_00     198.381353\n",
       "wind_speed_00           5.001413\n",
       "temperature_08         12.827786\n",
       "wind_direction_08     191.538394\n",
       "wind_speed_08           5.136628\n",
       "temperature_16         13.991459\n",
       "wind_direction_16     202.051406\n",
       "wind_speed_16           6.072578\n",
       "power                2424.978880\n",
       "dtype: float64"
      ]
     },
     "execution_count": 4,
     "metadata": {},
     "output_type": "execute_result"
    }
   ],
   "source": [
    "# calculate the means\n",
    "means = wind_farm_data.mean(axis = 0)"
   ]
  },
  {
   "cell_type": "code",
   "execution_count": 6,
   "id": "bc3c39d0-106a-42c9-9afd-f762e43cffb8",
   "metadata": {},
   "outputs": [
    {
     "data": {
      "text/plain": [
       "temperature_00          33.212039\n",
       "wind_direction_00      338.236448\n",
       "wind_speed_00           18.929976\n",
       "temperature_08          34.108495\n",
       "wind_direction_08      337.340519\n",
       "wind_speed_08           22.875357\n",
       "temperature_16          36.608897\n",
       "wind_direction_16      343.929967\n",
       "wind_speed_16           18.298089\n",
       "power                10567.787430\n",
       "dtype: float64"
      ]
     },
     "execution_count": 6,
     "metadata": {},
     "output_type": "execute_result"
    }
   ],
   "source": [
    "# calculate max - min\n",
    "max_min = wind_farm_data.max(axis = 0) - wind_farm_data.min(axis = 0)\n",
    "max_min"
   ]
  },
  {
   "cell_type": "code",
   "execution_count": 8,
   "id": "b482abc9-caf7-4880-b7e5-0eda5f6997f1",
   "metadata": {},
   "outputs": [
    {
     "data": {
      "text/html": [
       "<div>\n",
       "<style scoped>\n",
       "    .dataframe tbody tr th:only-of-type {\n",
       "        vertical-align: middle;\n",
       "    }\n",
       "\n",
       "    .dataframe tbody tr th {\n",
       "        vertical-align: top;\n",
       "    }\n",
       "\n",
       "    .dataframe thead th {\n",
       "        text-align: right;\n",
       "    }\n",
       "</style>\n",
       "<table border=\"1\" class=\"dataframe\">\n",
       "  <thead>\n",
       "    <tr style=\"text-align: right;\">\n",
       "      <th></th>\n",
       "      <th>temperature_00</th>\n",
       "      <th>wind_direction_00</th>\n",
       "      <th>wind_speed_00</th>\n",
       "      <th>temperature_08</th>\n",
       "      <th>wind_direction_08</th>\n",
       "      <th>wind_speed_08</th>\n",
       "      <th>temperature_16</th>\n",
       "      <th>wind_direction_16</th>\n",
       "      <th>wind_speed_16</th>\n",
       "      <th>power</th>\n",
       "    </tr>\n",
       "    <tr>\n",
       "      <th>year_month_day</th>\n",
       "      <th></th>\n",
       "      <th></th>\n",
       "      <th></th>\n",
       "      <th></th>\n",
       "      <th></th>\n",
       "      <th></th>\n",
       "      <th></th>\n",
       "      <th></th>\n",
       "      <th></th>\n",
       "      <th></th>\n",
       "    </tr>\n",
       "  </thead>\n",
       "  <tbody>\n",
       "    <tr>\n",
       "      <th>2014-01-01</th>\n",
       "      <td>-0.147885</td>\n",
       "      <td>-0.270931</td>\n",
       "      <td>-0.013636</td>\n",
       "      <td>-0.165305</td>\n",
       "      <td>-0.270119</td>\n",
       "      <td>0.063702</td>\n",
       "      <td>-0.158955</td>\n",
       "      <td>-0.298792</td>\n",
       "      <td>-0.005759</td>\n",
       "      <td>-0.044061</td>\n",
       "    </tr>\n",
       "    <tr>\n",
       "      <th>2014-01-02</th>\n",
       "      <td>-0.057746</td>\n",
       "      <td>-0.296670</td>\n",
       "      <td>0.060291</td>\n",
       "      <td>-0.083576</td>\n",
       "      <td>-0.289045</td>\n",
       "      <td>-0.032915</td>\n",
       "      <td>-0.117494</td>\n",
       "      <td>0.006405</td>\n",
       "      <td>-0.239153</td>\n",
       "      <td>-0.109612</td>\n",
       "    </tr>\n",
       "  </tbody>\n",
       "</table>\n",
       "</div>"
      ],
      "text/plain": [
       "                temperature_00  wind_direction_00  wind_speed_00  \\\n",
       "year_month_day                                                     \n",
       "2014-01-01           -0.147885          -0.270931      -0.013636   \n",
       "2014-01-02           -0.057746          -0.296670       0.060291   \n",
       "\n",
       "                temperature_08  wind_direction_08  wind_speed_08  \\\n",
       "year_month_day                                                     \n",
       "2014-01-01           -0.165305          -0.270119       0.063702   \n",
       "2014-01-02           -0.083576          -0.289045      -0.032915   \n",
       "\n",
       "                temperature_16  wind_direction_16  wind_speed_16     power  \n",
       "year_month_day                                                              \n",
       "2014-01-01           -0.158955          -0.298792      -0.005759 -0.044061  \n",
       "2014-01-02           -0.117494           0.006405      -0.239153 -0.109612  "
      ]
     },
     "execution_count": 8,
     "metadata": {},
     "output_type": "execute_result"
    }
   ],
   "source": [
    "# apply the transformation to data\n",
    "train_scaled = (wind_farm_data - means) / max_min\n",
    "train_scaled.head(2)"
   ]
  },
  {
   "cell_type": "markdown",
   "id": "a43b6e46-204d-4ed2-a70a-3eec79168d6b",
   "metadata": {},
   "source": [
    "### Standardization\n",
    "\n",
    "x' = X - mean(X) / std(X)"
   ]
  },
  {
   "cell_type": "code",
   "execution_count": 9,
   "id": "ff1dd1d9-c2d0-4f42-97d0-0e39cb869ec7",
   "metadata": {},
   "outputs": [],
   "source": [
    "from sklearn.preprocessing import StandardScaler"
   ]
  },
  {
   "cell_type": "code",
   "execution_count": 10,
   "id": "e8aa31d6-47d9-4a2d-a26d-dfca1cfb1ae2",
   "metadata": {},
   "outputs": [
    {
     "data": {
      "text/plain": [
       "array([[-9.47081470e-01, -1.12094415e+00, -8.78054256e-02, ...,\n",
       "        -1.15815444e+00, -4.07560353e-02, -2.28759074e-01],\n",
       "       [-3.69813725e-01, -1.22743633e+00,  3.88238323e-01, ...,\n",
       "         2.48284233e-02, -1.69257472e+00, -5.69093146e-01],\n",
       "       [-1.03215113e-03,  9.25731414e-01,  1.87532738e+00, ...,\n",
       "         5.43409484e-01,  2.30746819e+00,  2.51577089e+00],\n",
       "       ...,\n",
       "       [-1.96712573e-01, -1.01464629e+00,  2.44257872e+00, ...,\n",
       "        -1.03561351e+00,  2.02244360e+00,  3.29517744e+00],\n",
       "       [-2.97831589e-01, -1.16464866e+00,  1.69475152e+00, ...,\n",
       "        -1.01937255e+00, -7.67845989e-01,  6.10685547e-01],\n",
       "       [-6.14799449e-01, -1.01120782e+00, -4.23829384e-01, ...,\n",
       "        -1.08393955e+00, -1.70824028e-01, -7.69394599e-01]])"
      ]
     },
     "execution_count": 10,
     "metadata": {},
     "output_type": "execute_result"
    }
   ],
   "source": [
    "# create the scaler object\n",
    "scaler = StandardScaler()\n",
    "\n",
    "# fit the scaler to the train data\n",
    "scaler.fit(wind_farm_data)\n",
    "\n",
    "# transform train and test data\n",
    "train_scaled = scaler.transform(wind_farm_data)\n",
    "train_scaled"
   ]
  },
  {
   "cell_type": "markdown",
   "id": "747cec56-e700-4715-8270-d722dc7bf980",
   "metadata": {},
   "source": [
    "###   Min-Max Scaling\n",
    "\n",
    "x' = X - min(X)/ max(X) - min(x)"
   ]
  },
  {
   "cell_type": "code",
   "execution_count": 12,
   "id": "cc8947f9-b3f5-49c5-bb97-5344bb5fc558",
   "metadata": {},
   "outputs": [
    {
     "data": {
      "text/plain": [
       "array([[0.32743522, 0.27263445, 0.23830374, ..., 0.27223236, 0.29544226,\n",
       "        0.16581408],\n",
       "       [0.41757456, 0.2468954 , 0.31223006, ..., 0.57742949, 0.0620475 ,\n",
       "        0.10026302],\n",
       "       [0.47515916, 0.76731387, 0.54316477, ..., 0.71121795, 0.6272361 ,\n",
       "        0.69443241],\n",
       "       ...,\n",
       "       [0.444604  , 0.29832654, 0.631255  , ..., 0.30384663, 0.58696337,\n",
       "        0.84455232],\n",
       "       [0.42881445, 0.26207111, 0.51512258, ..., 0.30803663, 0.19270763,\n",
       "        0.3274978 ],\n",
       "       [0.37932047, 0.29915761, 0.18612152, ..., 0.29137902, 0.27706423,\n",
       "        0.06168337]])"
      ]
     },
     "execution_count": 12,
     "metadata": {},
     "output_type": "execute_result"
    }
   ],
   "source": [
    "from sklearn.preprocessing import MinMaxScaler\n",
    "\n",
    "# create the scaler object\n",
    "min_max = MinMaxScaler()\n",
    "\n",
    "# fit the scaler to the train data\n",
    "min_max.fit(wind_farm_data)\n",
    "\n",
    "# transform train and test data\n",
    "train_scaled = min_max.transform(wind_farm_data)\n",
    "train_scaled"
   ]
  },
  {
   "cell_type": "code",
   "execution_count": null,
   "id": "b48028c9-d148-438c-bdd3-1fa65f8e3370",
   "metadata": {},
   "outputs": [],
   "source": []
  }
 ],
 "metadata": {
  "kernelspec": {
   "display_name": "Python 3",
   "language": "python",
   "name": "python3"
  },
  "language_info": {
   "codemirror_mode": {
    "name": "ipython",
    "version": 3
   },
   "file_extension": ".py",
   "mimetype": "text/x-python",
   "name": "python",
   "nbconvert_exporter": "python",
   "pygments_lexer": "ipython3",
   "version": "3.9.4"
  }
 },
 "nbformat": 4,
 "nbformat_minor": 5
}
