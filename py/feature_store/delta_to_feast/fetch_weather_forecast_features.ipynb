{
 "cells": [
  {
   "cell_type": "markdown",
   "metadata": {},
   "source": [
    "### Data Ingestion workflow into Feast from Delta Lake table parquet files\n",
    "<table>\n",
    "  <tr><td>\n",
    "    <img src=\"./images/delta_to_feast.png\"\n",
    "         alt=\"Workflow Data Ingestion from Delta Lake to Feast\"  width=\"700\">\n",
    "  </td></tr>\n",
    "</table>"
   ]
  },
  {
   "cell_type": "code",
   "execution_count": 85,
   "metadata": {},
   "outputs": [],
   "source": [
    "import pandas as pd\n",
    "from datetime import datetime\n",
    "from utils import Utils\n",
    "from feast import FeatureStore\n",
    "from pprint import pprint"
   ]
  },
  {
   "cell_type": "code",
   "execution_count": 86,
   "metadata": {},
   "outputs": [
    {
     "data": {
      "text/html": [
       "<div>\n",
       "<style scoped>\n",
       "    .dataframe tbody tr th:only-of-type {\n",
       "        vertical-align: middle;\n",
       "    }\n",
       "\n",
       "    .dataframe tbody tr th {\n",
       "        vertical-align: top;\n",
       "    }\n",
       "\n",
       "    .dataframe thead th {\n",
       "        text-align: right;\n",
       "    }\n",
       "</style>\n",
       "<table border=\"1\" class=\"dataframe\">\n",
       "  <thead>\n",
       "    <tr style=\"text-align: right;\">\n",
       "      <th></th>\n",
       "      <th>year_month_day</th>\n",
       "      <th>event_timestamp</th>\n",
       "    </tr>\n",
       "  </thead>\n",
       "  <tbody>\n",
       "    <tr>\n",
       "      <th>0</th>\n",
       "      <td>2014-01-01</td>\n",
       "      <td>2014-01-01 08:00:00</td>\n",
       "    </tr>\n",
       "    <tr>\n",
       "      <th>1</th>\n",
       "      <td>2014-01-05</td>\n",
       "      <td>2014-01-05 08:00:00</td>\n",
       "    </tr>\n",
       "  </tbody>\n",
       "</table>\n",
       "</div>"
      ],
      "text/plain": [
       "  year_month_day     event_timestamp\n",
       "0     2014-01-01 2014-01-01 08:00:00\n",
       "1     2014-01-05 2014-01-05 08:00:00"
      ]
     },
     "execution_count": 86,
     "metadata": {},
     "output_type": "execute_result"
    }
   ],
   "source": [
    "# entity_df generally comes from upstream systems\n",
    "entity_df = pd.DataFrame.from_dict({\n",
    "    \"year_month_day\": ['2014-01-01', '2014-01-05'],\n",
    "    \"event_timestamp\": [\n",
    "        datetime(2014, 1, 1, 8, 0, 0),\n",
    "        datetime(2014, 1, 5, 8, 0, 0)\n",
    "    ]\n",
    "})\n",
    "\n",
    "entity_df.head()"
   ]
  },
  {
   "cell_type": "markdown",
   "metadata": {},
   "source": [
    "#### Get historical features from the Online Feature Store"
   ]
  },
  {
   "cell_type": "code",
   "execution_count": 87,
   "metadata": {},
   "outputs": [
    {
     "name": "stderr",
     "output_type": "stream",
     "text": [
      "/usr/local/lib/python3.8/site-packages/ipykernel/ipkernel.py:287: DeprecationWarning: `should_run_async` will not call `transform_cell` automatically in the future. Please pass the result to `transformed_cell` argument and any exception that happen during thetransform in `preprocessing_exc_tuple` in IPython 7.17 and above.\n",
      "  and should_run_async(code)\n"
     ]
    }
   ],
   "source": [
    "feature_refs = [\n",
    "        'weather_forecast_features:temperature_00',\n",
    "        'weather_forecast_features:wind_direction_00',\n",
    "        'weather_forecast_features:wind_speed_00',\n",
    "        'weather_forecast_features:temperature_08',\n",
    "        'weather_forecast_features:wind_direction_08',\n",
    "        'weather_forecast_features:wind_speed_08',\n",
    "        'weather_forecast_features:temperature_16',\n",
    "        'weather_forecast_features:wind_direction_16',\n",
    "        'weather_forecast_features:wind_speed_16',\n",
    "        'weather_forecast_features:power',\n",
    "        \n",
    "    ]"
   ]
  },
  {
   "cell_type": "markdown",
   "metadata": {
    "tags": []
   },
   "source": [
    "### Get historical data for two entities"
   ]
  },
  {
   "cell_type": "code",
   "execution_count": 88,
   "metadata": {},
   "outputs": [
    {
     "data": {
      "text/html": [
       "<div>\n",
       "<style scoped>\n",
       "    .dataframe tbody tr th:only-of-type {\n",
       "        vertical-align: middle;\n",
       "    }\n",
       "\n",
       "    .dataframe tbody tr th {\n",
       "        vertical-align: top;\n",
       "    }\n",
       "\n",
       "    .dataframe thead th {\n",
       "        text-align: right;\n",
       "    }\n",
       "</style>\n",
       "<table border=\"1\" class=\"dataframe\">\n",
       "  <thead>\n",
       "    <tr style=\"text-align: right;\">\n",
       "      <th></th>\n",
       "      <th>event_timestamp</th>\n",
       "      <th>year_month_day</th>\n",
       "      <th>weather_forecast_features__temperature_00</th>\n",
       "      <th>weather_forecast_features__wind_direction_00</th>\n",
       "      <th>weather_forecast_features__wind_speed_00</th>\n",
       "      <th>weather_forecast_features__temperature_08</th>\n",
       "      <th>weather_forecast_features__wind_direction_08</th>\n",
       "      <th>weather_forecast_features__wind_speed_08</th>\n",
       "      <th>weather_forecast_features__temperature_16</th>\n",
       "      <th>weather_forecast_features__wind_direction_16</th>\n",
       "      <th>weather_forecast_features__wind_speed_16</th>\n",
       "      <th>weather_forecast_features__power</th>\n",
       "    </tr>\n",
       "  </thead>\n",
       "  <tbody>\n",
       "    <tr>\n",
       "      <th>0</th>\n",
       "      <td>2014-01-01 08:00:00+00:00</td>\n",
       "      <td>2014-01-01</td>\n",
       "      <td>4.702022</td>\n",
       "      <td>106.74259</td>\n",
       "      <td>4.743292</td>\n",
       "      <td>7.189482</td>\n",
       "      <td>100.41638</td>\n",
       "      <td>6.593832</td>\n",
       "      <td>8.172301</td>\n",
       "      <td>99.2880</td>\n",
       "      <td>5.967206</td>\n",
       "      <td>1959.3535</td>\n",
       "    </tr>\n",
       "    <tr>\n",
       "      <th>1</th>\n",
       "      <td>2014-01-05 08:00:00+00:00</td>\n",
       "      <td>2014-01-05</td>\n",
       "      <td>0.830547</td>\n",
       "      <td>265.39440</td>\n",
       "      <td>4.263086</td>\n",
       "      <td>2.480239</td>\n",
       "      <td>104.79496</td>\n",
       "      <td>3.042063</td>\n",
       "      <td>4.227131</td>\n",
       "      <td>263.4169</td>\n",
       "      <td>3.899182</td>\n",
       "      <td>880.6115</td>\n",
       "    </tr>\n",
       "  </tbody>\n",
       "</table>\n",
       "</div>"
      ],
      "text/plain": [
       "            event_timestamp year_month_day  \\\n",
       "0 2014-01-01 08:00:00+00:00     2014-01-01   \n",
       "1 2014-01-05 08:00:00+00:00     2014-01-05   \n",
       "\n",
       "   weather_forecast_features__temperature_00  \\\n",
       "0                                   4.702022   \n",
       "1                                   0.830547   \n",
       "\n",
       "   weather_forecast_features__wind_direction_00  \\\n",
       "0                                     106.74259   \n",
       "1                                     265.39440   \n",
       "\n",
       "   weather_forecast_features__wind_speed_00  \\\n",
       "0                                  4.743292   \n",
       "1                                  4.263086   \n",
       "\n",
       "   weather_forecast_features__temperature_08  \\\n",
       "0                                   7.189482   \n",
       "1                                   2.480239   \n",
       "\n",
       "   weather_forecast_features__wind_direction_08  \\\n",
       "0                                     100.41638   \n",
       "1                                     104.79496   \n",
       "\n",
       "   weather_forecast_features__wind_speed_08  \\\n",
       "0                                  6.593832   \n",
       "1                                  3.042063   \n",
       "\n",
       "   weather_forecast_features__temperature_16  \\\n",
       "0                                   8.172301   \n",
       "1                                   4.227131   \n",
       "\n",
       "   weather_forecast_features__wind_direction_16  \\\n",
       "0                                       99.2880   \n",
       "1                                      263.4169   \n",
       "\n",
       "   weather_forecast_features__wind_speed_16  weather_forecast_features__power  \n",
       "0                                  5.967206                         1959.3535  \n",
       "1                                  3.899182                          880.6115  "
      ]
     },
     "execution_count": 88,
     "metadata": {},
     "output_type": "execute_result"
    }
   ],
   "source": [
    "store = FeatureStore(repo_path=\".\") \n",
    "store.get_online_features\n",
    "training_df = store.get_historical_features(\n",
    "    entity_df=entity_df, \n",
    "    feature_refs=feature_refs\n",
    ").to_df()\n",
    "\n",
    "training_df"
   ]
  },
  {
   "cell_type": "markdown",
   "metadata": {},
   "source": [
    "### Get Online features for two entities"
   ]
  },
  {
   "cell_type": "code",
   "execution_count": 89,
   "metadata": {},
   "outputs": [
    {
     "name": "stderr",
     "output_type": "stream",
     "text": [
      "/usr/local/lib/python3.8/site-packages/ipykernel/ipkernel.py:287: DeprecationWarning: `should_run_async` will not call `transform_cell` automatically in the future. Please pass the result to `transformed_cell` argument and any exception that happen during thetransform in `preprocessing_exc_tuple` in IPython 7.17 and above.\n",
      "  and should_run_async(code)\n"
     ]
    }
   ],
   "source": [
    "entity_rows = [{'year_month_day': \"2014-01-01\"}, {'year_month_day': '2014-01-05'}]"
   ]
  },
  {
   "cell_type": "code",
   "execution_count": 90,
   "metadata": {},
   "outputs": [],
   "source": [
    "online_response = store.get_online_features(feature_refs, entity_rows)"
   ]
  },
  {
   "cell_type": "code",
   "execution_count": 91,
   "metadata": {},
   "outputs": [
    {
     "name": "stdout",
     "output_type": "stream",
     "text": [
      "{'weather_forecast_features__power': [1959.3535, 880.6115],\n",
      " 'weather_forecast_features__temperature_00': [4.702021725972501,\n",
      "                                               0.8305474599202451],\n",
      " 'weather_forecast_features__temperature_08': [7.189482116699223,\n",
      "                                               2.480239041646324],\n",
      " 'weather_forecast_features__temperature_16': [8.172300847371405,\n",
      "                                               4.227130699157724],\n",
      " 'weather_forecast_features__wind_direction_00': [106.74258999999999, 265.3944],\n",
      " 'weather_forecast_features__wind_direction_08': [100.41638, 104.79496],\n",
      " 'weather_forecast_features__wind_direction_16': [99.288, 263.4169],\n",
      " 'weather_forecast_features__wind_speed_00': [4.743291999999999,\n",
      "                                              4.263086299999999],\n",
      " 'weather_forecast_features__wind_speed_08': [6.5938324999999995, 3.0420635],\n",
      " 'weather_forecast_features__wind_speed_16': [5.967206, 3.899182],\n",
      " 'year_month_day': ['2014-01-01', '2014-01-05']}\n"
     ]
    }
   ],
   "source": [
    "pprint(online_response.to_dict())"
   ]
  }
 ],
 "metadata": {
  "kernelspec": {
   "display_name": "Python 3",
   "language": "python",
   "name": "python3"
  },
  "language_info": {
   "codemirror_mode": {
    "name": "ipython",
    "version": 3
   },
   "file_extension": ".py",
   "mimetype": "text/x-python",
   "name": "python",
   "nbconvert_exporter": "python",
   "pygments_lexer": "ipython3",
   "version": "3.8.10"
  }
 },
 "nbformat": 4,
 "nbformat_minor": 4
}
