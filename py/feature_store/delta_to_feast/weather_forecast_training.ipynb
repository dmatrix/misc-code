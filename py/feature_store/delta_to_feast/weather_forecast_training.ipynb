{
 "cells": [
  {
   "cell_type": "code",
   "execution_count": 1,
   "metadata": {},
   "outputs": [],
   "source": [
    "import pandas as pd\n",
    "from datetime import datetime"
   ]
  },
  {
   "cell_type": "code",
   "execution_count": 3,
   "metadata": {},
   "outputs": [
    {
     "name": "stderr",
     "output_type": "stream",
     "text": [
      "/usr/local/lib/python3.8/site-packages/ipykernel/ipkernel.py:287: DeprecationWarning: `should_run_async` will not call `transform_cell` automatically in the future. Please pass the result to `transformed_cell` argument and any exception that happen during thetransform in `preprocessing_exc_tuple` in IPython 7.17 and above.\n",
      "  and should_run_async(code)\n"
     ]
    }
   ],
   "source": [
    "from feast import FeatureStore"
   ]
  },
  {
   "cell_type": "code",
   "execution_count": 10,
   "metadata": {},
   "outputs": [
    {
     "name": "stderr",
     "output_type": "stream",
     "text": [
      "/usr/local/lib/python3.8/site-packages/ipykernel/ipkernel.py:287: DeprecationWarning: `should_run_async` will not call `transform_cell` automatically in the future. Please pass the result to `transformed_cell` argument and any exception that happen during thetransform in `preprocessing_exc_tuple` in IPython 7.17 and above.\n",
      "  and should_run_async(code)\n"
     ]
    },
    {
     "data": {
      "text/html": [
       "<div>\n",
       "<style scoped>\n",
       "    .dataframe tbody tr th:only-of-type {\n",
       "        vertical-align: middle;\n",
       "    }\n",
       "\n",
       "    .dataframe tbody tr th {\n",
       "        vertical-align: top;\n",
       "    }\n",
       "\n",
       "    .dataframe thead th {\n",
       "        text-align: right;\n",
       "    }\n",
       "</style>\n",
       "<table border=\"1\" class=\"dataframe\">\n",
       "  <thead>\n",
       "    <tr style=\"text-align: right;\">\n",
       "      <th></th>\n",
       "      <th>year_month_day</th>\n",
       "      <th>event_timestamp</th>\n",
       "    </tr>\n",
       "  </thead>\n",
       "  <tbody>\n",
       "    <tr>\n",
       "      <th>0</th>\n",
       "      <td>2014-01-01</td>\n",
       "      <td>2021-05-24 10:39:37</td>\n",
       "    </tr>\n",
       "  </tbody>\n",
       "</table>\n",
       "</div>"
      ],
      "text/plain": [
       "  year_month_day     event_timestamp\n",
       "0     2014-01-01 2021-05-24 10:39:37"
      ]
     },
     "execution_count": 10,
     "metadata": {},
     "output_type": "execute_result"
    }
   ],
   "source": [
    "# entity_df generally comes from upstream systems\n",
    "entity_df = pd.DataFrame.from_dict({\n",
    "    \"year_month_day\": [\"2014-01-01\"],\n",
    "    \"event_timestamp\": [\n",
    "        datetime(2021, 5, 24, 10, 39, 37),\n",
    "    ]\n",
    "})\n",
    "\n",
    "entity_df.head()"
   ]
  },
  {
   "cell_type": "code",
   "execution_count": 11,
   "metadata": {},
   "outputs": [
    {
     "name": "stderr",
     "output_type": "stream",
     "text": [
      "/usr/local/lib/python3.8/site-packages/ipykernel/ipkernel.py:287: DeprecationWarning: `should_run_async` will not call `transform_cell` automatically in the future. Please pass the result to `transformed_cell` argument and any exception that happen during thetransform in `preprocessing_exc_tuple` in IPython 7.17 and above.\n",
      "  and should_run_async(code)\n"
     ]
    },
    {
     "data": {
      "text/html": [
       "<div>\n",
       "<style scoped>\n",
       "    .dataframe tbody tr th:only-of-type {\n",
       "        vertical-align: middle;\n",
       "    }\n",
       "\n",
       "    .dataframe tbody tr th {\n",
       "        vertical-align: top;\n",
       "    }\n",
       "\n",
       "    .dataframe thead th {\n",
       "        text-align: right;\n",
       "    }\n",
       "</style>\n",
       "<table border=\"1\" class=\"dataframe\">\n",
       "  <thead>\n",
       "    <tr style=\"text-align: right;\">\n",
       "      <th></th>\n",
       "      <th>event_timestamp</th>\n",
       "      <th>year_month_day</th>\n",
       "      <th>weather_forecast_features__temperature_00</th>\n",
       "      <th>weather_forecast_features__wind_direction_00</th>\n",
       "      <th>weather_forecast_features__wind_speed_00</th>\n",
       "      <th>weather_forecast_features__temperature_08</th>\n",
       "      <th>weather_forecast_features__wind_direction_08</th>\n",
       "      <th>weather_forecast_features__wind_speed_08</th>\n",
       "      <th>weather_forecast_features__temperature_16</th>\n",
       "      <th>weather_forecast_features__wind_direction_16</th>\n",
       "      <th>weather_forecast_features__wind_speed_16</th>\n",
       "      <th>weather_forecast_features__power</th>\n",
       "    </tr>\n",
       "  </thead>\n",
       "  <tbody>\n",
       "    <tr>\n",
       "      <th>0</th>\n",
       "      <td>2021-05-24 10:39:37+00:00</td>\n",
       "      <td>2014-01-01</td>\n",
       "      <td>NaN</td>\n",
       "      <td>NaN</td>\n",
       "      <td>NaN</td>\n",
       "      <td>NaN</td>\n",
       "      <td>NaN</td>\n",
       "      <td>NaN</td>\n",
       "      <td>NaN</td>\n",
       "      <td>NaN</td>\n",
       "      <td>NaN</td>\n",
       "      <td>NaN</td>\n",
       "    </tr>\n",
       "  </tbody>\n",
       "</table>\n",
       "</div>"
      ],
      "text/plain": [
       "            event_timestamp year_month_day  \\\n",
       "0 2021-05-24 10:39:37+00:00     2014-01-01   \n",
       "\n",
       "   weather_forecast_features__temperature_00  \\\n",
       "0                                        NaN   \n",
       "\n",
       "   weather_forecast_features__wind_direction_00  \\\n",
       "0                                           NaN   \n",
       "\n",
       "   weather_forecast_features__wind_speed_00  \\\n",
       "0                                       NaN   \n",
       "\n",
       "   weather_forecast_features__temperature_08  \\\n",
       "0                                        NaN   \n",
       "\n",
       "   weather_forecast_features__wind_direction_08  \\\n",
       "0                                           NaN   \n",
       "\n",
       "   weather_forecast_features__wind_speed_08  \\\n",
       "0                                       NaN   \n",
       "\n",
       "   weather_forecast_features__temperature_16  \\\n",
       "0                                        NaN   \n",
       "\n",
       "   weather_forecast_features__wind_direction_16  \\\n",
       "0                                           NaN   \n",
       "\n",
       "   weather_forecast_features__wind_speed_16  weather_forecast_features__power  \n",
       "0                                       NaN                               NaN  "
      ]
     },
     "execution_count": 11,
     "metadata": {},
     "output_type": "execute_result"
    }
   ],
   "source": [
    "store = FeatureStore(repo_path=\".\") \n",
    "training_df = store.get_historical_features(\n",
    "    entity_df=entity_df, \n",
    "    feature_refs = [\n",
    "        'weather_forecast_features:temperature_00',\n",
    "        'weather_forecast_features:wind_direction_00',\n",
    "        'weather_forecast_features:wind_speed_00',\n",
    "        'weather_forecast_features:temperature_08',\n",
    "        'weather_forecast_features:wind_direction_08',\n",
    "        'weather_forecast_features:wind_speed_08',\n",
    "        'weather_forecast_features:temperature_16',\n",
    "        'weather_forecast_features:wind_direction_16',\n",
    "        'weather_forecast_features:wind_speed_16',\n",
    "        'weather_forecast_features:power',\n",
    "        \n",
    "    ],\n",
    ").to_df()\n",
    "\n",
    "training_df"
   ]
  },
  {
   "cell_type": "code",
   "execution_count": null,
   "metadata": {},
   "outputs": [],
   "source": []
  }
 ],
 "metadata": {
  "kernelspec": {
   "display_name": "Python 3",
   "language": "python",
   "name": "python3"
  },
  "language_info": {
   "codemirror_mode": {
    "name": "ipython",
    "version": 3
   },
   "file_extension": ".py",
   "mimetype": "text/x-python",
   "name": "python",
   "nbconvert_exporter": "python",
   "pygments_lexer": "ipython3",
   "version": "3.8.10"
  }
 },
 "nbformat": 4,
 "nbformat_minor": 4
}
