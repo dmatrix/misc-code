{
 "cells": [
  {
   "cell_type": "code",
   "execution_count": 1,
   "metadata": {},
   "outputs": [],
   "source": [
    "import pyspark\n",
    "from utils import Utils"
   ]
  },
  {
   "cell_type": "code",
   "execution_count": 2,
   "metadata": {},
   "outputs": [],
   "source": [
    "INGEST_DATA_REPO_PATHS = {\n",
    "    'weather_data_path': \"https://raw.githubusercontent.com/dmatrix/olt-mlflow/master/model_registery/notebooks/data/windfarm_data.csv\",\n",
    "    'serve_data_path': \"https://raw.githubusercontent.com/dmatrix/olt-mlflow/master/model_registery/notebooks/data/score_windfarm_data.csv\"\n",
    "\n",
    "}"
   ]
  },
  {
   "cell_type": "markdown",
   "metadata": {},
   "source": [
    "#### Create PySpark session"
   ]
  },
  {
   "cell_type": "code",
   "execution_count": 3,
   "metadata": {},
   "outputs": [],
   "source": [
    "spark = pyspark.sql.SparkSession.builder.appName(\"DeltaLakeToFeast\") \\\n",
    "        .config(\"spark.jars.packages\", \"io.delta:delta-core_2.12:0.8.0\") \\\n",
    "        .config(\"spark.sql.extensions\", \"io.delta.sql.DeltaSparkSessionExtension\") \\\n",
    "        .config(\"spark.sql.catalog.spark_catalog\", \"org.apache.spark.sql.delta.catalog.DeltaCatalog\") \\\n",
    "        .getOrCreate()"
   ]
  },
  {
   "cell_type": "markdown",
   "metadata": {},
   "source": [
    "#### Read data from the CSV files "
   ]
  },
  {
   "cell_type": "code",
   "execution_count": 5,
   "metadata": {},
   "outputs": [],
   "source": [
    "weather_data_path = INGEST_DATA_REPO_PATHS.get('weather_data_path')\n",
    "serve_data_path = INGEST_DATA_REPO_PATHS.get('serve_data_path')\n",
    "weather_data = Utils.load_csv_data(weather_data_path)\n",
    "serve_data = Utils.load_csv_data(serve_data_path)"
   ]
  },
  {
   "cell_type": "code",
   "execution_count": 6,
   "metadata": {},
   "outputs": [
    {
     "data": {
      "text/html": [
       "<div>\n",
       "<style scoped>\n",
       "    .dataframe tbody tr th:only-of-type {\n",
       "        vertical-align: middle;\n",
       "    }\n",
       "\n",
       "    .dataframe tbody tr th {\n",
       "        vertical-align: top;\n",
       "    }\n",
       "\n",
       "    .dataframe thead th {\n",
       "        text-align: right;\n",
       "    }\n",
       "</style>\n",
       "<table border=\"1\" class=\"dataframe\">\n",
       "  <thead>\n",
       "    <tr style=\"text-align: right;\">\n",
       "      <th></th>\n",
       "      <th>year_month_day</th>\n",
       "      <th>temperature_00</th>\n",
       "      <th>wind_direction_00</th>\n",
       "      <th>wind_speed_00</th>\n",
       "      <th>temperature_08</th>\n",
       "      <th>wind_direction_08</th>\n",
       "      <th>wind_speed_08</th>\n",
       "      <th>temperature_16</th>\n",
       "      <th>wind_direction_16</th>\n",
       "      <th>wind_speed_16</th>\n",
       "      <th>power</th>\n",
       "    </tr>\n",
       "  </thead>\n",
       "  <tbody>\n",
       "    <tr>\n",
       "      <th>0</th>\n",
       "      <td>2014-01-01</td>\n",
       "      <td>4.702022</td>\n",
       "      <td>106.742590</td>\n",
       "      <td>4.743292</td>\n",
       "      <td>7.189482</td>\n",
       "      <td>100.41638</td>\n",
       "      <td>6.593832</td>\n",
       "      <td>8.172301</td>\n",
       "      <td>99.28800</td>\n",
       "      <td>5.967206</td>\n",
       "      <td>1959.3535</td>\n",
       "    </tr>\n",
       "    <tr>\n",
       "      <th>1</th>\n",
       "      <td>2014-01-02</td>\n",
       "      <td>7.695733</td>\n",
       "      <td>98.036705</td>\n",
       "      <td>6.142715</td>\n",
       "      <td>9.977118</td>\n",
       "      <td>94.03181</td>\n",
       "      <td>4.383676</td>\n",
       "      <td>9.690135</td>\n",
       "      <td>204.25444</td>\n",
       "      <td>1.696528</td>\n",
       "      <td>1266.6239</td>\n",
       "    </tr>\n",
       "    <tr>\n",
       "      <th>2</th>\n",
       "      <td>2014-01-03</td>\n",
       "      <td>9.608235</td>\n",
       "      <td>274.061200</td>\n",
       "      <td>10.514304</td>\n",
       "      <td>10.840864</td>\n",
       "      <td>242.87563</td>\n",
       "      <td>16.869741</td>\n",
       "      <td>8.991079</td>\n",
       "      <td>250.26830</td>\n",
       "      <td>12.038399</td>\n",
       "      <td>7545.6797</td>\n",
       "    </tr>\n",
       "    <tr>\n",
       "      <th>3</th>\n",
       "      <td>2014-01-04</td>\n",
       "      <td>6.955563</td>\n",
       "      <td>257.910220</td>\n",
       "      <td>7.189170</td>\n",
       "      <td>5.317223</td>\n",
       "      <td>254.26170</td>\n",
       "      <td>9.069233</td>\n",
       "      <td>3.021174</td>\n",
       "      <td>284.06537</td>\n",
       "      <td>4.590843</td>\n",
       "      <td>3791.0408</td>\n",
       "    </tr>\n",
       "    <tr>\n",
       "      <th>4</th>\n",
       "      <td>2014-01-05</td>\n",
       "      <td>0.830547</td>\n",
       "      <td>265.394400</td>\n",
       "      <td>4.263086</td>\n",
       "      <td>2.480239</td>\n",
       "      <td>104.79496</td>\n",
       "      <td>3.042063</td>\n",
       "      <td>4.227131</td>\n",
       "      <td>263.41690</td>\n",
       "      <td>3.899182</td>\n",
       "      <td>880.6115</td>\n",
       "    </tr>\n",
       "  </tbody>\n",
       "</table>\n",
       "</div>"
      ],
      "text/plain": [
       "  year_month_day  temperature_00  wind_direction_00  wind_speed_00  \\\n",
       "0     2014-01-01        4.702022         106.742590       4.743292   \n",
       "1     2014-01-02        7.695733          98.036705       6.142715   \n",
       "2     2014-01-03        9.608235         274.061200      10.514304   \n",
       "3     2014-01-04        6.955563         257.910220       7.189170   \n",
       "4     2014-01-05        0.830547         265.394400       4.263086   \n",
       "\n",
       "   temperature_08  wind_direction_08  wind_speed_08  temperature_16  \\\n",
       "0        7.189482          100.41638       6.593832        8.172301   \n",
       "1        9.977118           94.03181       4.383676        9.690135   \n",
       "2       10.840864          242.87563      16.869741        8.991079   \n",
       "3        5.317223          254.26170       9.069233        3.021174   \n",
       "4        2.480239          104.79496       3.042063        4.227131   \n",
       "\n",
       "   wind_direction_16  wind_speed_16      power  \n",
       "0           99.28800       5.967206  1959.3535  \n",
       "1          204.25444       1.696528  1266.6239  \n",
       "2          250.26830      12.038399  7545.6797  \n",
       "3          284.06537       4.590843  3791.0408  \n",
       "4          263.41690       3.899182   880.6115  "
      ]
     },
     "execution_count": 6,
     "metadata": {},
     "output_type": "execute_result"
    }
   ],
   "source": [
    "weather_data.head()"
   ]
  },
  {
   "cell_type": "markdown",
   "metadata": {},
   "source": [
    "#### Add `datetime` and `created` for the offline table for Feast to ingest from"
   ]
  },
  {
   "cell_type": "code",
   "execution_count": 8,
   "metadata": {},
   "outputs": [
    {
     "data": {
      "text/html": [
       "<div>\n",
       "<style scoped>\n",
       "    .dataframe tbody tr th:only-of-type {\n",
       "        vertical-align: middle;\n",
       "    }\n",
       "\n",
       "    .dataframe tbody tr th {\n",
       "        vertical-align: top;\n",
       "    }\n",
       "\n",
       "    .dataframe thead th {\n",
       "        text-align: right;\n",
       "    }\n",
       "</style>\n",
       "<table border=\"1\" class=\"dataframe\">\n",
       "  <thead>\n",
       "    <tr style=\"text-align: right;\">\n",
       "      <th></th>\n",
       "      <th>year_month_day</th>\n",
       "      <th>temperature_00</th>\n",
       "      <th>wind_direction_00</th>\n",
       "      <th>wind_speed_00</th>\n",
       "      <th>temperature_08</th>\n",
       "      <th>wind_direction_08</th>\n",
       "      <th>wind_speed_08</th>\n",
       "      <th>temperature_16</th>\n",
       "      <th>wind_direction_16</th>\n",
       "      <th>wind_speed_16</th>\n",
       "      <th>power</th>\n",
       "      <th>datetime</th>\n",
       "      <th>created</th>\n",
       "    </tr>\n",
       "  </thead>\n",
       "  <tbody>\n",
       "    <tr>\n",
       "      <th>0</th>\n",
       "      <td>2014-01-01</td>\n",
       "      <td>4.702022</td>\n",
       "      <td>106.742590</td>\n",
       "      <td>4.743292</td>\n",
       "      <td>7.189482</td>\n",
       "      <td>100.41638</td>\n",
       "      <td>6.593832</td>\n",
       "      <td>8.172301</td>\n",
       "      <td>99.28800</td>\n",
       "      <td>5.967206</td>\n",
       "      <td>1959.3535</td>\n",
       "      <td>2014-01-01</td>\n",
       "      <td>2021-05-26 11:47:21.800</td>\n",
       "    </tr>\n",
       "    <tr>\n",
       "      <th>1</th>\n",
       "      <td>2014-01-02</td>\n",
       "      <td>7.695733</td>\n",
       "      <td>98.036705</td>\n",
       "      <td>6.142715</td>\n",
       "      <td>9.977118</td>\n",
       "      <td>94.03181</td>\n",
       "      <td>4.383676</td>\n",
       "      <td>9.690135</td>\n",
       "      <td>204.25444</td>\n",
       "      <td>1.696528</td>\n",
       "      <td>1266.6239</td>\n",
       "      <td>2014-01-02</td>\n",
       "      <td>2021-05-26 11:47:21.800</td>\n",
       "    </tr>\n",
       "    <tr>\n",
       "      <th>2</th>\n",
       "      <td>2014-01-03</td>\n",
       "      <td>9.608235</td>\n",
       "      <td>274.061200</td>\n",
       "      <td>10.514304</td>\n",
       "      <td>10.840864</td>\n",
       "      <td>242.87563</td>\n",
       "      <td>16.869741</td>\n",
       "      <td>8.991079</td>\n",
       "      <td>250.26830</td>\n",
       "      <td>12.038399</td>\n",
       "      <td>7545.6797</td>\n",
       "      <td>2014-01-03</td>\n",
       "      <td>2021-05-26 11:47:21.800</td>\n",
       "    </tr>\n",
       "    <tr>\n",
       "      <th>3</th>\n",
       "      <td>2014-01-04</td>\n",
       "      <td>6.955563</td>\n",
       "      <td>257.910220</td>\n",
       "      <td>7.189170</td>\n",
       "      <td>5.317223</td>\n",
       "      <td>254.26170</td>\n",
       "      <td>9.069233</td>\n",
       "      <td>3.021174</td>\n",
       "      <td>284.06537</td>\n",
       "      <td>4.590843</td>\n",
       "      <td>3791.0408</td>\n",
       "      <td>2014-01-04</td>\n",
       "      <td>2021-05-26 11:47:21.800</td>\n",
       "    </tr>\n",
       "    <tr>\n",
       "      <th>4</th>\n",
       "      <td>2014-01-05</td>\n",
       "      <td>0.830547</td>\n",
       "      <td>265.394400</td>\n",
       "      <td>4.263086</td>\n",
       "      <td>2.480239</td>\n",
       "      <td>104.79496</td>\n",
       "      <td>3.042063</td>\n",
       "      <td>4.227131</td>\n",
       "      <td>263.41690</td>\n",
       "      <td>3.899182</td>\n",
       "      <td>880.6115</td>\n",
       "      <td>2014-01-05</td>\n",
       "      <td>2021-05-26 11:47:21.800</td>\n",
       "    </tr>\n",
       "  </tbody>\n",
       "</table>\n",
       "</div>"
      ],
      "text/plain": [
       "  year_month_day  temperature_00  wind_direction_00  wind_speed_00  \\\n",
       "0     2014-01-01        4.702022         106.742590       4.743292   \n",
       "1     2014-01-02        7.695733          98.036705       6.142715   \n",
       "2     2014-01-03        9.608235         274.061200      10.514304   \n",
       "3     2014-01-04        6.955563         257.910220       7.189170   \n",
       "4     2014-01-05        0.830547         265.394400       4.263086   \n",
       "\n",
       "   temperature_08  wind_direction_08  wind_speed_08  temperature_16  \\\n",
       "0        7.189482          100.41638       6.593832        8.172301   \n",
       "1        9.977118           94.03181       4.383676        9.690135   \n",
       "2       10.840864          242.87563      16.869741        8.991079   \n",
       "3        5.317223          254.26170       9.069233        3.021174   \n",
       "4        2.480239          104.79496       3.042063        4.227131   \n",
       "\n",
       "   wind_direction_16  wind_speed_16      power   datetime  \\\n",
       "0           99.28800       5.967206  1959.3535 2014-01-01   \n",
       "1          204.25444       1.696528  1266.6239 2014-01-02   \n",
       "2          250.26830      12.038399  7545.6797 2014-01-03   \n",
       "3          284.06537       4.590843  3791.0408 2014-01-04   \n",
       "4          263.41690       3.899182   880.6115 2014-01-05   \n",
       "\n",
       "                  created  \n",
       "0 2021-05-26 11:47:21.800  \n",
       "1 2021-05-26 11:47:21.800  \n",
       "2 2021-05-26 11:47:21.800  \n",
       "3 2021-05-26 11:47:21.800  \n",
       "4 2021-05-26 11:47:21.800  "
      ]
     },
     "execution_count": 8,
     "metadata": {},
     "output_type": "execute_result"
    }
   ],
   "source": [
    "weather_data = Utils.to_feast_fmt(weather_data)\n",
    "serve_data = Utils.to_feast_fmt(serve_data)\n",
    "weather_data.head(5)"
   ]
  },
  {
   "cell_type": "markdown",
   "metadata": {},
   "source": [
    "#### Convert to Spark DataFrame so we can save as Delta Lalke tables"
   ]
  },
  {
   "cell_type": "code",
   "execution_count": 13,
   "metadata": {},
   "outputs": [
    {
     "name": "stdout",
     "output_type": "stream",
     "text": [
      "+--------------+-----------------+------------------+------------------+-----------------+-----------------+------------------+-----------------+-----------------+------------------+---------+-------------------+--------------------+\n",
      "|year_month_day|   temperature_00| wind_direction_00|     wind_speed_00|   temperature_08|wind_direction_08|     wind_speed_08|   temperature_16|wind_direction_16|     wind_speed_16|    power|           datetime|             created|\n",
      "+--------------+-----------------+------------------+------------------+-----------------+-----------------+------------------+-----------------+-----------------+------------------+---------+-------------------+--------------------+\n",
      "|    2014-01-01|4.702021725972501|106.74258999999999| 4.743291999999999|7.189482116699223|        100.41638|6.5938324999999995|8.172300847371405|           99.288|          5.967206|1959.3535|2014-01-01 00:00:00|2021-05-26 11:47:...|\n",
      "|    2014-01-02|7.695733197530104|         98.036705|6.1427154999999996| 9.97711760203044|         94.03181|          4.383676| 9.69013532002767|        204.25444|1.6965278000000001|1266.6239|2014-01-02 00:00:00|2021-05-26 11:47:...|\n",
      "+--------------+-----------------+------------------+------------------+-----------------+-----------------+------------------+-----------------+-----------------+------------------+---------+-------------------+--------------------+\n",
      "only showing top 2 rows\n",
      "\n"
     ]
    }
   ],
   "source": [
    "spark_weather_data = Utils.create_spark_df(spark, weather_data)\n",
    "spark_score_data = Utils.create_spark_df(spark, serve_data)\n",
    "spark_weather_data.show(2)"
   ]
  },
  {
   "cell_type": "code",
   "execution_count": 17,
   "metadata": {},
   "outputs": [],
   "source": [
    "#### Create Delta Lake tables "
   ]
  },
  {
   "cell_type": "code",
   "execution_count": 16,
   "metadata": {},
   "outputs": [
    {
     "data": {
      "text/plain": [
       "[None, None]"
      ]
     },
     "execution_count": 16,
     "metadata": {},
     "output_type": "execute_result"
    }
   ],
   "source": [
    "table_names = [\"data/weather_forecast_features\", \"data/serve_weather_forecast_features\"]\n",
    "parquet_files = [\"data/weather_forecast_features_parquet\", \"data/serve_weather_forecast_features_parquet\"]\n",
    "data_frames = [spark_weather_data, spark_score_data]\n",
    "[Utils.create_delta_table(f, t) for t, f in zip(table_names, data_frames)]"
   ]
  },
  {
   "cell_type": "markdown",
   "metadata": {},
   "source": [
    "#### Read the Delta table features back into a Spark DataFrame"
   ]
  },
  {
   "cell_type": "code",
   "execution_count": 21,
   "metadata": {},
   "outputs": [
    {
     "name": "stdout",
     "output_type": "stream",
     "text": [
      "Delta Table: data/weather_forecast_features\n",
      "+--------------+------------------+-----------------+------------------+-----------------+------------------+-------------+------------------+-----------------+-------------+---------+-------------------+--------------------+\n",
      "|year_month_day|    temperature_00|wind_direction_00|     wind_speed_00|   temperature_08| wind_direction_08|wind_speed_08|    temperature_16|wind_direction_16|wind_speed_16|    power|           datetime|             created|\n",
      "+--------------+------------------+-----------------+------------------+-----------------+------------------+-------------+------------------+-----------------+-------------+---------+-------------------+--------------------+\n",
      "|    2020-05-23|5.8407705307006825|         258.7054|3.1650392999999997|8.923618189493816|223.65662000000003|    2.2269764|11.021574338277176|        276.32333|     7.281217|1632.3582|2020-05-23 00:00:00|2021-05-26 11:47:...|\n",
      "+--------------+------------------+-----------------+------------------+-----------------+------------------+-------------+------------------+-----------------+-------------+---------+-------------------+--------------------+\n",
      "only showing top 1 row\n",
      "\n",
      "StructType(List(StructField(year_month_day,StringType,true),StructField(temperature_00,DoubleType,true),StructField(wind_direction_00,DoubleType,true),StructField(wind_speed_00,DoubleType,true),StructField(temperature_08,DoubleType,true),StructField(wind_direction_08,DoubleType,true),StructField(wind_speed_08,DoubleType,true),StructField(temperature_16,DoubleType,true),StructField(wind_direction_16,DoubleType,true),StructField(wind_speed_16,DoubleType,true),StructField(power,DoubleType,true),StructField(datetime,TimestampType,true),StructField(created,TimestampType,true)))\n",
      "Delta Table: data/serve_weather_forecast_features\n",
      "+--------------+----------------+-----------------+-------------+-----------------+------------------+------------------+-----------------+------------------+-------------+---------+-------------------+--------------------+\n",
      "|year_month_day|  temperature_00|wind_direction_00|wind_speed_00|   temperature_08| wind_direction_08|     wind_speed_08|   temperature_16| wind_direction_16|wind_speed_16|    power|           datetime|             created|\n",
      "+--------------+----------------+-----------------+-------------+-----------------+------------------+------------------+-----------------+------------------+-------------+---------+-------------------+--------------------+\n",
      "|    2020-12-30|8.06903266906737|       103.169685|     9.983466|7.930485343933108|106.04551000000001|6.3815555999999996|8.228901418050112|111.60216000000001|    4.0873585|3667.9927|2020-12-30 00:00:00|2021-05-26 11:47:...|\n",
      "+--------------+----------------+-----------------+-------------+-----------------+------------------+------------------+-----------------+------------------+-------------+---------+-------------------+--------------------+\n",
      "only showing top 1 row\n",
      "\n",
      "StructType(List(StructField(year_month_day,StringType,true),StructField(temperature_00,DoubleType,true),StructField(wind_direction_00,DoubleType,true),StructField(wind_speed_00,DoubleType,true),StructField(temperature_08,DoubleType,true),StructField(wind_direction_08,DoubleType,true),StructField(wind_speed_08,DoubleType,true),StructField(temperature_16,DoubleType,true),StructField(wind_direction_16,DoubleType,true),StructField(wind_speed_16,DoubleType,true),StructField(power,DoubleType,true),StructField(datetime,TimestampType,true),StructField(created,TimestampType,true)))\n"
     ]
    }
   ],
   "source": [
    "for t in table_names:\n",
    "    df = Utils.read_data(spark, t, \"delta\")\n",
    "    print(\"Delta Table: {}\".format(t))\n",
    "    df.show(1)\n",
    "    print(df.schema)"
   ]
  },
  {
   "cell_type": "markdown",
   "metadata": {},
   "source": [
    "#### Create equivalent parquet files\n"
   ]
  },
  {
   "cell_type": "code",
   "execution_count": 19,
   "metadata": {},
   "outputs": [
    {
     "data": {
      "text/plain": [
       "[None, None]"
      ]
     },
     "execution_count": 19,
     "metadata": {},
     "output_type": "execute_result"
    }
   ],
   "source": [
    "[Utils.save_data(f, t, \"parquet\") for t, f in zip(parquet_files, data_frames)]"
   ]
  },
  {
   "cell_type": "markdown",
   "metadata": {},
   "source": [
    "#### Read the Parquet features back into a Spark DataFrame"
   ]
  },
  {
   "cell_type": "code",
   "execution_count": 22,
   "metadata": {},
   "outputs": [
    {
     "name": "stdout",
     "output_type": "stream",
     "text": [
      "Parquet DataFrame: data/weather_forecast_features_parquet\n",
      "+--------------+------------------+-----------------+------------------+-----------------+------------------+-------------+------------------+-----------------+-------------+---------+-------------------+--------------------+\n",
      "|year_month_day|    temperature_00|wind_direction_00|     wind_speed_00|   temperature_08| wind_direction_08|wind_speed_08|    temperature_16|wind_direction_16|wind_speed_16|    power|           datetime|             created|\n",
      "+--------------+------------------+-----------------+------------------+-----------------+------------------+-------------+------------------+-----------------+-------------+---------+-------------------+--------------------+\n",
      "|    2020-05-23|5.8407705307006825|         258.7054|3.1650392999999997|8.923618189493816|223.65662000000003|    2.2269764|11.021574338277176|        276.32333|     7.281217|1632.3582|2020-05-23 00:00:00|2021-05-26 11:47:...|\n",
      "+--------------+------------------+-----------------+------------------+-----------------+------------------+-------------+------------------+-----------------+-------------+---------+-------------------+--------------------+\n",
      "only showing top 1 row\n",
      "\n",
      "StructType(List(StructField(year_month_day,StringType,true),StructField(temperature_00,DoubleType,true),StructField(wind_direction_00,DoubleType,true),StructField(wind_speed_00,DoubleType,true),StructField(temperature_08,DoubleType,true),StructField(wind_direction_08,DoubleType,true),StructField(wind_speed_08,DoubleType,true),StructField(temperature_16,DoubleType,true),StructField(wind_direction_16,DoubleType,true),StructField(wind_speed_16,DoubleType,true),StructField(power,DoubleType,true),StructField(datetime,TimestampType,true),StructField(created,TimestampType,true)))\n",
      "Parquet DataFrame: data/serve_weather_forecast_features_parquet\n",
      "+--------------+----------------+-----------------+-------------+-----------------+------------------+------------------+-----------------+------------------+-------------+---------+-------------------+--------------------+\n",
      "|year_month_day|  temperature_00|wind_direction_00|wind_speed_00|   temperature_08| wind_direction_08|     wind_speed_08|   temperature_16| wind_direction_16|wind_speed_16|    power|           datetime|             created|\n",
      "+--------------+----------------+-----------------+-------------+-----------------+------------------+------------------+-----------------+------------------+-------------+---------+-------------------+--------------------+\n",
      "|    2020-12-30|8.06903266906737|       103.169685|     9.983466|7.930485343933108|106.04551000000001|6.3815555999999996|8.228901418050112|111.60216000000001|    4.0873585|3667.9927|2020-12-30 00:00:00|2021-05-26 11:47:...|\n",
      "+--------------+----------------+-----------------+-------------+-----------------+------------------+------------------+-----------------+------------------+-------------+---------+-------------------+--------------------+\n",
      "only showing top 1 row\n",
      "\n",
      "StructType(List(StructField(year_month_day,StringType,true),StructField(temperature_00,DoubleType,true),StructField(wind_direction_00,DoubleType,true),StructField(wind_speed_00,DoubleType,true),StructField(temperature_08,DoubleType,true),StructField(wind_direction_08,DoubleType,true),StructField(wind_speed_08,DoubleType,true),StructField(temperature_16,DoubleType,true),StructField(wind_direction_16,DoubleType,true),StructField(wind_speed_16,DoubleType,true),StructField(power,DoubleType,true),StructField(datetime,TimestampType,true),StructField(created,TimestampType,true)))\n"
     ]
    }
   ],
   "source": [
    "for t in parquet_files:\n",
    "    df = Utils.read_data(spark, t, \"parquet\")\n",
    "    print(\"Parquet DataFrame: {}\".format(t))\n",
    "    df.show(1)\n",
    "    print(df.schema)"
   ]
  },
  {
   "cell_type": "code",
   "execution_count": null,
   "metadata": {},
   "outputs": [],
   "source": []
  }
 ],
 "metadata": {
  "kernelspec": {
   "display_name": "Python 3",
   "language": "python",
   "name": "python3"
  },
  "language_info": {
   "codemirror_mode": {
    "name": "ipython",
    "version": 3
   },
   "file_extension": ".py",
   "mimetype": "text/x-python",
   "name": "python",
   "nbconvert_exporter": "python",
   "pygments_lexer": "ipython3",
   "version": "3.8.10"
  }
 },
 "nbformat": 4,
 "nbformat_minor": 4
}
