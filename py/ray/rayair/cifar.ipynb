{
 "cells": [
  {
   "cell_type": "markdown",
   "metadata": {},
   "source": [
    "## The CIFAR-10 dataset for classification\n",
    "\n",
    "The CIFAR-10 dataset consists of 60,000 32x32 colour images in 10 classes, with 6000 images per class. There are 50000 training images and 10000 test images.\n",
    "\n",
    "The dataset is divided into five training batches and one test batch, each with 10000 images. The test batch contains exactly 1000 randomly-selected images from each class. The training batches contain the remaining images in random order, but some training batches may contain more images from one class than another. Between them, the training batches contain exactly 5000 images from each class.\n",
    "\n",
    "Here are the classes in the dataset, as well as 10 random images from each:\n",
    "\n",
    "<img src=\"images/cfifar-10.png\" width=\"40%\" height=\"20%\">\n",
    "\n",
    "[Cifar-10 source](https://www.cs.toronto.edu/~kriz/cifar.html)"
   ]
  },
  {
   "cell_type": "code",
   "execution_count": 30,
   "metadata": {},
   "outputs": [],
   "source": [
    "import ray\n",
    "\n",
    "from ray import serve\n",
    "from ray.serve import PredictorDeployment\n",
    "from ray.data.datasource import SimpleTorchDatasource\n",
    "import air_utils as aut\n",
    "\n",
    "from ray.train.torch import TorchTrainer\n",
    "from ray.air.config import ScalingConfig\n",
    "\n",
    "from ray.train.torch import TorchPredictor\n",
    "from ray.train.batch_predictor import BatchPredictor\n",
    "\n",
    "import torch\n",
    "import numpy as np\n",
    "import pandas as pd\n",
    "import requests"
   ]
  },
  {
   "cell_type": "markdown",
   "metadata": {},
   "source": [
    "### Step 1. Fetch Data"
   ]
  },
  {
   "cell_type": "code",
   "execution_count": 31,
   "metadata": {},
   "outputs": [
    {
     "name": "stderr",
     "output_type": "stream",
     "text": [
      "2022-10-03 19:11:21,640\tWARNING read_api.py:295 -- ⚠️  The number of blocks in this dataset (1) limits its parallelism to 1 concurrent tasks. This is much less than the number of available CPU slots in the cluster. Use `.repartition(n)` to increase the number of dataset blocks.\n",
      "\u001b[2m\u001b[36m(_get_read_tasks pid=79665)\u001b[0m 2022-10-03 19:11:21,638\tWARNING torch_datasource.py:55 -- `SimpleTorchDatasource` doesn't support parallel reads. The `parallelism` argument will be ignored.\n"
     ]
    },
    {
     "name": "stdout",
     "output_type": "stream",
     "text": [
      "\u001b[2m\u001b[36m(_execute_read_task pid=79665)\u001b[0m Files already downloaded and verified\n"
     ]
    },
    {
     "name": "stderr",
     "output_type": "stream",
     "text": [
      "2022-10-03 19:11:26,870\tWARNING read_api.py:295 -- ⚠️  The number of blocks in this dataset (1) limits its parallelism to 1 concurrent tasks. This is much less than the number of available CPU slots in the cluster. Use `.repartition(n)` to increase the number of dataset blocks.\n",
      "\u001b[2m\u001b[36m(_get_read_tasks pid=79665)\u001b[0m 2022-10-03 19:11:26,868\tWARNING torch_datasource.py:55 -- `SimpleTorchDatasource` doesn't support parallel reads. The `parallelism` argument will be ignored.\n"
     ]
    },
    {
     "name": "stdout",
     "output_type": "stream",
     "text": [
      "\u001b[2m\u001b[36m(_execute_read_task pid=79665)\u001b[0m Files already downloaded and verified\n"
     ]
    }
   ],
   "source": [
    "train_dataset: ray.data.Dataset = ray.data.read_datasource(SimpleTorchDatasource(), dataset_factory=aut.train_dataset_factory)\n",
    "test_dataset: ray.data.Dataset = ray.data.read_datasource(SimpleTorchDatasource(), dataset_factory=aut.test_dataset_factory)"
   ]
  },
  {
   "cell_type": "code",
   "execution_count": 32,
   "metadata": {},
   "outputs": [
    {
     "name": "stdout",
     "output_type": "stream",
     "text": [
      "\u001b[2m\u001b[36m(_map_block_nosplit pid=79665)\u001b[0m Files already downloaded and verified\n",
      "\u001b[2m\u001b[36m(_map_block_nosplit pid=79665)\u001b[0m Files already downloaded and verified\n"
     ]
    }
   ],
   "source": [
    "train_dataset = train_dataset.repartition(4)\n",
    "test_dataset = test_dataset.repartition(2)"
   ]
  },
  {
   "cell_type": "code",
   "execution_count": 33,
   "metadata": {},
   "outputs": [
    {
     "name": "stdout",
     "output_type": "stream",
     "text": [
      "Dataset(num_blocks=4, num_rows=50000, schema=<class 'tuple'>)\n"
     ]
    }
   ],
   "source": [
    "print(train_dataset)"
   ]
  },
  {
   "cell_type": "markdown",
   "metadata": {},
   "source": [
    "### Step 2: Create a preprocessor to transform data\n",
    "* Transform data into Pandas DataFrame\n",
    "* Convert training and testing datasets into Panda DataFrame\n",
    "* Use dataset map_batches to convert "
   ]
  },
  {
   "cell_type": "code",
   "execution_count": 38,
   "metadata": {},
   "outputs": [
    {
     "ename": "AttributeError",
     "evalue": "module 'air_utils' has no attribute 'convert_batch_to_pandas'",
     "output_type": "error",
     "traceback": [
      "\u001b[0;31m---------------------------------------------------------------------------\u001b[0m",
      "\u001b[0;31mAttributeError\u001b[0m                            Traceback (most recent call last)",
      "Cell \u001b[0;32mIn [38], line 1\u001b[0m\n\u001b[0;32m----> 1\u001b[0m train_dataset \u001b[38;5;241m=\u001b[39m train_dataset\u001b[38;5;241m.\u001b[39mmap_batches(aut\u001b[38;5;241m.\u001b[39mconvert_batch_to_pandas)\n\u001b[1;32m      2\u001b[0m test_dataset \u001b[38;5;241m=\u001b[39m test_dataset\u001b[38;5;241m.\u001b[39mmap_batches(aut\u001b[38;5;241m.\u001b[39mconvert_batch_to_pandas)\n",
      "\u001b[0;31mAttributeError\u001b[0m: module 'air_utils' has no attribute 'convert_batch_to_pandas'"
     ]
    }
   ],
   "source": [
    "train_dataset = train_dataset.map_batches(aut.convert_batch_to_pandas)\n",
    "test_dataset = test_dataset.map_batches(aut.convert_batch_to_pandas)"
   ]
  },
  {
   "cell_type": "markdown",
   "metadata": {},
   "source": [
    "### Step 3: Train using Ray AIR's TorchTrainer\n",
    "\n",
    "We will use a batch_size of 5, 50 epochs, scale to 5 workers.\n",
    "Ray AIR TorchTrainer automatically creates `Checkpoint` objects. Fetch the last\n",
    "checkpoint."
   ]
  },
  {
   "cell_type": "code",
   "execution_count": 18,
   "metadata": {},
   "outputs": [
    {
     "data": {
      "text/html": [
       "<div class=\"tuneStatus\">\n",
       "  <div style=\"display: flex;flex-direction: row\">\n",
       "    <div style=\"display: flex;flex-direction: column;\">\n",
       "      <h3>Tune Status</h3>\n",
       "      <table>\n",
       "<tbody>\n",
       "<tr><td>Current time:</td><td>2022-10-03 10:05:33</td></tr>\n",
       "<tr><td>Running for: </td><td>00:00:09.84        </td></tr>\n",
       "<tr><td>Memory:      </td><td>21.8/64.0 GiB      </td></tr>\n",
       "</tbody>\n",
       "</table>\n",
       "    </div>\n",
       "    <div class=\"vDivider\"></div>\n",
       "    <div class=\"systemInfo\">\n",
       "      <h3>System Info</h3>\n",
       "      Using FIFO scheduling algorithm.<br>Resources requested: 0/10 CPUs, 0/0 GPUs, 0.0/38.15 GiB heap, 0.0/2.0 GiB objects\n",
       "    </div>\n",
       "    <div class=\"vDivider\"></div>\n",
       "<div class=\"messages\">\n",
       "  <h3>Messages</h3>\n",
       "  \n",
       "  \n",
       "  Number of errored trials: 1<br><table>\n",
       "<thead>\n",
       "<tr><th>Trial name              </th><th style=\"text-align: right;\">  # failures</th><th>error file                                                                                                        </th></tr>\n",
       "</thead>\n",
       "<tbody>\n",
       "<tr><td>TorchTrainer_91d72_00000</td><td style=\"text-align: right;\">           1</td><td>/Users/jules/ray_results/TorchTrainer_2022-10-03_10-05-23/TorchTrainer_91d72_00000_0_2022-10-03_10-05-23/error.txt</td></tr>\n",
       "</tbody>\n",
       "</table>\n",
       "</div>\n",
       "<style>\n",
       ".messages {\n",
       "  color: var(--jp-ui-font-color1);\n",
       "  display: flex;\n",
       "  flex-direction: column;\n",
       "  padding-left: 1em;\n",
       "  overflow-y: auto;\n",
       "}\n",
       ".messages h3 {\n",
       "  font-weight: bold;\n",
       "}\n",
       ".vDivider {\n",
       "  border-left-width: var(--jp-border-width);\n",
       "  border-left-color: var(--jp-border-color0);\n",
       "  border-left-style: solid;\n",
       "  margin: 0.5em 1em 0.5em 1em;\n",
       "}\n",
       "</style>\n",
       "\n",
       "  </div>\n",
       "  <div class=\"hDivider\"></div>\n",
       "  <div class=\"trialStatus\">\n",
       "    <h3>Trial Status</h3>\n",
       "    <table>\n",
       "<thead>\n",
       "<tr><th>Trial name              </th><th>status  </th><th>loc            </th></tr>\n",
       "</thead>\n",
       "<tbody>\n",
       "<tr><td>TorchTrainer_91d72_00000</td><td>ERROR   </td><td>127.0.0.1:40483</td></tr>\n",
       "</tbody>\n",
       "</table>\n",
       "  </div>\n",
       "</div>\n",
       "<style>\n",
       ".tuneStatus {\n",
       "  color: var(--jp-ui-font-color1);\n",
       "}\n",
       ".tuneStatus .systemInfo {\n",
       "  display: flex;\n",
       "  flex-direction: column;\n",
       "}\n",
       ".tuneStatus td {\n",
       "  white-space: nowrap;\n",
       "}\n",
       ".tuneStatus .trialStatus {\n",
       "  display: flex;\n",
       "  flex-direction: column;\n",
       "}\n",
       ".tuneStatus h3 {\n",
       "  font-weight: bold;\n",
       "}\n",
       ".tuneStatus .hDivider {\n",
       "  border-bottom-width: var(--jp-border-width);\n",
       "  border-bottom-color: var(--jp-border-color0);\n",
       "  border-bottom-style: solid;\n",
       "}\n",
       ".tuneStatus .vDivider {\n",
       "  border-left-width: var(--jp-border-width);\n",
       "  border-left-color: var(--jp-border-color0);\n",
       "  border-left-style: solid;\n",
       "  margin: 0.5em 1em 0.5em 1em;\n",
       "}\n",
       "</style>\n"
      ],
      "text/plain": [
       "<IPython.core.display.HTML object>"
      ]
     },
     "metadata": {},
     "output_type": "display_data"
    },
    {
     "name": "stderr",
     "output_type": "stream",
     "text": [
      "\u001b[2m\u001b[36m(RayTrainWorker pid=40491)\u001b[0m 2022-10-03 10:05:27,082\tINFO config.py:86 -- Setting up process group for: env:// [rank=0, world_size=5]\n",
      "\u001b[2m\u001b[36m(RayTrainWorker pid=40492)\u001b[0m [W ProcessGroupGloo.cpp:715] Warning: Unable to resolve hostname to a (local) address. Using the loopback address as fallback. Manually set the network interface to bind to with GLOO_SOCKET_IFNAME. (function operator())\n",
      "\u001b[2m\u001b[36m(RayTrainWorker pid=40493)\u001b[0m [W ProcessGroupGloo.cpp:715] Warning: Unable to resolve hostname to a (local) address. Using the loopback address as fallback. Manually set the network interface to bind to with GLOO_SOCKET_IFNAME. (function operator())\n",
      "\u001b[2m\u001b[36m(RayTrainWorker pid=40494)\u001b[0m [W ProcessGroupGloo.cpp:715] Warning: Unable to resolve hostname to a (local) address. Using the loopback address as fallback. Manually set the network interface to bind to with GLOO_SOCKET_IFNAME. (function operator())\n",
      "\u001b[2m\u001b[36m(RayTrainWorker pid=40491)\u001b[0m [W ProcessGroupGloo.cpp:715] Warning: Unable to resolve hostname to a (local) address. Using the loopback address as fallback. Manually set the network interface to bind to with GLOO_SOCKET_IFNAME. (function operator())\n",
      "\u001b[2m\u001b[36m(RayTrainWorker pid=40495)\u001b[0m [W ProcessGroupGloo.cpp:715] Warning: Unable to resolve hostname to a (local) address. Using the loopback address as fallback. Manually set the network interface to bind to with GLOO_SOCKET_IFNAME. (function operator())\n",
      "\u001b[2m\u001b[36m(RayTrainWorker pid=40491)\u001b[0m 2022-10-03 10:05:31,859\tINFO train_loop_utils.py:354 -- Moving model to device: cpu\n",
      "\u001b[2m\u001b[36m(RayTrainWorker pid=40491)\u001b[0m 2022-10-03 10:05:31,860\tINFO train_loop_utils.py:418 -- Wrapping provided model in DistributedDataParallel.\n",
      "2022-10-03 10:05:33,557\tERROR trial_runner.py:990 -- Trial TorchTrainer_91d72_00000: Error processing event.\n",
      "ray.exceptions.RayTaskError(TypeError): \u001b[36mray::_Inner.train()\u001b[39m (pid=40483, ip=127.0.0.1, repr=TorchTrainer)\n",
      "  File \"/Users/jules/git-repos/ray/python/ray/tune/trainable/trainable.py\", line 353, in train\n",
      "    raise skip_exceptions(e) from None\n",
      "  File \"/Users/jules/git-repos/ray/python/ray/train/_internal/utils.py\", line 54, in check_for_failure\n",
      "    ray.get(object_ref)\n",
      "ray.exceptions.RayTaskError(TypeError): \u001b[36mray::RayTrainWorker._RayTrainWorker__execute()\u001b[39m (pid=40492, ip=127.0.0.1, repr=<ray.train._internal.worker_group.RayTrainWorker object at 0x10b9a75e0>)\n",
      "  File \"/Users/jules/git-repos/ray/python/ray/train/_internal/worker_group.py\", line 30, in __execute\n",
      "    raise skip_exceptions(e) from None\n",
      "  File \"/Users/jules/git-repos/ray/python/ray/train/_internal/utils.py\", line 129, in discard_return_wrapper\n",
      "    train_func(*args, **kwargs)\n",
      "  File \"/Users/jules/git-repos/misc-code/py/ray/rayair/air_utils.py\", line 114, in train_loop_per_worker\n",
      "    for i, data in enumerate(train_dataset_shard):\n",
      "  File \"/Users/jules/git-repos/ray/python/ray/data/dataset.py\", line 2525, in iter_torch_batches\n",
      "    yield convert_ndarray_batch_to_torch_tensor_batch(\n",
      "  File \"/Users/jules/git-repos/ray/python/ray/air/_internal/torch_utils.py\", line 166, in convert_ndarray_batch_to_torch_tensor_batch\n",
      "    batch = {\n",
      "  File \"/Users/jules/git-repos/ray/python/ray/air/_internal/torch_utils.py\", line 167, in <dictcomp>\n",
      "    col_name: convert_ndarray_to_torch_tensor(\n",
      "  File \"/Users/jules/git-repos/ray/python/ray/air/_internal/torch_utils.py\", line 135, in convert_ndarray_to_torch_tensor\n",
      "    return torch.as_tensor(ndarray, dtype=dtype, device=device)\n",
      "TypeError: can't convert np.ndarray of type numpy.object_. The only supported types are: float64, float32, float16, complex64, complex128, int64, int32, int16, int8, uint8, and bool.\n"
     ]
    },
    {
     "data": {
      "text/html": [
       "<div class=\"trialProgress\">\n",
       "  <h3>Trial Progress</h3>\n",
       "  <table>\n",
       "<thead>\n",
       "<tr><th>Trial name              </th><th>date               </th><th>experiment_id                   </th><th>hostname             </th><th>node_ip  </th><th style=\"text-align: right;\">  pid</th><th style=\"text-align: right;\">  timestamp</th><th>trial_id   </th></tr>\n",
       "</thead>\n",
       "<tbody>\n",
       "<tr><td>TorchTrainer_91d72_00000</td><td>2022-10-03_10-05-25</td><td>6d72facd017341e1bb9b4d2bbdb22d4f</td><td>Juless-MacBook-Pro-16</td><td>127.0.0.1</td><td style=\"text-align: right;\">40483</td><td style=\"text-align: right;\"> 1664816725</td><td>91d72_00000</td></tr>\n",
       "</tbody>\n",
       "</table>\n",
       "</div>\n",
       "<style>\n",
       ".trialProgress {\n",
       "  display: flex;\n",
       "  flex-direction: column;\n",
       "  color: var(--jp-ui-font-color1);\n",
       "}\n",
       ".trialProgress h3 {\n",
       "  font-weight: bold;\n",
       "}\n",
       ".trialProgress td {\n",
       "  white-space: nowrap;\n",
       "}\n",
       "</style>\n"
      ],
      "text/plain": [
       "<IPython.core.display.HTML object>"
      ]
     },
     "metadata": {},
     "output_type": "display_data"
    },
    {
     "name": "stderr",
     "output_type": "stream",
     "text": [
      "2022-10-03 10:05:33,669\tERROR tune.py:758 -- Trials did not complete: [TorchTrainer_91d72_00000]\n",
      "2022-10-03 10:05:33,669\tINFO tune.py:762 -- Total run time: 9.95 seconds (9.84 seconds for the tuning loop).\n"
     ]
    },
    {
     "ename": "RayTaskError(TypeError)",
     "evalue": "\u001b[36mray::_Inner.train()\u001b[39m (pid=40483, ip=127.0.0.1, repr=TorchTrainer)\n  File \"/Users/jules/git-repos/ray/python/ray/tune/trainable/trainable.py\", line 353, in train\n    raise skip_exceptions(e) from None\n  File \"/Users/jules/git-repos/ray/python/ray/train/_internal/utils.py\", line 54, in check_for_failure\n    ray.get(object_ref)\nray.exceptions.RayTaskError(TypeError): \u001b[36mray::RayTrainWorker._RayTrainWorker__execute()\u001b[39m (pid=40492, ip=127.0.0.1, repr=<ray.train._internal.worker_group.RayTrainWorker object at 0x10b9a75e0>)\n  File \"/Users/jules/git-repos/ray/python/ray/train/_internal/worker_group.py\", line 30, in __execute\n    raise skip_exceptions(e) from None\n  File \"/Users/jules/git-repos/ray/python/ray/train/_internal/utils.py\", line 129, in discard_return_wrapper\n    train_func(*args, **kwargs)\n  File \"/Users/jules/git-repos/misc-code/py/ray/rayair/air_utils.py\", line 114, in train_loop_per_worker\n    for i, data in enumerate(train_dataset_shard):\n  File \"/Users/jules/git-repos/ray/python/ray/data/dataset.py\", line 2525, in iter_torch_batches\n    yield convert_ndarray_batch_to_torch_tensor_batch(\n  File \"/Users/jules/git-repos/ray/python/ray/air/_internal/torch_utils.py\", line 166, in convert_ndarray_batch_to_torch_tensor_batch\n    batch = {\n  File \"/Users/jules/git-repos/ray/python/ray/air/_internal/torch_utils.py\", line 167, in <dictcomp>\n    col_name: convert_ndarray_to_torch_tensor(\n  File \"/Users/jules/git-repos/ray/python/ray/air/_internal/torch_utils.py\", line 135, in convert_ndarray_to_torch_tensor\n    return torch.as_tensor(ndarray, dtype=dtype, device=device)\nTypeError: can't convert np.ndarray of type numpy.object_. The only supported types are: float64, float32, float16, complex64, complex128, int64, int32, int16, int8, uint8, and bool.",
     "output_type": "error",
     "traceback": [
      "\u001b[0;31m---------------------------------------------------------------------------\u001b[0m",
      "\u001b[0;31mRayTaskError(TypeError)\u001b[0m                   Traceback (most recent call last)",
      "Cell \u001b[0;32mIn [18], line 8\u001b[0m\n\u001b[1;32m      1\u001b[0m trainer \u001b[38;5;241m=\u001b[39m TorchTrainer(\n\u001b[1;32m      2\u001b[0m         train_loop_per_worker\u001b[38;5;241m=\u001b[39maut\u001b[38;5;241m.\u001b[39mtrain_loop_per_worker,\n\u001b[1;32m      3\u001b[0m         train_loop_config\u001b[38;5;241m=\u001b[39m{\u001b[38;5;124m\"\u001b[39m\u001b[38;5;124mbatch_size\u001b[39m\u001b[38;5;124m\"\u001b[39m: \u001b[38;5;241m4\u001b[39m, \u001b[38;5;124m\"\u001b[39m\u001b[38;5;124mepochs\u001b[39m\u001b[38;5;124m\"\u001b[39m: \u001b[38;5;241m50\u001b[39m},\n\u001b[1;32m      4\u001b[0m         datasets\u001b[38;5;241m=\u001b[39m{\u001b[38;5;124m\"\u001b[39m\u001b[38;5;124mtrain\u001b[39m\u001b[38;5;124m\"\u001b[39m: train_dataset},\n\u001b[1;32m      5\u001b[0m         scaling_config\u001b[38;5;241m=\u001b[39mScalingConfig(num_workers\u001b[38;5;241m=\u001b[39m\u001b[38;5;241m5\u001b[39m) \u001b[38;5;66;03m# try mulitples of 2, 4, 6, 8\u001b[39;00m\n\u001b[1;32m      6\u001b[0m     )\n\u001b[0;32m----> 8\u001b[0m result \u001b[38;5;241m=\u001b[39m trainer\u001b[38;5;241m.\u001b[39mfit()\n\u001b[1;32m      9\u001b[0m latest_checkpoint \u001b[38;5;241m=\u001b[39m result\u001b[38;5;241m.\u001b[39mcheckpoint\n",
      "File \u001b[0;32m~/git-repos/ray/python/ray/train/base_trainer.py:360\u001b[0m, in \u001b[0;36mBaseTrainer.fit\u001b[0;34m(self)\u001b[0m\n\u001b[1;32m    358\u001b[0m     result \u001b[39m=\u001b[39m result_grid[\u001b[39m0\u001b[39m]\n\u001b[1;32m    359\u001b[0m     \u001b[39mif\u001b[39;00m result\u001b[39m.\u001b[39merror:\n\u001b[0;32m--> 360\u001b[0m         \u001b[39mraise\u001b[39;00m result\u001b[39m.\u001b[39merror\n\u001b[1;32m    361\u001b[0m \u001b[39mexcept\u001b[39;00m TuneError \u001b[39mas\u001b[39;00m e:\n\u001b[1;32m    362\u001b[0m     \u001b[39mraise\u001b[39;00m TrainingFailedError \u001b[39mfrom\u001b[39;00m \u001b[39me\u001b[39;00m\n",
      "\u001b[0;31mRayTaskError(TypeError)\u001b[0m: \u001b[36mray::_Inner.train()\u001b[39m (pid=40483, ip=127.0.0.1, repr=TorchTrainer)\n  File \"/Users/jules/git-repos/ray/python/ray/tune/trainable/trainable.py\", line 353, in train\n    raise skip_exceptions(e) from None\n  File \"/Users/jules/git-repos/ray/python/ray/train/_internal/utils.py\", line 54, in check_for_failure\n    ray.get(object_ref)\nray.exceptions.RayTaskError(TypeError): \u001b[36mray::RayTrainWorker._RayTrainWorker__execute()\u001b[39m (pid=40492, ip=127.0.0.1, repr=<ray.train._internal.worker_group.RayTrainWorker object at 0x10b9a75e0>)\n  File \"/Users/jules/git-repos/ray/python/ray/train/_internal/worker_group.py\", line 30, in __execute\n    raise skip_exceptions(e) from None\n  File \"/Users/jules/git-repos/ray/python/ray/train/_internal/utils.py\", line 129, in discard_return_wrapper\n    train_func(*args, **kwargs)\n  File \"/Users/jules/git-repos/misc-code/py/ray/rayair/air_utils.py\", line 114, in train_loop_per_worker\n    for i, data in enumerate(train_dataset_shard):\n  File \"/Users/jules/git-repos/ray/python/ray/data/dataset.py\", line 2525, in iter_torch_batches\n    yield convert_ndarray_batch_to_torch_tensor_batch(\n  File \"/Users/jules/git-repos/ray/python/ray/air/_internal/torch_utils.py\", line 166, in convert_ndarray_batch_to_torch_tensor_batch\n    batch = {\n  File \"/Users/jules/git-repos/ray/python/ray/air/_internal/torch_utils.py\", line 167, in <dictcomp>\n    col_name: convert_ndarray_to_torch_tensor(\n  File \"/Users/jules/git-repos/ray/python/ray/air/_internal/torch_utils.py\", line 135, in convert_ndarray_to_torch_tensor\n    return torch.as_tensor(ndarray, dtype=dtype, device=device)\nTypeError: can't convert np.ndarray of type numpy.object_. The only supported types are: float64, float32, float16, complex64, complex128, int64, int32, int16, int8, uint8, and bool."
     ]
    }
   ],
   "source": [
    "trainer = TorchTrainer(\n",
    "        train_loop_per_worker=aut.train_loop_per_worker,\n",
    "        train_loop_config={\"batch_size\": 4, \"epochs\": 50},\n",
    "        datasets={\"train\": train_dataset},\n",
    "        scaling_config=ScalingConfig(num_workers=5) # try mulitples of 2, 4, 6, 8\n",
    "    )\n",
    "\n",
    "result = trainer.fit()\n",
    "latest_checkpoint = result.checkpoint"
   ]
  },
  {
   "cell_type": "markdown",
   "metadata": {},
   "source": [
    "### Step 5: Use `TorchPredictor` using the `Checkpoint` object\n",
    "\n",
    "* Test our model with TorchPredictor using the Checkpoint object.\n",
    "* Fetch the best_checkpoint from the lastest checkpoint. \n",
    "* Use batch predictor to test the entire batch in one go"
   ]
  },
  {
   "cell_type": "code",
   "execution_count": 24,
   "metadata": {},
   "outputs": [
    {
     "name": "stderr",
     "output_type": "stream",
     "text": [
      "Map_Batches: 100%|██████████| 1/1 [00:00<00:00, 12.84it/s]\n",
      "Map Progress (1 actors 1 pending):   0%|          | 0/1 [00:01<?, ?it/s]\u001b[2m\u001b[36m(BlockWorker pid=95364)\u001b[0m /Users/jules/git-repos/ray/python/ray/air/util/data_batch_conversion.py:158: SettingWithCopyWarning: \n",
      "\u001b[2m\u001b[36m(BlockWorker pid=95364)\u001b[0m A value is trying to be set on a copy of a slice from a DataFrame.\n",
      "\u001b[2m\u001b[36m(BlockWorker pid=95364)\u001b[0m Try using .loc[row_indexer,col_indexer] = value instead\n",
      "\u001b[2m\u001b[36m(BlockWorker pid=95364)\u001b[0m \n",
      "\u001b[2m\u001b[36m(BlockWorker pid=95364)\u001b[0m See the caveats in the documentation: https://pandas.pydata.org/pandas-docs/stable/user_guide/indexing.html#returning-a-view-versus-a-copy\n",
      "\u001b[2m\u001b[36m(BlockWorker pid=95364)\u001b[0m   df.loc[:, col_name] = TensorArray(col)\n",
      "\u001b[2m\u001b[36m(BlockWorker pid=95364)\u001b[0m /Users/jules/git-repos/ray/python/ray/air/util/data_batch_conversion.py:158: SettingWithCopyWarning: \n",
      "\u001b[2m\u001b[36m(BlockWorker pid=95364)\u001b[0m A value is trying to be set on a copy of a slice from a DataFrame.\n",
      "\u001b[2m\u001b[36m(BlockWorker pid=95364)\u001b[0m Try using .loc[row_indexer,col_indexer] = value instead\n",
      "\u001b[2m\u001b[36m(BlockWorker pid=95364)\u001b[0m \n",
      "\u001b[2m\u001b[36m(BlockWorker pid=95364)\u001b[0m See the caveats in the documentation: https://pandas.pydata.org/pandas-docs/stable/user_guide/indexing.html#returning-a-view-versus-a-copy\n",
      "\u001b[2m\u001b[36m(BlockWorker pid=95364)\u001b[0m   df.loc[:, col_name] = TensorArray(col)\n",
      "Map Progress (1 actors 1 pending): 100%|██████████| 1/1 [00:01<00:00,  1.76s/it]\n"
     ]
    }
   ],
   "source": [
    "predict_dataset = test_dataset.drop_columns(cols=[\"label\"])\n",
    "batch_predictor = BatchPredictor.from_checkpoint(\n",
    "    checkpoint=latest_checkpoint,\n",
    "    predictor_cls=TorchPredictor,\n",
    "    model=Net()\n",
    "    )\n",
    "\n",
    "output: ray.data.Dataset = batch_predictor.predict(\n",
    "        data=test_dataset, dtype=torch.float, \n",
    "        feature_columns=[\"image\"], \n",
    "        keep_columns=[\"label\"]\n",
    "    )"
   ]
  },
  {
   "cell_type": "code",
   "execution_count": 25,
   "metadata": {},
   "outputs": [
    {
     "name": "stderr",
     "output_type": "stream",
     "text": [
      "\u001b[2m\u001b[36m(BlockWorker pid=95364)\u001b[0m /Users/jules/git-repos/ray/python/ray/air/util/data_batch_conversion.py:158: SettingWithCopyWarning: \n",
      "\u001b[2m\u001b[36m(BlockWorker pid=95364)\u001b[0m A value is trying to be set on a copy of a slice from a DataFrame.\n",
      "\u001b[2m\u001b[36m(BlockWorker pid=95364)\u001b[0m Try using .loc[row_indexer,col_indexer] = value instead\n",
      "\u001b[2m\u001b[36m(BlockWorker pid=95364)\u001b[0m \n",
      "\u001b[2m\u001b[36m(BlockWorker pid=95364)\u001b[0m See the caveats in the documentation: https://pandas.pydata.org/pandas-docs/stable/user_guide/indexing.html#returning-a-view-versus-a-copy\n",
      "\u001b[2m\u001b[36m(BlockWorker pid=95364)\u001b[0m   df.loc[:, col_name] = TensorArray(col)\n",
      "Map_Batches: 100%|██████████| 1/1 [00:00<00:00, 51.90it/s]\n",
      "Map_Batches: 100%|██████████| 1/1 [00:00<00:00, 96.06it/s]\n",
      "Shuffle Map: 100%|██████████| 1/1 [00:00<00:00, 219.68it/s]\n",
      "Shuffle Reduce: 100%|██████████| 1/1 [00:00<00:00, 350.61it/s]"
     ]
    },
    {
     "name": "stdout",
     "output_type": "stream",
     "text": [
      "Prediction accuracy from the test data of 10,000 images: 0.43\n"
     ]
    },
    {
     "name": "stderr",
     "output_type": "stream",
     "text": [
      "\n"
     ]
    }
   ],
   "source": [
    "# get the predictions\n",
    "predictions = output.map_batches(aut.convert_logits_to_classes, batch_format=\"pandas\")\n",
    "\n",
    "# Get all predictions for test_dataset \n",
    "scores = predictions.map_batches(aut.calculate_prediction_scores)\n",
    "\n",
    "# compute total prediction accuracy. That is all predictions equal to ground truth\n",
    "# That is, predictated accurately.\n",
    "total_acc = scores.sum(on=\"correct\") / scores.count()\n",
    "print(f\"Prediction accuracy from the test data of 10,000 images: {total_acc:.2f}\")"
   ]
  },
  {
   "cell_type": "markdown",
   "metadata": {},
   "source": [
    "### Step 6: Online prediction\n",
    " * Deploy our model to the network for online prediction\n",
    " * Use `TorchPredictor` and `PredictorDeployment` APIs\n",
    " * Start a Ray serve in detached mode\n",
    " \n",
    " This will automatically deploy the model from the lastest checkpoint. You can adjist num of replicas in the options\n",
    " "
   ]
  },
  {
   "cell_type": "code",
   "execution_count": 26,
   "metadata": {},
   "outputs": [
    {
     "name": "stderr",
     "output_type": "stream",
     "text": [
      "\u001b[2m\u001b[36m(ServeController pid=95368)\u001b[0m INFO 2022-10-02 09:56:56,944 controller 95368 http_state.py:129 - Starting HTTP proxy with name 'SERVE_CONTROLLER_ACTOR:SERVE_PROXY_ACTOR-2497ddca0c5b238506672461aa754059e210eb0578066a6a4a6765f6' on node '2497ddca0c5b238506672461aa754059e210eb0578066a6a4a6765f6' listening on '127.0.0.1:8000'\n",
      "\u001b[2m\u001b[36m(ServeController pid=95368)\u001b[0m INFO 2022-10-02 09:56:57,587 controller 95368 deployment_state.py:1277 - Adding 2 replicas to deployment 'cifar-deployment'.\n",
      "\u001b[2m\u001b[36m(HTTPProxyActor pid=95370)\u001b[0m INFO:     Started server process [95370]\n"
     ]
    }
   ],
   "source": [
    "serve.start(detached=True)\n",
    "deployment = PredictorDeployment.options(name=\"cifar-deployment\", num_replicas=2)\n",
    "deployment.deploy(TorchPredictor, latest_checkpoint, batching_params=False, model=aut.Net(), http_adapter=aut.json_to_numpy)"
   ]
  },
  {
   "cell_type": "markdown",
   "metadata": {},
   "source": [
    "### Test online prediction from the test data"
   ]
  },
  {
   "cell_type": "code",
   "execution_count": 27,
   "metadata": {},
   "outputs": [
    {
     "name": "stderr",
     "output_type": "stream",
     "text": [
      "\u001b[2m\u001b[36m(HTTPProxyActor pid=95370)\u001b[0m INFO 2022-10-02 09:56:59,567 http_proxy 127.0.0.1 http_proxy.py:315 - POST /cifar-deployment 307 3.3ms\n",
      "\u001b[2m\u001b[36m(HTTPProxyActor pid=95370)\u001b[0m INFO 2022-10-02 09:56:59,579 http_proxy 127.0.0.1 http_proxy.py:315 - POST /cifar-deployment 200 10.6ms\n",
      "\u001b[2m\u001b[36m(ServeReplica:cifar-deployment pid=95372)\u001b[0m INFO 2022-10-02 09:56:59,567 cifar-deployment cifar-deployment#CiPXfl replica.py:505 - HANDLE __call__ OK 0.2ms\n",
      "\u001b[2m\u001b[36m(ServeReplica:cifar-deployment pid=95373)\u001b[0m INFO 2022-10-02 09:56:59,578 cifar-deployment cifar-deployment#KqBNYG replica.py:505 - HANDLE __call__ OK 7.4ms\n"
     ]
    },
    {
     "data": {
      "image/png": "[encoded data removed]",
      "text/plain": [
       "<Figure size 432x288 with 1 Axes>"
      ]
     },
     "metadata": {
      "needs_background": "light"
     },
     "output_type": "display_data"
    },
    {
     "name": "stdout",
     "output_type": "stream",
     "text": [
      "prediction: 6; class: frog; matched: False\n"
     ]
    },
    {
     "data": {
      "image/png": "[encoded data removed]",
      "text/plain": [
       "<Figure size 432x288 with 1 Axes>"
      ]
     },
     "metadata": {
      "needs_background": "light"
     },
     "output_type": "display_data"
    },
    {
     "name": "stdout",
     "output_type": "stream",
     "text": [
      "prediction: 8; class: ship; matched: True\n"
     ]
    },
    {
     "name": "stderr",
     "output_type": "stream",
     "text": [
      "\u001b[2m\u001b[36m(HTTPProxyActor pid=95370)\u001b[0m INFO 2022-10-02 09:56:59,628 http_proxy 127.0.0.1 http_proxy.py:315 - POST /cifar-deployment 307 2.0ms\n",
      "\u001b[2m\u001b[36m(HTTPProxyActor pid=95370)\u001b[0m INFO 2022-10-02 09:56:59,635 http_proxy 127.0.0.1 http_proxy.py:315 - POST /cifar-deployment 200 5.4ms\n",
      "\u001b[2m\u001b[36m(HTTPProxyActor pid=95370)\u001b[0m INFO 2022-10-02 09:56:59,678 http_proxy 127.0.0.1 http_proxy.py:315 - POST /cifar-deployment 307 1.8ms\n",
      "\u001b[2m\u001b[36m(HTTPProxyActor pid=95370)\u001b[0m INFO 2022-10-02 09:56:59,684 http_proxy 127.0.0.1 http_proxy.py:315 - POST /cifar-deployment 200 5.3ms\n",
      "\u001b[2m\u001b[36m(ServeReplica:cifar-deployment pid=95372)\u001b[0m INFO 2022-10-02 09:56:59,627 cifar-deployment cifar-deployment#CiPXfl replica.py:505 - HANDLE __call__ OK 0.2ms\n",
      "\u001b[2m\u001b[36m(ServeReplica:cifar-deployment pid=95372)\u001b[0m INFO 2022-10-02 09:56:59,677 cifar-deployment cifar-deployment#CiPXfl replica.py:505 - HANDLE __call__ OK 0.1ms\n",
      "\u001b[2m\u001b[36m(ServeReplica:cifar-deployment pid=95373)\u001b[0m INFO 2022-10-02 09:56:59,634 cifar-deployment cifar-deployment#KqBNYG replica.py:505 - HANDLE __call__ OK 3.8ms\n",
      "\u001b[2m\u001b[36m(ServeReplica:cifar-deployment pid=95373)\u001b[0m INFO 2022-10-02 09:56:59,683 cifar-deployment cifar-deployment#KqBNYG replica.py:505 - HANDLE __call__ OK 3.8ms\n"
     ]
    },
    {
     "data": {
      "image/png": "[encoded data removed]",
      "text/plain": [
       "<Figure size 432x288 with 1 Axes>"
      ]
     },
     "metadata": {
      "needs_background": "light"
     },
     "output_type": "display_data"
    },
    {
     "name": "stdout",
     "output_type": "stream",
     "text": [
      "prediction: 1; class: car; matched: False\n"
     ]
    },
    {
     "data": {
      "image/png": "[encoded data removed]",
      "text/plain": [
       "<Figure size 432x288 with 1 Axes>"
      ]
     },
     "metadata": {
      "needs_background": "light"
     },
     "output_type": "display_data"
    },
    {
     "name": "stdout",
     "output_type": "stream",
     "text": [
      "prediction: 8; class: ship; matched: False\n"
     ]
    },
    {
     "name": "stderr",
     "output_type": "stream",
     "text": [
      "\u001b[2m\u001b[36m(HTTPProxyActor pid=95370)\u001b[0m INFO 2022-10-02 09:56:59,728 http_proxy 127.0.0.1 http_proxy.py:315 - POST /cifar-deployment 307 1.7ms\n",
      "\u001b[2m\u001b[36m(HTTPProxyActor pid=95370)\u001b[0m INFO 2022-10-02 09:56:59,735 http_proxy 127.0.0.1 http_proxy.py:315 - POST /cifar-deployment 200 5.7ms\n",
      "\u001b[2m\u001b[36m(HTTPProxyActor pid=95370)\u001b[0m INFO 2022-10-02 09:56:59,777 http_proxy 127.0.0.1 http_proxy.py:315 - POST /cifar-deployment 307 1.9ms\n",
      "\u001b[2m\u001b[36m(HTTPProxyActor pid=95370)\u001b[0m INFO 2022-10-02 09:56:59,784 http_proxy 127.0.0.1 http_proxy.py:315 - POST /cifar-deployment 200 5.6ms\n",
      "\u001b[2m\u001b[36m(ServeReplica:cifar-deployment pid=95372)\u001b[0m INFO 2022-10-02 09:56:59,727 cifar-deployment cifar-deployment#CiPXfl replica.py:505 - HANDLE __call__ OK 0.1ms\n",
      "\u001b[2m\u001b[36m(ServeReplica:cifar-deployment pid=95372)\u001b[0m INFO 2022-10-02 09:56:59,777 cifar-deployment cifar-deployment#CiPXfl replica.py:505 - HANDLE __call__ OK 0.1ms\n",
      "\u001b[2m\u001b[36m(ServeReplica:cifar-deployment pid=95373)\u001b[0m INFO 2022-10-02 09:56:59,734 cifar-deployment cifar-deployment#KqBNYG replica.py:505 - HANDLE __call__ OK 4.2ms\n",
      "\u001b[2m\u001b[36m(ServeReplica:cifar-deployment pid=95373)\u001b[0m INFO 2022-10-02 09:56:59,783 cifar-deployment cifar-deployment#KqBNYG replica.py:505 - HANDLE __call__ OK 3.9ms\n"
     ]
    },
    {
     "data": {
      "image/png": "[encoded data removed]",
      "text/plain": [
       "<Figure size 432x288 with 1 Axes>"
      ]
     },
     "metadata": {
      "needs_background": "light"
     },
     "output_type": "display_data"
    },
    {
     "name": "stdout",
     "output_type": "stream",
     "text": [
      "prediction: 4; class: deer; matched: False\n"
     ]
    }
   ],
   "source": [
    "# Test online deployment\n",
    "batch = test_dataset.take(10)\n",
    "for i in range(5):\n",
    "    array = np.expand_dims(np.array(batch[i][\"image\"]), axis=0)\n",
    "    label = np.array(batch[i][\"label\"])\n",
    "    # send request and fetch prediction\n",
    "    payload  = {\"array\": array.tolist()}\n",
    "    response = requests.post(deployment.url, json=payload)\n",
    "    result = response.json()[0]\n",
    "    idx, cls = aut.to_prediction_cls(result)\n",
    "    matched = idx == label\n",
    "    aut.img_show(batch[i][\"image\"])\n",
    "    print(f\"prediction: {idx}; class: {cls}; matched: {matched}\")"
   ]
  },
  {
   "cell_type": "code",
   "execution_count": 28,
   "metadata": {},
   "outputs": [
    {
     "name": "stderr",
     "output_type": "stream",
     "text": [
      "\u001b[2m\u001b[36m(ServeController pid=95368)\u001b[0m INFO 2022-10-02 09:56:59,851 controller 95368 deployment_state.py:1303 - Removing 2 replicas from deployment 'cifar-deployment'.\n"
     ]
    }
   ],
   "source": [
    "serve.shutdown()"
   ]
  },
  {
   "cell_type": "markdown",
   "metadata": {},
   "source": []
  }
 ],
 "metadata": {
  "kernelspec": {
   "display_name": "Python 3.8.13 ('ray-build-master')",
   "language": "python",
   "name": "python3"
  },
  "language_info": {
   "codemirror_mode": {
    "name": "ipython",
    "version": 3
   },
   "file_extension": ".py",
   "mimetype": "text/x-python",
   "name": "python",
   "nbconvert_exporter": "python",
   "pygments_lexer": "ipython3",
   "version": "3.8.13"
  },
  "orig_nbformat": 4,
  "vscode": {
   "interpreter": {
    "hash": "2706dab362c94031065b1e6b4ba35ae246b1d7f08f9a1709d5e0cd568b23fcbf"
   }
  }
 },
 "nbformat": 4,
 "nbformat_minor": 2
}
