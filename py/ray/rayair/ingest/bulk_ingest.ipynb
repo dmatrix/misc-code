{
 "cells": [
  {
   "cell_type": "code",
   "id": "1a640f10-7dd3-43cc-a4b5-5d1105c098c3",
   "metadata": {},
   "outputs": [],
   "source": [
    "import ray\n",
    "import random\n",
    "import numpy as np\n",
    "from ray.air import session, Checkpoint\n",
    "from ray.air import DatasetConfig\n",
    "from ray.data import Dataset\n",
    "from ray.train.torch import TorchTrainer"
   ]
  },
  {
   "cell_type": "code",

   "id": "f308554e-8809-407e-ac7d-411fba1e9c93",
   "metadata": {},
   "outputs": [],
   "source": [
    "# our dummy model function\n",
    "\n",
    "def train_loop():\n",
    "    # By default, bulk loading is used and returns a Dataset object.\n",
    "    data_shard: Dataset = session.get_dataset_shard(\"train\")\n",
    "    acc = 0.0\n",
    "    # Manually iterate over the data 10 times (10 epochs).\n",
    "    for epoch in range(1, 11):\n",
    "        # for each epoch iterate over batches\n",
    "        num_batches = 0\n",
    "        for batch in data_shard.iter_batches():\n",
    "            num_batches += 1\n",
    "            batch_acc = model(batch)\n",
    "            acc += batch_acc\n",
    "        acc /= num_batches * 100\n",
    "        if epoch % 2 == 0:\n",
    "            print(f\"Doing some training on epoch: {epoch} for batches: {num_batches} and acc over batch: {acc:.3f}\")\n",
    "        session.report({\"acc\": acc, \"epoch\": epoch}, \n",
    "                       checkpoint=Checkpoint.from_dict({\"acc\": acc, \"epoch\": epoch}))\n",
    "    # View the stats for performance debugging.\n",
    "    # print(data_shard.stats())"
   ]
  },
  {
   "cell_type": "code",
   "id": "67079f56-913a-428f-ad20-c0f52a21da6a",
   "metadata": {},
   "outputs": [
    {

       "<thead>\n",
       "<tr><th>Trial name              </th><th>status    </th><th>loc            </th><th style=\"text-align: right;\">  iter</th><th style=\"text-align: right;\">  total time (s)</th><th style=\"text-align: right;\">    acc</th><th style=\"text-align: right;\">  epoch</th><th style=\"text-align: right;\">  _timestamp</th></tr>\n",
       "</thead>\n",
       "<tbody>\n",
       "</tbody>\n",
       "</table><br><br>"
      ],
      "text/plain": [
       "<IPython.core.display.HTML object>"
      ]
     },
     "metadata": {},
     "output_type": "display_data"
    },
    {
     "name": "stderr",
     "output_type": "stream",
     "text": [

     ",
      "  _timestamp: 1659465366\n",
      "  _training_iteration: 10\n",
      "  date: 2022-08-02_11-36-06\n",
      "  done: true\n",
      "  epoch: 10\n",
      "  experiment_id: 0b5e8d1f4c664af09090c1ac797f0a9a\n",
      "  experiment_tag: '0'\n",
      "  hostname: Juless-MacBook-Pro-16\n",
      "  iterations_since_restore: 10\n",
      "  loss: 0.16706173291039794\n",
      "  node_ip: 127.0.0.1\n",
      "  pid: 62493\n",
      "  should_checkpoint: true\n",
      "  time_since_restore: 2.7026162147521973\n",
      "  time_this_iter_s: 0.04789304733276367\n",
      "  time_total_s: 2.7026162147521973\n",
      "  timestamp: 1659465366\n",
      "  timesteps_since_restore: 0\n",
      "  training_iteration: 10\n",
      "  trial_id: f5fe9_00000\n",
      "  warmup_time: 0.002975940704345703\n",

    }
   ],
   "source": [
    "# Create our TorchTrainer\n",
    "from ray.air.config import ScalingConfig\n",
    "\n",
    "train_ds = ray.data.range_tensor(1000)\n",
    "trainer = TorchTrainer(train_loop,\n",
    "                       scaling_config= ScalingConfig(num_workers=1),\n",
    "                       datasets={\"train\": train_ds},\n",
    "                      )\n",
    "result = trainer.fit()"
   ]
  },
  {
   "cell_type": "code",
   "execution_count": 44,
   "id": "dcd2eaa2-d148-4dec-91f9-1da442629766",
   "metadata": {},
   "outputs": [
    {
     "name": "stdout",
     "output_type": "stream",
     "text": [
      "{'acc': 0.41710975545740375, 'epoch': 10, '_timestamp': 1659415990, '_time_this_iter_s': 0.03656911849975586, '_training_iteration': 10, 'time_this_iter_s': 0.03725695610046387, 'should_checkpoint': True, 'done': True, 'timesteps_total': None, 'episodes_total': None, 'training_iteration': 10, 'trial_id': '001a7_00000', 'experiment_id': 'b248eb6a2b1f4b1ca3a31d250d7e919c', 'date': '2022-08-01_21-53-10', 'timestamp': 1659415990, 'time_total_s': 2.2715229988098145, 'pid': 31687, 'hostname': 'Juless-MacBook-Pro-16', 'node_ip': '127.0.0.1', 'config': {}, 'time_since_restore': 2.2715229988098145, 'timesteps_since_restore': 0, 'iterations_since_restore': 10, 'warmup_time': 0.0032911300659179688, 'experiment_tag': '0'}\n"
     ]
    }
   ],
   "source": [
    "print(result.metrics)"
   ]
  },
  {
   "cell_type": "code",
   "execution_count": 45,
   "id": "e91eecd5-ca8c-4d25-b4ca-7a8ffa779dae",
   "metadata": {},
   "outputs": [
    {
     "data": {
      "text/plain": [
       "0.41710975545740375"
      ]
     },
     "execution_count": 45,
     "metadata": {},
     "output_type": "execute_result"
    }
   ],
   "source": [
    "result.metrics[\"acc\"]"
   ]
  },
  {
   "cell_type": "code",
   "execution_count": 46,
   "id": "8777432a-eb46-4552-9dba-3152d99c921e",
   "metadata": {},
   "outputs": [
    {
     "data": {
      "text/plain": [
       "0.41710975545740375"
      ]
     },
     "execution_count": 46,
     "metadata": {},
     "output_type": "execute_result"
    }
   ],
   "source": [
    "result.checkpoint.to_dict()['acc']"
   ]
  }
 ],
 "metadata": {
  "kernelspec": {
   "display_name": "Python 3 (ipykernel)",
   "language": "python",
   "name": "python3"
  },
  "language_info": {
   "codemirror_mode": {
    "name": "ipython",
    "version": 3
   },
   "file_extension": ".py",
   "mimetype": "text/x-python",
   "name": "python",
   "nbconvert_exporter": "python",
   "pygments_lexer": "ipython3",
   "version": "3.8.13"
  },
  "vscode": {
   "interpreter": {
    "hash": "0f9baa705f095037670b11d47114911b546aeb3e0a8b56407edb208eea715d47"
   }
  }
 },
 "nbformat": 4,
 "nbformat_minor": 5
}
