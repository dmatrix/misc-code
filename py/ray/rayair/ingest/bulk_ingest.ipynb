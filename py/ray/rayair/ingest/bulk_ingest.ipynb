{
 "cells": [
  {
   "cell_type": "code",
   "execution_count": 10,
   "id": "1a640f10-7dd3-43cc-a4b5-5d1105c098c3",
   "metadata": {},
   "outputs": [],
   "source": [
    "import ray\n",
    "import numpy as np\n",
    "from ray.air import session, Checkpoint\n",
    "from ray.data import Dataset\n",
    "from ray.train.torch import TorchTrainer\n",
    "from ingest_utils import model"
   ]
  },
  {
   "cell_type": "code",
   "execution_count": 11,
   "id": "f308554e-8809-407e-ac7d-411fba1e9c93",
   "metadata": {},
   "outputs": [],
   "source": [
    "# our dummy model function\n",
    "\n",
    "# def model(batch):\n",
    "#     return len(batch) * 0.1 * random.uniform(0,1)\n",
    "\n",
    "def train_loop():\n",
    "    # By default, bulk loading is used and returns a Dataset object.\n",
    "    data_shard: Dataset = session.get_dataset_shard(\"train\")\n",
    "    acc = 0.0\n",
    "    # Manually iterate over the data 10 times (10 epochs).\n",
    "    for epoch in range(1, 11):\n",
    "        # for each epoch iterate over batches\n",
    "        num_batches = 0\n",
    "        for batch in data_shard.iter_batches():\n",
    "            num_batches += 1\n",
    "            batch_acc = model(batch)\n",
    "            acc += batch_acc\n",
    "        acc /= num_batches * 100\n",
    "        if epoch % 2 == 0:\n",
    "            print(f\"Doing some training on epoch: {epoch} for batches: {num_batches} and acc over batch: {acc:.3f}\")\n",
    "        session.report({\"acc\": acc, \"epoch\": epoch}, \n",
    "                       checkpoint=Checkpoint.from_dict({\"acc\": acc, \"epoch\": epoch}))\n",
    "    # View the stats for performance debugging.\n",
    "    # print(data_shard.stats())"
   ]
  },
  {
   "cell_type": "code",
   "execution_count": 12,
   "id": "67079f56-913a-428f-ad20-c0f52a21da6a",
   "metadata": {},
   "outputs": [
    {
     "data": {
      "text/html": [
       "== Status ==<br>Current time: 2022-08-02 12:00:22 (running for 00:00:04.09)<br>Memory usage on this node: 18.2/64.0 GiB<br>Using FIFO scheduling algorithm.<br>Resources requested: 0/10 CPUs, 0/0 GPUs, 0.0/41.03 GiB heap, 0.0/2.0 GiB objects<br>Result logdir: /Users/jules/ray_results/TorchTrainer_2022-08-02_12-00-18<br>Number of trials: 1/1 (1 TERMINATED)<br><table>\n",
       "<thead>\n",
       "<tr><th>Trial name              </th><th>status    </th><th>loc            </th><th style=\"text-align: right;\">  iter</th><th style=\"text-align: right;\">  total time (s)</th><th style=\"text-align: right;\">     acc</th><th style=\"text-align: right;\">  epoch</th><th style=\"text-align: right;\">  _timestamp</th></tr>\n",
       "</thead>\n",
       "<tbody>\n",
       "<tr><td>TorchTrainer_5a002_00000</td><td>TERMINATED</td><td>127.0.0.1:68051</td><td style=\"text-align: right;\">    10</td><td style=\"text-align: right;\">          2.5264</td><td style=\"text-align: right;\">0.414789</td><td style=\"text-align: right;\">     10</td><td style=\"text-align: right;\">  1659466822</td></tr>\n",
       "</tbody>\n",
       "</table><br><br>"
      ],
      "text/plain": [
       "<IPython.core.display.HTML object>"
      ]
     },
     "metadata": {},
     "output_type": "display_data"
    },
    {
     "name": "stderr",
     "output_type": "stream",
     "text": [
      "\u001b[2m\u001b[36m(RayTrainWorker pid=68058)\u001b[0m 2022-08-02 12:00:21,105\tINFO config.py:71 -- Setting up process group for: env:// [rank=0, world_size=1]\n",
      "\u001b[2m\u001b[36m(RayTrainWorker pid=68058)\u001b[0m [W ProcessGroupGloo.cpp:715] Warning: Unable to resolve hostname to a (local) address. Using the loopback address as fallback. Manually set the network interface to bind to with GLOO_SOCKET_IFNAME. (function operator())\n"
     ]
    },
    {
     "name": "stdout",
     "output_type": "stream",
     "text": [
      "Result for TorchTrainer_5a002_00000:\n",
      "  _time_this_iter_s: 0.06127190589904785\n",
      "  _timestamp: 1659466822\n",
      "  _training_iteration: 1\n",
      "  acc: 0.43601966983402657\n",
      "  date: 2022-08-02_12-00-22\n",
      "  done: false\n",
      "  epoch: 1\n",
      "  experiment_id: d73907bde308438e88c6fe8f10759325\n",
      "  hostname: Juless-MacBook-Pro-16\n",
      "  iterations_since_restore: 1\n",
      "  node_ip: 127.0.0.1\n",
      "  pid: 68051\n",
      "  should_checkpoint: true\n",
      "  time_since_restore: 2.1793737411499023\n",
      "  time_this_iter_s: 2.1793737411499023\n",
      "  time_total_s: 2.1793737411499023\n",
      "  timestamp: 1659466822\n",
      "  timesteps_since_restore: 0\n",
      "  training_iteration: 1\n",
      "  trial_id: 5a002_00000\n",
      "  warmup_time: 0.003217935562133789\n",
      "  \n",
      "\u001b[2m\u001b[36m(RayTrainWorker pid=68058)\u001b[0m Doing some training on epoch: 2 for batches: 4 and acc over batch: 0.430\n",
      "\u001b[2m\u001b[36m(RayTrainWorker pid=68058)\u001b[0m Doing some training on epoch: 4 for batches: 4 and acc over batch: 0.402\n",
      "\u001b[2m\u001b[36m(RayTrainWorker pid=68058)\u001b[0m Doing some training on epoch: 6 for batches: 4 and acc over batch: 0.410\n",
      "\u001b[2m\u001b[36m(RayTrainWorker pid=68058)\u001b[0m Doing some training on epoch: 8 for batches: 4 and acc over batch: 0.426\n",
      "\u001b[2m\u001b[36m(RayTrainWorker pid=68058)\u001b[0m Doing some training on epoch: 10 for batches: 4 and acc over batch: 0.415\n",
      "Result for TorchTrainer_5a002_00000:\n",
      "  _time_this_iter_s: 0.038574934005737305\n",
      "  _timestamp: 1659466822\n",
      "  _training_iteration: 10\n",
      "  acc: 0.41478898122963925\n",
      "  date: 2022-08-02_12-00-22\n",
      "  done: true\n",
      "  epoch: 10\n",
      "  experiment_id: d73907bde308438e88c6fe8f10759325\n",
      "  experiment_tag: '0'\n",
      "  hostname: Juless-MacBook-Pro-16\n",
      "  iterations_since_restore: 10\n",
      "  node_ip: 127.0.0.1\n",
      "  pid: 68051\n",
      "  should_checkpoint: true\n",
      "  time_since_restore: 2.5263969898223877\n",
      "  time_this_iter_s: 0.03709101676940918\n",
      "  time_total_s: 2.5263969898223877\n",
      "  timestamp: 1659466822\n",
      "  timesteps_since_restore: 0\n",
      "  training_iteration: 10\n",
      "  trial_id: 5a002_00000\n",
      "  warmup_time: 0.003217935562133789\n",
      "  \n"
     ]
    },
    {
     "name": "stderr",
     "output_type": "stream",
     "text": [
      "2022-08-02 12:00:22,969\tINFO tune.py:758 -- Total run time: 4.20 seconds (4.09 seconds for the tuning loop).\n"
     ]
    }
   ],
   "source": [
    "# Create our TorchTrainer\n",
    "from ray.air.config import ScalingConfig\n",
    "\n",
    "train_ds = ray.data.range_tensor(1000)\n",
    "trainer = TorchTrainer(train_loop,\n",
    "                       scaling_config= ScalingConfig(num_workers=1),\n",
    "                       datasets={\"train\": train_ds},\n",
    "                      )"
   ]
  },
  {
   "cell_type": "code",
   "execution_count": null,
   "id": "17110727",
   "metadata": {},
   "outputs": [],
   "source": [
    "result = trainer.fit()"
   ]
  },
  {
   "cell_type": "code",
   "execution_count": 13,
   "id": "dcd2eaa2-d148-4dec-91f9-1da442629766",
   "metadata": {},
   "outputs": [
    {
     "name": "stdout",
     "output_type": "stream",
     "text": [
      "{'acc': 0.41478898122963925, 'epoch': 10, '_timestamp': 1659466822, '_time_this_iter_s': 0.038574934005737305, '_training_iteration': 10, 'time_this_iter_s': 0.03709101676940918, 'should_checkpoint': True, 'done': True, 'timesteps_total': None, 'episodes_total': None, 'training_iteration': 10, 'trial_id': '5a002_00000', 'experiment_id': 'd73907bde308438e88c6fe8f10759325', 'date': '2022-08-02_12-00-22', 'timestamp': 1659466822, 'time_total_s': 2.5263969898223877, 'pid': 68051, 'hostname': 'Juless-MacBook-Pro-16', 'node_ip': '127.0.0.1', 'config': {}, 'time_since_restore': 2.5263969898223877, 'timesteps_since_restore': 0, 'iterations_since_restore': 10, 'warmup_time': 0.003217935562133789, 'experiment_tag': '0'}\n"
     ]
    }
   ],
   "source": [
    "print(result.metrics)"
   ]
  },
  {
   "cell_type": "code",
   "execution_count": 14,
   "id": "e91eecd5-ca8c-4d25-b4ca-7a8ffa779dae",
   "metadata": {},
   "outputs": [
    {
     "data": {
      "text/plain": [
       "0.41478898122963925"
      ]
     },
     "execution_count": 14,
     "metadata": {},
     "output_type": "execute_result"
    }
   ],
   "source": [
    "result.metrics[\"acc\"]"
   ]
  },
  {
   "cell_type": "code",
   "execution_count": 15,
   "id": "8777432a-eb46-4552-9dba-3152d99c921e",
   "metadata": {},
   "outputs": [
    {
     "data": {
      "text/plain": [
       "0.41478898122963925"
      ]
     },
     "execution_count": 15,
     "metadata": {},
     "output_type": "execute_result"
    }
   ],
   "source": [
    "result.checkpoint.to_dict()['acc']"
   ]
  }
 ],
 "metadata": {
  "kernelspec": {
   "display_name": "Python 3 (ipykernel)",
   "language": "python",
   "name": "python3"
  },
  "language_info": {
   "codemirror_mode": {
    "name": "ipython",
    "version": 3
   },
   "file_extension": ".py",
   "mimetype": "text/x-python",
   "name": "python",
   "nbconvert_exporter": "python",
   "pygments_lexer": "ipython3",
   "version": "3.8.13"
  },
  "vscode": {
   "interpreter": {
    "hash": "0f9baa705f095037670b11d47114911b546aeb3e0a8b56407edb208eea715d47"
   }
  }
 },
 "nbformat": 4,
 "nbformat_minor": 5
}
