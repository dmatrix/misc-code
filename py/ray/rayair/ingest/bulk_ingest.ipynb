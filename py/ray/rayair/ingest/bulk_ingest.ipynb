{
 "cells": [
  {
   "cell_type": "code",
   "execution_count": 1,
   "id": "1a640f10-7dd3-43cc-a4b5-5d1105c098c3",
   "metadata": {},
   "outputs": [],
   "source": [
    "import ray\n",
    "import random\n",
    "from ray.air import session, Checkpoint\n",
    "from ray.air import DatasetConfig\n",
    "from ray.data import Dataset\n",
    "from ray.train.torch import TorchTrainer"
   ]
  },
  {
   "cell_type": "code",
   "execution_count": 2,
   "id": "f308554e-8809-407e-ac7d-411fba1e9c93",
   "metadata": {},
   "outputs": [],
   "source": [
    "# our dummy model function\n",
    "def model(batch):\n",
    "    return len(batch) * 0.1 * random.uniform(0,1)\n",
    "\n",
    "def train_loop():\n",
    "    # By default, bulk loading is used and returns a Dataset object.\n",
    "    data_shard: Dataset = session.get_dataset_shard(\"train\")\n",
    "    loss = 0.0\n",
    "    # Manually iterate over the data 10 times (10 epochs).\n",
    "    for epoch in range(1, 11):\n",
    "        # for each epoch iterate over batches\n",
    "        num_batches = 0\n",
    "        for batch in data_shard.iter_batches():\n",
    "            num_batches += 1\n",
    "            batch_loss = model(batch)\n",
    "            loss += batch_loss\n",
    "        loss /= num_batches * 100\n",
    "        if epoch % 2 == 0:\n",
    "            print(f\"Doing some training on epoch: {epoch} for batches: {num_batches} and loss over batch: {loss:.3f}\")\n",
    "        session.report({\"loss\": loss, \"epoch\": epoch}, \n",
    "                       checkpoint=Checkpoint.from_dict({\"loss\": loss, \"epoch\": epoch}))\n",
    "    # View the stats for performance debugging.\n",
    "    print(data_shard.stats())"
   ]
  },
  {
   "cell_type": "code",
   "execution_count": 3,
   "id": "67079f56-913a-428f-ad20-c0f52a21da6a",
   "metadata": {},
   "outputs": [
    {
     "name": "stderr",
     "output_type": "stream",
     "text": [
      "2022-08-02 11:36:01,693\tINFO worker.py:1481 -- Started a local Ray instance. View the dashboard at \u001b[1m\u001b[32mhttp://127.0.0.1:8267\u001b[39m\u001b[22m.\n"
     ]
    },
    {
     "data": {
      "text/html": [
       "== Status ==<br>Current time: 2022-08-02 11:36:06 (running for 00:00:04.09)<br>Memory usage on this node: 21.4/64.0 GiB<br>Using FIFO scheduling algorithm.<br>Resources requested: 0/10 CPUs, 0/0 GPUs, 0.0/38.45 GiB heap, 0.0/2.0 GiB objects<br>Result logdir: /Users/jules/ray_results/TorchTrainer_2022-08-02_11-36-02<br>Number of trials: 1/1 (1 TERMINATED)<br><table>\n",
       "<thead>\n",
       "<tr><th>Trial name              </th><th>status    </th><th>loc            </th><th style=\"text-align: right;\">  iter</th><th style=\"text-align: right;\">  total time (s)</th><th style=\"text-align: right;\">    loss</th><th style=\"text-align: right;\">  epoch</th><th style=\"text-align: right;\">  _timestamp</th></tr>\n",
       "</thead>\n",
       "<tbody>\n",
       "<tr><td>TorchTrainer_f5fe9_00000</td><td>TERMINATED</td><td>127.0.0.1:62493</td><td style=\"text-align: right;\">    10</td><td style=\"text-align: right;\">         2.70262</td><td style=\"text-align: right;\">0.167062</td><td style=\"text-align: right;\">     10</td><td style=\"text-align: right;\">  1659465366</td></tr>\n",
       "</tbody>\n",
       "</table><br><br>"
      ],
      "text/plain": [
       "<IPython.core.display.HTML object>"
      ]
     },
     "metadata": {},
     "output_type": "display_data"
    },
    {
     "name": "stderr",
     "output_type": "stream",
     "text": [
      "\u001b[2m\u001b[36m(RayTrainWorker pid=62500)\u001b[0m 2022-08-02 11:36:04,858\tINFO config.py:71 -- Setting up process group for: env:// [rank=0, world_size=1]\n",
      "\u001b[2m\u001b[36m(RayTrainWorker pid=62500)\u001b[0m [W ProcessGroupGloo.cpp:715] Warning: Unable to resolve hostname to a (local) address. Using the loopback address as fallback. Manually set the network interface to bind to with GLOO_SOCKET_IFNAME. (function operator())\n"
     ]
    },
    {
     "name": "stdout",
     "output_type": "stream",
     "text": [
      "Result for TorchTrainer_f5fe9_00000:\n",
      "  _time_this_iter_s: 0.060938358306884766\n",
      "  _timestamp: 1659465366\n",
      "  _training_iteration: 1\n",
      "  date: 2022-08-02_11-36-06\n",
      "  done: false\n",
      "  epoch: 1\n",
      "  experiment_id: 0b5e8d1f4c664af09090c1ac797f0a9a\n",
      "  hostname: Juless-MacBook-Pro-16\n",
      "  iterations_since_restore: 1\n",
      "  loss: 0.12134055856052596\n",
      "  node_ip: 127.0.0.1\n",
      "  pid: 62493\n",
      "  should_checkpoint: true\n",
      "  time_since_restore: 2.3281710147857666\n",
      "  time_this_iter_s: 2.3281710147857666\n",
      "  time_total_s: 2.3281710147857666\n",
      "  timestamp: 1659465366\n",
      "  timesteps_since_restore: 0\n",
      "  training_iteration: 1\n",
      "  trial_id: f5fe9_00000\n",
      "  warmup_time: 0.002975940704345703\n",
      "  \n",
      "\u001b[2m\u001b[36m(RayTrainWorker pid=62500)\u001b[0m Doing some training on epoch: 2 for batches: 4 and loss over batch: 0.131\n",
      "\u001b[2m\u001b[36m(RayTrainWorker pid=62500)\u001b[0m Doing some training on epoch: 4 for batches: 4 and loss over batch: 0.096\n",
      "\u001b[2m\u001b[36m(RayTrainWorker pid=62500)\u001b[0m Doing some training on epoch: 6 for batches: 4 and loss over batch: 0.138\n",
      "\u001b[2m\u001b[36m(RayTrainWorker pid=62500)\u001b[0m Doing some training on epoch: 8 for batches: 4 and loss over batch: 0.096\n",
      "\u001b[2m\u001b[36m(RayTrainWorker pid=62500)\u001b[0m Doing some training on epoch: 10 for batches: 4 and loss over batch: 0.167\n",
      "\u001b[2m\u001b[36m(RayTrainWorker pid=62500)\u001b[0m Stage 1 read->randomize_block_order: 20/20 blocks executed in 1.17s\n",
      "\u001b[2m\u001b[36m(RayTrainWorker pid=62500)\u001b[0m * Remote wall time: 147.29us min, 114.32ms max, 41.57ms mean, 831.37ms total\n",
      "\u001b[2m\u001b[36m(RayTrainWorker pid=62500)\u001b[0m * Remote cpu time: 147.0us min, 105.31ms max, 38.72ms mean, 774.49ms total\n",
      "\u001b[2m\u001b[36m(RayTrainWorker pid=62500)\u001b[0m * Peak heap memory usage (MiB): 148619264000.0 min, 149553152000.0 max, 149057536000 mean\n",
      "\u001b[2m\u001b[36m(RayTrainWorker pid=62500)\u001b[0m * Output num rows: 50 min, 50 max, 50 mean, 1000 total\n",
      "\u001b[2m\u001b[36m(RayTrainWorker pid=62500)\u001b[0m * Output size bytes: 604 min, 604 max, 604 mean, 12080 total\n",
      "\u001b[2m\u001b[36m(RayTrainWorker pid=62500)\u001b[0m * Tasks per node: 20 min, 20 max, 20 mean; 1 nodes used\n",
      "\u001b[2m\u001b[36m(RayTrainWorker pid=62500)\u001b[0m \n",
      "\u001b[2m\u001b[36m(RayTrainWorker pid=62500)\u001b[0m Dataset iterator time breakdown:\n",
      "\u001b[2m\u001b[36m(RayTrainWorker pid=62500)\u001b[0m * In ray.wait(): 1.63ms\n",
      "\u001b[2m\u001b[36m(RayTrainWorker pid=62500)\u001b[0m * In ray.get(): 12.6ms\n",
      "\u001b[2m\u001b[36m(RayTrainWorker pid=62500)\u001b[0m * In next_batch(): 12.66ms\n",
      "\u001b[2m\u001b[36m(RayTrainWorker pid=62500)\u001b[0m * In format_batch(): 6.07ms\n",
      "\u001b[2m\u001b[36m(RayTrainWorker pid=62500)\u001b[0m * In user code: 109.34us\n",
      "\u001b[2m\u001b[36m(RayTrainWorker pid=62500)\u001b[0m * Total time: 91.33ms\n",
      "\u001b[2m\u001b[36m(RayTrainWorker pid=62500)\u001b[0m \n",
      "Result for TorchTrainer_f5fe9_00000:\n",
      "  _time_this_iter_s: 0.06293296813964844\n",
      "  _timestamp: 1659465366\n",
      "  _training_iteration: 10\n",
      "  date: 2022-08-02_11-36-06\n",
      "  done: true\n",
      "  epoch: 10\n",
      "  experiment_id: 0b5e8d1f4c664af09090c1ac797f0a9a\n",
      "  experiment_tag: '0'\n",
      "  hostname: Juless-MacBook-Pro-16\n",
      "  iterations_since_restore: 10\n",
      "  loss: 0.16706173291039794\n",
      "  node_ip: 127.0.0.1\n",
      "  pid: 62493\n",
      "  should_checkpoint: true\n",
      "  time_since_restore: 2.7026162147521973\n",
      "  time_this_iter_s: 0.04789304733276367\n",
      "  time_total_s: 2.7026162147521973\n",
      "  timestamp: 1659465366\n",
      "  timesteps_since_restore: 0\n",
      "  training_iteration: 10\n",
      "  trial_id: f5fe9_00000\n",
      "  warmup_time: 0.002975940704345703\n",
      "  \n"
     ]
    },
    {
     "name": "stderr",
     "output_type": "stream",
     "text": [
      "2022-08-02 11:36:06,750\tINFO tune.py:758 -- Total run time: 4.25 seconds (4.08 seconds for the tuning loop).\n"
     ]
    }
   ],
   "source": [
    "# Create our TorchTrainer\n",
    "from ray.air.config import ScalingConfig\n",
    "\n",
    "train_ds = ray.data.range_tensor(1000)\n",
    "trainer = TorchTrainer(train_loop,\n",
    "                       scaling_config= ScalingConfig(num_workers=1),\n",
    "                       datasets={\"train\": train_ds},\n",
    "                      )\n",
    "result = trainer.fit()"
   ]
  },
  {
   "cell_type": "code",
   "execution_count": 6,
   "id": "dcd2eaa2-d148-4dec-91f9-1da442629766",
   "metadata": {},
   "outputs": [
    {
     "name": "stdout",
     "output_type": "stream",
     "text": [
      "{'loss': 0.11696128050647575, 'epoch': 10, '_timestamp': 1659227860, '_time_this_iter_s': 0.03619694709777832, '_training_iteration': 10, 'time_this_iter_s': 0.03714895248413086, 'should_checkpoint': True, 'done': True, 'timesteps_total': None, 'episodes_total': None, 'training_iteration': 10, 'trial_id': 'f98f8_00000', 'experiment_id': '974e7749bd434876b92f52e09afd0c6c', 'date': '2022-07-30_17-37-40', 'timestamp': 1659227860, 'time_total_s': 2.3749780654907227, 'pid': 51580, 'hostname': 'Juless-MacBook-Pro-16', 'node_ip': '127.0.0.1', 'config': {}, 'time_since_restore': 2.3749780654907227, 'timesteps_since_restore': 0, 'iterations_since_restore': 10, 'warmup_time': 0.0033597946166992188, 'experiment_tag': '0'}\n"
     ]
    }
   ],
   "source": [
    "print(result.metrics)"
   ]
  },
  {
   "cell_type": "code",
   "execution_count": 7,
   "id": "e91eecd5-ca8c-4d25-b4ca-7a8ffa779dae",
   "metadata": {},
   "outputs": [
    {
     "data": {
      "text/plain": [
       "0.11696128050647575"
      ]
     },
     "execution_count": 7,
     "metadata": {},
     "output_type": "execute_result"
    }
   ],
   "source": [
    "result.metrics[\"loss\"]"
   ]
  },
  {
   "cell_type": "code",
   "execution_count": 8,
   "id": "8777432a-eb46-4552-9dba-3152d99c921e",
   "metadata": {},
   "outputs": [
    {
     "data": {
      "text/plain": [
       "0.11696128050647575"
      ]
     },
     "execution_count": 8,
     "metadata": {},
     "output_type": "execute_result"
    }
   ],
   "source": [
    "result.checkpoint.to_dict()['loss']"
   ]
  }
 ],
 "metadata": {
  "kernelspec": {
   "display_name": "Python 3 (ipykernel)",
   "language": "python",
   "name": "python3"
  },
  "language_info": {
   "codemirror_mode": {
    "name": "ipython",
    "version": 3
   },
   "file_extension": ".py",
   "mimetype": "text/x-python",
   "name": "python",
   "nbconvert_exporter": "python",
   "pygments_lexer": "ipython3",
   "version": "3.8.13"
  },
  "vscode": {
   "interpreter": {
    "hash": "0f9baa705f095037670b11d47114911b546aeb3e0a8b56407edb208eea715d47"
   }
  }
 },
 "nbformat": 4,
 "nbformat_minor": 5
}
