{
 "cells": [
  {
   "cell_type": "markdown",
   "metadata": {},
   "source": [
    "# NYC Taxi Example Playground\n",
    "***\n",
    "This is the notebook where Emmy tests out her NYC Taxi code before taking the cleaned up bits for the tutorial on Intro to Ray AIR."
   ]
  },
  {
   "cell_type": "code",
   "execution_count": 2,
   "metadata": {},
   "outputs": [
    {
     "name": "stderr",
     "output_type": "stream",
     "text": [
      "2022-10-24 18:08:02,427\tINFO worker.py:1509 -- Started a local Ray instance. View the dashboard at \u001b[1m\u001b[32mhttp://127.0.0.1:8265 \u001b[39m\u001b[22m\n"
     ]
    },
    {
     "data": {
      "text/html": [
       "<div>\n",
       "    <div style=\"margin-left: 50px;display: flex;flex-direction: row;align-items: center\">\n",
       "        <h3 style=\"color: var(--jp-ui-font-color0)\">Ray</h3>\n",
       "        <svg version=\"1.1\" id=\"ray\" width=\"3em\" viewBox=\"0 0 144.5 144.6\" style=\"margin-left: 3em;margin-right: 3em\">\n",
       "            <g id=\"layer-1\">\n",
       "                <path fill=\"#00a2e9\" class=\"st0\" d=\"M97.3,77.2c-3.8-1.1-6.2,0.9-8.3,5.1c-3.5,6.8-9.9,9.9-17.4,9.6S58,88.1,54.8,81.2c-1.4-3-3-4-6.3-4.1\n",
       "                    c-5.6-0.1-9.9,0.1-13.1,6.4c-3.8,7.6-13.6,10.2-21.8,7.6C5.2,88.4-0.4,80.5,0,71.7c0.1-8.4,5.7-15.8,13.8-18.2\n",
       "                    c8.4-2.6,17.5,0.7,22.3,8c1.3,1.9,1.3,5.2,3.6,5.6c3.9,0.6,8,0.2,12,0.2c1.8,0,1.9-1.6,2.4-2.8c3.5-7.8,9.7-11.8,18-11.9\n",
       "                    c8.2-0.1,14.4,3.9,17.8,11.4c1.3,2.8,2.9,3.6,5.7,3.3c1-0.1,2,0.1,3,0c2.8-0.5,6.4,1.7,8.1-2.7s-2.3-5.5-4.1-7.5\n",
       "                    c-5.1-5.7-10.9-10.8-16.1-16.3C84,38,81.9,37.1,78,38.3C66.7,42,56.2,35.7,53,24.1C50.3,14,57.3,2.8,67.7,0.5\n",
       "                    C78.4-2,89,4.7,91.5,15.3c0.1,0.3,0.1,0.5,0.2,0.8c0.7,3.4,0.7,6.9-0.8,9.8c-1.7,3.2-0.8,5,1.5,7.2c6.7,6.5,13.3,13,19.8,19.7\n",
       "                    c1.8,1.8,3,2.1,5.5,1.2c9.1-3.4,17.9-0.6,23.4,7c4.8,6.9,4.6,16.1-0.4,22.9c-5.4,7.2-14.2,9.9-23.1,6.5c-2.3-0.9-3.5-0.6-5.1,1.1\n",
       "                    c-6.7,6.9-13.6,13.7-20.5,20.4c-1.8,1.8-2.5,3.2-1.4,5.9c3.5,8.7,0.3,18.6-7.7,23.6c-7.9,5-18.2,3.8-24.8-2.9\n",
       "                    c-6.4-6.4-7.4-16.2-2.5-24.3c4.9-7.8,14.5-11,23.1-7.8c3,1.1,4.7,0.5,6.9-1.7C91.7,98.4,98,92.3,104.2,86c1.6-1.6,4.1-2.7,2.6-6.2\n",
       "                    c-1.4-3.3-3.8-2.5-6.2-2.6C99.8,77.2,98.9,77.2,97.3,77.2z M72.1,29.7c5.5,0.1,9.9-4.3,10-9.8c0-0.1,0-0.2,0-0.3\n",
       "                    C81.8,14,77,9.8,71.5,10.2c-5,0.3-9,4.2-9.3,9.2c-0.2,5.5,4,10.1,9.5,10.3C71.8,29.7,72,29.7,72.1,29.7z M72.3,62.3\n",
       "                    c-5.4-0.1-9.9,4.2-10.1,9.7c0,0.2,0,0.3,0,0.5c0.2,5.4,4.5,9.7,9.9,10c5.1,0.1,9.9-4.7,10.1-9.8c0.2-5.5-4-10-9.5-10.3\n",
       "                    C72.6,62.3,72.4,62.3,72.3,62.3z M115,72.5c0.1,5.4,4.5,9.7,9.8,9.9c5.6-0.2,10-4.8,10-10.4c-0.2-5.4-4.6-9.7-10-9.7\n",
       "                    c-5.3-0.1-9.8,4.2-9.9,9.5C115,72.1,115,72.3,115,72.5z M19.5,62.3c-5.4,0.1-9.8,4.4-10,9.8c-0.1,5.1,5.2,10.4,10.2,10.3\n",
       "                    c5.6-0.2,10-4.9,9.8-10.5c-0.1-5.4-4.5-9.7-9.9-9.6C19.6,62.3,19.5,62.3,19.5,62.3z M71.8,134.6c5.9,0.2,10.3-3.9,10.4-9.6\n",
       "                    c0.5-5.5-3.6-10.4-9.1-10.8c-5.5-0.5-10.4,3.6-10.8,9.1c0,0.5,0,0.9,0,1.4c-0.2,5.3,4,9.8,9.3,10\n",
       "                    C71.6,134.6,71.7,134.6,71.8,134.6z\"/>\n",
       "            </g>\n",
       "        </svg>\n",
       "        <table>\n",
       "            <tr>\n",
       "                <td style=\"text-align: left\"><b>Python version:</b></td>\n",
       "                <td style=\"text-align: left\"><b>3.8.13</b></td>\n",
       "            </tr>\n",
       "            <tr>\n",
       "                <td style=\"text-align: left\"><b>Ray version:</b></td>\n",
       "                <td style=\"text-align: left\"><b> 2.0.0</b></td>\n",
       "            </tr>\n",
       "            <tr>\n",
       "    <td style=\"text-align: left\"><b>Dashboard:</b></td>\n",
       "    <td style=\"text-align: left\"><b><a href=\"http://127.0.0.1:8265\" target=\"_blank\">http://127.0.0.1:8265</a></b></td>\n",
       "</tr>\n",
       "\n",
       "        </table>\n",
       "    </div>\n",
       "</div>\n"
      ],
      "text/plain": [
       "RayContext(dashboard_url='127.0.0.1:8265', python_version='3.8.13', ray_version='2.0.0', ray_commit='cba26cc83f6b5b8a2ff166594a65cb74c0ec8740', address_info={'node_ip_address': '127.0.0.1', 'raylet_ip_address': '127.0.0.1', 'redis_address': None, 'object_store_address': '/tmp/ray/session_2022-10-24_18-08-00_481669_64569/sockets/plasma_store', 'raylet_socket_name': '/tmp/ray/session_2022-10-24_18-08-00_481669_64569/sockets/raylet', 'webui_url': '127.0.0.1:8265', 'session_dir': '/tmp/ray/session_2022-10-24_18-08-00_481669_64569', 'metrics_export_port': 62108, 'gcs_address': '127.0.0.1:56619', 'address': '127.0.0.1:56619', 'dashboard_agent_listen_port': 52365, 'node_id': '0bbc014d5078238421b52ba4c6e843fe4d1361eb629633d22a0f2538'})"
      ]
     },
     "execution_count": 2,
     "metadata": {},
     "output_type": "execute_result"
    }
   ],
   "source": [
    "# import your packages\n",
    "import ray\n",
    "\n",
    "if ray.is_initialized:\n",
    "    ray.shutdown()\n",
    "\n",
    "ray.init()"
   ]
  },
  {
   "cell_type": "code",
   "execution_count": 3,
   "metadata": {},
   "outputs": [
    {
     "name": "stderr",
     "output_type": "stream",
     "text": [
      "2022-10-24 18:08:04,662\tWARNING read_api.py:291 -- ⚠️  The number of blocks in this dataset (1) limits its parallelism to 1 concurrent tasks. This is much less than the number of available CPU slots in the cluster. Use `.repartition(n)` to increase the number of dataset blocks.\n",
      "Read progress: 100%|█████████████████████████████████████████████████████████████████████████████████████████████████████████████████████████████████████████████████████████████████████████████████| 1/1 [00:00<00:00,  6.10it/s]\n",
      "Map_Batches: 100%|███████████████████████████████████████████████████████████████████████████████████████████████████████████████████████████████████████████████████████████████████████████████████| 1/1 [00:00<00:00,  4.00it/s]\n"
     ]
    }
   ],
   "source": [
    "# we use the June 2021 dataset for training and the June 2022 dataset for batch inference later\n",
    "dataset = ray.data.read_parquet(\"data/nyc_taxi_2021.parquet\")\n",
    "\n",
    "# split data into training and validation subsets\n",
    "train_dataset, valid_dataset = dataset.train_test_split(test_size=0.3)\n",
    "valid_dataset = valid_dataset.drop_columns([\"is_big_tip\"])\n",
    "\n",
    "# repartition the dataset for maximum parallelism\n",
    "# train_dataset.repartition(100)\n",
    "# valid_dataset.repartition(100)"
   ]
  },
  {
   "cell_type": "code",
   "execution_count": 4,
   "metadata": {},
   "outputs": [
    {
     "data": {
      "text/plain": [
       "[ArrowRow({'passenger_count': 1.0,\n",
       "           'trip_distance': 0.9,\n",
       "           'fare_amount': 5.0,\n",
       "           'trip_duration': 228,\n",
       "           'hour': 0,\n",
       "           'day_of_week': 1,\n",
       "           'is_big_tip': True,\n",
       "           '__index_level_0__': 0}),\n",
       " ArrowRow({'passenger_count': 1.0,\n",
       "           'trip_distance': 23.0,\n",
       "           'fare_amount': 61.5,\n",
       "           'trip_duration': 2081,\n",
       "           'hour': 0,\n",
       "           'day_of_week': 1,\n",
       "           'is_big_tip': False,\n",
       "           '__index_level_0__': 1})]"
      ]
     },
     "execution_count": 4,
     "metadata": {},
     "output_type": "execute_result"
    }
   ],
   "source": [
    "train_dataset.take(2)"
   ]
  },
  {
   "cell_type": "code",
   "execution_count": 5,
   "metadata": {},
   "outputs": [
    {
     "data": {
      "text/plain": [
       "[PandasRow({'passenger_count': 1.0,\n",
       "            'trip_distance': 1.2,\n",
       "            'fare_amount': 8.5,\n",
       "            'trip_duration': 611,\n",
       "            'hour': 12,\n",
       "            'day_of_week': 1}),\n",
       " PandasRow({'passenger_count': 1.0,\n",
       "            'trip_distance': 1.4,\n",
       "            'fare_amount': 6.5,\n",
       "            'trip_duration': 351,\n",
       "            'hour': 12,\n",
       "            'day_of_week': 1})]"
      ]
     },
     "execution_count": 5,
     "metadata": {},
     "output_type": "execute_result"
    }
   ],
   "source": [
    "valid_dataset.take(2)"
   ]
  },
  {
   "cell_type": "markdown",
   "metadata": {},
   "source": [
    "So something we might want to do is inspect both \"trip_distance\" and \"trip_duration\" to see if they're approximately normal, and if the StandardScaler is the right choice."
   ]
  },
  {
   "cell_type": "code",
   "execution_count": 6,
   "metadata": {},
   "outputs": [],
   "source": [
    "# we're going to use MinMaxScaler becaues we aren't sure what the data looks like.\n",
    "# this scales each column by its range, but maybe we want to cut off some really long trip durations and distances?\n",
    "\n",
    "from ray.data.preprocessors import MinMaxScaler\n",
    "\n",
    "# create a preprocessor to scale some columns\n",
    "preprocessor = MinMaxScaler(columns=[\"trip_distance\", \"trip_duration\"])"
   ]
  },
  {
   "cell_type": "markdown",
   "metadata": {},
   "source": [
    "So something to change is that the code in the snippet shows a TorchTrainer, which is maybe not what we're going for here. Another thing is that we've now arrived at the code that we don't understand, so you gotta break it down."
   ]
  },
  {
   "cell_type": "code",
   "execution_count": 7,
   "metadata": {},
   "outputs": [],
   "source": [
    "from ray.train.xgboost import XGBoostTrainer\n",
    "from ray.air.config import ScalingConfig\n",
    "\n",
    "trainer = XGBoostTrainer(\n",
    "    label_column=\"is_big_tip\",\n",
    "    params={\"objective\": \"binary:logistic\", \"eval_metric\": [\"logloss\", \"error\"], \"tree_method\": \"approx\"},\n",
    "    scaling_config=ScalingConfig(num_workers=6),\n",
    "    datasets={\"train\": train_dataset, \"valid\": valid_dataset},\n",
    "    preprocessor=preprocessor,\n",
    "    num_boost_round=10\n",
    ")"
   ]
  },
  {
   "cell_type": "code",
   "execution_count": 8,
   "metadata": {},
   "outputs": [
    {
     "data": {
      "text/html": [
       "== Status ==<br>Current time: 2022-10-24 18:08:47 (running for 00:00:12.92)<br>Memory usage on this node: 25.8/64.0 GiB<br>Using FIFO scheduling algorithm.<br>Resources requested: 0/10 CPUs, 0/0 GPUs, 0.0/35.01 GiB heap, 0.0/2.0 GiB objects<br>Result logdir: /Users/jules/ray_results/XGBoostTrainer_2022-10-24_18-08-34<br>Number of trials: 1/1 (1 ERROR)<br><table>\n",
       "<thead>\n",
       "<tr><th>Trial name                </th><th>status  </th><th>loc            </th></tr>\n",
       "</thead>\n",
       "<tbody>\n",
       "<tr><td>XGBoostTrainer_8c207_00000</td><td>ERROR   </td><td>127.0.0.1:64705</td></tr>\n",
       "</tbody>\n",
       "</table><br>Number of errored trials: 1<br><table>\n",
       "<thead>\n",
       "<tr><th>Trial name                </th><th style=\"text-align: right;\">  # failures</th><th>error file                                                                                                            </th></tr>\n",
       "</thead>\n",
       "<tbody>\n",
       "<tr><td>XGBoostTrainer_8c207_00000</td><td style=\"text-align: right;\">           1</td><td>/Users/jules/ray_results/XGBoostTrainer_2022-10-24_18-08-34/XGBoostTrainer_8c207_00000_0_2022-10-24_18-08-34/error.txt</td></tr>\n",
       "</tbody>\n",
       "</table><br>"
      ],
      "text/plain": [
       "<IPython.core.display.HTML object>"
      ]
     },
     "metadata": {},
     "output_type": "display_data"
    },
    {
     "name": "stderr",
     "output_type": "stream",
     "text": [
      "\u001b[2m\u001b[36m(XGBoostTrainer pid=64705)\u001b[0m 2022-10-24 18:08:41,838\tINFO elastic.py:155 -- Actor status: 6 alive, 0 dead (6 total)\n",
      "\u001b[2m\u001b[36m(XGBoostTrainer pid=64705)\u001b[0m 2022-10-24 18:08:46,840\tERROR function_trainable.py:298 -- Runner Thread raised error.\n",
      "\u001b[2m\u001b[36m(XGBoostTrainer pid=64705)\u001b[0m Traceback (most recent call last):\n",
      "\u001b[2m\u001b[36m(XGBoostTrainer pid=64705)\u001b[0m   File \"/opt/homebrew/Caskroom/miniforge/base/envs/ray-core-tutorial/lib/python3.8/site-packages/xgboost_ray/main.py\", line 1144, in _train\n",
      "\u001b[2m\u001b[36m(XGBoostTrainer pid=64705)\u001b[0m     ray.get(ready)\n",
      "\u001b[2m\u001b[36m(XGBoostTrainer pid=64705)\u001b[0m   File \"/opt/homebrew/Caskroom/miniforge/base/envs/ray-core-tutorial/lib/python3.8/site-packages/ray/_private/client_mode_hook.py\", line 105, in wrapper\n",
      "\u001b[2m\u001b[36m(XGBoostTrainer pid=64705)\u001b[0m     return func(*args, **kwargs)\n",
      "\u001b[2m\u001b[36m(XGBoostTrainer pid=64705)\u001b[0m   File \"/opt/homebrew/Caskroom/miniforge/base/envs/ray-core-tutorial/lib/python3.8/site-packages/ray/_private/worker.py\", line 2275, in get\n",
      "\u001b[2m\u001b[36m(XGBoostTrainer pid=64705)\u001b[0m     raise value.as_instanceof_cause()\n",
      "\u001b[2m\u001b[36m(XGBoostTrainer pid=64705)\u001b[0m ray.exceptions.RayTaskError(KeyError): \u001b[36mray::_RemoteRayXGBoostActor.train()\u001b[39m (pid=64725, ip=127.0.0.1, repr=<xgboost_ray.main._RemoteRayXGBoostActor object at 0x134d88c10>)\n",
      "\u001b[2m\u001b[36m(XGBoostTrainer pid=64705)\u001b[0m   File \"pandas/_libs/index.pyx\", line 138, in pandas._libs.index.IndexEngine.get_loc\n",
      "\u001b[2m\u001b[36m(XGBoostTrainer pid=64705)\u001b[0m   File \"pandas/_libs/index.pyx\", line 165, in pandas._libs.index.IndexEngine.get_loc\n",
      "\u001b[2m\u001b[36m(XGBoostTrainer pid=64705)\u001b[0m   File \"pandas/_libs/hashtable_class_helper.pxi\", line 5745, in pandas._libs.hashtable.PyObjectHashTable.get_item\n",
      "\u001b[2m\u001b[36m(XGBoostTrainer pid=64705)\u001b[0m   File \"pandas/_libs/hashtable_class_helper.pxi\", line 5753, in pandas._libs.hashtable.PyObjectHashTable.get_item\n",
      "\u001b[2m\u001b[36m(XGBoostTrainer pid=64705)\u001b[0m KeyError: 'is_big_tip'\n",
      "\u001b[2m\u001b[36m(XGBoostTrainer pid=64705)\u001b[0m \n",
      "\u001b[2m\u001b[36m(XGBoostTrainer pid=64705)\u001b[0m The above exception was the direct cause of the following exception:\n",
      "\u001b[2m\u001b[36m(XGBoostTrainer pid=64705)\u001b[0m \n",
      "\u001b[2m\u001b[36m(XGBoostTrainer pid=64705)\u001b[0m \u001b[36mray::_RemoteRayXGBoostActor.train()\u001b[39m (pid=64725, ip=127.0.0.1, repr=<xgboost_ray.main._RemoteRayXGBoostActor object at 0x134d88c10>)\n",
      "\u001b[2m\u001b[36m(XGBoostTrainer pid=64705)\u001b[0m   File \"/opt/homebrew/Caskroom/miniforge/base/envs/ray-core-tutorial/lib/python3.8/site-packages/xgboost_ray/main.py\", line 599, in train\n",
      "\u001b[2m\u001b[36m(XGBoostTrainer pid=64705)\u001b[0m     self.load_data(deval)\n",
      "\u001b[2m\u001b[36m(XGBoostTrainer pid=64705)\u001b[0m   File \"/opt/homebrew/Caskroom/miniforge/base/envs/ray-core-tutorial/lib/python3.8/site-packages/xgboost_ray/main.py\", line 561, in load_data\n",
      "\u001b[2m\u001b[36m(XGBoostTrainer pid=64705)\u001b[0m     param = data.get_data(self.rank, self.num_actors)\n",
      "\u001b[2m\u001b[36m(XGBoostTrainer pid=64705)\u001b[0m   File \"/opt/homebrew/Caskroom/miniforge/base/envs/ray-core-tutorial/lib/python3.8/site-packages/xgboost_ray/matrix.py\", line 832, in get_data\n",
      "\u001b[2m\u001b[36m(XGBoostTrainer pid=64705)\u001b[0m     self.load_data(num_actors=num_actors, rank=rank)\n",
      "\u001b[2m\u001b[36m(XGBoostTrainer pid=64705)\u001b[0m   File \"/opt/homebrew/Caskroom/miniforge/base/envs/ray-core-tutorial/lib/python3.8/site-packages/xgboost_ray/matrix.py\", line 818, in load_data\n",
      "\u001b[2m\u001b[36m(XGBoostTrainer pid=64705)\u001b[0m     refs, self.n = self.loader.load_data(\n",
      "\u001b[2m\u001b[36m(XGBoostTrainer pid=64705)\u001b[0m   File \"/opt/homebrew/Caskroom/miniforge/base/envs/ray-core-tutorial/lib/python3.8/site-packages/xgboost_ray/matrix.py\", line 548, in load_data\n",
      "\u001b[2m\u001b[36m(XGBoostTrainer pid=64705)\u001b[0m     x, y, w, b, ll, lu, qid = self._split_dataframe(\n",
      "\u001b[2m\u001b[36m(XGBoostTrainer pid=64705)\u001b[0m   File \"/opt/homebrew/Caskroom/miniforge/base/envs/ray-core-tutorial/lib/python3.8/site-packages/xgboost_ray/matrix.py\", line 263, in _split_dataframe\n",
      "\u001b[2m\u001b[36m(XGBoostTrainer pid=64705)\u001b[0m     label, exclude = data_source.get_column(local_data, self.label)\n",
      "\u001b[2m\u001b[36m(XGBoostTrainer pid=64705)\u001b[0m   File \"/opt/homebrew/Caskroom/miniforge/base/envs/ray-core-tutorial/lib/python3.8/site-packages/xgboost_ray/data_sources/data_source.py\", line 125, in get_column\n",
      "\u001b[2m\u001b[36m(XGBoostTrainer pid=64705)\u001b[0m     return data[column], column\n",
      "\u001b[2m\u001b[36m(XGBoostTrainer pid=64705)\u001b[0m   File \"/opt/homebrew/Caskroom/miniforge/base/envs/ray-core-tutorial/lib/python3.8/site-packages/pandas/core/frame.py\", line 3805, in __getitem__\n",
      "\u001b[2m\u001b[36m(XGBoostTrainer pid=64705)\u001b[0m     indexer = self.columns.get_loc(key)\n",
      "\u001b[2m\u001b[36m(XGBoostTrainer pid=64705)\u001b[0m   File \"/opt/homebrew/Caskroom/miniforge/base/envs/ray-core-tutorial/lib/python3.8/site-packages/pandas/core/indexes/base.py\", line 3802, in get_loc\n",
      "\u001b[2m\u001b[36m(XGBoostTrainer pid=64705)\u001b[0m     raise KeyError(key) from err\n",
      "\u001b[2m\u001b[36m(XGBoostTrainer pid=64705)\u001b[0m KeyError: 'is_big_tip'\n",
      "\u001b[2m\u001b[36m(XGBoostTrainer pid=64705)\u001b[0m \n",
      "\u001b[2m\u001b[36m(XGBoostTrainer pid=64705)\u001b[0m The above exception was the direct cause of the following exception:\n",
      "\u001b[2m\u001b[36m(XGBoostTrainer pid=64705)\u001b[0m \n",
      "\u001b[2m\u001b[36m(XGBoostTrainer pid=64705)\u001b[0m Traceback (most recent call last):\n",
      "\u001b[2m\u001b[36m(XGBoostTrainer pid=64705)\u001b[0m   File \"/opt/homebrew/Caskroom/miniforge/base/envs/ray-core-tutorial/lib/python3.8/site-packages/xgboost_ray/main.py\", line 1457, in train\n",
      "\u001b[2m\u001b[36m(XGBoostTrainer pid=64705)\u001b[0m     bst, train_evals_result, train_additional_results = _train(\n",
      "\u001b[2m\u001b[36m(XGBoostTrainer pid=64705)\u001b[0m   File \"/opt/homebrew/Caskroom/miniforge/base/envs/ray-core-tutorial/lib/python3.8/site-packages/xgboost_ray/main.py\", line 1169, in _train\n",
      "\u001b[2m\u001b[36m(XGBoostTrainer pid=64705)\u001b[0m     raise RayActorError from exc\n",
      "\u001b[2m\u001b[36m(XGBoostTrainer pid=64705)\u001b[0m ray.exceptions.RayActorError: The actor died unexpectedly before finishing this task.\n",
      "\u001b[2m\u001b[36m(XGBoostTrainer pid=64705)\u001b[0m \n",
      "\u001b[2m\u001b[36m(XGBoostTrainer pid=64705)\u001b[0m The above exception was the direct cause of the following exception:\n",
      "\u001b[2m\u001b[36m(XGBoostTrainer pid=64705)\u001b[0m \n",
      "\u001b[2m\u001b[36m(XGBoostTrainer pid=64705)\u001b[0m Traceback (most recent call last):\n",
      "\u001b[2m\u001b[36m(XGBoostTrainer pid=64705)\u001b[0m   File \"/opt/homebrew/Caskroom/miniforge/base/envs/ray-core-tutorial/lib/python3.8/site-packages/ray/tune/trainable/function_trainable.py\", line 289, in run\n",
      "\u001b[2m\u001b[36m(XGBoostTrainer pid=64705)\u001b[0m     self._entrypoint()\n",
      "\u001b[2m\u001b[36m(XGBoostTrainer pid=64705)\u001b[0m   File \"/opt/homebrew/Caskroom/miniforge/base/envs/ray-core-tutorial/lib/python3.8/site-packages/ray/tune/trainable/function_trainable.py\", line 362, in entrypoint\n",
      "\u001b[2m\u001b[36m(XGBoostTrainer pid=64705)\u001b[0m     return self._trainable_func(\n",
      "\u001b[2m\u001b[36m(XGBoostTrainer pid=64705)\u001b[0m   File \"/opt/homebrew/Caskroom/miniforge/base/envs/ray-core-tutorial/lib/python3.8/site-packages/ray/util/tracing/tracing_helper.py\", line 466, in _resume_span\n",
      "\u001b[2m\u001b[36m(XGBoostTrainer pid=64705)\u001b[0m     return method(self, *_args, **_kwargs)\n",
      "\u001b[2m\u001b[36m(XGBoostTrainer pid=64705)\u001b[0m   File \"/opt/homebrew/Caskroom/miniforge/base/envs/ray-core-tutorial/lib/python3.8/site-packages/ray/train/base_trainer.py\", line 460, in _trainable_func\n",
      "\u001b[2m\u001b[36m(XGBoostTrainer pid=64705)\u001b[0m     super()._trainable_func(self._merged_config, reporter, checkpoint_dir)\n",
      "\u001b[2m\u001b[36m(XGBoostTrainer pid=64705)\u001b[0m   File \"/opt/homebrew/Caskroom/miniforge/base/envs/ray-core-tutorial/lib/python3.8/site-packages/ray/tune/trainable/function_trainable.py\", line 684, in _trainable_func\n",
      "\u001b[2m\u001b[36m(XGBoostTrainer pid=64705)\u001b[0m     output = fn()\n",
      "\u001b[2m\u001b[36m(XGBoostTrainer pid=64705)\u001b[0m   File \"/opt/homebrew/Caskroom/miniforge/base/envs/ray-core-tutorial/lib/python3.8/site-packages/ray/train/base_trainer.py\", line 375, in train_func\n",
      "\u001b[2m\u001b[36m(XGBoostTrainer pid=64705)\u001b[0m     trainer.training_loop()\n",
      "\u001b[2m\u001b[36m(XGBoostTrainer pid=64705)\u001b[0m   File \"/opt/homebrew/Caskroom/miniforge/base/envs/ray-core-tutorial/lib/python3.8/site-packages/ray/train/gbdt_trainer.py\", line 246, in training_loop\n",
      "\u001b[2m\u001b[36m(XGBoostTrainer pid=64705)\u001b[0m     model = self._train(\n",
      "\u001b[2m\u001b[36m(XGBoostTrainer pid=64705)\u001b[0m   File \"/opt/homebrew/Caskroom/miniforge/base/envs/ray-core-tutorial/lib/python3.8/site-packages/ray/train/xgboost/xgboost_trainer.py\", line 77, in _train\n",
      "\u001b[2m\u001b[36m(XGBoostTrainer pid=64705)\u001b[0m     return xgboost_ray.train(**kwargs)\n",
      "\u001b[2m\u001b[36m(XGBoostTrainer pid=64705)\u001b[0m   File \"/opt/homebrew/Caskroom/miniforge/base/envs/ray-core-tutorial/lib/python3.8/site-packages/xgboost_ray/main.py\", line 1534, in train\n",
      "\u001b[2m\u001b[36m(XGBoostTrainer pid=64705)\u001b[0m     raise RuntimeError(\n",
      "\u001b[2m\u001b[36m(XGBoostTrainer pid=64705)\u001b[0m RuntimeError: A Ray actor died during training and the maximum number of retries (0) is exhausted.\n",
      "2022-10-24 18:08:47,021\tERROR trial_runner.py:980 -- Trial XGBoostTrainer_8c207_00000: Error processing event.\n",
      "ray.exceptions.RayTaskError(RuntimeError): \u001b[36mray::GBDTTrainable.train()\u001b[39m (pid=64705, ip=127.0.0.1, repr=XGBoostTrainer)\n",
      "ray.exceptions.RayTaskError(KeyError): \u001b[36mray::_RemoteRayXGBoostActor.train()\u001b[39m (pid=64725, ip=127.0.0.1, repr=<xgboost_ray.main._RemoteRayXGBoostActor object at 0x134d88c10>)\n",
      "  File \"pandas/_libs/index.pyx\", line 138, in pandas._libs.index.IndexEngine.get_loc\n",
      "  File \"pandas/_libs/index.pyx\", line 165, in pandas._libs.index.IndexEngine.get_loc\n",
      "  File \"pandas/_libs/hashtable_class_helper.pxi\", line 5745, in pandas._libs.hashtable.PyObjectHashTable.get_item\n",
      "  File \"pandas/_libs/hashtable_class_helper.pxi\", line 5753, in pandas._libs.hashtable.PyObjectHashTable.get_item\n",
      "KeyError: 'is_big_tip'\n",
      "\n",
      "The above exception was the direct cause of the following exception:\n",
      "\n",
      "\u001b[36mray::_RemoteRayXGBoostActor.train()\u001b[39m (pid=64725, ip=127.0.0.1, repr=<xgboost_ray.main._RemoteRayXGBoostActor object at 0x134d88c10>)\n",
      "  File \"/opt/homebrew/Caskroom/miniforge/base/envs/ray-core-tutorial/lib/python3.8/site-packages/xgboost_ray/main.py\", line 599, in train\n",
      "    self.load_data(deval)\n",
      "  File \"/opt/homebrew/Caskroom/miniforge/base/envs/ray-core-tutorial/lib/python3.8/site-packages/xgboost_ray/main.py\", line 561, in load_data\n",
      "    param = data.get_data(self.rank, self.num_actors)\n",
      "  File \"/opt/homebrew/Caskroom/miniforge/base/envs/ray-core-tutorial/lib/python3.8/site-packages/xgboost_ray/matrix.py\", line 832, in get_data\n",
      "    self.load_data(num_actors=num_actors, rank=rank)\n",
      "  File \"/opt/homebrew/Caskroom/miniforge/base/envs/ray-core-tutorial/lib/python3.8/site-packages/xgboost_ray/matrix.py\", line 818, in load_data\n",
      "    refs, self.n = self.loader.load_data(\n",
      "  File \"/opt/homebrew/Caskroom/miniforge/base/envs/ray-core-tutorial/lib/python3.8/site-packages/xgboost_ray/matrix.py\", line 548, in load_data\n",
      "    x, y, w, b, ll, lu, qid = self._split_dataframe(\n",
      "  File \"/opt/homebrew/Caskroom/miniforge/base/envs/ray-core-tutorial/lib/python3.8/site-packages/xgboost_ray/matrix.py\", line 263, in _split_dataframe\n",
      "    label, exclude = data_source.get_column(local_data, self.label)\n",
      "  File \"/opt/homebrew/Caskroom/miniforge/base/envs/ray-core-tutorial/lib/python3.8/site-packages/xgboost_ray/data_sources/data_source.py\", line 125, in get_column\n",
      "    return data[column], column\n",
      "  File \"/opt/homebrew/Caskroom/miniforge/base/envs/ray-core-tutorial/lib/python3.8/site-packages/pandas/core/frame.py\", line 3805, in __getitem__\n",
      "    indexer = self.columns.get_loc(key)\n",
      "  File \"/opt/homebrew/Caskroom/miniforge/base/envs/ray-core-tutorial/lib/python3.8/site-packages/pandas/core/indexes/base.py\", line 3802, in get_loc\n",
      "    raise KeyError(key) from err\n",
      "KeyError: 'is_big_tip'\n",
      "\n",
      "The above exception was the direct cause of the following exception:\n",
      "\n",
      "\u001b[36mray::GBDTTrainable.train()\u001b[39m (pid=64705, ip=127.0.0.1, repr=XGBoostTrainer)\n",
      "  File \"/opt/homebrew/Caskroom/miniforge/base/envs/ray-core-tutorial/lib/python3.8/site-packages/xgboost_ray/main.py\", line 1457, in train\n",
      "    bst, train_evals_result, train_additional_results = _train(\n",
      "  File \"/opt/homebrew/Caskroom/miniforge/base/envs/ray-core-tutorial/lib/python3.8/site-packages/xgboost_ray/main.py\", line 1169, in _train\n",
      "    raise RayActorError from exc\n",
      "ray.exceptions.RayActorError: The actor died unexpectedly before finishing this task.\n",
      "\n",
      "The above exception was the direct cause of the following exception:\n",
      "\n",
      "\u001b[36mray::GBDTTrainable.train()\u001b[39m (pid=64705, ip=127.0.0.1, repr=XGBoostTrainer)\n",
      "  File \"/opt/homebrew/Caskroom/miniforge/base/envs/ray-core-tutorial/lib/python3.8/site-packages/ray/tune/trainable/trainable.py\", line 347, in train\n",
      "    result = self.step()\n",
      "  File \"/opt/homebrew/Caskroom/miniforge/base/envs/ray-core-tutorial/lib/python3.8/site-packages/ray/tune/trainable/function_trainable.py\", line 417, in step\n",
      "    self._report_thread_runner_error(block=True)\n",
      "  File \"/opt/homebrew/Caskroom/miniforge/base/envs/ray-core-tutorial/lib/python3.8/site-packages/ray/tune/trainable/function_trainable.py\", line 589, in _report_thread_runner_error\n",
      "    raise e\n",
      "  File \"/opt/homebrew/Caskroom/miniforge/base/envs/ray-core-tutorial/lib/python3.8/site-packages/ray/tune/trainable/function_trainable.py\", line 289, in run\n",
      "    self._entrypoint()\n",
      "  File \"/opt/homebrew/Caskroom/miniforge/base/envs/ray-core-tutorial/lib/python3.8/site-packages/ray/tune/trainable/function_trainable.py\", line 362, in entrypoint\n",
      "    return self._trainable_func(\n",
      "  File \"/opt/homebrew/Caskroom/miniforge/base/envs/ray-core-tutorial/lib/python3.8/site-packages/ray/train/base_trainer.py\", line 460, in _trainable_func\n",
      "    super()._trainable_func(self._merged_config, reporter, checkpoint_dir)\n",
      "  File \"/opt/homebrew/Caskroom/miniforge/base/envs/ray-core-tutorial/lib/python3.8/site-packages/ray/tune/trainable/function_trainable.py\", line 684, in _trainable_func\n",
      "    output = fn()\n",
      "  File \"/opt/homebrew/Caskroom/miniforge/base/envs/ray-core-tutorial/lib/python3.8/site-packages/ray/train/base_trainer.py\", line 375, in train_func\n",
      "    trainer.training_loop()\n",
      "  File \"/opt/homebrew/Caskroom/miniforge/base/envs/ray-core-tutorial/lib/python3.8/site-packages/ray/train/gbdt_trainer.py\", line 246, in training_loop\n",
      "    model = self._train(\n",
      "  File \"/opt/homebrew/Caskroom/miniforge/base/envs/ray-core-tutorial/lib/python3.8/site-packages/ray/train/xgboost/xgboost_trainer.py\", line 77, in _train\n",
      "    return xgboost_ray.train(**kwargs)\n",
      "  File \"/opt/homebrew/Caskroom/miniforge/base/envs/ray-core-tutorial/lib/python3.8/site-packages/xgboost_ray/main.py\", line 1534, in train\n",
      "    raise RuntimeError(\n",
      "RuntimeError: A Ray actor died during training and the maximum number of retries (0) is exhausted.\n"
     ]
    },
    {
     "name": "stdout",
     "output_type": "stream",
     "text": [
      "Result for XGBoostTrainer_8c207_00000:\n",
      "  date: 2022-10-24_18-08-35\n",
      "  experiment_id: c18f160899fd4a02bc676c897363133e\n",
      "  hostname: Juless-MacBook-Pro-16\n",
      "  node_ip: 127.0.0.1\n",
      "  pid: 64705\n",
      "  timestamp: 1666660115\n",
      "  trial_id: 8c207_00000\n",
      "  \n"
     ]
    },
    {
     "name": "stderr",
     "output_type": "stream",
     "text": [
      "2022-10-24 18:08:47,142\tERROR tune.py:754 -- Trials did not complete: [XGBoostTrainer_8c207_00000]\n",
      "2022-10-24 18:08:47,143\tINFO tune.py:758 -- Total run time: 13.05 seconds (12.92 seconds for the tuning loop).\n"
     ]
    },
    {
     "ename": "RayTaskError(RuntimeError)",
     "evalue": "\u001b[36mray::GBDTTrainable.train()\u001b[39m (pid=64705, ip=127.0.0.1, repr=XGBoostTrainer)\nray.exceptions.RayTaskError(KeyError): \u001b[36mray::_RemoteRayXGBoostActor.train()\u001b[39m (pid=64725, ip=127.0.0.1, repr=<xgboost_ray.main._RemoteRayXGBoostActor object at 0x134d88c10>)\n  File \"pandas/_libs/index.pyx\", line 138, in pandas._libs.index.IndexEngine.get_loc\n  File \"pandas/_libs/index.pyx\", line 165, in pandas._libs.index.IndexEngine.get_loc\n  File \"pandas/_libs/hashtable_class_helper.pxi\", line 5745, in pandas._libs.hashtable.PyObjectHashTable.get_item\n  File \"pandas/_libs/hashtable_class_helper.pxi\", line 5753, in pandas._libs.hashtable.PyObjectHashTable.get_item\nKeyError: 'is_big_tip'\n\nThe above exception was the direct cause of the following exception:\n\n\u001b[36mray::_RemoteRayXGBoostActor.train()\u001b[39m (pid=64725, ip=127.0.0.1, repr=<xgboost_ray.main._RemoteRayXGBoostActor object at 0x134d88c10>)\n  File \"/opt/homebrew/Caskroom/miniforge/base/envs/ray-core-tutorial/lib/python3.8/site-packages/xgboost_ray/main.py\", line 599, in train\n    self.load_data(deval)\n  File \"/opt/homebrew/Caskroom/miniforge/base/envs/ray-core-tutorial/lib/python3.8/site-packages/xgboost_ray/main.py\", line 561, in load_data\n    param = data.get_data(self.rank, self.num_actors)\n  File \"/opt/homebrew/Caskroom/miniforge/base/envs/ray-core-tutorial/lib/python3.8/site-packages/xgboost_ray/matrix.py\", line 832, in get_data\n    self.load_data(num_actors=num_actors, rank=rank)\n  File \"/opt/homebrew/Caskroom/miniforge/base/envs/ray-core-tutorial/lib/python3.8/site-packages/xgboost_ray/matrix.py\", line 818, in load_data\n    refs, self.n = self.loader.load_data(\n  File \"/opt/homebrew/Caskroom/miniforge/base/envs/ray-core-tutorial/lib/python3.8/site-packages/xgboost_ray/matrix.py\", line 548, in load_data\n    x, y, w, b, ll, lu, qid = self._split_dataframe(\n  File \"/opt/homebrew/Caskroom/miniforge/base/envs/ray-core-tutorial/lib/python3.8/site-packages/xgboost_ray/matrix.py\", line 263, in _split_dataframe\n    label, exclude = data_source.get_column(local_data, self.label)\n  File \"/opt/homebrew/Caskroom/miniforge/base/envs/ray-core-tutorial/lib/python3.8/site-packages/xgboost_ray/data_sources/data_source.py\", line 125, in get_column\n    return data[column], column\n  File \"/opt/homebrew/Caskroom/miniforge/base/envs/ray-core-tutorial/lib/python3.8/site-packages/pandas/core/frame.py\", line 3805, in __getitem__\n    indexer = self.columns.get_loc(key)\n  File \"/opt/homebrew/Caskroom/miniforge/base/envs/ray-core-tutorial/lib/python3.8/site-packages/pandas/core/indexes/base.py\", line 3802, in get_loc\n    raise KeyError(key) from err\nKeyError: 'is_big_tip'\n\nThe above exception was the direct cause of the following exception:\n\n\u001b[36mray::GBDTTrainable.train()\u001b[39m (pid=64705, ip=127.0.0.1, repr=XGBoostTrainer)\n  File \"/opt/homebrew/Caskroom/miniforge/base/envs/ray-core-tutorial/lib/python3.8/site-packages/xgboost_ray/main.py\", line 1457, in train\n    bst, train_evals_result, train_additional_results = _train(\n  File \"/opt/homebrew/Caskroom/miniforge/base/envs/ray-core-tutorial/lib/python3.8/site-packages/xgboost_ray/main.py\", line 1169, in _train\n    raise RayActorError from exc\nray.exceptions.RayActorError: The actor died unexpectedly before finishing this task.\n\nThe above exception was the direct cause of the following exception:\n\n\u001b[36mray::GBDTTrainable.train()\u001b[39m (pid=64705, ip=127.0.0.1, repr=XGBoostTrainer)\n  File \"/opt/homebrew/Caskroom/miniforge/base/envs/ray-core-tutorial/lib/python3.8/site-packages/ray/tune/trainable/trainable.py\", line 347, in train\n    result = self.step()\n  File \"/opt/homebrew/Caskroom/miniforge/base/envs/ray-core-tutorial/lib/python3.8/site-packages/ray/tune/trainable/function_trainable.py\", line 417, in step\n    self._report_thread_runner_error(block=True)\n  File \"/opt/homebrew/Caskroom/miniforge/base/envs/ray-core-tutorial/lib/python3.8/site-packages/ray/tune/trainable/function_trainable.py\", line 589, in _report_thread_runner_error\n    raise e\n  File \"/opt/homebrew/Caskroom/miniforge/base/envs/ray-core-tutorial/lib/python3.8/site-packages/ray/tune/trainable/function_trainable.py\", line 289, in run\n    self._entrypoint()\n  File \"/opt/homebrew/Caskroom/miniforge/base/envs/ray-core-tutorial/lib/python3.8/site-packages/ray/tune/trainable/function_trainable.py\", line 362, in entrypoint\n    return self._trainable_func(\n  File \"/opt/homebrew/Caskroom/miniforge/base/envs/ray-core-tutorial/lib/python3.8/site-packages/ray/train/base_trainer.py\", line 460, in _trainable_func\n    super()._trainable_func(self._merged_config, reporter, checkpoint_dir)\n  File \"/opt/homebrew/Caskroom/miniforge/base/envs/ray-core-tutorial/lib/python3.8/site-packages/ray/tune/trainable/function_trainable.py\", line 684, in _trainable_func\n    output = fn()\n  File \"/opt/homebrew/Caskroom/miniforge/base/envs/ray-core-tutorial/lib/python3.8/site-packages/ray/train/base_trainer.py\", line 375, in train_func\n    trainer.training_loop()\n  File \"/opt/homebrew/Caskroom/miniforge/base/envs/ray-core-tutorial/lib/python3.8/site-packages/ray/train/gbdt_trainer.py\", line 246, in training_loop\n    model = self._train(\n  File \"/opt/homebrew/Caskroom/miniforge/base/envs/ray-core-tutorial/lib/python3.8/site-packages/ray/train/xgboost/xgboost_trainer.py\", line 77, in _train\n    return xgboost_ray.train(**kwargs)\n  File \"/opt/homebrew/Caskroom/miniforge/base/envs/ray-core-tutorial/lib/python3.8/site-packages/xgboost_ray/main.py\", line 1534, in train\n    raise RuntimeError(\nRuntimeError: A Ray actor died during training and the maximum number of retries (0) is exhausted.",
     "output_type": "error",
     "traceback": [
      "\u001b[0;31m---------------------------------------------------------------------------\u001b[0m",
      "\u001b[0;31mRayTaskError(RuntimeError)\u001b[0m                Traceback (most recent call last)",
      "Cell \u001b[0;32mIn [8], line 1\u001b[0m\n\u001b[0;32m----> 1\u001b[0m result \u001b[38;5;241m=\u001b[39m \u001b[43mtrainer\u001b[49m\u001b[38;5;241;43m.\u001b[39;49m\u001b[43mfit\u001b[49m\u001b[43m(\u001b[49m\u001b[43m)\u001b[49m\n",
      "File \u001b[0;32m/opt/homebrew/Caskroom/miniforge/base/envs/ray-core-tutorial/lib/python3.8/site-packages/ray/train/base_trainer.py:349\u001b[0m, in \u001b[0;36mBaseTrainer.fit\u001b[0;34m(self)\u001b[0m\n\u001b[1;32m    347\u001b[0m     result \u001b[38;5;241m=\u001b[39m result_grid[\u001b[38;5;241m0\u001b[39m]\n\u001b[1;32m    348\u001b[0m     \u001b[38;5;28;01mif\u001b[39;00m result\u001b[38;5;241m.\u001b[39merror:\n\u001b[0;32m--> 349\u001b[0m         \u001b[38;5;28;01mraise\u001b[39;00m result\u001b[38;5;241m.\u001b[39merror\n\u001b[1;32m    350\u001b[0m \u001b[38;5;28;01mexcept\u001b[39;00m TuneError \u001b[38;5;28;01mas\u001b[39;00m e:\n\u001b[1;32m    351\u001b[0m     \u001b[38;5;28;01mraise\u001b[39;00m TrainingFailedError \u001b[38;5;28;01mfrom\u001b[39;00m \u001b[38;5;21;01me\u001b[39;00m\n",
      "\u001b[0;31mRayTaskError(RuntimeError)\u001b[0m: \u001b[36mray::GBDTTrainable.train()\u001b[39m (pid=64705, ip=127.0.0.1, repr=XGBoostTrainer)\nray.exceptions.RayTaskError(KeyError): \u001b[36mray::_RemoteRayXGBoostActor.train()\u001b[39m (pid=64725, ip=127.0.0.1, repr=<xgboost_ray.main._RemoteRayXGBoostActor object at 0x134d88c10>)\n  File \"pandas/_libs/index.pyx\", line 138, in pandas._libs.index.IndexEngine.get_loc\n  File \"pandas/_libs/index.pyx\", line 165, in pandas._libs.index.IndexEngine.get_loc\n  File \"pandas/_libs/hashtable_class_helper.pxi\", line 5745, in pandas._libs.hashtable.PyObjectHashTable.get_item\n  File \"pandas/_libs/hashtable_class_helper.pxi\", line 5753, in pandas._libs.hashtable.PyObjectHashTable.get_item\nKeyError: 'is_big_tip'\n\nThe above exception was the direct cause of the following exception:\n\n\u001b[36mray::_RemoteRayXGBoostActor.train()\u001b[39m (pid=64725, ip=127.0.0.1, repr=<xgboost_ray.main._RemoteRayXGBoostActor object at 0x134d88c10>)\n  File \"/opt/homebrew/Caskroom/miniforge/base/envs/ray-core-tutorial/lib/python3.8/site-packages/xgboost_ray/main.py\", line 599, in train\n    self.load_data(deval)\n  File \"/opt/homebrew/Caskroom/miniforge/base/envs/ray-core-tutorial/lib/python3.8/site-packages/xgboost_ray/main.py\", line 561, in load_data\n    param = data.get_data(self.rank, self.num_actors)\n  File \"/opt/homebrew/Caskroom/miniforge/base/envs/ray-core-tutorial/lib/python3.8/site-packages/xgboost_ray/matrix.py\", line 832, in get_data\n    self.load_data(num_actors=num_actors, rank=rank)\n  File \"/opt/homebrew/Caskroom/miniforge/base/envs/ray-core-tutorial/lib/python3.8/site-packages/xgboost_ray/matrix.py\", line 818, in load_data\n    refs, self.n = self.loader.load_data(\n  File \"/opt/homebrew/Caskroom/miniforge/base/envs/ray-core-tutorial/lib/python3.8/site-packages/xgboost_ray/matrix.py\", line 548, in load_data\n    x, y, w, b, ll, lu, qid = self._split_dataframe(\n  File \"/opt/homebrew/Caskroom/miniforge/base/envs/ray-core-tutorial/lib/python3.8/site-packages/xgboost_ray/matrix.py\", line 263, in _split_dataframe\n    label, exclude = data_source.get_column(local_data, self.label)\n  File \"/opt/homebrew/Caskroom/miniforge/base/envs/ray-core-tutorial/lib/python3.8/site-packages/xgboost_ray/data_sources/data_source.py\", line 125, in get_column\n    return data[column], column\n  File \"/opt/homebrew/Caskroom/miniforge/base/envs/ray-core-tutorial/lib/python3.8/site-packages/pandas/core/frame.py\", line 3805, in __getitem__\n    indexer = self.columns.get_loc(key)\n  File \"/opt/homebrew/Caskroom/miniforge/base/envs/ray-core-tutorial/lib/python3.8/site-packages/pandas/core/indexes/base.py\", line 3802, in get_loc\n    raise KeyError(key) from err\nKeyError: 'is_big_tip'\n\nThe above exception was the direct cause of the following exception:\n\n\u001b[36mray::GBDTTrainable.train()\u001b[39m (pid=64705, ip=127.0.0.1, repr=XGBoostTrainer)\n  File \"/opt/homebrew/Caskroom/miniforge/base/envs/ray-core-tutorial/lib/python3.8/site-packages/xgboost_ray/main.py\", line 1457, in train\n    bst, train_evals_result, train_additional_results = _train(\n  File \"/opt/homebrew/Caskroom/miniforge/base/envs/ray-core-tutorial/lib/python3.8/site-packages/xgboost_ray/main.py\", line 1169, in _train\n    raise RayActorError from exc\nray.exceptions.RayActorError: The actor died unexpectedly before finishing this task.\n\nThe above exception was the direct cause of the following exception:\n\n\u001b[36mray::GBDTTrainable.train()\u001b[39m (pid=64705, ip=127.0.0.1, repr=XGBoostTrainer)\n  File \"/opt/homebrew/Caskroom/miniforge/base/envs/ray-core-tutorial/lib/python3.8/site-packages/ray/tune/trainable/trainable.py\", line 347, in train\n    result = self.step()\n  File \"/opt/homebrew/Caskroom/miniforge/base/envs/ray-core-tutorial/lib/python3.8/site-packages/ray/tune/trainable/function_trainable.py\", line 417, in step\n    self._report_thread_runner_error(block=True)\n  File \"/opt/homebrew/Caskroom/miniforge/base/envs/ray-core-tutorial/lib/python3.8/site-packages/ray/tune/trainable/function_trainable.py\", line 589, in _report_thread_runner_error\n    raise e\n  File \"/opt/homebrew/Caskroom/miniforge/base/envs/ray-core-tutorial/lib/python3.8/site-packages/ray/tune/trainable/function_trainable.py\", line 289, in run\n    self._entrypoint()\n  File \"/opt/homebrew/Caskroom/miniforge/base/envs/ray-core-tutorial/lib/python3.8/site-packages/ray/tune/trainable/function_trainable.py\", line 362, in entrypoint\n    return self._trainable_func(\n  File \"/opt/homebrew/Caskroom/miniforge/base/envs/ray-core-tutorial/lib/python3.8/site-packages/ray/train/base_trainer.py\", line 460, in _trainable_func\n    super()._trainable_func(self._merged_config, reporter, checkpoint_dir)\n  File \"/opt/homebrew/Caskroom/miniforge/base/envs/ray-core-tutorial/lib/python3.8/site-packages/ray/tune/trainable/function_trainable.py\", line 684, in _trainable_func\n    output = fn()\n  File \"/opt/homebrew/Caskroom/miniforge/base/envs/ray-core-tutorial/lib/python3.8/site-packages/ray/train/base_trainer.py\", line 375, in train_func\n    trainer.training_loop()\n  File \"/opt/homebrew/Caskroom/miniforge/base/envs/ray-core-tutorial/lib/python3.8/site-packages/ray/train/gbdt_trainer.py\", line 246, in training_loop\n    model = self._train(\n  File \"/opt/homebrew/Caskroom/miniforge/base/envs/ray-core-tutorial/lib/python3.8/site-packages/ray/train/xgboost/xgboost_trainer.py\", line 77, in _train\n    return xgboost_ray.train(**kwargs)\n  File \"/opt/homebrew/Caskroom/miniforge/base/envs/ray-core-tutorial/lib/python3.8/site-packages/xgboost_ray/main.py\", line 1534, in train\n    raise RuntimeError(\nRuntimeError: A Ray actor died during training and the maximum number of retries (0) is exhausted."
     ]
    }
   ],
   "source": [
    "result = trainer.fit()"
   ]
  },
  {
   "cell_type": "code",
   "execution_count": null,
   "metadata": {},
   "outputs": [],
   "source": []
  }
 ],
 "metadata": {
  "kernelspec": {
   "display_name": "Python 3 (ipykernel)",
   "language": "python",
   "name": "python3"
  },
  "language_info": {
   "codemirror_mode": {
    "name": "ipython",
    "version": 3
   },
   "file_extension": ".py",
   "mimetype": "text/x-python",
   "name": "python",
   "nbconvert_exporter": "python",
   "pygments_lexer": "ipython3",
   "version": "3.8.13"
  },
  "vscode": {
   "interpreter": {
    "hash": "2706dab362c94031065b1e6b4ba35ae246b1d7f08f9a1709d5e0cd568b23fcbf"
   }
  }
 },
 "nbformat": 4,
 "nbformat_minor": 4
}
