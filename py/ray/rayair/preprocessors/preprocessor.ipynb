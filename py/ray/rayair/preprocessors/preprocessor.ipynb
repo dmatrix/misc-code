{
 "cells": [
  {
   "cell_type": "code",
   "execution_count": 24,
   "id": "0d8fd2c6-bc3e-4c13-aa19-6da1c5d82a02",
   "metadata": {
    "pycharm": {
     "name": "#%%\n"
    }
   },
   "outputs": [],
   "source": [
    "import ray\n",
    "from ray.data.preprocessors import StandardScaler\n",
    "\n",
    "import pandas as pd\n",
    "\n",
    "from sklearn.datasets import load_breast_cancer\n",
    "from sklearn.model_selection import train_test_split"
   ]
  },
  {
   "cell_type": "code",
   "execution_count": 25,
   "id": "b05e41f9-9275-4a68-b29e-a6aca2132b67",
   "metadata": {
    "pycharm": {
     "name": "#%%\n"
    }
   },
   "outputs": [],
   "source": [
    "data_raw = load_breast_cancer()\n",
    "dataset_df = pd.DataFrame(data_raw[\"data\"], columns=data_raw[\"feature_names\"])\n",
    "dataset_df[\"target\"] = data_raw[\"target\"]\n",
    "train_df, test_df = train_test_split(dataset_df, test_size=0.3)"
   ]
  },
  {
   "cell_type": "markdown",
   "id": "ba390c9c-9002-4c82-ac82-7e85340ec88a",
   "metadata": {
    "pycharm": {
     "name": "#%% md\n"
    }
   },
   "source": [
    "Create Ray data from the pands df"
   ]
  },
  {
   "cell_type": "code",
   "execution_count": 26,
   "id": "a5244345-1e23-46eb-be1d-c4f4197d675c",
   "metadata": {
    "pycharm": {
     "name": "#%%\n"
    }
   },
   "outputs": [],
   "source": [
    "train_dataset = ray.data.from_pandas(train_df)\n",
    "valid_dataset = ray.data.from_pandas(test_df)\n",
    "test_dataset = ray.data.from_pandas(test_df.drop(\"target\", axis=1))"
   ]
  },
  {
   "cell_type": "code",
   "execution_count": 27,
   "id": "45a32843-b28f-4a01-8852-28ee807e572c",
   "metadata": {
    "pycharm": {
     "name": "#%%\n"
    }
   },
   "outputs": [
    {
     "data": {
      "text/plain": [
       "([PandasRow({'mean radius': 10.9,\n",
       "             'mean texture': 12.96,\n",
       "             'mean perimeter': 68.69,\n",
       "             'mean area': 366.8,\n",
       "             'mean smoothness': 0.07515,\n",
       "             'mean compactness': 0.03718,\n",
       "             'mean concavity': 0.00309,\n",
       "             'mean concave points': 0.006588,\n",
       "             'mean symmetry': 0.1442,\n",
       "             'mean fractal dimension': 0.05743,\n",
       "             'radius error': 0.2818,\n",
       "             'texture error': 0.7614,\n",
       "             'perimeter error': 1.808,\n",
       "             'area error': 18.54,\n",
       "             'smoothness error': 0.006142,\n",
       "             'compactness error': 0.006134,\n",
       "             'concavity error': 0.001835,\n",
       "             'concave points error': 0.003576,\n",
       "             'symmetry error': 0.01637,\n",
       "             'fractal dimension error': 0.002665,\n",
       "             'worst radius': 12.36,\n",
       "             'worst texture': 18.2,\n",
       "             'worst perimeter': 78.07,\n",
       "             'worst area': 470.0,\n",
       "             'worst smoothness': 0.1171,\n",
       "             'worst compactness': 0.08294,\n",
       "             'worst concavity': 0.01854,\n",
       "             'worst concave points': 0.03953,\n",
       "             'worst symmetry': 0.2738,\n",
       "             'worst fractal dimension': 0.07685,\n",
       "             'target': 1})],\n",
       " 398)"
      ]
     },
     "execution_count": 27,
     "metadata": {},
     "output_type": "execute_result"
    }
   ],
   "source": [
    "train_dataset.take(1), train_dataset.count()"
   ]
  },
  {
   "cell_type": "markdown",
   "id": "c037a619-b91f-47e0-abb8-1c6390834e61",
   "metadata": {
    "pycharm": {
     "name": "#%% md\n"
    }
   },
   "source": [
    "Create a preprocessor to scale some columns"
   ]
  },
  {
   "cell_type": "code",
   "execution_count": 41,
   "id": "f5a72874-d6ef-4085-b37e-af8c2b6750bd",
   "metadata": {
    "pycharm": {
     "name": "#%%\n"
    }
   },
   "outputs": [
    {
     "name": "stderr",
     "output_type": "stream",
     "text": [
      "Shuffle Map: 100%|███████████████████████████████████████████████████████████████████████████████████████████████████████████| 1/1 [00:00<00:00, 50.78it/s]\n",
      "Shuffle Reduce: 100%|███████████████████████████████████████████████████████████████████████████████████████████████████████| 1/1 [00:00<00:00, 259.15it/s]\n"
     ]
    }
   ],
   "source": [
    "columns_to_scale = [\"mean radius\", \"mean texture\"]\n",
    "preprocessor = StandardScaler(columns=columns_to_scale)\n",
    "transformed_ds = preprocessor.fit(train_dataset)"
   ]
  },
  {
   "cell_type": "code",
   "execution_count": 42,
   "id": "9bf39acd-2531-4214-b603-9e2dea5031ea",
   "metadata": {
    "pycharm": {
     "name": "#%%\n"
    }
   },
   "outputs": [
    {
     "data": {
      "text/plain": [
       "ArrowRow({'mean(mean radius)': 14.095836683417085,\n",
       "          'mean(mean texture)': 19.298768844221105,\n",
       "          'std(mean radius)': 3.6256362347170907,\n",
       "          'std(mean texture)': 4.33583539640955})"
      ]
     },
     "execution_count": 42,
     "metadata": {},
     "output_type": "execute_result"
    }
   ],
   "source": [
    "transformed_ds.stats_"
   ]
  },
  {
   "cell_type": "markdown",
   "id": "fd955bf2-5db4-4cbe-b5c9-296713254482",
   "metadata": {
    "pycharm": {
     "name": "#%% md\n"
    }
   },
   "source": [
    "Let's scale all the features"
   ]
  },
  {
   "cell_type": "code",
   "execution_count": 43,
   "id": "ef59fccb-e271-46c8-801a-88c82190a8b8",
   "metadata": {
    "pycharm": {
     "name": "#%%\n"
    }
   },
   "outputs": [
    {
     "data": {
      "text/plain": [
       "StandardScaler(columns=['mean radius' 'mean texture' 'mean perimeter' 'mean area'\n",
       " 'mean smoothness' 'mean compactness' 'mean concavity'\n",
       " 'mean concave points' 'mean symmetry' 'mean fractal dimension'\n",
       " 'radius error' 'texture error' 'perimeter error' 'area error'\n",
       " 'smoothness error' 'compactness error' 'concavity error'\n",
       " 'concave points error' 'symmetry error' 'fractal dimension error'\n",
       " 'worst radius' 'worst texture' 'worst perimeter' 'worst area'\n",
       " 'worst smoothness' 'worst compactness' 'worst concavity'\n",
       " 'worst concave points' 'worst symmetry' 'worst fractal dimension'], ddof=0, stats=None)"
      ]
     },
     "execution_count": 43,
     "metadata": {},
     "output_type": "execute_result"
    }
   ],
   "source": [
    "preprocessor = StandardScaler(data_raw[\"feature_names\"])\n",
    "preprocessor"
   ]
  },
  {
   "cell_type": "code",
   "execution_count": 44,
   "id": "76588ecb-48c2-4cc1-9014-5db8d26506df",
   "metadata": {
    "pycharm": {
     "name": "#%%\n"
    }
   },
   "outputs": [
    {
     "name": "stderr",
     "output_type": "stream",
     "text": [
      "Shuffle Map: 100%|███████████████████████████████████████████████████████████████████████████████████████████████████████████| 1/1 [00:00<00:00, 49.66it/s]\n",
      "Shuffle Reduce: 100%|████████████████████████████████████████████████████████████████████████████████████████████████████████| 1/1 [00:00<00:00, 68.02it/s]\n"
     ]
    }
   ],
   "source": [
    "transformed_ds = preprocessor.fit(train_dataset)"
   ]
  },
  {
   "cell_type": "code",
   "execution_count": 45,
   "id": "d42b0065-da99-4f65-9f04-d068c2d76185",
   "metadata": {
    "pycharm": {
     "name": "#%%\n"
    }
   },
   "outputs": [
    {
     "data": {
      "text/plain": [
       "(StandardScaler(columns=['mean radius' 'mean texture' 'mean perimeter' 'mean area'\n",
       "  'mean smoothness' 'mean compactness' 'mean concavity'\n",
       "  'mean concave points' 'mean symmetry' 'mean fractal dimension'\n",
       "  'radius error' 'texture error' 'perimeter error' 'area error'\n",
       "  'smoothness error' 'compactness error' 'concavity error'\n",
       "  'concave points error' 'symmetry error' 'fractal dimension error'\n",
       "  'worst radius' 'worst texture' 'worst perimeter' 'worst area'\n",
       "  'worst smoothness' 'worst compactness' 'worst concavity'\n",
       "  'worst concave points' 'worst symmetry' 'worst fractal dimension'], ddof=0, stats={'mean(mean radius)': 14.095836683417085, 'mean(mean texture)': 19.298768844221105, 'mean(mean perimeter)': 91.78675879396987, 'mean(mean area)': 655.0567839195979, 'mean(mean smoothness)': 0.09567917085427136, 'mean(mean compactness)': 0.10374748743718593, 'mean(mean concavity)': 0.08858220778894473, 'mean(mean concave points)': 0.048591806532663324, 'mean(mean symmetry)': 0.1812886934673367, 'mean(mean fractal dimension)': 0.06289748743718593, 'mean(radius error)': 0.41385351758793976, 'mean(texture error)': 1.237349246231156, 'mean(perimeter error)': 2.9537520100502515, 'mean(area error)': 41.482100502512566, 'mean(smoothness error)': 0.007085655778894471, 'mean(compactness error)': 0.025746992462311553, 'mean(concavity error)': 0.03224600653266332, 'mean(concave points error)': 0.011853645728643216, 'mean(symmetry error)': 0.02097437688442211, 'mean(fractal dimension error)': 0.0038846987437185926, 'mean(worst radius)': 16.20716834170854, 'mean(worst texture)': 25.60243718592965, 'mean(worst perimeter)': 107.07748743718592, 'mean(worst area)': 877.3876884422111, 'mean(worst smoothness)': 0.1312642462311558, 'mean(worst compactness)': 0.25089238693467336, 'mean(worst concavity)': 0.26902403517587936, 'mean(worst concave points)': 0.11309039949748743, 'mean(worst symmetry)': 0.28876658291457286, 'mean(worst fractal dimension)': 0.08382497487437185, 'std(mean radius)': 3.6256362347170907, 'std(mean texture)': 4.33583539640955, 'std(mean perimeter)': 25.0317302918542, 'std(mean area)': 364.3893477800723, 'std(mean smoothness)': 0.014015096600794546, 'std(mean compactness)': 0.05356710527512547, 'std(mean concavity)': 0.08117090288621645, 'std(mean concave points)': 0.039021313503043074, 'std(mean symmetry)': 0.027766702118439963, 'std(mean fractal dimension)': 0.007214787872057424, 'std(radius error)': 0.2917574699670883, 'std(texture error)': 0.5746756685794351, 'std(perimeter error)': 2.1623935282548996, 'std(area error)': 49.38574804337755, 'std(smoothness error)': 0.0028399535118292032, 'std(compactness error)': 0.018151233221180646, 'std(concavity error)': 0.030028243095027683, 'std(concave points error)': 0.006257924952504242, 'std(symmetry error)': 0.008739856492311493, 'std(fractal dimension error)': 0.0028007806556258684, 'std(worst radius)': 4.890765571326346, 'std(worst texture)': 6.175099156107773, 'std(worst perimeter)': 34.25334601590067, 'std(worst area)': 574.3647572720355, 'std(worst smoothness)': 0.02288117816856425, 'std(worst compactness)': 0.15823776896085706, 'std(worst concavity)': 0.20830000651024863, 'std(worst concave points)': 0.06564908695544912, 'std(worst symmetry)': 0.062417404027318026, 'std(worst fractal dimension)': 0.01846663354939416}),\n",
       " ArrowRow({'mean(mean radius)': 14.095836683417085,\n",
       "           'mean(mean texture)': 19.298768844221105,\n",
       "           'mean(mean perimeter)': 91.78675879396987,\n",
       "           'mean(mean area)': 655.0567839195979,\n",
       "           'mean(mean smoothness)': 0.09567917085427136,\n",
       "           'mean(mean compactness)': 0.10374748743718593,\n",
       "           'mean(mean concavity)': 0.08858220778894473,\n",
       "           'mean(mean concave points)': 0.048591806532663324,\n",
       "           'mean(mean symmetry)': 0.1812886934673367,\n",
       "           'mean(mean fractal dimension)': 0.06289748743718593,\n",
       "           'mean(radius error)': 0.41385351758793976,\n",
       "           'mean(texture error)': 1.237349246231156,\n",
       "           'mean(perimeter error)': 2.9537520100502515,\n",
       "           'mean(area error)': 41.482100502512566,\n",
       "           'mean(smoothness error)': 0.007085655778894471,\n",
       "           'mean(compactness error)': 0.025746992462311553,\n",
       "           'mean(concavity error)': 0.03224600653266332,\n",
       "           'mean(concave points error)': 0.011853645728643216,\n",
       "           'mean(symmetry error)': 0.02097437688442211,\n",
       "           'mean(fractal dimension error)': 0.0038846987437185926,\n",
       "           'mean(worst radius)': 16.20716834170854,\n",
       "           'mean(worst texture)': 25.60243718592965,\n",
       "           'mean(worst perimeter)': 107.07748743718592,\n",
       "           'mean(worst area)': 877.3876884422111,\n",
       "           'mean(worst smoothness)': 0.1312642462311558,\n",
       "           'mean(worst compactness)': 0.25089238693467336,\n",
       "           'mean(worst concavity)': 0.26902403517587936,\n",
       "           'mean(worst concave points)': 0.11309039949748743,\n",
       "           'mean(worst symmetry)': 0.28876658291457286,\n",
       "           'mean(worst fractal dimension)': 0.08382497487437185,\n",
       "           'std(mean radius)': 3.6256362347170907,\n",
       "           'std(mean texture)': 4.33583539640955,\n",
       "           'std(mean perimeter)': 25.0317302918542,\n",
       "           'std(mean area)': 364.3893477800723,\n",
       "           'std(mean smoothness)': 0.014015096600794546,\n",
       "           'std(mean compactness)': 0.05356710527512547,\n",
       "           'std(mean concavity)': 0.08117090288621645,\n",
       "           'std(mean concave points)': 0.039021313503043074,\n",
       "           'std(mean symmetry)': 0.027766702118439963,\n",
       "           'std(mean fractal dimension)': 0.007214787872057424,\n",
       "           'std(radius error)': 0.2917574699670883,\n",
       "           'std(texture error)': 0.5746756685794351,\n",
       "           'std(perimeter error)': 2.1623935282548996,\n",
       "           'std(area error)': 49.38574804337755,\n",
       "           'std(smoothness error)': 0.0028399535118292032,\n",
       "           'std(compactness error)': 0.018151233221180646,\n",
       "           'std(concavity error)': 0.030028243095027683,\n",
       "           'std(concave points error)': 0.006257924952504242,\n",
       "           'std(symmetry error)': 0.008739856492311493,\n",
       "           'std(fractal dimension error)': 0.0028007806556258684,\n",
       "           'std(worst radius)': 4.890765571326346,\n",
       "           'std(worst texture)': 6.175099156107773,\n",
       "           'std(worst perimeter)': 34.25334601590067,\n",
       "           'std(worst area)': 574.3647572720355,\n",
       "           'std(worst smoothness)': 0.02288117816856425,\n",
       "           'std(worst compactness)': 0.15823776896085706,\n",
       "           'std(worst concavity)': 0.20830000651024863,\n",
       "           'std(worst concave points)': 0.06564908695544912,\n",
       "           'std(worst symmetry)': 0.062417404027318026,\n",
       "           'std(worst fractal dimension)': 0.01846663354939416}))"
      ]
     },
     "execution_count": 45,
     "metadata": {},
     "output_type": "execute_result"
    }
   ],
   "source": [
    "transformed_ds, transformed_ds.stats_"
   ]
  },
  {
   "cell_type": "markdown",
   "id": "8cc176fd-a8fc-4415-8102-9d47e6f981f2",
   "metadata": {
    "pycharm": {
     "name": "#%% md\n"
    }
   },
   "source": [
    "### Compare it to scikit-learn preprocessor"
   ]
  },
  {
   "cell_type": "code",
   "execution_count": 32,
   "id": "167e29a7-0e0f-4a01-81ed-61591e4005e8",
   "metadata": {
    "pycharm": {
     "name": "#%%\n"
    }
   },
   "outputs": [],
   "source": [
    "import sklearn\n",
    "sckit_preprocessor  = sklearn.preprocessing.StandardScaler()\n",
    "transformed_ds_scikit= sckit_preprocessor.fit(train_df)"
   ]
  },
  {
   "cell_type": "code",
   "execution_count": 33,
   "id": "13e7871b-4dbd-4ea9-8633-0590aed498a4",
   "metadata": {
    "pycharm": {
     "name": "#%%\n"
    }
   },
   "outputs": [
    {
     "name": "stdout",
     "output_type": "stream",
     "text": [
      "['mean radius' 'mean texture' 'mean perimeter' 'mean area'\n",
      " 'mean smoothness' 'mean compactness' 'mean concavity'\n",
      " 'mean concave points' 'mean symmetry' 'mean fractal dimension'\n",
      " 'radius error' 'texture error' 'perimeter error' 'area error'\n",
      " 'smoothness error' 'compactness error' 'concavity error'\n",
      " 'concave points error' 'symmetry error' 'fractal dimension error'\n",
      " 'worst radius' 'worst texture' 'worst perimeter' 'worst area'\n",
      " 'worst smoothness' 'worst compactness' 'worst concavity'\n",
      " 'worst concave points' 'worst symmetry' 'worst fractal dimension'\n",
      " 'target']\n"
     ]
    }
   ],
   "source": [
    "print(transformed_ds_scikit.feature_names_in_)"
   ]
  },
  {
   "cell_type": "code",
   "execution_count": 46,
   "id": "92f3e1a0-5672-40cd-9d04-2202f5b8f108",
   "metadata": {
    "pycharm": {
     "name": "#%%\n"
    }
   },
   "outputs": [
    {
     "name": "stdout",
     "output_type": "stream",
     "text": [
      "[1.40958367e+01 1.92987688e+01 9.17867588e+01 6.55056784e+02\n",
      " 9.56791709e-02 1.03747487e-01 8.85822078e-02 4.85918065e-02\n",
      " 1.81288693e-01 6.28974874e-02 4.13853518e-01 1.23734925e+00\n",
      " 2.95375201e+00 4.14821005e+01 7.08565578e-03 2.57469925e-02\n",
      " 3.22460065e-02 1.18536457e-02 2.09743769e-02 3.88469874e-03\n",
      " 1.62071683e+01 2.56024372e+01 1.07077487e+02 8.77387688e+02\n",
      " 1.31264246e-01 2.50892387e-01 2.69024035e-01 1.13090399e-01\n",
      " 2.88766583e-01 8.38249749e-02 6.25628141e-01]\n"
     ]
    }
   ],
   "source": [
    "print(transformed_ds_scikit.mean_)"
   ]
  },
  {
   "cell_type": "code",
   "execution_count": 47,
   "id": "2c2187de-1b5c-449b-98b1-8a58be60d268",
   "metadata": {
    "pycharm": {
     "name": "#%%\n"
    }
   },
   "outputs": [
    {
     "name": "stdout",
     "output_type": "stream",
     "text": [
      "[3.62563623e+00 4.33583540e+00 2.50317303e+01 3.64389348e+02\n",
      " 1.40150966e-02 5.35671053e-02 8.11709029e-02 3.90213135e-02\n",
      " 2.77667021e-02 7.21478787e-03 2.91757470e-01 5.74675669e-01\n",
      " 2.16239353e+00 4.93857480e+01 2.83995351e-03 1.81512332e-02\n",
      " 3.00282431e-02 6.25792495e-03 8.73985649e-03 2.80078066e-03\n",
      " 4.89076557e+00 6.17509916e+00 3.42533460e+01 5.74364757e+02\n",
      " 2.28811782e-02 1.58237769e-01 2.08300007e-01 6.56490870e-02\n",
      " 6.24174040e-02 1.84666335e-02 4.83960298e-01]\n"
     ]
    }
   ],
   "source": [
    "print(transformed_ds_scikit.scale_)"
   ]
  },
  {
   "cell_type": "code",
   "execution_count": 48,
   "id": "c3ce6210-86a7-4299-bfd3-7c254d6e4ec0",
   "metadata": {
    "pycharm": {
     "name": "#%%\n"
    }
   },
   "outputs": [],
   "source": [
    "import pandas as pd\n",
    "import ray\n",
    "from ray.data.preprocessors import MinMaxScaler"
   ]
  },
  {
   "cell_type": "markdown",
   "id": "1e448570-d618-45ad-8326-f6dc62ad2c95",
   "metadata": {
    "pycharm": {
     "name": "#%% md\n"
    }
   },
   "source": [
    "Generate two datasets "
   ]
  },
  {
   "cell_type": "code",
   "execution_count": 67,
   "id": "45956609-55c3-468f-bd46-4ca7b17561da",
   "metadata": {
    "pycharm": {
     "name": "#%%\n"
    }
   },
   "outputs": [
    {
     "name": "stderr",
     "output_type": "stream",
     "text": [
      "Read progress: 100%|█████████████████████████████████████████████████████████████████████████████████████████████████████| 8/8 [00:00<00:00, 3908.50it/s]\n"
     ]
    }
   ],
   "source": [
    "dataset = ray.data.range_table(8)\n",
    "dataset1, dataset2 = dataset.split(2)"
   ]
  },
  {
   "cell_type": "code",
   "execution_count": 68,
   "id": "f6c2ec6b-4b69-48a4-aaf0-3b8e670657dd",
   "metadata": {
    "pycharm": {
     "name": "#%%\n"
    }
   },
   "outputs": [
    {
     "name": "stdout",
     "output_type": "stream",
     "text": [
      "[{'value': 0}, {'value': 1}, {'value': 2}, {'value': 3}]\n"
     ]
    }
   ],
   "source": [
    "print(dataset1.take())"
   ]
  },
  {
   "cell_type": "code",
   "execution_count": 69,
   "id": "499f4a3d-8ddd-4eb4-bce0-0f81ef64b421",
   "metadata": {
    "pycharm": {
     "name": "#%%\n"
    }
   },
   "outputs": [
    {
     "name": "stdout",
     "output_type": "stream",
     "text": [
      "[{'value': 4}, {'value': 5}, {'value': 6}, {'value': 7}]\n"
     ]
    }
   ],
   "source": [
    "print(dataset2.take())"
   ]
  },
  {
   "cell_type": "markdown",
   "id": "8e9e0af4-5f64-4314-b33b-6a96edff99a5",
   "metadata": {
    "pycharm": {
     "name": "#%% md\n"
    }
   },
   "source": [
    "Create preprocessor and transform the datasets"
   ]
  },
  {
   "cell_type": "code",
   "execution_count": 81,
   "id": "fb6ba667-95ab-444e-8cb8-0e9935b036f9",
   "metadata": {
    "pycharm": {
     "name": "#%%\n"
    }
   },
   "outputs": [],
   "source": [
    "preprocessor = MinMaxScaler([\"value\"])"
   ]
  },
  {
   "cell_type": "code",
   "execution_count": 82,
   "id": "4768ecac-eccd-4e4c-a7e4-97e39eee21ba",
   "metadata": {
    "pycharm": {
     "name": "#%%\n"
    }
   },
   "outputs": [
    {
     "name": "stderr",
     "output_type": "stream",
     "text": [
      "Shuffle Map: 100%|████████████████████████████████████████████████████████████████████████████████████████████████████████| 4/4 [00:00<00:00, 682.72it/s]\n",
      "Shuffle Reduce: 100%|█████████████████████████████████████████████████████████████████████████████████████████████████████| 1/1 [00:00<00:00, 344.44it/s]\n",
      "Map_Batches: 100%|████████████████████████████████████████████████████████████████████████████████████████████████████████| 4/4 [00:00<00:00, 311.21it/s]"
     ]
    },
    {
     "name": "stdout",
     "output_type": "stream",
     "text": [
      "[{'value': 0.0}, {'value': 0.3333333333333333}, {'value': 0.6666666666666666}, {'value': 1.0}]\n"
     ]
    },
    {
     "name": "stderr",
     "output_type": "stream",
     "text": [
      "\n"
     ]
    }
   ],
   "source": [
    "dataset1_transformed = preprocessor.fit_transform(dataset1)\n",
    "print(dataset1_transformed.take())"
   ]
  },
  {
   "cell_type": "code",
   "execution_count": 84,
   "id": "b1a306ef-3258-4fc9-996a-86aaeb1652aa",
   "metadata": {
    "pycharm": {
     "name": "#%%\n"
    }
   },
   "outputs": [
    {
     "name": "stderr",
     "output_type": "stream",
     "text": [
      "Map_Batches: 100%|████████████████████████████████████████████████████████████████████████████████████████████████████████| 4/4 [00:00<00:00, 253.85it/s]"
     ]
    },
    {
     "name": "stdout",
     "output_type": "stream",
     "text": [
      "[{'value': 1.3333333333333333}, {'value': 1.6666666666666667}, {'value': 2.0}, {'value': 2.3333333333333335}]\n"
     ]
    },
    {
     "name": "stderr",
     "output_type": "stream",
     "text": [
      "\n"
     ]
    }
   ],
   "source": [
    "# we have already fitted on this preprocessor, so no need to fit\n",
    "dataset2_transformed = preprocessor.transform(dataset2)\n",
    "print(dataset2_transformed.take())"
   ]
  },
  {
   "cell_type": "markdown",
   "id": "0dcee667-b3e0-4aeb-a2ed-5041b949910b",
   "metadata": {
    "pycharm": {
     "name": "#%% md\n"
    }
   },
   "source": [
    "Finally, let's call `transform_batch`"
   ]
  },
  {
   "cell_type": "code",
   "execution_count": 89,
   "id": "616db373-d4bf-40db-b49f-8028e8d739ec",
   "metadata": {
    "pycharm": {
     "name": "#%%\n"
    }
   },
   "outputs": [
    {
     "data": {
      "text/html": [
       "<div>\n",
       "<style scoped>\n",
       "    .dataframe tbody tr th:only-of-type {\n",
       "        vertical-align: middle;\n",
       "    }\n",
       "\n",
       "    .dataframe tbody tr th {\n",
       "        vertical-align: top;\n",
       "    }\n",
       "\n",
       "    .dataframe thead th {\n",
       "        text-align: right;\n",
       "    }\n",
       "</style>\n",
       "<table border=\"1\" class=\"dataframe\">\n",
       "  <thead>\n",
       "    <tr style=\"text-align: right;\">\n",
       "      <th></th>\n",
       "      <th>value</th>\n",
       "    </tr>\n",
       "  </thead>\n",
       "  <tbody>\n",
       "    <tr>\n",
       "      <th>0</th>\n",
       "      <td>8</td>\n",
       "    </tr>\n",
       "    <tr>\n",
       "      <th>1</th>\n",
       "      <td>9</td>\n",
       "    </tr>\n",
       "    <tr>\n",
       "      <th>2</th>\n",
       "      <td>10</td>\n",
       "    </tr>\n",
       "    <tr>\n",
       "      <th>3</th>\n",
       "      <td>11</td>\n",
       "    </tr>\n",
       "  </tbody>\n",
       "</table>\n",
       "</div>"
      ],
      "text/plain": [
       "   value\n",
       "0      8\n",
       "1      9\n",
       "2     10\n",
       "3     11"
      ]
     },
     "execution_count": 89,
     "metadata": {},
     "output_type": "execute_result"
    }
   ],
   "source": [
    "batch = pd.DataFrame({\"value\": list(range(8, 12))})\n",
    "batch"
   ]
  },
  {
   "cell_type": "code",
   "execution_count": 90,
   "id": "10186680-4f97-430a-a505-0c7ba476d494",
   "metadata": {
    "pycharm": {
     "name": "#%%\n"
    }
   },
   "outputs": [
    {
     "name": "stdout",
     "output_type": "stream",
     "text": [
      "      value\n",
      "0  2.666667\n",
      "1  3.000000\n",
      "2  3.333333\n",
      "3  3.666667\n"
     ]
    }
   ],
   "source": [
    "batch_transformed = preprocessor.transform_batch(batch)\n",
    "print(batch_transformed)"
   ]
  },
  {
   "cell_type": "code",
   "execution_count": null,
   "id": "1cc6fea8-a384-4fe8-a6f0-9f7b582f0938",
   "metadata": {
    "pycharm": {
     "name": "#%%\n"
    }
   },
   "outputs": [],
   "source": []
  }
 ],
 "metadata": {
  "kernelspec": {
   "display_name": "Python 3.8.13",
   "language": "python",
   "name": "python3"
  },
  "language_info": {
   "codemirror_mode": {
    "name": "ipython",
    "version": 3
   },
   "file_extension": ".py",
   "mimetype": "text/x-python",
   "name": "python",
   "nbconvert_exporter": "python",
   "pygments_lexer": "ipython3",
   "version": "3.8.13"
  },
  "vscode": {
   "interpreter": {
    "hash": "0f9baa705f095037670b11d47114911b546aeb3e0a8b56407edb208eea715d47"
   }
  }
 },
 "nbformat": 4,
 "nbformat_minor": 5
}
