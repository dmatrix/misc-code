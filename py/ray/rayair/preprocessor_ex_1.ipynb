{
 "cells": [
  {
   "cell_type": "code",
   "execution_count": 1,
   "id": "4c34c83b-4332-451c-b185-225958544e6f",
   "metadata": {},
   "outputs": [],
   "source": [
    "import ray\n",
    "from ray.data.preprocessors import MinMaxScaler\n",
    "from ray.train.xgboost import XGBoostTrainer"
   ]
  },
  {
   "cell_type": "code",
   "execution_count": 11,
   "id": "8016a837-538a-4705-a966-5eb2f30ffa57",
   "metadata": {},
   "outputs": [],
   "source": [
    "train_items = [{\"x\": x, \"y\": 2 * x} for x in range(0, 32, 3)]\n",
    "valid_items = [{\"x\": x, \"y\": 2 * x} for x in range(1, 32, 3)]"
   ]
  },
  {
   "cell_type": "markdown",
   "id": "5e0c874a-ba2c-43f7-8a2a-cc39b510abb9",
   "metadata": {},
   "source": [
    "### Create Ray Dataset"
   ]
  },
  {
   "cell_type": "code",
   "execution_count": 12,
   "id": "43a1ee9a-2e7b-4a20-8f24-a820b6e74736",
   "metadata": {},
   "outputs": [
    {
     "data": {
      "text/plain": [
       "(Dataset(num_blocks=11, num_rows=11, schema={x: int64, y: int64}),\n",
       " Dataset(num_blocks=11, num_rows=11, schema={x: int64, y: int64}))"
      ]
     },
     "execution_count": 12,
     "metadata": {},
     "output_type": "execute_result"
    }
   ],
   "source": [
    "# convert into ray dataset\n",
    "train_dataset = ray.data.from_items(train_items)\n",
    "valid_dataset = ray.data.from_items(valid_items)\n",
    "train_dataset, valid_dataset"
   ]
  },
  {
   "cell_type": "code",
   "execution_count": 14,
   "id": "9e8fda6c-0dd9-4544-8d21-769d7438f4e8",
   "metadata": {},
   "outputs": [
    {
     "data": {
      "text/plain": [
       "[ArrowRow({'x': 0, 'y': 0}), ArrowRow({'x': 3, 'y': 6})]"
      ]
     },
     "execution_count": 14,
     "metadata": {},
     "output_type": "execute_result"
    }
   ],
   "source": [
    "train_dataset.take(2)"
   ]
  },
  {
   "cell_type": "code",
   "execution_count": 13,
   "id": "71827ab7-0e82-4f11-bb40-6c342f8ae826",
   "metadata": {},
   "outputs": [],
   "source": [
    "# create preporcessor\n",
    "preprocessor = MinMaxScaler([\"x\"])"
   ]
  },
  {
   "cell_type": "markdown",
   "id": "07e68e27-cd69-49ef-a26c-782e135e9e4c",
   "metadata": {},
   "source": [
    "### Use the XGBoostTrainer "
   ]
  },
  {
   "cell_type": "code",
   "execution_count": 15,
   "id": "f60092e1-b2cb-4a77-b35a-ca6c7110518b",
   "metadata": {},
   "outputs": [
    {
     "name": "stdout",
     "output_type": "stream",
     "text": [
      "== Status ==\n",
      "Current time: 2022-07-13 09:04:42 (running for 00:00:01.19)\n",
      "Memory usage on this node: 23.6/64.0 GiB\n",
      "Using FIFO scheduling algorithm.\n",
      "Resources requested: 3.0/10 CPUs, 0/0 GPUs, 0.0/35.53 GiB heap, 0.0/2.0 GiB objects\n",
      "Result logdir: /Users/jules/ray_results/XGBoostTrainer_2022-07-13_09-04-41\n",
      "Number of trials: 1/1 (1 RUNNING)\n",
      "+----------------------------+----------+-----------------+\n",
      "| Trial name                 | status   | loc             |\n",
      "|----------------------------+----------+-----------------|\n",
      "| XGBoostTrainer_811d0_00000 | RUNNING  | 127.0.0.1:13557 |\n",
      "+----------------------------+----------+-----------------+\n",
      "\n",
      "\n"
     ]
    },
    {
     "name": "stderr",
     "output_type": "stream",
     "text": [
      "\u001b[2m\u001b[36m(XGBoostTrainer pid=13557)\u001b[0m 2022-07-13 09:04:43,783\tINFO main.py:980 -- [RayXGBoost] Created 2 new actors (2 total actors). Waiting until actors are ready for training.\n",
      "\u001b[2m\u001b[36m(_RemoteRayXGBoostActor pid=13589)\u001b[0m 2022-07-13 09:04:44,780\tWARNING __init__.py:192 -- DeprecationWarning: `ray.worker.get_resource_ids` is a private attribute and access will be removed in a future Ray version.\n",
      "\u001b[2m\u001b[36m(_RemoteRayXGBoostActor pid=13589)\u001b[0m   File \"/Users/jules/git-repos/ray/python/ray/_private/workers/default_worker.py\", line 237, in <module>\n",
      "\u001b[2m\u001b[36m(_RemoteRayXGBoostActor pid=13589)\u001b[0m     ray._private.worker.global_worker.main_loop()\n",
      "\u001b[2m\u001b[36m(_RemoteRayXGBoostActor pid=13589)\u001b[0m   File \"/Users/jules/git-repos/ray/python/ray/_private/worker.py\", line 754, in main_loop\n",
      "\u001b[2m\u001b[36m(_RemoteRayXGBoostActor pid=13589)\u001b[0m     self.core_worker.run_task_loop()\n",
      "\u001b[2m\u001b[36m(_RemoteRayXGBoostActor pid=13589)\u001b[0m   File \"/Users/jules/git-repos/ray/python/ray/_private/function_manager.py\", line 674, in actor_method_executor\n",
      "\u001b[2m\u001b[36m(_RemoteRayXGBoostActor pid=13589)\u001b[0m     return method(__ray_actor, *args, **kwargs)\n",
      "\u001b[2m\u001b[36m(_RemoteRayXGBoostActor pid=13589)\u001b[0m   File \"/Users/jules/git-repos/ray/python/ray/util/tracing/tracing_helper.py\", line 466, in _resume_span\n",
      "\u001b[2m\u001b[36m(_RemoteRayXGBoostActor pid=13589)\u001b[0m     return method(self, *_args, **_kwargs)\n",
      "\u001b[2m\u001b[36m(_RemoteRayXGBoostActor pid=13589)\u001b[0m   File \"/opt/miniconda3/envs/ray-build/lib/python3.8/site-packages/xgboost_ray/main.py\", line 474, in __init__\n",
      "\u001b[2m\u001b[36m(_RemoteRayXGBoostActor pid=13589)\u001b[0m     _set_omp_num_threads()\n",
      "\u001b[2m\u001b[36m(_RemoteRayXGBoostActor pid=13589)\u001b[0m   File \"/opt/miniconda3/envs/ray-build/lib/python3.8/site-packages/xgboost_ray/main.py\", line 280, in _set_omp_num_threads\n",
      "\u001b[2m\u001b[36m(_RemoteRayXGBoostActor pid=13589)\u001b[0m     ray_cpus = _ray_get_actor_cpus()\n",
      "\u001b[2m\u001b[36m(_RemoteRayXGBoostActor pid=13589)\u001b[0m   File \"/opt/miniconda3/envs/ray-build/lib/python3.8/site-packages/xgboost_ray/main.py\", line 262, in _ray_get_actor_cpus\n",
      "\u001b[2m\u001b[36m(_RemoteRayXGBoostActor pid=13589)\u001b[0m     resource_ids = ray.worker.get_resource_ids()\n",
      "\u001b[2m\u001b[36m(_RemoteRayXGBoostActor pid=13589)\u001b[0m   File \"/Users/jules/git-repos/ray/python/ray/__init__.py\", line 196, in __getattr__\n",
      "\u001b[2m\u001b[36m(_RemoteRayXGBoostActor pid=13589)\u001b[0m     traceback.print_stack()\n",
      "\u001b[2m\u001b[36m(_RemoteRayXGBoostActor pid=13588)\u001b[0m 2022-07-13 09:04:44,780\tWARNING __init__.py:192 -- DeprecationWarning: `ray.worker.get_resource_ids` is a private attribute and access will be removed in a future Ray version.\n",
      "\u001b[2m\u001b[36m(_RemoteRayXGBoostActor pid=13588)\u001b[0m   File \"/Users/jules/git-repos/ray/python/ray/_private/workers/default_worker.py\", line 237, in <module>\n",
      "\u001b[2m\u001b[36m(_RemoteRayXGBoostActor pid=13588)\u001b[0m     ray._private.worker.global_worker.main_loop()\n",
      "\u001b[2m\u001b[36m(_RemoteRayXGBoostActor pid=13588)\u001b[0m   File \"/Users/jules/git-repos/ray/python/ray/_private/worker.py\", line 754, in main_loop\n",
      "\u001b[2m\u001b[36m(_RemoteRayXGBoostActor pid=13588)\u001b[0m     self.core_worker.run_task_loop()\n",
      "\u001b[2m\u001b[36m(_RemoteRayXGBoostActor pid=13588)\u001b[0m   File \"/Users/jules/git-repos/ray/python/ray/_private/function_manager.py\", line 674, in actor_method_executor\n",
      "\u001b[2m\u001b[36m(_RemoteRayXGBoostActor pid=13588)\u001b[0m     return method(__ray_actor, *args, **kwargs)\n",
      "\u001b[2m\u001b[36m(_RemoteRayXGBoostActor pid=13588)\u001b[0m   File \"/Users/jules/git-repos/ray/python/ray/util/tracing/tracing_helper.py\", line 466, in _resume_span\n",
      "\u001b[2m\u001b[36m(_RemoteRayXGBoostActor pid=13588)\u001b[0m     return method(self, *_args, **_kwargs)\n",
      "\u001b[2m\u001b[36m(_RemoteRayXGBoostActor pid=13588)\u001b[0m   File \"/opt/miniconda3/envs/ray-build/lib/python3.8/site-packages/xgboost_ray/main.py\", line 474, in __init__\n",
      "\u001b[2m\u001b[36m(_RemoteRayXGBoostActor pid=13588)\u001b[0m     _set_omp_num_threads()\n",
      "\u001b[2m\u001b[36m(_RemoteRayXGBoostActor pid=13588)\u001b[0m   File \"/opt/miniconda3/envs/ray-build/lib/python3.8/site-packages/xgboost_ray/main.py\", line 280, in _set_omp_num_threads\n",
      "\u001b[2m\u001b[36m(_RemoteRayXGBoostActor pid=13588)\u001b[0m     ray_cpus = _ray_get_actor_cpus()\n",
      "\u001b[2m\u001b[36m(_RemoteRayXGBoostActor pid=13588)\u001b[0m   File \"/opt/miniconda3/envs/ray-build/lib/python3.8/site-packages/xgboost_ray/main.py\", line 262, in _ray_get_actor_cpus\n",
      "\u001b[2m\u001b[36m(_RemoteRayXGBoostActor pid=13588)\u001b[0m     resource_ids = ray.worker.get_resource_ids()\n",
      "\u001b[2m\u001b[36m(_RemoteRayXGBoostActor pid=13588)\u001b[0m   File \"/Users/jules/git-repos/ray/python/ray/__init__.py\", line 196, in __getattr__\n",
      "\u001b[2m\u001b[36m(_RemoteRayXGBoostActor pid=13588)\u001b[0m     traceback.print_stack()\n",
      "\u001b[2m\u001b[36m(XGBoostTrainer pid=13557)\u001b[0m 2022-07-13 09:04:44,894\tINFO main.py:1025 -- [RayXGBoost] Starting XGBoost training.\n",
      "\u001b[2m\u001b[36m(_RemoteRayXGBoostActor pid=13589)\u001b[0m [09:04:44] task [xgboost.ray]:5707416768 got new rank 1\n",
      "\u001b[2m\u001b[36m(_RemoteRayXGBoostActor pid=13588)\u001b[0m [09:04:44] task [xgboost.ray]:4671669392 got new rank 0\n"
     ]
    },
    {
     "name": "stdout",
     "output_type": "stream",
     "text": [
      "Result for XGBoostTrainer_811d0_00000:\n",
      "  date: 2022-07-13_09-04-46\n",
      "  done: false\n",
      "  experiment_id: a70fccfdec104e52ab05a369a4a008fa\n",
      "  hostname: Juless-MacBook-Pro-16\n",
      "  iterations_since_restore: 1\n",
      "  node_ip: 127.0.0.1\n",
      "  pid: 13557\n",
      "  should_checkpoint: true\n",
      "  time_since_restore: 3.626943826675415\n",
      "  time_this_iter_s: 3.626943826675415\n",
      "  time_total_s: 3.626943826675415\n",
      "  timestamp: 1657728286\n",
      "  timesteps_since_restore: 0\n",
      "  train-rmse: 26.757627185845564\n",
      "  training_iteration: 1\n",
      "  trial_id: 811d0_00000\n",
      "  valid-rmse: 28.41558771704671\n",
      "  warmup_time: 0.0032470226287841797\n",
      "  \n"
     ]
    },
    {
     "name": "stderr",
     "output_type": "stream",
     "text": [
      "\u001b[2m\u001b[36m(XGBoostTrainer pid=13557)\u001b[0m 2022-07-13 09:04:46,562\tINFO main.py:1516 -- [RayXGBoost] Finished XGBoost training on training data with total N=11 in 2.79 seconds (1.66 pure XGBoost training time).\n",
      "2022-07-13 09:04:47,516\tINFO tune.py:737 -- Total run time: 5.89 seconds (5.76 seconds for the tuning loop).\n"
     ]
    },
    {
     "name": "stdout",
     "output_type": "stream",
     "text": [
      "Result for XGBoostTrainer_811d0_00000:\n",
      "  date: 2022-07-13_09-04-46\n",
      "  done: true\n",
      "  experiment_id: a70fccfdec104e52ab05a369a4a008fa\n",
      "  experiment_tag: '0'\n",
      "  hostname: Juless-MacBook-Pro-16\n",
      "  iterations_since_restore: 10\n",
      "  node_ip: 127.0.0.1\n",
      "  pid: 13557\n",
      "  should_checkpoint: true\n",
      "  time_since_restore: 3.717350721359253\n",
      "  time_this_iter_s: 0.008311986923217773\n",
      "  time_total_s: 3.717350721359253\n",
      "  timestamp: 1657728286\n",
      "  timesteps_since_restore: 0\n",
      "  train-rmse: 3.3435785038526604\n",
      "  training_iteration: 10\n",
      "  trial_id: 811d0_00000\n",
      "  valid-rmse: 4.805372691443562\n",
      "  warmup_time: 0.0032470226287841797\n",
      "  \n",
      "== Status ==\n",
      "Current time: 2022-07-13 09:04:47 (running for 00:00:05.76)\n",
      "Memory usage on this node: 23.7/64.0 GiB\n",
      "Using FIFO scheduling algorithm.\n",
      "Resources requested: 0/10 CPUs, 0/0 GPUs, 0.0/35.53 GiB heap, 0.0/2.0 GiB objects\n",
      "Result logdir: /Users/jules/ray_results/XGBoostTrainer_2022-07-13_09-04-41\n",
      "Number of trials: 1/1 (1 TERMINATED)\n",
      "+----------------------------+------------+-----------------+--------+------------------+--------------+--------------+\n",
      "| Trial name                 | status     | loc             |   iter |   total time (s) |   train-rmse |   valid-rmse |\n",
      "|----------------------------+------------+-----------------+--------+------------------+--------------+--------------|\n",
      "| XGBoostTrainer_811d0_00000 | TERMINATED | 127.0.0.1:13557 |     10 |          3.71735 |      3.34358 |      4.80537 |\n",
      "+----------------------------+------------+-----------------+--------+------------------+--------------+--------------+\n",
      "\n",
      "\n",
      "== Status ==\n",
      "Current time: 2022-07-13 09:04:47 (running for 00:00:05.76)\n",
      "Memory usage on this node: 23.6/64.0 GiB\n",
      "Using FIFO scheduling algorithm.\n",
      "Resources requested: 0/10 CPUs, 0/0 GPUs, 0.0/35.53 GiB heap, 0.0/2.0 GiB objects\n",
      "Result logdir: /Users/jules/ray_results/XGBoostTrainer_2022-07-13_09-04-41\n",
      "Number of trials: 1/1 (1 TERMINATED)\n",
      "+----------------------------+------------+-----------------+--------+------------------+--------------+--------------+\n",
      "| Trial name                 | status     | loc             |   iter |   total time (s) |   train-rmse |   valid-rmse |\n",
      "|----------------------------+------------+-----------------+--------+------------------+--------------+--------------|\n",
      "| XGBoostTrainer_811d0_00000 | TERMINATED | 127.0.0.1:13557 |     10 |          3.71735 |      3.34358 |      4.80537 |\n",
      "+----------------------------+------------+-----------------+--------+------------------+--------------+--------------+\n",
      "\n",
      "\n"
     ]
    }
   ],
   "source": [
    "trainer = XGBoostTrainer(label_column = \"y\",\n",
    "                         params={\"objective\": \"reg:squarederror\"},\n",
    "                         scaling_config = {\"num_workers\": 2},\n",
    "                         datasets = {\"train\": train_dataset, \"valid\": valid_dataset},\n",
    "                         preprocessor = preprocessor)\n",
    "result = trainer.fit()"
   ]
  },
  {
   "cell_type": "code",
   "execution_count": 17,
   "id": "db703569-29a1-4171-b860-b8e9a032c753",
   "metadata": {},
   "outputs": [
    {
     "data": {
      "text/plain": [
       "Result(metrics={'train-rmse': 3.3435785038526604, 'valid-rmse': 4.805372691443562, 'time_this_iter_s': 0.008311986923217773, 'should_checkpoint': True, 'done': True, 'timesteps_total': None, 'episodes_total': None, 'training_iteration': 10, 'trial_id': '811d0_00000', 'experiment_id': 'a70fccfdec104e52ab05a369a4a008fa', 'date': '2022-07-13_09-04-46', 'timestamp': 1657728286, 'time_total_s': 3.717350721359253, 'pid': 13557, 'hostname': 'Juless-MacBook-Pro-16', 'node_ip': '127.0.0.1', 'config': {}, 'time_since_restore': 3.717350721359253, 'timesteps_since_restore': 0, 'iterations_since_restore': 10, 'warmup_time': 0.0032470226287841797, 'experiment_tag': '0'}, checkpoint=<ray.air.checkpoint.Checkpoint object at 0x136324f70>, error=None, log_dir=PosixPath('/Users/jules/ray_results/XGBoostTrainer_2022-07-13_09-04-41/XGBoostTrainer_811d0_00000_0_2022-07-13_09-04-41'), metrics_dataframe=   train-rmse  valid-rmse  ...  iterations_since_restore  warmup_time\n",
       "0   26.757627   28.415588  ...                         1     0.003247\n",
       "1   20.581774   22.206161  ...                         2     0.003247\n",
       "2   15.935120   17.529175  ...                         3     0.003247\n",
       "3   12.411553   13.981010  ...                         4     0.003247\n",
       "4    9.726695   11.283305  ...                         5     0.003247\n",
       "5    7.740693    9.261228  ...                         6     0.003247\n",
       "6    6.205434    7.699944  ...                         7     0.003247\n",
       "7    4.996292    6.481352  ...                         8     0.003247\n",
       "8    4.061030    5.535800  ...                         9     0.003247\n",
       "9    3.343579    4.805373  ...                        10     0.003247\n",
       "\n",
       "[10 rows x 20 columns], best_checkpoints=[(<ray.air.checkpoint.Checkpoint object at 0x1363247f0>, {'train-rmse': 26.757627185845564, 'valid-rmse': 28.41558771704671, 'time_this_iter_s': 3.626943826675415, 'should_checkpoint': True, 'done': False, 'timesteps_total': None, 'episodes_total': None, 'training_iteration': 1, 'trial_id': '811d0_00000', 'experiment_id': 'a70fccfdec104e52ab05a369a4a008fa', 'date': '2022-07-13_09-04-46', 'timestamp': 1657728286, 'time_total_s': 3.626943826675415, 'pid': 13557, 'hostname': 'Juless-MacBook-Pro-16', 'node_ip': '127.0.0.1', 'config': {}, 'time_since_restore': 3.626943826675415, 'timesteps_since_restore': 0, 'iterations_since_restore': 1, 'warmup_time': 0.0032470226287841797, 'experiment_tag': '0'}), (<ray.air.checkpoint.Checkpoint object at 0x136324a60>, {'train-rmse': 20.581774398872003, 'valid-rmse': 22.20616103324972, 'time_this_iter_s': 0.023789167404174805, 'should_checkpoint': True, 'done': False, 'timesteps_total': None, 'episodes_total': None, 'training_iteration': 2, 'trial_id': '811d0_00000', 'experiment_id': 'a70fccfdec104e52ab05a369a4a008fa', 'date': '2022-07-13_09-04-46', 'timestamp': 1657728286, 'time_total_s': 3.65073299407959, 'pid': 13557, 'hostname': 'Juless-MacBook-Pro-16', 'node_ip': '127.0.0.1', 'config': {}, 'time_since_restore': 3.65073299407959, 'timesteps_since_restore': 0, 'iterations_since_restore': 2, 'warmup_time': 0.0032470226287841797, 'experiment_tag': '0'}), (<ray.air.checkpoint.Checkpoint object at 0x136324160>, {'train-rmse': 15.935120478000806, 'valid-rmse': 17.529175008281115, 'time_this_iter_s': 0.009746789932250977, 'should_checkpoint': True, 'done': False, 'timesteps_total': None, 'episodes_total': None, 'training_iteration': 3, 'trial_id': '811d0_00000', 'experiment_id': 'a70fccfdec104e52ab05a369a4a008fa', 'date': '2022-07-13_09-04-46', 'timestamp': 1657728286, 'time_total_s': 3.660479784011841, 'pid': 13557, 'hostname': 'Juless-MacBook-Pro-16', 'node_ip': '127.0.0.1', 'config': {}, 'time_since_restore': 3.660479784011841, 'timesteps_since_restore': 0, 'iterations_since_restore': 3, 'warmup_time': 0.0032470226287841797, 'experiment_tag': '0'}), (<ray.air.checkpoint.Checkpoint object at 0x136324250>, {'train-rmse': 12.411552694530235, 'valid-rmse': 13.98100969575695, 'time_this_iter_s': 0.008563041687011719, 'should_checkpoint': True, 'done': False, 'timesteps_total': None, 'episodes_total': None, 'training_iteration': 4, 'trial_id': '811d0_00000', 'experiment_id': 'a70fccfdec104e52ab05a369a4a008fa', 'date': '2022-07-13_09-04-46', 'timestamp': 1657728286, 'time_total_s': 3.6690428256988525, 'pid': 13557, 'hostname': 'Juless-MacBook-Pro-16', 'node_ip': '127.0.0.1', 'config': {}, 'time_since_restore': 3.6690428256988525, 'timesteps_since_restore': 0, 'iterations_since_restore': 4, 'warmup_time': 0.0032470226287841797, 'experiment_tag': '0'}), (<ray.air.checkpoint.Checkpoint object at 0x136324dc0>, {'train-rmse': 9.726694627493238, 'valid-rmse': 11.283305341879576, 'time_this_iter_s': 0.007863044738769531, 'should_checkpoint': True, 'done': False, 'timesteps_total': None, 'episodes_total': None, 'training_iteration': 5, 'trial_id': '811d0_00000', 'experiment_id': 'a70fccfdec104e52ab05a369a4a008fa', 'date': '2022-07-13_09-04-46', 'timestamp': 1657728286, 'time_total_s': 3.676905870437622, 'pid': 13557, 'hostname': 'Juless-MacBook-Pro-16', 'node_ip': '127.0.0.1', 'config': {}, 'time_since_restore': 3.676905870437622, 'timesteps_since_restore': 0, 'iterations_since_restore': 5, 'warmup_time': 0.0032470226287841797, 'experiment_tag': '0'}), (<ray.air.checkpoint.Checkpoint object at 0x1363244c0>, {'train-rmse': 7.740692535061081, 'valid-rmse': 9.261227861612296, 'time_this_iter_s': 0.007905960083007812, 'should_checkpoint': True, 'done': False, 'timesteps_total': None, 'episodes_total': None, 'training_iteration': 6, 'trial_id': '811d0_00000', 'experiment_id': 'a70fccfdec104e52ab05a369a4a008fa', 'date': '2022-07-13_09-04-46', 'timestamp': 1657728286, 'time_total_s': 3.68481183052063, 'pid': 13557, 'hostname': 'Juless-MacBook-Pro-16', 'node_ip': '127.0.0.1', 'config': {}, 'time_since_restore': 3.68481183052063, 'timesteps_since_restore': 0, 'iterations_since_restore': 6, 'warmup_time': 0.0032470226287841797, 'experiment_tag': '0'}), (<ray.air.checkpoint.Checkpoint object at 0x136324af0>, {'train-rmse': 6.205434076887799, 'valid-rmse': 7.6999436016111575, 'time_this_iter_s': 0.008031129837036133, 'should_checkpoint': True, 'done': False, 'timesteps_total': None, 'episodes_total': None, 'training_iteration': 7, 'trial_id': '811d0_00000', 'experiment_id': 'a70fccfdec104e52ab05a369a4a008fa', 'date': '2022-07-13_09-04-46', 'timestamp': 1657728286, 'time_total_s': 3.692842960357666, 'pid': 13557, 'hostname': 'Juless-MacBook-Pro-16', 'node_ip': '127.0.0.1', 'config': {}, 'time_since_restore': 3.692842960357666, 'timesteps_since_restore': 0, 'iterations_since_restore': 7, 'warmup_time': 0.0032470226287841797, 'experiment_tag': '0'}), (<ray.air.checkpoint.Checkpoint object at 0x1363248e0>, {'train-rmse': 4.996291741666244, 'valid-rmse': 6.481352149343671, 'time_this_iter_s': 0.0073337554931640625, 'should_checkpoint': True, 'done': False, 'timesteps_total': None, 'episodes_total': None, 'training_iteration': 8, 'trial_id': '811d0_00000', 'experiment_id': 'a70fccfdec104e52ab05a369a4a008fa', 'date': '2022-07-13_09-04-46', 'timestamp': 1657728286, 'time_total_s': 3.70017671585083, 'pid': 13557, 'hostname': 'Juless-MacBook-Pro-16', 'node_ip': '127.0.0.1', 'config': {}, 'time_since_restore': 3.70017671585083, 'timesteps_since_restore': 0, 'iterations_since_restore': 8, 'warmup_time': 0.0032470226287841797, 'experiment_tag': '0'}), (<ray.air.checkpoint.Checkpoint object at 0x136324550>, {'train-rmse': 4.061029788955267, 'valid-rmse': 5.535799899116425, 'time_this_iter_s': 0.008862018585205078, 'should_checkpoint': True, 'done': False, 'timesteps_total': None, 'episodes_total': None, 'training_iteration': 9, 'trial_id': '811d0_00000', 'experiment_id': 'a70fccfdec104e52ab05a369a4a008fa', 'date': '2022-07-13_09-04-46', 'timestamp': 1657728286, 'time_total_s': 3.709038734436035, 'pid': 13557, 'hostname': 'Juless-MacBook-Pro-16', 'node_ip': '127.0.0.1', 'config': {}, 'time_since_restore': 3.709038734436035, 'timesteps_since_restore': 0, 'iterations_since_restore': 9, 'warmup_time': 0.0032470226287841797, 'experiment_tag': '0'}), (<ray.air.checkpoint.Checkpoint object at 0x136607b20>, {'train-rmse': 3.3435785038526604, 'valid-rmse': 4.805372691443562, 'time_this_iter_s': 0.008311986923217773, 'should_checkpoint': True, 'done': True, 'timesteps_total': None, 'episodes_total': None, 'training_iteration': 10, 'trial_id': '811d0_00000', 'experiment_id': 'a70fccfdec104e52ab05a369a4a008fa', 'date': '2022-07-13_09-04-46', 'timestamp': 1657728286, 'time_total_s': 3.717350721359253, 'pid': 13557, 'hostname': 'Juless-MacBook-Pro-16', 'node_ip': '127.0.0.1', 'config': {}, 'time_since_restore': 3.717350721359253, 'timesteps_since_restore': 0, 'iterations_since_restore': 10, 'warmup_time': 0.0032470226287841797, 'experiment_tag': '0'})])"
      ]
     },
     "execution_count": 17,
     "metadata": {},
     "output_type": "execute_result"
    }
   ],
   "source": [
    "result"
   ]
  },
  {
   "cell_type": "markdown",
   "id": "8a1d8c0c-0c1e-4af2-a741-48d03ed8b2c7",
   "metadata": {},
   "source": [
    "### Construct a predictor\n",
    "Since Preprocessor is saved with checkpoint, it will be used for the inference data automatically, without you having to explicity call it. Not bad, eh!"
   ]
  },
  {
   "cell_type": "code",
   "execution_count": 18,
   "id": "1119c7c2-d3b6-443b-8935-88201cc64868",
   "metadata": {},
   "outputs": [],
   "source": [
    "from ray.train.batch_predictor import BatchPredictor\n",
    "from ray.train.xgboost import XGBoostPredictor"
   ]
  },
  {
   "cell_type": "code",
   "execution_count": 19,
   "id": "133aeae4-c5a7-4e3c-8c58-66fdbdf6e5eb",
   "metadata": {},
   "outputs": [],
   "source": [
    "test_dataset = ray.data.from_items([{\"x\": x} for x in range(2, 32, 3)])"
   ]
  },
  {
   "cell_type": "code",
   "execution_count": 20,
   "id": "0d0da372-f8d6-4561-ab25-b6d7fb4b4093",
   "metadata": {},
   "outputs": [
    {
     "name": "stderr",
     "output_type": "stream",
     "text": [
      "Map Progress (1 actors 0 pending): 100%|█████████████████████████████████████████████████████████████████████████████████| 10/10 [00:00<00:00, 13.91it/s]"
     ]
    },
    {
     "name": "stdout",
     "output_type": "stream",
     "text": [
      "{'predictions': 0.09843720495700836}\n",
      "{'predictions': 5.604666709899902}\n",
      "{'predictions': 11.405311584472656}\n",
      "{'predictions': 15.684700012207031}\n",
      "{'predictions': 23.990947723388672}\n",
      "{'predictions': 29.900211334228516}\n",
      "{'predictions': 34.59944152832031}\n",
      "{'predictions': 40.6968994140625}\n",
      "{'predictions': 45.68107604980469}\n",
      "{'predictions': 50.29003143310547}\n"
     ]
    },
    {
     "name": "stderr",
     "output_type": "stream",
     "text": [
      "\n"
     ]
    }
   ],
   "source": [
    "checkpoint = result.checkpoint\n",
    "batch_predictor = BatchPredictor.from_checkpoint(checkpoint, XGBoostPredictor)\n",
    "predicted_prob = batch_predictor.predict(test_dataset)\n",
    "predicted_prob.show()"
   ]
  },
  {
   "cell_type": "markdown",
   "id": "0c125c0f-5cc6-4eef-8687-aeb0dbcb72bf",
   "metadata": {},
   "source": [
    "### Chaining Preoprocessors\n",
    "Often, you will have a sequence of transformations on your dataset. You can achieve by using the `Chain` preprocessor. "
   ]
  },
  {
   "cell_type": "code",
   "execution_count": 21,
   "id": "f03ae770-2318-43eb-b45c-9618e0e36323",
   "metadata": {},
   "outputs": [],
   "source": [
    "from ray.data.preprocessors import Chain, MinMaxScaler, SimpleImputer"
   ]
  },
  {
   "cell_type": "code",
   "execution_count": 22,
   "id": "cf66f4cf-12f5-4364-a1e6-d65991d59a38",
   "metadata": {},
   "outputs": [
    {
     "name": "stdout",
     "output_type": "stream",
     "text": [
      "[{'value': 0}, {'value': 1}, {'value': 2}, {'value': 3}, {'value': None}]\n"
     ]
    }
   ],
   "source": [
    "# create some data with `none` values.\n",
    "dataset = ray.data.from_items(\n",
    "    [{\"value\": 0}, {\"value\": 1}, {\"value\": 2}, {\"value\": 3}, {\"value\": None}]\n",
    ")\n",
    "print(dataset.take())"
   ]
  },
  {
   "cell_type": "code",
   "execution_count": 26,
   "id": "220f4d77-91ee-4ca6-be74-5356dfe343a9",
   "metadata": {},
   "outputs": [],
   "source": [
    "# Now apply the chain preprocessor \n",
    "preprocessor  = Chain(SimpleImputer([\"value\"]), MinMaxScaler([\"value\"]))"
   ]
  },
  {
   "cell_type": "code",
   "execution_count": 27,
   "id": "f114b059-a813-468d-86c6-3d1d55d85dbf",
   "metadata": {},
   "outputs": [
    {
     "name": "stderr",
     "output_type": "stream",
     "text": [
      "Shuffle Map: 100%|█████████████████████████████████████████████████████████████████████████████████████████████████████████| 5/5 [00:00<00:00,  9.12it/s]\n",
      "Shuffle Reduce: 100%|█████████████████████████████████████████████████████████████████████████████████████████████████████| 1/1 [00:00<00:00, 282.96it/s]\n",
      "Map_Batches: 100%|████████████████████████████████████████████████████████████████████████████████████████████████████████| 5/5 [00:00<00:00, 328.21it/s]\n",
      "Shuffle Map: 100%|████████████████████████████████████████████████████████████████████████████████████████████████████████| 5/5 [00:00<00:00, 803.04it/s]\n",
      "Shuffle Reduce: 100%|█████████████████████████████████████████████████████████████████████████████████████████████████████| 1/1 [00:00<00:00, 233.71it/s]\n",
      "Map_Batches: 100%|████████████████████████████████████████████████████████████████████████████████████████████████████████| 5/5 [00:00<00:00, 444.02it/s]"
     ]
    },
    {
     "name": "stdout",
     "output_type": "stream",
     "text": [
      "[{'value': 0.0}, {'value': 0.3333333333333333}, {'value': 0.6666666666666666}, {'value': 1.0}, {'value': 0.5}]\n"
     ]
    },
    {
     "name": "stderr",
     "output_type": "stream",
     "text": [
      "\n"
     ]
    }
   ],
   "source": [
    "dataset_transformed = preprocessor.fit_transform(dataset)\n",
    "print(dataset_transformed.take())"
   ]
  }
 ],
 "metadata": {
  "kernelspec": {
   "display_name": "Python 3 (ipykernel)",
   "language": "python",
   "name": "python3"
  },
  "language_info": {
   "codemirror_mode": {
    "name": "ipython",
    "version": 3
   },
   "file_extension": ".py",
   "mimetype": "text/x-python",
   "name": "python",
   "nbconvert_exporter": "python",
   "pygments_lexer": "ipython3",
   "version": "3.8.13"
  }
 },
 "nbformat": 4,
 "nbformat_minor": 5
}
