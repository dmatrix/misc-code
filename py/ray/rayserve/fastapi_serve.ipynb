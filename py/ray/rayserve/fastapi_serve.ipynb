{
 "cells": [
  {
   "cell_type": "code",
   "execution_count": 1,
   "metadata": {},
   "outputs": [],
   "source": [
    "import numpy as np\n",
    "from xgboost import XGBClassifier\n",
    "from sklearn.model_selection import train_test_split\n",
    "from sklearn.metrics import accuracy_score\n",
    "import pickle\n",
    "\n",
    "import ray\n",
    "import logging\n",
    "from fastapi import FastAPI, Request\n",
    "from ray import serve"
   ]
  },
  {
   "cell_type": "code",
   "execution_count": 2,
   "metadata": {},
   "outputs": [],
   "source": [
    "# Load the data\n",
    "dataset = np.loadtxt('data/pima-indians-diabetes.data.csv', delimiter=\",\")\n",
    "# split data into X and y\n",
    "X = dataset[:, 0:8]\n",
    "y = dataset[:, 8]\n",
    "X_train, X_test, y_train, y_test = train_test_split(X, y, test_size=0.33, random_state=7)"
   ]
  },
  {
   "cell_type": "code",
   "execution_count": 3,
   "metadata": {},
   "outputs": [],
   "source": [
    "def create_and_save_model():\n",
    "    # Instantiate a model, fit and train\n",
    "    xgb_model = XGBClassifier(use_label_encoder=False)\n",
    "    xgb_model.fit(X_train, y_train)\n",
    "\n",
    "    # saving the model\n",
    "    with open('xgb_model.pkl', 'wb') as f:\n",
    "        pickle.dump(xgb_model, f)\n",
    "\n",
    "    return xgb_model"
   ]
  },
  {
   "cell_type": "code",
   "execution_count": 4,
   "metadata": {},
   "outputs": [
    {
     "name": "stderr",
     "output_type": "stream",
     "text": [
      "/opt/homebrew/Caskroom/miniforge/base/envs/ray-core-tutorial/lib/python3.8/site-packages/xgboost/sklearn.py:1421: UserWarning: `use_label_encoder` is deprecated in 1.7.0.\n",
      "  warnings.warn(\"`use_label_encoder` is deprecated in 1.7.0.\")\n"
     ]
    },
    {
     "name": "stdout",
     "output_type": "stream",
     "text": [
      "Accuracy: 74.02%\n"
     ]
    }
   ],
   "source": [
    "model = create_and_save_model()\n",
    "y_pred = model.predict(X_test)\n",
    "predictions = [round(value) for value in y_pred]\n",
    "accuracy = accuracy_score(y_test, predictions)\n",
    "print(\"Accuracy: %.2f%%\" % (accuracy * 100.0))"
   ]
  },
  {
   "cell_type": "code",
   "execution_count": 5,
   "metadata": {},
   "outputs": [
    {
     "data": {
      "text/html": [
       "<div>\n",
       "    <div style=\"margin-left: 50px;display: flex;flex-direction: row;align-items: center\">\n",
       "        <h3 style=\"color: var(--jp-ui-font-color0)\">Ray</h3>\n",
       "        <svg version=\"1.1\" id=\"ray\" width=\"3em\" viewBox=\"0 0 144.5 144.6\" style=\"margin-left: 3em;margin-right: 3em\">\n",
       "            <g id=\"layer-1\">\n",
       "                <path fill=\"#00a2e9\" class=\"st0\" d=\"M97.3,77.2c-3.8-1.1-6.2,0.9-8.3,5.1c-3.5,6.8-9.9,9.9-17.4,9.6S58,88.1,54.8,81.2c-1.4-3-3-4-6.3-4.1\n",
       "                    c-5.6-0.1-9.9,0.1-13.1,6.4c-3.8,7.6-13.6,10.2-21.8,7.6C5.2,88.4-0.4,80.5,0,71.7c0.1-8.4,5.7-15.8,13.8-18.2\n",
       "                    c8.4-2.6,17.5,0.7,22.3,8c1.3,1.9,1.3,5.2,3.6,5.6c3.9,0.6,8,0.2,12,0.2c1.8,0,1.9-1.6,2.4-2.8c3.5-7.8,9.7-11.8,18-11.9\n",
       "                    c8.2-0.1,14.4,3.9,17.8,11.4c1.3,2.8,2.9,3.6,5.7,3.3c1-0.1,2,0.1,3,0c2.8-0.5,6.4,1.7,8.1-2.7s-2.3-5.5-4.1-7.5\n",
       "                    c-5.1-5.7-10.9-10.8-16.1-16.3C84,38,81.9,37.1,78,38.3C66.7,42,56.2,35.7,53,24.1C50.3,14,57.3,2.8,67.7,0.5\n",
       "                    C78.4-2,89,4.7,91.5,15.3c0.1,0.3,0.1,0.5,0.2,0.8c0.7,3.4,0.7,6.9-0.8,9.8c-1.7,3.2-0.8,5,1.5,7.2c6.7,6.5,13.3,13,19.8,19.7\n",
       "                    c1.8,1.8,3,2.1,5.5,1.2c9.1-3.4,17.9-0.6,23.4,7c4.8,6.9,4.6,16.1-0.4,22.9c-5.4,7.2-14.2,9.9-23.1,6.5c-2.3-0.9-3.5-0.6-5.1,1.1\n",
       "                    c-6.7,6.9-13.6,13.7-20.5,20.4c-1.8,1.8-2.5,3.2-1.4,5.9c3.5,8.7,0.3,18.6-7.7,23.6c-7.9,5-18.2,3.8-24.8-2.9\n",
       "                    c-6.4-6.4-7.4-16.2-2.5-24.3c4.9-7.8,14.5-11,23.1-7.8c3,1.1,4.7,0.5,6.9-1.7C91.7,98.4,98,92.3,104.2,86c1.6-1.6,4.1-2.7,2.6-6.2\n",
       "                    c-1.4-3.3-3.8-2.5-6.2-2.6C99.8,77.2,98.9,77.2,97.3,77.2z M72.1,29.7c5.5,0.1,9.9-4.3,10-9.8c0-0.1,0-0.2,0-0.3\n",
       "                    C81.8,14,77,9.8,71.5,10.2c-5,0.3-9,4.2-9.3,9.2c-0.2,5.5,4,10.1,9.5,10.3C71.8,29.7,72,29.7,72.1,29.7z M72.3,62.3\n",
       "                    c-5.4-0.1-9.9,4.2-10.1,9.7c0,0.2,0,0.3,0,0.5c0.2,5.4,4.5,9.7,9.9,10c5.1,0.1,9.9-4.7,10.1-9.8c0.2-5.5-4-10-9.5-10.3\n",
       "                    C72.6,62.3,72.4,62.3,72.3,62.3z M115,72.5c0.1,5.4,4.5,9.7,9.8,9.9c5.6-0.2,10-4.8,10-10.4c-0.2-5.4-4.6-9.7-10-9.7\n",
       "                    c-5.3-0.1-9.8,4.2-9.9,9.5C115,72.1,115,72.3,115,72.5z M19.5,62.3c-5.4,0.1-9.8,4.4-10,9.8c-0.1,5.1,5.2,10.4,10.2,10.3\n",
       "                    c5.6-0.2,10-4.9,9.8-10.5c-0.1-5.4-4.5-9.7-9.9-9.6C19.6,62.3,19.5,62.3,19.5,62.3z M71.8,134.6c5.9,0.2,10.3-3.9,10.4-9.6\n",
       "                    c0.5-5.5-3.6-10.4-9.1-10.8c-5.5-0.5-10.4,3.6-10.8,9.1c0,0.5,0,0.9,0,1.4c-0.2,5.3,4,9.8,9.3,10\n",
       "                    C71.6,134.6,71.7,134.6,71.8,134.6z\"/>\n",
       "            </g>\n",
       "        </svg>\n",
       "        <table>\n",
       "            <tr>\n",
       "                <td style=\"text-align: left\"><b>Python version:</b></td>\n",
       "                <td style=\"text-align: left\"><b>3.8.13</b></td>\n",
       "            </tr>\n",
       "            <tr>\n",
       "                <td style=\"text-align: left\"><b>Ray version:</b></td>\n",
       "                <td style=\"text-align: left\"><b> 2.2.0</b></td>\n",
       "            </tr>\n",
       "            <tr>\n",
       "    <td style=\"text-align: left\"><b>Dashboard:</b></td>\n",
       "    <td style=\"text-align: left\"><b><a href=\"http://127.0.0.1:8265\" target=\"_blank\">http://127.0.0.1:8265</a></b></td>\n",
       "</tr>\n",
       "\n",
       "        </table>\n",
       "    </div>\n",
       "</div>\n"
      ],
      "text/plain": [
       "RayContext(dashboard_url='127.0.0.1:8265', python_version='3.8.13', ray_version='2.2.0', ray_commit='b6af0887ee5f2e460202133791ad941a41f15beb', address_info={'node_ip_address': '127.0.0.1', 'raylet_ip_address': '127.0.0.1', 'redis_address': None, 'object_store_address': '/tmp/ray/session_2023-02-17_16-56-03_113892_51376/sockets/plasma_store', 'raylet_socket_name': '/tmp/ray/session_2023-02-17_16-56-03_113892_51376/sockets/raylet', 'webui_url': '127.0.0.1:8265', 'session_dir': '/tmp/ray/session_2023-02-17_16-56-03_113892_51376', 'metrics_export_port': 53063, 'gcs_address': '127.0.0.1:54401', 'address': '127.0.0.1:54401', 'dashboard_agent_listen_port': 52365, 'node_id': '4ee775f2e68d29bb596d310c4fd3953166fb702c37db64e8e05f1ff5'})"
      ]
     },
     "execution_count": 5,
     "metadata": {},
     "output_type": "execute_result"
    }
   ],
   "source": [
    "app = FastAPI()\n",
    "if ray.is_initialized:\n",
    "    ray.shutdown()\n",
    "ray.init(namespace=\"xgbregressor\", logging_level=logging.ERROR)"
   ]
  },
  {
   "cell_type": "code",
   "execution_count": 6,
   "metadata": {},
   "outputs": [],
   "source": [
    "@serve.deployment(num_replicas=2, route_prefix=\"/regressor\")\n",
    "@serve.ingress(app)\n",
    "class XGBModel:\n",
    "    def __init__(self):\n",
    "        # loading the model\n",
    "        with open(\"xgb_model.pkl\", \"rb\") as f:\n",
    "            self.model = pickle.load(f)\n",
    "        print(\"Pickled XGBoost model loaded\")\n",
    "\n",
    "    @app.post(\"/\")\n",
    "    async def predict(self, starlette_request: Request):\n",
    "        payload = await starlette_request.json()\n",
    "        print(\"Worker: received starlette request with data\", payload)\n",
    "\n",
    "        prediction = round(self.model.predict([np.array(list(payload.values()))])[0])\n",
    "        \n",
    "        return {\"result\": prediction}"
   ]
  },
  {
   "cell_type": "code",
   "execution_count": 7,
   "metadata": {},
   "outputs": [
    {
     "name": "stderr",
     "output_type": "stream",
     "text": [
      "\u001b[2m\u001b[36m(ServeController pid=51457)\u001b[0m INFO 2023-02-17 16:56:07,391 controller 51457 http_state.py:129 - Starting HTTP proxy with name 'SERVE_CONTROLLER_ACTOR:SERVE_PROXY_ACTOR-4ee775f2e68d29bb596d310c4fd3953166fb702c37db64e8e05f1ff5' on node '4ee775f2e68d29bb596d310c4fd3953166fb702c37db64e8e05f1ff5' listening on '127.0.0.1:8000'\n",
      "\u001b[2m\u001b[36m(ServeController pid=51457)\u001b[0m INFO 2023-02-17 16:56:08,062 controller 51457 deployment_state.py:1310 - Adding 2 replicas to deployment 'XGBModel'.\n",
      "\u001b[2m\u001b[36m(HTTPProxyActor pid=51459)\u001b[0m INFO:     Started server process [51459]\n"
     ]
    },
    {
     "name": "stdout",
     "output_type": "stream",
     "text": [
      "\u001b[2m\u001b[36m(ServeReplica:XGBModel pid=51462)\u001b[0m Pickled XGBoost model loaded\n",
      "\u001b[2m\u001b[36m(ServeReplica:XGBModel pid=51461)\u001b[0m Pickled XGBoost model loaded\n"
     ]
    },
    {
     "data": {
      "text/plain": [
       "RayServeSyncHandle(deployment='XGBModel')"
      ]
     },
     "execution_count": 7,
     "metadata": {},
     "output_type": "execute_result"
    }
   ],
   "source": [
    "xgboost_handle_cls = XGBModel.bind()\n",
    "serve.run(xgboost_handle_cls)"
   ]
  },
  {
   "cell_type": "code",
   "execution_count": 8,
   "metadata": {},
   "outputs": [],
   "source": [
    "import requests\n",
    "\n",
    "sample_request_inputs = [\n",
    "    {\"Pregnancies\": 6,\n",
    "     \"Glucose\": 148,\n",
    "     \"BloodPressure\": 72,\n",
    "     \"SkinThickness\": 35,\n",
    "     \"Insulin\": 0,\n",
    "     \"BMI\": 33.6,\n",
    "     \"DiabetesPedigree\": 0.625,\n",
    "     \"Age\": 50,\n",
    "    },\n",
    "    {\"Pregnancies\": 10,\n",
    "      \"Glucose\": 168,\n",
    "      \"BloodPressure\": 74,\n",
    "      \"SkinThickness\": 0,\n",
    "      \"Insulin\": 0,\n",
    "      \"BMI\": 38.0,\n",
    "      \"DiabetesPedigree\": 0.537,\n",
    "      \"Age\": 34,\n",
    "    },\n",
    "    {\"Pregnancies\": 10,\n",
    "     \"Glucose\": 39,\n",
    "     \"BloodPressure\": 80,\n",
    "     \"SkinThickness\": 0,\n",
    "     \"Insulin\": 0,\n",
    "     \"BMI\": 27.1,\n",
    "     \"DiabetesPedigree\": 1.441,\n",
    "     \"Age\": 57,\n",
    "     },\n",
    "     {\"Pregnancies\": 1,\n",
    "      \"Glucose\": 103,\n",
    "      \"BloodPressure\": 30,\n",
    "      \"SkinThickness\": 38,\n",
    "      \"Insulin\": 83,\n",
    "      \"BMI\": 43.3,\n",
    "      \"DiabetesPedigree\": 0.183,\n",
    "      \"Age\": 33,\n",
    "     }\n",
    "    ]"
   ]
  },
  {
   "cell_type": "code",
   "execution_count": 9,
   "metadata": {},
   "outputs": [
    {
     "name": "stdout",
     "output_type": "stream",
     "text": [
      "{\"result\":1}\n",
      "{\"result\":1}\n",
      "{\"result\":0}\n",
      "{\"result\":0}\n"
     ]
    }
   ],
   "source": [
    "# Iterate our requests\n",
    "for sri in sample_request_inputs:\n",
    "    response = requests.post(\"http://localhost:8000/regressor/\", json=sri)\n",
    "    print(response.text)"
   ]
  }
 ],
 "metadata": {
  "kernelspec": {
   "display_name": "Python 3 (ipykernel)",
   "language": "python",
   "name": "python3"
  },
  "language_info": {
   "codemirror_mode": {
    "name": "ipython",
    "version": 3
   },
   "file_extension": ".py",
   "mimetype": "text/x-python",
   "name": "python",
   "nbconvert_exporter": "python",
   "pygments_lexer": "ipython3",
   "version": "3.8.13"
  },
  "vscode": {
   "interpreter": {
    "hash": "0f9baa705f095037670b11d47114911b546aeb3e0a8b56407edb208eea715d47"
   }
  }
 },
 "nbformat": 4,
 "nbformat_minor": 4
}
