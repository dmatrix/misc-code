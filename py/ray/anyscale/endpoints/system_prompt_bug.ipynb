{
 "cells": [
  {
   "cell_type": "code",
   "execution_count": 22,
   "id": "4a6f7835-5c89-4828-bc46-7236f2bd0a3b",
   "metadata": {},
   "outputs": [],
   "source": [
    "import warnings\n",
    "import os\n",
    "\n",
    "import openai\n",
    "\n",
    "from dotenv import load_dotenv, find_dotenv"
   ]
  },
  {
   "cell_type": "code",
   "execution_count": 23,
   "id": "601a9168-7f20-40bc-a7a5-32bb02adbcfc",
   "metadata": {},
   "outputs": [
    {
     "name": "stdout",
     "output_type": "stream",
     "text": [
      "Using MODEL=gpt-4-1106-preview\n"
     ]
    }
   ],
   "source": [
    "_ = load_dotenv(find_dotenv()) # read local .env file\n",
    "warnings.filterwarnings('ignore')\n",
    "openai.api_base = os.getenv(\"ANYSCALE_API_BASE\", os.getenv(\"OPENAI_API_BASE\"))\n",
    "openai.api_key = os.getenv(\"ANYSCALE_API_KEY\", os.getenv(\"OPENAI_API_KEY\"))\n",
    "MODEL = os.getenv(\"MODEL\")\n",
    "print(f\"Using MODEL={MODEL}\")"
   ]
  },
  {
   "cell_type": "code",
   "execution_count": 24,
   "id": "32658de1-11ef-49ca-95ed-7b1de5a6eac9",
   "metadata": {},
   "outputs": [],
   "source": [
    "# completion function\n",
    "def get_completion(messages, model=MODEL, temperature=1, max_tokens=500):\n",
    "    response = openai.ChatCompletion.create(\n",
    "        model=model,\n",
    "        messages=messages,\n",
    "        temperature=temperature,\n",
    "        max_tokens=max_tokens,\n",
    "    )\n",
    "    return response.choices[0].message[\"content\"]"
   ]
  },
  {
   "cell_type": "markdown",
   "id": "c3e89f82-e0ba-4755-a733-2afbc0eea146",
   "metadata": {},
   "source": [
    "### Think Step by Step\n",
    "To elicit reasoning in LLMs, you can prompt the model to think step-by-step. Prompting the model in this way allows it to provide the details steps before providing a final response that solves the problem."
   ]
  },
  {
   "cell_type": "code",
   "execution_count": 25,
   "id": "9f3f9172-b3ef-4cd7-adac-a5eafb24e83e",
   "metadata": {},
   "outputs": [],
   "source": [
    "def execute_prompt(role, prompt):\n",
    "    system_message = \"\"\"The following is a conversation with an AI assistant. The assistant tone is technical and scientific.\n",
    "    \"\"\"\n",
    "    messages = [\n",
    "        {\n",
    "        \"role\": \"system\",\n",
    "        \"content\": system_message\n",
    "    },\n",
    "        {\n",
    "            \"role\": role,  \n",
    "            \"content\": prompt\n",
    "        }\n",
    "    ]\n",
    "    \n",
    "    return get_completion(messages, temperature=1)\n"
   ]
  },
  {
   "cell_type": "code",
   "execution_count": 26,
   "id": "6fbd4e2e-4293-4386-80f9-5411e18ae6c2",
   "metadata": {},
   "outputs": [],
   "source": [
    "#define roles\n",
    "user_role = \"user\"\n",
    "system_role = \"system\"\n",
    "\n",
    "# define prompts\n",
    "add_numbers_prompt = \"\"\"The odd numbers in this group may add up to an even or odd number: 3, 15, 32, 5, 13, 1, 82, 7, 11, 49. \n",
    "Solve by breaking the problem into steps. First, identify the odd numbers. Second, add the odd numbers. Finally, indicate\n",
    "whether the result is odd or even.\"\"\"\n",
    "\n",
    "prime_numbers_prompt=\"\"\"From these numbers in this group identify all prime numbers: 3, 15, 32, 5, 13, 1, 82, 7, 11, 49.\n",
    "Solve by breaking the problem into steps. First, identify the prime numbers. Second, add the prime numbers. Finally, indicate\n",
    "whether the result is odd or even.\"\"\"\n",
    "\n",
    "calculate_yearly_pay = \"\"\"Your hourly pay is $127.50 per hour. Given you will work 40 hours per week. First, compute your \n",
    "weekly pay. Second, using your weekly pay compute your monthly pay. And finaly, using your\n",
    "monthly pay, compute yearl pay.\"\"\""
   ]
  },
  {
   "cell_type": "code",
   "execution_count": 27,
   "id": "ca684b66-c1fc-4ab1-b1e8-e38bd3be5de5",
   "metadata": {},
   "outputs": [
    {
     "name": "stdout",
     "output_type": "stream",
     "text": [
      "First Step: Identify the odd numbers in the group.\n",
      "\n",
      "The group of numbers provided is:\n",
      "3, 15, 32, 5, 13, 1, 82, 7, 11, 49\n",
      "\n",
      "By examining each number, we can identify which are odd:\n",
      "- 3 is an odd number.\n",
      "- 15 is an odd number.\n",
      "- 32 is an even number and will not be included.\n",
      "- 5 is an odd number.\n",
      "- 13 is an odd number.\n",
      "- 1 is an odd number.\n",
      "- 82 is an even number and will not be included.\n",
      "- 7 is an odd number.\n",
      "- 11 is an odd number.\n",
      "- 49 is an odd number.\n",
      "\n",
      "The odd numbers extracted from the group are:\n",
      "3, 15, 5, 13, 1, 7, 11, 49\n",
      "\n",
      "Second Step: Add the odd numbers together.\n",
      "\n",
      "Performing the arithmetic addition of the odd numbers gives:\n",
      "3 + 15 + 5 + 13 + 1 + 7 + 11 + 49 = 104\n",
      "\n",
      "Third Step: Indicate whether the result is odd or even.\n",
      "\n",
      "The sum of the odd numbers 104 is an even number since it is divisible by 2 with no remainder.\n",
      "\n",
      "Let's confirm our understanding of odd and even numbers:\n",
      "- An odd number is an integer which is not a multiple of 2. If you divide an odd number by 2, there will be a remainder.\n",
      "- An even number is an integer which is a multiple of 2. This means the number can be divided by 2 with no remainder.\n",
      "\n",
      "Hence, 104, being divisible by 2 without a remainder, is classified as an even number.\n"
     ]
    }
   ],
   "source": [
    "response = execute_prompt(role=user_role, prompt=add_numbers_prompt)\n",
    "print(response)"
   ]
  },
  {
   "cell_type": "code",
   "execution_count": 28,
   "id": "d49954e3-7868-4894-82b4-429c890e7411",
   "metadata": {},
   "outputs": [
    {
     "name": "stdout",
     "output_type": "stream",
     "text": [
      "Step 1: Identify the prime numbers\n",
      "\n",
      "A prime number is a natural number greater than 1 that cannot be formed by multiplying two smaller natural numbers. Prime numbers have exactly two distinct positive divisors: 1 and the number itself.\n",
      "\n",
      "Let's analyze each number in the list to determine if it is prime:\n",
      "\n",
      "- 3: Prime (divisors are 1 and 3)\n",
      "- 15: Not prime (divisors include 1, 3, 5, 15)\n",
      "- 32: Not prime (divisors include 1, 2, 4, 8, 16, 32)\n",
      "- 5: Prime (divisors are 1 and 5)\n",
      "- 13: Prime (divisors are 1 and 13)\n",
      "- 1: Not a prime by definition, as the only divisor is 1 itself, not two distinct divisors\n",
      "- 82: Not prime (divisors include 1, 2, 41, 82)\n",
      "- 7: Prime (divisors are 1 and 7)\n",
      "- 11: Prime (divisors are 1 and 11)\n",
      "- 49: Not prime (divisors include 1, 7, 49)\n",
      "\n",
      "The prime numbers in the list are: 3, 5, 13, 7, 11\n",
      "\n",
      "Step 2: Add the prime numbers together\n",
      "\n",
      "Now I will add these prime numbers together:\n",
      "\n",
      "3 + 5 + 13 + 7 + 11 = 39\n",
      "\n",
      "Step 3: Indicate the result's parity (whether it is odd or even)\n",
      "\n",
      "An even number is any integer that can be divided exactly by 2. An odd number is an integer that can't be divided by 2 without a remainder.\n",
      "\n",
      "The sum of the prime numbers identified is 39. Since 39 cannot be divided evenly by 2, it is an odd number.\n",
      "\n",
      "Therefore, the result of adding the prime numbers from the list provided is odd.\n"
     ]
    }
   ],
   "source": [
    "response = execute_prompt(role=user_role, prompt=prime_numbers_prompt)\n",
    "print(response)"
   ]
  },
  {
   "cell_type": "code",
   "execution_count": 29,
   "id": "32e35d34-4838-47c7-8c69-432c9d106bdf",
   "metadata": {},
   "outputs": [
    {
     "name": "stdout",
     "output_type": "stream",
     "text": [
      "First, let's calculate your weekly pay.\n",
      "\n",
      "Weekly Pay = Hourly Pay × Hours per Week\n",
      "Weekly Pay = $127.50/hour × 40 hours/week\n",
      "Weekly Pay = $5,100/week\n",
      "\n",
      "Next, to estimate your monthly pay, we will assume an average of 4.33 weeks per month, as months vary in length from 28 to 31 days. This average is based on the fact that there are approximately 52 weeks in a year, and when divided by 12 months, it results in roughly 4.33 weeks per month.\n",
      "\n",
      "Monthly Pay = Weekly Pay × Average Weeks per Month\n",
      "Monthly Pay = $5,100/week × 4.33 weeks/month\n",
      "Monthly Pay ≈ $22,083/month\n",
      "\n",
      "Finally, for the annual pay calculation, we can use the weekly pay and multiply by the number of weeks in a year.\n",
      "\n",
      "Annual Pay = Weekly Pay × Weeks per Year\n",
      "Annual Pay = $5,100/week × 52 weeks/year\n",
      "Annual Pay = $265,200/year\n",
      "\n",
      "So, in summary:\n",
      "\n",
      "- Weekly Pay: $5,100\n",
      "- Monthly Pay: Approximately $22,083\n",
      "- Annual Pay: $265,200\n",
      "\n",
      "These calculations provide a basic framework for understanding the relation between your hourly, weekly, monthly, and annual pay. However, they do not take into account various factors such as taxes, possible overtime, bonuses, or variations in the number of working days per month which might affect the actual take-home amounts.\n",
      "\n"
     ]
    }
   ],
   "source": [
    "response = execute_prompt(role=user_role, prompt=calculate_yearly_pay)\n",
    "print(response)"
   ]
  }
 ],
 "metadata": {
  "kernelspec": {
   "display_name": "Python 3 (ipykernel)",
   "language": "python",
   "name": "python3"
  },
  "language_info": {
   "codemirror_mode": {
    "name": "ipython",
    "version": 3
   },
   "file_extension": ".py",
   "mimetype": "text/x-python",
   "name": "python",
   "nbconvert_exporter": "python",
   "pygments_lexer": "ipython3",
   "version": "3.8.13"
  }
 },
 "nbformat": 4,
 "nbformat_minor": 5
}
