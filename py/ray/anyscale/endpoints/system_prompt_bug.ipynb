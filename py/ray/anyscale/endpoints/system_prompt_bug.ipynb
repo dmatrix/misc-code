{
 "cells": [
  {
   "cell_type": "code",
   "execution_count": 1,
   "id": "4a6f7835-5c89-4828-bc46-7236f2bd0a3b",
   "metadata": {},
   "outputs": [
    {
     "ename": "ImportError",
     "evalue": "cannot import name 'OpenAI' from 'openai' (/opt/homebrew/Caskroom/miniforge/base/envs/ray-core-tutorial/lib/python3.8/site-packages/openai/__init__.py)",
     "output_type": "error",
     "traceback": [
      "\u001b[0;31m---------------------------------------------------------------------------\u001b[0m",
      "\u001b[0;31mImportError\u001b[0m                               Traceback (most recent call last)",
      "Cell \u001b[0;32mIn [1], line 5\u001b[0m\n\u001b[1;32m      2\u001b[0m \u001b[38;5;28;01mimport\u001b[39;00m \u001b[38;5;21;01mos\u001b[39;00m\n\u001b[1;32m      4\u001b[0m \u001b[38;5;28;01mimport\u001b[39;00m \u001b[38;5;21;01mopenai\u001b[39;00m\n\u001b[0;32m----> 5\u001b[0m \u001b[38;5;28;01mfrom\u001b[39;00m \u001b[38;5;21;01mopenai\u001b[39;00m \u001b[38;5;28;01mimport\u001b[39;00m OpenAI\n\u001b[1;32m      7\u001b[0m \u001b[38;5;28;01mfrom\u001b[39;00m \u001b[38;5;21;01mdotenv\u001b[39;00m \u001b[38;5;28;01mimport\u001b[39;00m load_dotenv, find_dotenv\n",
      "\u001b[0;31mImportError\u001b[0m: cannot import name 'OpenAI' from 'openai' (/opt/homebrew/Caskroom/miniforge/base/envs/ray-core-tutorial/lib/python3.8/site-packages/openai/__init__.py)"
     ]
    }
   ],
   "source": [
    "import warnings\n",
    "import os\n",
    "\n",
    "import openai\n",
    "from openai import OpenAI\n",
    "\n",
    "from dotenv import load_dotenv, find_dotenv"
   ]
  },
  {
   "cell_type": "code",
   "execution_count": 2,
   "id": "601a9168-7f20-40bc-a7a5-32bb02adbcfc",
   "metadata": {},
   "outputs": [
    {
     "ename": "NameError",
     "evalue": "name 'load_dotenv' is not defined",
     "output_type": "error",
     "traceback": [
      "\u001b[0;31m---------------------------------------------------------------------------\u001b[0m",
      "\u001b[0;31mNameError\u001b[0m                                 Traceback (most recent call last)",
      "Cell \u001b[0;32mIn [2], line 1\u001b[0m\n\u001b[0;32m----> 1\u001b[0m _ \u001b[38;5;241m=\u001b[39m \u001b[43mload_dotenv\u001b[49m(find_dotenv()) \u001b[38;5;66;03m# read local .env file\u001b[39;00m\n\u001b[1;32m      2\u001b[0m warnings\u001b[38;5;241m.\u001b[39mfilterwarnings(\u001b[38;5;124m'\u001b[39m\u001b[38;5;124mignore\u001b[39m\u001b[38;5;124m'\u001b[39m)\n\u001b[1;32m      3\u001b[0m openai\u001b[38;5;241m.\u001b[39mapi_base \u001b[38;5;241m=\u001b[39m os\u001b[38;5;241m.\u001b[39mgetenv(\u001b[38;5;124m\"\u001b[39m\u001b[38;5;124mANYSCALE_API_BASE\u001b[39m\u001b[38;5;124m\"\u001b[39m, os\u001b[38;5;241m.\u001b[39mgetenv(\u001b[38;5;124m\"\u001b[39m\u001b[38;5;124mOPENAI_API_BASE\u001b[39m\u001b[38;5;124m\"\u001b[39m))\n",
      "\u001b[0;31mNameError\u001b[0m: name 'load_dotenv' is not defined"
     ]
    }
   ],
   "source": [
    "_ = load_dotenv(find_dotenv()) # read local .env file\n",
    "warnings.filterwarnings('ignore')\n",
    "openai.api_base = os.getenv(\"ANYSCALE_API_BASE\", os.getenv(\"OPENAI_API_BASE\"))\n",
    "openai.api_key = os.getenv(\"ANYSCALE_API_KEY\", os.getenv(\"OPENAI_API_KEY\"))\n",
    "MODEL = os.getenv(\"MODEL\")\n",
    "print(f\"Using MODEL={MODEL}; base={openai.api_base}\")"
   ]
  },
  {
   "cell_type": "code",
   "execution_count": 31,
   "id": "b166dd32-c981-47b0-9184-5aa0aef54360",
   "metadata": {},
   "outputs": [],
   "source": [
    "from openai import OpenAI\n",
    "\n",
    "client = OpenAI(\n",
    "    # defaults to os.environ.get(\"OPENAI_API_KEY\")\n",
    "    api_key=openai.api_key\n",
    ")"
   ]
  },
  {
   "cell_type": "code",
   "execution_count": 32,
   "id": "32658de1-11ef-49ca-95ed-7b1de5a6eac9",
   "metadata": {},
   "outputs": [],
   "source": [
    "# completion function\n",
    "def get_completion(messages, model=MODEL, temperature=1, max_tokens=500):\n",
    "    response = client.chat.completions.create(\n",
    "        model=model,\n",
    "        messages=messages,\n",
    "        temperature=temperature,\n",
    "        max_tokens=max_tokens,\n",
    "    )\n",
    "    return response.choices[0].message.content"
   ]
  },
  {
   "cell_type": "markdown",
   "id": "c3e89f82-e0ba-4755-a733-2afbc0eea146",
   "metadata": {},
   "source": [
    "### Think Step by Step\n",
    "To elicit reasoning in LLMs, you can prompt the model to think step-by-step. Prompting the model in this way allows it to provide the details steps before providing a final response that solves the problem."
   ]
  },
  {
   "cell_type": "code",
   "execution_count": 33,
   "id": "9f3f9172-b3ef-4cd7-adac-a5eafb24e83e",
   "metadata": {},
   "outputs": [],
   "source": [
    "def execute_prompt(role, prompt):\n",
    "    system_message = \"\"\"The following is a conversation with an AI assistant. The assistant tone is technical and scientific.\n",
    "    \"\"\"\n",
    "    messages = [\n",
    "        {\n",
    "        \"role\": \"system\",\n",
    "        \"content\": system_message\n",
    "    },\n",
    "        {\n",
    "            \"role\": role,  \n",
    "            \"content\": prompt\n",
    "        }\n",
    "    ]\n",
    "    \n",
    "    return get_completion(messages, temperature=1)\n"
   ]
  },
  {
   "cell_type": "code",
   "execution_count": 34,
   "id": "6fbd4e2e-4293-4386-80f9-5411e18ae6c2",
   "metadata": {},
   "outputs": [],
   "source": [
    "#define roles\n",
    "user_role = \"user\"\n",
    "system_role = \"system\"\n",
    "\n",
    "# define prompts\n",
    "add_numbers_prompt = \"\"\"The odd numbers in this group may add up to an even or odd number: 3, 15, 32, 5, 13, 1, 82, 7, 11, 49. \n",
    "Solve by breaking the problem into steps. First, identify the odd numbers. Second, add the odd numbers. Finally, indicate\n",
    "whether the result is odd or even.\"\"\"\n",
    "\n",
    "prime_numbers_prompt=\"\"\"From these numbers in this group identify all prime numbers: 3, 15, 32, 5, 13, 1, 82, 7, 11, 49.\n",
    "Solve by breaking the problem into steps. First, identify the prime numbers. Second, add the prime numbers. Finally, indicate\n",
    "whether the result is odd or even.\"\"\"\n",
    "\n",
    "calculate_yearly_pay = \"\"\"Your hourly pay is $127.50 per hour. Given you will work 40 hours per week. First, compute your \n",
    "weekly pay. Second, using your weekly pay compute your monthly pay. And finaly, using your\n",
    "monthly pay, compute yearl pay.\"\"\""
   ]
  },
  {
   "cell_type": "code",
   "execution_count": 35,
   "id": "ca684b66-c1fc-4ab1-b1e8-e38bd3be5de5",
   "metadata": {},
   "outputs": [
    {
     "name": "stdout",
     "output_type": "stream",
     "text": [
      "Step 1: Identify the odd numbers in the group\n",
      "The odd numbers from the list you've provided are as follows: 3, 15, 5, 13, 1, 7, 11, and 49.\n",
      "\n",
      "Step 2: Add the odd numbers\n",
      "Now, we add these numbers together:\n",
      "\n",
      "3 + 15 + 5 + 13 + 1 + 7 + 11 + 49\n",
      "\n",
      "First, let's combine them in pairs to make the addition easier:\n",
      "\n",
      "(3 + 15) + (5 + 13) + (1 + 7) + (11 + 49)\n",
      "\n",
      "Now, let's perform the addition:\n",
      "\n",
      "18 + 18 + 8 + 60\n",
      "\n",
      "Now we combine these sums:\n",
      "\n",
      "18 + 18 = 36\n",
      "8 + 60 = 68\n",
      "\n",
      "Finally, we add these two results:\n",
      "\n",
      "36 + 68 = 104\n",
      "\n",
      "Step 3: Indicate whether the result is odd or even\n",
      "The sum of the odd numbers, as calculated, is 104, which is an even number. An even number is any integer that can be divided by 2 without leaving a remainder. Since 104 fits this criterion, the conclusion is that the sum of the odd numbers in the list you provided is even.\n"
     ]
    }
   ],
   "source": [
    "response = execute_prompt(role=user_role, prompt=add_numbers_prompt)\n",
    "print(response)"
   ]
  },
  {
   "cell_type": "code",
   "execution_count": 36,
   "id": "d49954e3-7868-4894-82b4-429c890e7411",
   "metadata": {},
   "outputs": [
    {
     "name": "stdout",
     "output_type": "stream",
     "text": [
      "To identify the prime numbers from the given list, we need to remember that a prime number is a natural number greater than 1 that has no positive divisors other than 1 and itself. This means it can only be divided by 1 and the number itself without leaving a remainder.\n",
      "\n",
      "Let's examine each number:\n",
      "\n",
      "1. **3**: It is a prime number because its only divisors are 1 and 3.\n",
      "\n",
      "2. **15**: It is not prime. Factors include 1, 3, 5, and 15 (it's divisible by 3 and 5).\n",
      "\n",
      "3. **32**: It is not prime. Factors include 1, 2, 4, 8, 16, and 32 (it's divisible by 2).\n",
      "\n",
      "4. **5**: It is a prime number because its only divisors are 1 and 5.\n",
      "\n",
      "5. **13**: It is a prime number because its only divisors are 1 and 13.\n",
      "\n",
      "6. **1**: The number 1 is not considered a prime number. By definition, a prime number has two distinct divisors, 1 and the number itself. Because 1 has only one divisor (1), it is not prime.\n",
      "\n",
      "7. **82**: It is not prime. Factors include 1, 2, 41, and 82 (it's divisible by 2).\n",
      "\n",
      "8. **7**: It is a prime number because its only divisors are 1 and 7.\n",
      "\n",
      "9. **11**: It is a prime number because its only divisors are 1 and 11.\n",
      "\n",
      "10. **49**: It is not prime. Factors include 1, 7, and 49 (it's 7 squared).\n",
      "\n",
      "Now that we have identified all the prime numbers (3, 5, 7, 11, and 13), let's add them:\n",
      "\n",
      "3 + 5 + 7 + 11 + 13 = 39\n",
      "\n",
      "The sum is 39. To determine if this number is odd or even, we check the last digit. If the last digit is even (0, 2, 4, 6, or 8), then the number is even. If the last digit is odd (1, 3, 5, 7, or 9), then the number is odd.\n",
      "\n",
      "Since the last digit of 39 is 9, which is an odd number, the\n"
     ]
    }
   ],
   "source": [
    "response = execute_prompt(role=user_role, prompt=prime_numbers_prompt)\n",
    "print(response)"
   ]
  },
  {
   "cell_type": "code",
   "execution_count": 37,
   "id": "32e35d34-4838-47c7-8c69-432c9d106bdf",
   "metadata": {},
   "outputs": [
    {
     "name": "stdout",
     "output_type": "stream",
     "text": [
      "First, let's calculate the weekly pay:\n",
      "\n",
      "\\[ \\text{Weekly Pay} = \\text{Hourly Pay} \\times \\text{Hours per Week} \\]\n",
      "\\[ \\text{Weekly Pay} = \\$127.50 \\times 40 \\]\n",
      "\\[ \\text{Weekly Pay} = \\$5100 \\]\n",
      "\n",
      "Now let's calculate the monthly pay. Since the number of working days can vary from month to month, the typical approach is to average the pay over the year. This is often done by multiplying the weekly pay by the average number of weeks per month. The average number of weeks per month is usually taken to be \\( \\frac{52 \\text{ weeks}}{12 \\text{ months}} \\).\n",
      "\n",
      "\\[ \\text{Monthly Pay} = \\text{Weekly Pay} \\times \\left(\\frac{52 \\text{ weeks}}{12 \\text{ months}}\\right) \\]\n",
      "\\[ \\text{Monthly Pay} = \\$5100 \\times \\left(\\frac{52}{12}\\right) \\]\n",
      "\\[ \\text{Monthly Pay} = \\$5100 \\times 4.3333 \\]\n",
      "\\[ \\text{Monthly Pay} \\approx \\$22099.83 \\]\n",
      "\n",
      "Finally, let's calculate the annual pay using the monthly pay:\n",
      "\n",
      "\\[ \\text{Annual Pay} = \\text{Monthly Pay} \\times 12 \\]\n",
      "\\[ \\text{Annual Pay} = \\$22099.83 \\times 12 \\]\n",
      "\\[ \\text{Annual Pay} \\approx \\$265198.96 \\]\n",
      "\n",
      "So, the annual pay would be approximately \\$265,198.96.\n"
     ]
    }
   ],
   "source": [
    "response = execute_prompt(role=user_role, prompt=calculate_yearly_pay)\n",
    "print(response)"
   ]
  }
 ],
 "metadata": {
  "kernelspec": {
   "display_name": "Python 3 (ipykernel)",
   "language": "python",
   "name": "python3"
  },
  "language_info": {
   "codemirror_mode": {
    "name": "ipython",
    "version": 3
   },
   "file_extension": ".py",
   "mimetype": "text/x-python",
   "name": "python",
   "nbconvert_exporter": "python",
   "pygments_lexer": "ipython3",
   "version": "3.8.13"
  }
 },
 "nbformat": 4,
 "nbformat_minor": 5
}
