{
 "cells": [
  {
   "cell_type": "code",
   "execution_count": 7,
   "id": "09cda9e2-cd6c-47a4-9627-ea5bb672cb51",
   "metadata": {},
   "outputs": [],
   "source": [
    "import warnings\n",
    "import os\n",
    "\n",
    "import openai\n",
    "\n",
    "from langchain.chat_models import ChatOpenAI\n",
    "from dotenv import load_dotenv, find_dotenv"
   ]
  },
  {
   "cell_type": "code",
   "execution_count": 8,
   "id": "894b6e99-60f6-49e6-9bfa-302689eb18a0",
   "metadata": {},
   "outputs": [],
   "source": [
    "_ = load_dotenv(find_dotenv()) # read local .env file\n",
    "MODEL = 'codellama/CodeLlama-34b-Instruct-hf'\n",
    "warnings.filterwarnings('ignore')\n",
    "openai.api_base = os.getenv(\"ANYSCALE_API_BASE\", os.getenv(\"OPENAI_API_BASE\"))\n",
    "openai.api_key = os.getenv(\"ANYSCALE_API_KEY\", os.getenv(\"OPENAI_API_KEY\"))"
   ]
  },
  {
   "cell_type": "code",
   "execution_count": 9,
   "id": "495122c3-6375-4e12-bc62-892943e0a5ed",
   "metadata": {},
   "outputs": [
    {
     "name": "stdout",
     "output_type": "stream",
     "text": [
      "Results from the OpenAI endpoint:\n",
      " Here is a Python function to generate the Fibonacci series:\n",
      "```\n",
      "def fibonacci(n):\n",
      "    if n == 0:\n",
      "        return 0\n",
      "    elif n == 1:\n",
      "        return 1\n",
      "    else:\n",
      "        return fibonacci(n-1) + fibonacci(n-2)\n",
      "```\n",
      "This function uses recursion to generate the Fibonacci series. The function takes an integer `n` as input, and returns the `n`th Fibonacci number. The function works by calling itself recursively with `n-1` and `n-2` as inputs, and then adding the two results together.\n",
      "\n",
      "You can test this function by calling it with different values of `n`. For example:\n",
      "```\n",
      "print(fibonacci(5)) # prints 5\n",
      "print(fibonacci(10)) # prints 55\n",
      "print(fibonacci(15)) # prints 610\n",
      "```\n",
      "--------------------\n",
      "Results from the OpenAI endpoint:\n",
      " Here's a simple C function to compute the value of PI using the Gregory-Leibniz series:\n",
      "```\n",
      "#include <math.h>\n",
      "\n",
      "double compute_pi(int n) {\n",
      "    double sum = 0.0;\n",
      "    for (int i = 0; i < n; i++) {\n",
      "        double x = (double)i / n;\n",
      "        sum += pow(-1.0, i) / (2.0 * i + 1.0) * (4.0 / (1.0 + x * x));\n",
      "    }\n",
      "    return sum;\n",
      "}\n",
      "```\n",
      "This function takes an integer `n` as input, which determines the number of terms to use in the Gregory-Leibniz series. The function returns the computed value of PI as a `double`.\n",
      "\n",
      "Here's an example usage of the function:\n",
      "```\n",
      "int main() {\n",
      "    double pi = compute_pi(10000);\n",
      "    printf(\"PI = %f\\n\", pi);\n",
      "    return 0;\n",
      "}\n",
      "```\n",
      "This should output the value of PI to the console with a precision of 4 decimal places.\n",
      "--------------------\n",
      "Results from the OpenAI endpoint:\n",
      " To fetch content from a URL in JavaScript, you can use the `fetch()` function. Here's an example of how you can use it:\n",
      "```\n",
      "fetch('https://example.com')\n",
      " .then(response => response.text())\n",
      " .then(data => console.log(data))\n",
      " .catch(error => console.error(error));\n",
      "```\n",
      "This code fetches the content of the URL `https://example.com`, parses it as text, and then logs the data to the console. If there is an error, it is logged to the console using `console.error()`.\n",
      "\n",
      "You can also use the `fetch()` function with options to customize the request. For example, you can use the `method` option to specify the HTTP method to use (such as `GET`, `POST`, etc.), and the `headers` option to specify any custom headers to include in the request. Here's an example of how you can use these options:\n",
      "```\n",
      "fetch('https://example.com', {\n",
      " method: 'POST',\n",
      " headers: {\n",
      "    'Content-Type': 'application/json'\n",
      " },\n",
      " body: JSON.stringify({\n",
      "    name: 'John Doe',\n",
      "    age: 30\n",
      " })\n",
      "})\n",
      " .then(response => response.text())\n",
      " .then(data => console.log(data))\n",
      " .catch(error => console.error(error));\n",
      "```\n",
      "This code sends a `POST` request to the URL `https://example.com` with a JSON payload containing the name and age of a person. The `Content-Type` header is set to `application/json` to indicate that the request body contains JSON data. The response is then parsed as text and logged to the console. If there is an error, it is logged to the console using `console.error()`.\n",
      "--------------------\n"
     ]
    }
   ],
   "source": [
    "system_content = \"You are Coding Assitant and fluent in C,C++, Python, JavaScript, C#.\"\n",
    "user_contents  = [\"Write a Python function to generate Fibonacci series\",\n",
    "                \"Write a C function to compute the value of PI\",\n",
    "                \"How I write a JavaScript function to fetch content from the URL\"]\n",
    "\n",
    "for user_content in user_contents:\n",
    "    chat_completion = openai.ChatCompletion.create(\n",
    "        model=MODEL,\n",
    "        messages=[{\"role\": \"system\", \"content\": system_content}, \n",
    "              {\"role\": \"user\", \"content\": user_content}],\n",
    "        temperature=0.7\n",
    "    )\n",
    "    product_names = chat_completion[\"choices\"][0][\"message\"][\"content\"]\n",
    "    print(\"Results from the OpenAI endpoint:\\n\", product_names)\n",
    "    print(\"----\" * 5)"
   ]
  },
  {
   "cell_type": "code",
   "execution_count": null,
   "id": "06bc97a3-69a7-4834-9a20-4a2d3c42f6cf",
   "metadata": {},
   "outputs": [],
   "source": []
  }
 ],
 "metadata": {
  "kernelspec": {
   "display_name": "Python 3 (ipykernel)",
   "language": "python",
   "name": "python3"
  },
  "language_info": {
   "codemirror_mode": {
    "name": "ipython",
    "version": 3
   },
   "file_extension": ".py",
   "mimetype": "text/x-python",
   "name": "python",
   "nbconvert_exporter": "python",
   "pygments_lexer": "ipython3",
   "version": "3.8.13"
  }
 },
 "nbformat": 4,
 "nbformat_minor": 5
}
