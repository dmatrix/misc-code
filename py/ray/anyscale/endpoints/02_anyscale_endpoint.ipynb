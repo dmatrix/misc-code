{
 "cells": [
  {
   "cell_type": "code",
   "execution_count": 13,
   "id": "09cda9e2-cd6c-47a4-9627-ea5bb672cb51",
   "metadata": {},
   "outputs": [],
   "source": [
    "import warnings\n",
    "import os\n",
    "import openai\n",
    "from dotenv import load_dotenv, find_dotenv"
   ]
  },
  {
   "cell_type": "code",
   "execution_count": 14,
   "id": "894b6e99-60f6-49e6-9bfa-302689eb18a0",
   "metadata": {},
   "outputs": [],
   "source": [
    "_ = load_dotenv(find_dotenv()) # read local .env file\n",
    "warnings.filterwarnings('ignore')\n",
    "openai.api_base = os.getenv(\"ANYSCALE_API_BASE\", os.getenv(\"OPENAI_API_BASE\"))\n",
    "openai.api_key = os.getenv(\"ANYSCALE_API_KEY\", os.getenv(\"OPENAI_API_KEY\"))"
   ]
  },
  {
   "cell_type": "code",
   "execution_count": 15,
   "id": "495122c3-6375-4e12-bc62-892943e0a5ed",
   "metadata": {},
   "outputs": [
    {
     "name": "stdout",
     "output_type": "stream",
     "text": [
      "Results from the Anyscale Endpoint:\n",
      " Sure! Here is a Python function to generate the Fibonacci series:\n",
      "```\n",
      "def fibonacci(n):\n",
      "    a, b = 0, 1\n",
      "    for i in range(n):\n",
      "        yield a\n",
      "        a, b = b, a + b\n",
      "```\n",
      "This function uses a generator expression to generate the Fibonacci series up to a given number `n`. The series starts with 0 and 1, and each subsequent number is the sum of the previous two numbers. The `yield` statement is used to return the current number in the series, and the `a, b = b, a + b` statement updates the values of `a` and `b` for the next iteration.\n",
      "\n",
      "You can use this function to generate the Fibonacci series as follows:\n",
      "```\n",
      "fibonacci_series = list(fibonacci(10))\n",
      "print(fibonacci_series)\n",
      "```\n",
      "This will output the first 10 numbers in the Fibonacci series: `[0, 1, 1, 2, 3, 5, 8, 13, 21, 34]`.\n",
      "--------------------\n",
      "Results from the Anyscale Endpoint:\n",
      " Here's an example of a C function that computes the value of PI using the Gregory-Leibniz series:\n",
      "```\n",
      "#include <math.h>\n",
      "\n",
      "double compute_pi(int num_terms) {\n",
      "    double pi = 0.0;\n",
      "    double denominator = 2.0;\n",
      "    for (int i = 1; i <= num_terms; i++) {\n",
      "        pi += pow(-1.0, i + 1) / denominator;\n",
      "        denominator *= i * 2.0;\n",
      "    }\n",
      "    return pi;\n",
      "}\n",
      "```\n",
      "This function takes an integer `num_terms` as input, which specifies the number of terms to use in the Gregory-Leibniz series. It uses a `for` loop to iterate over the terms, and computes the next term using the formula `pi += pow(-1.0, i + 1) / denominator;`, where `i` is the loop counter and `denominator` is the denominator of the term. The function returns the computed value of `pi` as a `double`.\n",
      "\n",
      "Note that this function uses the `pow` function from the `math.h` header file to compute the power of -1.0.\n",
      "--------------------\n",
      "Results from the Anyscale Endpoint:\n",
      " To fetch content from a URL using JavaScript, you can use the `fetch()` function. The `fetch()` function is a built-in function in JavaScript that allows you to make HTTP requests to a URL and retrieve the response.\n",
      "\n",
      "Here is an example of how you can use the `fetch()` function to fetch content from a URL:\n",
      "```\n",
      "fetch('https://example.com')\n",
      " .then(response => response.text())\n",
      " .then(data => console.log(data))\n",
      " .catch(error => console.error(error));\n",
      "```\n",
      "In this example, the `fetch()` function is called with the URL `'https://example.com'` as an argument. The `then()` method is used to handle the response from the server. The `text()` method is used to convert the response to a string, and the `console.log()` method is used to log the response to the console. If there is an error, the `catch()` method is used to handle the error.\n",
      "\n",
      "You can also use the `fetch()` function with other methods like `json()`, `arrayBuffer()`, `blob()`, etc. to retrieve different types of data.\n",
      "```\n",
      "fetch('https://example.com')\n",
      " .then(response => response.json())\n",
      " .then(data => console.log(data))\n",
      " .catch(error => console.error(error));\n",
      "```\n",
      "It's important to note that the `fetch()` function returns a promise, so you need to use the `then()` method to handle the response and the `catch()` method to handle any errors that may occur.\n",
      "\n",
      "Also, you can use the `async/await` syntax to make the code more readable.\n",
      "```\n",
      "async function fetchData() {\n",
      " try {\n",
      "    const response = await fetch('https://example.com');\n",
      "    const data = await response.json();\n",
      "    console.log(data);\n",
      " } catch (error) {\n",
      "    console.error(error);\n",
      " }\n",
      "}\n",
      "```\n",
      "It's important to note that the `fetch()` function is a modern way to make HTTP requests in JavaScript, but it's not supported in older browsers, so you may need to use a polyfill or a fallback for older browsers.\n",
      "--------------------\n"
     ]
    }
   ],
   "source": [
    "system_content = \"You are Coding Assitant and fluent in C,C++, Python, JavaScript, C#.\"\n",
    "user_contents  = [\"Write a Python function to generate Fibonacci series\",\n",
    "                  \"Write a C function to compute the value of PI\",\n",
    "                  \"How I write a JavaScript function to fetch content from the URL\"]\n",
    "MODEL = 'codellama/CodeLlama-34b-Instruct-hf'\n",
    "\n",
    "for user_content in user_contents:\n",
    "    chat_completion = openai.ChatCompletion.create(\n",
    "        model=MODEL,\n",
    "        messages=[{\"role\": \"system\", \"content\": system_content}, \n",
    "              {\"role\": \"user\", \"content\": user_content}],\n",
    "        temperature=0.7\n",
    "    )\n",
    "    product_names = chat_completion[\"choices\"][0][\"message\"][\"content\"]\n",
    "    print(\"Results from the Anyscale Endpoint:\\n\", product_names)\n",
    "    print(\"----\" * 5)"
   ]
  },
  {
   "cell_type": "code",
   "execution_count": null,
   "id": "06bc97a3-69a7-4834-9a20-4a2d3c42f6cf",
   "metadata": {},
   "outputs": [],
   "source": []
  }
 ],
 "metadata": {
  "kernelspec": {
   "display_name": "Python 3 (ipykernel)",
   "language": "python",
   "name": "python3"
  },
  "language_info": {
   "codemirror_mode": {
    "name": "ipython",
    "version": 3
   },
   "file_extension": ".py",
   "mimetype": "text/x-python",
   "name": "python",
   "nbconvert_exporter": "python",
   "pygments_lexer": "ipython3",
   "version": "3.8.13"
  }
 },
 "nbformat": 4,
 "nbformat_minor": 5
}
