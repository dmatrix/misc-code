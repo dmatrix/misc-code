{
 "cells": [
  {
   "cell_type": "markdown",
   "id": "f5fc13fa-52f5-4948-ae75-201c145cb4cb",
   "metadata": {},
   "source": [
    "[Anyscale Endpoints](https://console.endpoints.anyscale.com/) is a managed\n",
    "service for hosting OSS LLMs. Currently, Anyscale Endpoints support these open-source LLM models:\n",
    " * meta-llama/Llama-2-7b-chat-hf\n",
    " * meta-llama/Llama-2-13b-chat-hf\n",
    " * meta-llama/Llama-2-70b-chat-hf\n",
    " * codellama/CodeLlama-34b-Instruct-hf\n",
    " \n",
    "<img src=\"anyscale_endpoints.png\" height=\"35%\" width=\"%75\">\n",
    "\n",
    "In this short example, we will use the latest CodeLlama released by [Meta AI](https://ai.meta.com/blog/code-llama-large-language-model-coding/)"
   ]
  },
  {
   "cell_type": "code",
   "execution_count": 1,
   "id": "49a5cb6c-613e-4592-b90d-d6118432c339",
   "metadata": {},
   "outputs": [],
   "source": [
    "import warnings\n",
    "import os\n",
    "\n",
    "import openai\n",
    "import gradio as gr\n",
    "\n",
    "from langchain.chains import LLMChain\n",
    "from langchain.chat_models import ChatOpenAI\n",
    "from langchain.prompts import ChatPromptTemplate\n",
    "from dotenv import load_dotenv, find_dotenv"
   ]
  },
  {
   "cell_type": "code",
   "execution_count": 2,
   "id": "df585f53-a79c-474b-88ce-b2815b12fce8",
   "metadata": {},
   "outputs": [],
   "source": [
    "_ = load_dotenv(find_dotenv()) # read local .env file\n",
    "MODEL = 'codellama/CodeLlama-34b-Instruct-hf'\n",
    "warnings.filterwarnings('ignore')\n",
    "openai.api_base = os.getenv(\"ANYSCALE_API_BASE\", os.getenv(\"OPENAI_API_BASE\"))\n",
    "openai.api_key = os.getenv(\"ANYSCALE_API_KEY\", os.getenv(\"OPENAI_API_KEY\"))"
   ]
  },
  {
   "cell_type": "code",
   "execution_count": 3,
   "id": "6b47aa1a-6f82-4cb5-bbde-e2b68c948c95",
   "metadata": {},
   "outputs": [],
   "source": [
    "llm_model = ChatOpenAI(temperature=0.9, model_name=MODEL, streaming=True)"
   ]
  },
  {
   "cell_type": "code",
   "execution_count": 4,
   "id": "f218a20f-1422-4035-95cf-7bcc2e57ced8",
   "metadata": {},
   "outputs": [],
   "source": [
    "default_prompt = ChatPromptTemplate.from_template(\"{input}\")\n",
    "default_chain = LLMChain(llm=llm_model, prompt=default_prompt)"
   ]
  },
  {
   "cell_type": "code",
   "execution_count": 5,
   "id": "e1654b5a-ca12-4f3a-a361-4238bb1400a7",
   "metadata": {},
   "outputs": [],
   "source": [
    "def send_prompt(text: str):\n",
    "    return default_chain.run(text)"
   ]
  },
  {
   "cell_type": "code",
   "execution_count": 6,
   "id": "fcc0e233-3053-45f5-a3af-e110b3888de7",
   "metadata": {},
   "outputs": [
    {
     "name": "stdout",
     "output_type": "stream",
     "text": [
      "Running on local URL:  http://127.0.0.1:7860\n",
      "\n",
      "To create a public link, set `share=True` in `launch()`.\n"
     ]
    },
    {
     "data": {
      "text/html": [
       "<div><iframe src=\"http://127.0.0.1:7860/\" width=\"100%\" height=\"500\" allow=\"autoplay; camera; microphone; clipboard-read; clipboard-write;\" frameborder=\"0\" allowfullscreen></iframe></div>"
      ],
      "text/plain": [
       "<IPython.core.display.HTML object>"
      ]
     },
     "metadata": {},
     "output_type": "display_data"
    },
    {
     "data": {
      "text/plain": []
     },
     "execution_count": 6,
     "metadata": {},
     "output_type": "execute_result"
    }
   ],
   "source": [
    "demo= gr.Interface(fn=send_prompt, inputs=\"text\", outputs=\"text\")\n",
    "demo.launch()   "
   ]
  }
 ],
 "metadata": {
  "kernelspec": {
   "display_name": "Python 3 (ipykernel)",
   "language": "python",
   "name": "python3"
  },
  "language_info": {
   "codemirror_mode": {
    "name": "ipython",
    "version": 3
   },
   "file_extension": ".py",
   "mimetype": "text/x-python",
   "name": "python",
   "nbconvert_exporter": "python",
   "pygments_lexer": "ipython3",
   "version": "3.8.13"
  }
 },
 "nbformat": 4,
 "nbformat_minor": 5
}
