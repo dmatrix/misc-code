{
 "cells": [
  {
   "cell_type": "code",
   "execution_count": 1,
   "id": "4a6f7835-5c89-4828-bc46-7236f2bd0a3b",
   "metadata": {},
   "outputs": [],
   "source": [
    "import warnings\n",
    "import os\n",
    "\n",
    "import openai\n",
    "from openai import OpenAI\n",
    "\n",
    "from dotenv import load_dotenv, find_dotenv"
   ]
  },
  {
   "cell_type": "code",
   "execution_count": 16,
   "id": "601a9168-7f20-40bc-a7a5-32bb02adbcfc",
   "metadata": {},
   "outputs": [
    {
     "name": "stdout",
     "output_type": "stream",
     "text": [
      "Using MODEL=gpt-4-1106-preview, base=https://api.openai.com/v1/moderations\n"
     ]
    }
   ],
   "source": [
    "_ = load_dotenv(find_dotenv()) # read local .env file\n",
    "warnings.filterwarnings('ignore')\n",
    "openai.api_base = os.getenv(\"ANYSCALE_API_BASE\", \"https://api.openai.com/v1/moderations\")\n",
    "openai.api_key = os.getenv(\"ANYSCALE_API_KEY\", os.getenv(\"OPENAI_API_KEY\"))\n",
    "MODEL = os.getenv(\"MODEL\")\n",
    "print(f\"Using MODEL={MODEL}, base={openai.api_base}\")"
   ]
  },
  {
   "cell_type": "code",
   "execution_count": 17,
   "id": "54419b05-e4a3-43e9-a8a7-a7cb629c762e",
   "metadata": {},
   "outputs": [
    {
     "name": "stdout",
     "output_type": "stream",
     "text": [
      "{\n",
      "  \"id\": \"modr-8KwgBAB8bze8cASZkik2QCqFznCxv\",\n",
      "  \"model\": \"text-moderation-006\",\n",
      "  \"results\": [\n",
      "    {\n",
      "      \"flagged\": true,\n",
      "      \"categories\": {\n",
      "        \"sexual\": false,\n",
      "        \"hate\": false,\n",
      "        \"harassment\": true,\n",
      "        \"self-harm\": false,\n",
      "        \"sexual/minors\": false,\n",
      "        \"hate/threatening\": false,\n",
      "        \"violence/graphic\": false,\n",
      "        \"self-harm/intent\": false,\n",
      "        \"self-harm/instructions\": false,\n",
      "        \"harassment/threatening\": false,\n",
      "        \"violence\": false\n",
      "      },\n",
      "      \"category_scores\": {\n",
      "        \"sexual\": 0.0002172250096919015,\n",
      "        \"hate\": 0.152025043964386,\n",
      "        \"harassment\": 0.971082866191864,\n",
      "        \"self-harm\": 2.4577309432061156e-7,\n",
      "        \"sexual/minors\": 1.6279910823868704e-6,\n",
      "        \"hate/threatening\": 1.276848990983126e-7,\n",
      "        \"violence/graphic\": 1.691784063950763e-6,\n",
      "        \"self-harm/intent\": 2.5310941964562517e-7,\n",
      "        \"self-harm/instructions\": 2.3491281808674103e-6,\n",
      "        \"harassment/threatening\": 0.000021973995899315923,\n",
      "        \"violence\": 0.00006881127774249762\n",
      "      }\n",
      "    }\n",
      "  ]\n",
      "}"
     ]
    }
   ],
   "source": [
    "!curl https://api.openai.com/v1/moderations \\\n",
    "  -X POST \\\n",
    "  -H \"Content-Type: application/json\" \\\n",
    "  -H \"Authorization: Bearer $OPENAI_API_KEY\" \\\n",
    "  -d '{\"input\": \"How disgusting & shameful you lot are!\"}'"
   ]
  },
  {
   "cell_type": "code",
   "execution_count": null,
   "id": "d92150cb-a30f-4887-9739-3f6ae50bbc23",
   "metadata": {},
   "outputs": [],
   "source": []
  }
 ],
 "metadata": {
  "kernelspec": {
   "display_name": "Python 3 (ipykernel)",
   "language": "python",
   "name": "python3"
  },
  "language_info": {
   "codemirror_mode": {
    "name": "ipython",
    "version": 3
   },
   "file_extension": ".py",
   "mimetype": "text/x-python",
   "name": "python",
   "nbconvert_exporter": "python",
   "pygments_lexer": "ipython3",
   "version": "3.10.12"
  }
 },
 "nbformat": 4,
 "nbformat_minor": 5
}
