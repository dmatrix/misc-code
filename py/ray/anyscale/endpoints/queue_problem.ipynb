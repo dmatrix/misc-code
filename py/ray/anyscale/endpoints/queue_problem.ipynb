{
 "cells": [
  {
   "cell_type": "code",
   "execution_count": 6,
   "id": "25222ab7-6161-490e-9988-71a8da442a01",
   "metadata": {},
   "outputs": [
    {
     "name": "stderr",
     "output_type": "stream",
     "text": [
      "2023-11-09 15:00:02,592\tINFO worker.py:1612 -- Started a local Ray instance. View the dashboard at \u001b[1m\u001b[32mhttp://127.0.0.1:8266 \u001b[39m\u001b[22m\n"
     ]
    },
    {
     "name": "stdout",
     "output_type": "stream",
     "text": [
      "Put work 1 - 10 to queue...\n",
      "\u001b[2m\u001b[36m(consumer pid=25591)\u001b[0m consumer 1 got work 1\n",
      "\u001b[2m\u001b[36m(consumer pid=25591)\u001b[0m consumer 1 got work 2\n",
      "\u001b[2m\u001b[36m(consumer pid=25591)\u001b[0m consumer 1 got work 5\n",
      "\u001b[2m\u001b[36m(consumer pid=25591)\u001b[0m consumer 1 got work 6\n",
      "\u001b[2m\u001b[36m(consumer pid=25591)\u001b[0m consumer 1 got work 8\n"
     ]
    },
    {
     "data": {
      "text/plain": [
       "[None, None]"
      ]
     },
     "execution_count": 6,
     "metadata": {},
     "output_type": "execute_result"
    }
   ],
   "source": [
    "import ray\n",
    "from ray.util.queue import Queue, Empty\n",
    "\n",
    "ray.init()\n",
    "# You can pass this object around to different tasks/actors\n",
    "queue = Queue(maxsize=100)\n",
    "\n",
    "\n",
    "@ray.remote\n",
    "def consumer(id, queue):\n",
    "    try:\n",
    "        while True:\n",
    "            next_item = queue.get(block=True, timeout=1)\n",
    "            print(f\"consumer {id} got work {next_item}\")\n",
    "    except Empty:\n",
    "        pass\n",
    "\n",
    "\n",
    "[queue.put(i) for i in range(10)]\n",
    "print(\"Put work 1 - 10 to queue...\")\n",
    "\n",
    "consumers = [consumer.remote(id, queue) for id in range(2)]\n",
    "ray.get(consumers)"
   ]
  },
  {
   "cell_type": "code",
   "execution_count": null,
   "id": "e30bde6a-93c6-44a1-aac0-90d1934966c0",
   "metadata": {},
   "outputs": [],
   "source": []
  }
 ],
 "metadata": {
  "kernelspec": {
   "display_name": "Python 3 (ipykernel)",
   "language": "python",
   "name": "python3"
  },
  "language_info": {
   "codemirror_mode": {
    "name": "ipython",
    "version": 3
   },
   "file_extension": ".py",
   "mimetype": "text/x-python",
   "name": "python",
   "nbconvert_exporter": "python",
   "pygments_lexer": "ipython3",
   "version": "3.8.13"
  }
 },
 "nbformat": 4,
 "nbformat_minor": 5
}
