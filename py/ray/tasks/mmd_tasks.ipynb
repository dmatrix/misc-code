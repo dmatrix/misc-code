{
 "cells": [
  {
   "cell_type": "code",
   "execution_count": null,
   "id": "b155ac46-5d4c-4c98-be1e-7d2899e3e1d9",
   "metadata": {},
   "outputs": [],
   "source": [
    "from sklearn.linear_model import LinearRegression\n",
    "from sklearn.tree import DecisionTreeRegressor\n",
    "from tqdm import tqdm\n",
    "import mmd_utils as mmt\n",
    "import pandas as pd\n",
    "import matplotlib.pyplot as plt\n",
    "from pyarrow import dataset as ds\n",
    "import ray"
   ]
  },
  {
   "cell_type": "code",
   "execution_count": null,
   "id": "0c41a356-e2b2-4163-8892-9ec5e6d4792b",
   "metadata": {},
   "outputs": [],
   "source": [
    "my_runtime_env = {\"working_dir\": \".\"}"
   ]
  },
  {
   "cell_type": "code",
   "execution_count": null,
   "id": "db4279a1-1ecc-431e-82b7-a4262d7b749c",
   "metadata": {},
   "outputs": [],
   "source": [
    "if ray.is_initialized():\n",
    "    ray.shutdown()\n",
    "ray.init(runtime_env=my_runtime_env, ignore_reinit_error=True)"
   ]
  },
  {
   "cell_type": "code",
   "execution_count": null,
   "id": "b75d03a9-57c7-43e8-9425-81def7ab7e54",
   "metadata": {},
   "outputs": [],
   "source": [
    "# Let's read the data as pyarrow table\n",
    "dataset = ds.dataset(\n",
    "        \"s3://anonymous@air-example-data/ursa-labs-taxi-data/by_year/\",\n",
    "        partitioning=[\"year\", \"month\"],\n",
    ")"
   ]
  },
  {
   "cell_type": "code",
   "execution_count": null,
   "id": "022af463-5469-4503-b408-0ff515de6a71",
   "metadata": {},
   "outputs": [],
   "source": [
    "# Let's use three sklearn estimator models\n",
    "models = [LinearRegression(), \n",
    "          DecisionTreeRegressor(),\n",
    "          DecisionTreeRegressor(splitter=\"random\"),\n",
    "        ]\n",
    "        \n",
    "# Define batch sizes and tracking list \n",
    "all_stats_times = []\n",
    "starting_indexes = [-1]\n",
    "# starting_indexes = [-3, -6, -9, -12, -15, -18]"
   ]
  },
  {
   "cell_type": "code",
   "execution_count": null,
   "id": "c9c4811a-3028-466f-bc19-825c8caf1289",
   "metadata": {},
   "outputs": [],
   "source": [
    "for starting_idx in tqdm(starting_indexes):\n",
    "    files = [f\"s3://anonymous@{file}\" for file in tqdm(dataset.files)][starting_idx:]\n",
    "    print(f\"Total files obtained {len(files)}\")\n",
    "    results, time_stats = mmt.run_batch_training(files, models=models, verbose=False)\n",
    "    all_stats_times.append(time_stats)\n",
    "    print(f\"Sample of results: {results[:-1][0]}\")\n",
    "    print(\"\", flush=True)\n",
    "    print(f\"Total number of pickup locations: {time_stats['total_pickup_locations']}\")\n",
    "    print(f\"Total number of pickup locations with enough records to train: {time_stats['total_pickup_locations_trained']}\")\n",
    "    print(f\"Total number of models trained: {time_stats['total_models_trained']}\")\n",
    "    print(f\"TOTAL TIME TAKEN: {time_stats['total_training_time']} seconds\")\n",
    "    print(\"--\" * 10)"
   ]
  },
  {
   "cell_type": "code",
   "execution_count": null,
   "id": "1847bb23-a8d9-48a0-8d7f-d5ca7f8f978f",
   "metadata": {},
   "outputs": [],
   "source": [
    "#  Print all cumulative results and stats\n",
    "all_stats_times_df = pd.DataFrame(all_stats_times, index=[1])\n",
    "# all_stats_times_df = pd.DataFrame(all_stats_times, index=[3, 6, 9, 12, 15, 18])\n",
    "display(all_stats_times_df)"
   ]
  },
  {
   "cell_type": "code",
   "execution_count": null,
   "id": "85c15977-f41d-416f-8a59-6c68cdcf2f16",
   "metadata": {},
   "outputs": [],
   "source": [
    "# Plot some times\n",
    "all_stats_times_df.plot(kind=\"bar\")\n",
    "\n",
    "plt.ylabel(\"Total locations, Models Trained, Training times\", fontsize=12)\n",
    "plt.xlabel(\"Number of files per batch\", fontsize=12)\n",
    "plt.title(\"Optimized batch training with Ray object store\")\n",
    "plt.grid(False)\n",
    "plt.show()"
   ]
  },
  {
   "cell_type": "code",
   "execution_count": null,
   "id": "4d88a145-e647-4a5a-8ed4-5b17ee8c7835",
   "metadata": {},
   "outputs": [],
   "source": [
    "ray.shutdown()"
   ]
  }
 ],
 "metadata": {
  "kernelspec": {
   "display_name": "Python 3 (ipykernel)",
   "language": "python",
   "name": "python3"
  },
  "language_info": {
   "codemirror_mode": {
    "name": "ipython",
    "version": 3
   },
   "file_extension": ".py",
   "mimetype": "text/x-python",
   "name": "python",
   "nbconvert_exporter": "python",
   "pygments_lexer": "ipython3",
   "version": "3.8.13"
  }
 },
 "nbformat": 4,
 "nbformat_minor": 5
}
