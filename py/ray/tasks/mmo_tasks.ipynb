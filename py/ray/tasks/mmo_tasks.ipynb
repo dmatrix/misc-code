{
 "cells": [
  {
   "cell_type": "code",
   "execution_count": 1,
   "id": "5cc61645-bb54-4463-9717-bab684214352",
   "metadata": {},
   "outputs": [],
   "source": [
    "from sklearn.linear_model import LinearRegression\n",
    "from sklearn.tree import DecisionTreeRegressor\n",
    "import pandas as pd\n",
    "from tqdm import tqdm\n",
    "import mmo_utils as ommt\n",
    "import matplotlib.pyplot as plt\n",
    "from pyarrow import dataset as ds\n",
    "import ray"
   ]
  },
  {
   "cell_type": "code",
   "execution_count": 2,
   "id": "e627e5a3-2cc8-4e48-a964-b801210297ee",
   "metadata": {},
   "outputs": [],
   "source": [
    "my_runtime_env = {\"working_dir\": \".\"}"
   ]
  },
  {
   "cell_type": "code",
   "execution_count": 3,
   "id": "06652965-d4a1-49f3-a7fe-e512d370411c",
   "metadata": {},
   "outputs": [
    {
     "name": "stderr",
     "output_type": "stream",
     "text": [
      "2023-01-15 11:24:21,118\tINFO worker.py:1529 -- Started a local Ray instance. View the dashboard at \u001b[1m\u001b[32mhttp://127.0.0.1:8266 \u001b[39m\u001b[22m\n",
      "2023-01-15 11:24:21,133\tINFO packaging.py:546 -- Creating a file package for local directory '.'.\n",
      "2023-01-15 11:24:21,146\tINFO packaging.py:373 -- Pushing file package 'gcs://_ray_pkg_7ce346890b35d236.zip' (0.06MiB) to Ray cluster...\n",
      "2023-01-15 11:24:21,150\tINFO packaging.py:386 -- Successfully pushed file package 'gcs://_ray_pkg_7ce346890b35d236.zip'.\n"
     ]
    },
    {
     "data": {
      "text/html": [
       "<div>\n",
       "    <div style=\"margin-left: 50px;display: flex;flex-direction: row;align-items: center\">\n",
       "        <h3 style=\"color: var(--jp-ui-font-color0)\">Ray</h3>\n",
       "        <svg version=\"1.1\" id=\"ray\" width=\"3em\" viewBox=\"0 0 144.5 144.6\" style=\"margin-left: 3em;margin-right: 3em\">\n",
       "            <g id=\"layer-1\">\n",
       "                <path fill=\"#00a2e9\" class=\"st0\" d=\"M97.3,77.2c-3.8-1.1-6.2,0.9-8.3,5.1c-3.5,6.8-9.9,9.9-17.4,9.6S58,88.1,54.8,81.2c-1.4-3-3-4-6.3-4.1\n",
       "                    c-5.6-0.1-9.9,0.1-13.1,6.4c-3.8,7.6-13.6,10.2-21.8,7.6C5.2,88.4-0.4,80.5,0,71.7c0.1-8.4,5.7-15.8,13.8-18.2\n",
       "                    c8.4-2.6,17.5,0.7,22.3,8c1.3,1.9,1.3,5.2,3.6,5.6c3.9,0.6,8,0.2,12,0.2c1.8,0,1.9-1.6,2.4-2.8c3.5-7.8,9.7-11.8,18-11.9\n",
       "                    c8.2-0.1,14.4,3.9,17.8,11.4c1.3,2.8,2.9,3.6,5.7,3.3c1-0.1,2,0.1,3,0c2.8-0.5,6.4,1.7,8.1-2.7s-2.3-5.5-4.1-7.5\n",
       "                    c-5.1-5.7-10.9-10.8-16.1-16.3C84,38,81.9,37.1,78,38.3C66.7,42,56.2,35.7,53,24.1C50.3,14,57.3,2.8,67.7,0.5\n",
       "                    C78.4-2,89,4.7,91.5,15.3c0.1,0.3,0.1,0.5,0.2,0.8c0.7,3.4,0.7,6.9-0.8,9.8c-1.7,3.2-0.8,5,1.5,7.2c6.7,6.5,13.3,13,19.8,19.7\n",
       "                    c1.8,1.8,3,2.1,5.5,1.2c9.1-3.4,17.9-0.6,23.4,7c4.8,6.9,4.6,16.1-0.4,22.9c-5.4,7.2-14.2,9.9-23.1,6.5c-2.3-0.9-3.5-0.6-5.1,1.1\n",
       "                    c-6.7,6.9-13.6,13.7-20.5,20.4c-1.8,1.8-2.5,3.2-1.4,5.9c3.5,8.7,0.3,18.6-7.7,23.6c-7.9,5-18.2,3.8-24.8-2.9\n",
       "                    c-6.4-6.4-7.4-16.2-2.5-24.3c4.9-7.8,14.5-11,23.1-7.8c3,1.1,4.7,0.5,6.9-1.7C91.7,98.4,98,92.3,104.2,86c1.6-1.6,4.1-2.7,2.6-6.2\n",
       "                    c-1.4-3.3-3.8-2.5-6.2-2.6C99.8,77.2,98.9,77.2,97.3,77.2z M72.1,29.7c5.5,0.1,9.9-4.3,10-9.8c0-0.1,0-0.2,0-0.3\n",
       "                    C81.8,14,77,9.8,71.5,10.2c-5,0.3-9,4.2-9.3,9.2c-0.2,5.5,4,10.1,9.5,10.3C71.8,29.7,72,29.7,72.1,29.7z M72.3,62.3\n",
       "                    c-5.4-0.1-9.9,4.2-10.1,9.7c0,0.2,0,0.3,0,0.5c0.2,5.4,4.5,9.7,9.9,10c5.1,0.1,9.9-4.7,10.1-9.8c0.2-5.5-4-10-9.5-10.3\n",
       "                    C72.6,62.3,72.4,62.3,72.3,62.3z M115,72.5c0.1,5.4,4.5,9.7,9.8,9.9c5.6-0.2,10-4.8,10-10.4c-0.2-5.4-4.6-9.7-10-9.7\n",
       "                    c-5.3-0.1-9.8,4.2-9.9,9.5C115,72.1,115,72.3,115,72.5z M19.5,62.3c-5.4,0.1-9.8,4.4-10,9.8c-0.1,5.1,5.2,10.4,10.2,10.3\n",
       "                    c5.6-0.2,10-4.9,9.8-10.5c-0.1-5.4-4.5-9.7-9.9-9.6C19.6,62.3,19.5,62.3,19.5,62.3z M71.8,134.6c5.9,0.2,10.3-3.9,10.4-9.6\n",
       "                    c0.5-5.5-3.6-10.4-9.1-10.8c-5.5-0.5-10.4,3.6-10.8,9.1c0,0.5,0,0.9,0,1.4c-0.2,5.3,4,9.8,9.3,10\n",
       "                    C71.6,134.6,71.7,134.6,71.8,134.6z\"/>\n",
       "            </g>\n",
       "        </svg>\n",
       "        <table>\n",
       "            <tr>\n",
       "                <td style=\"text-align: left\"><b>Python version:</b></td>\n",
       "                <td style=\"text-align: left\"><b>3.8.13</b></td>\n",
       "            </tr>\n",
       "            <tr>\n",
       "                <td style=\"text-align: left\"><b>Ray version:</b></td>\n",
       "                <td style=\"text-align: left\"><b> 2.2.0</b></td>\n",
       "            </tr>\n",
       "            <tr>\n",
       "    <td style=\"text-align: left\"><b>Dashboard:</b></td>\n",
       "    <td style=\"text-align: left\"><b><a href=\"http://127.0.0.1:8266\" target=\"_blank\">http://127.0.0.1:8266</a></b></td>\n",
       "</tr>\n",
       "\n",
       "        </table>\n",
       "    </div>\n",
       "</div>\n"
      ],
      "text/plain": [
       "RayContext(dashboard_url='127.0.0.1:8266', python_version='3.8.13', ray_version='2.2.0', ray_commit='b6af0887ee5f2e460202133791ad941a41f15beb', address_info={'node_ip_address': '127.0.0.1', 'raylet_ip_address': '127.0.0.1', 'redis_address': None, 'object_store_address': '/tmp/ray/session_2023-01-15_11-24-18_907498_1484/sockets/plasma_store', 'raylet_socket_name': '/tmp/ray/session_2023-01-15_11-24-18_907498_1484/sockets/raylet', 'webui_url': '127.0.0.1:8266', 'session_dir': '/tmp/ray/session_2023-01-15_11-24-18_907498_1484', 'metrics_export_port': 57901, 'gcs_address': '127.0.0.1:63163', 'address': '127.0.0.1:63163', 'dashboard_agent_listen_port': 52365, 'node_id': '68ef5322896223c1e5cb75220e26bf02e6a836702e0401edfe6cd4c9'})"
      ]
     },
     "execution_count": 3,
     "metadata": {},
     "output_type": "execute_result"
    }
   ],
   "source": [
    "if ray.is_initialized():\n",
    "    ray.shutdown()\n",
    "ray.init(runtime_env=my_runtime_env, ignore_reinit_error=True)\n"
   ]
  },
  {
   "cell_type": "code",
   "execution_count": 4,
   "id": "277dc77e-279f-47f6-acc0-3415d28f5f94",
   "metadata": {},
   "outputs": [],
   "source": [
    "# Let's read the data as pyarrow table\n",
    "dataset = ds.dataset(\n",
    "        \"s3://anonymous@air-example-data/ursa-labs-taxi-data/by_year/\",\n",
    "        partitioning=[\"year\", \"month\"],\n",
    ")"
   ]
  },
  {
   "cell_type": "code",
   "execution_count": 5,
   "id": "4dc838cb-6d32-44cf-80b3-1b5d7d3392a5",
   "metadata": {},
   "outputs": [],
   "source": [
    "# Let's use three sklearn estimator models\n",
    "models = [LinearRegression(), \n",
    "          DecisionTreeRegressor(),\n",
    "          DecisionTreeRegressor(splitter=\"random\"),\n",
    "        ]\n",
    "\n",
    "# Define batch sizes and tracking list \n",
    "all_stats_times = []\n",
    "starting_indexes = [-3, -6, -9]\n",
    "# starting_indexes = [-3, -6, -9, -12, -15, -18]"
   ]
  },
  {
   "cell_type": "code",
   "execution_count": 6,
   "id": "5b66c4ff-ca97-472b-84d1-5ab3ee259266",
   "metadata": {},
   "outputs": [
    {
     "name": "stderr",
     "output_type": "stream",
     "text": [
      "  0%|                                                                                                                    | 0/3 [00:00<?, ?it/s]\n",
      "100%|██████████████████████████████████████████████████████████████████████████████████████████████████████| 18/18 [00:00<00:00, 257670.55it/s]\u001b[A\n"
     ]
    },
    {
     "name": "stdout",
     "output_type": "stream",
     "text": [
      "Total files obtained 3\n",
      "Starting optimized run: each task fetching pre-loaded data from Ray object store...\n",
      "Sample of results: ('s3://anonymous@air-example-data/ursa-labs-taxi-data/by_year/2019/04/data.parquet/7e490662e39c4bfe8c64c6a2c45c9e8b_000000.parquet', 239, [(DecisionTreeRegressor(splitter='random'), 439.929), (DecisionTreeRegressor(), 439.93), (LinearRegression(), 612.513)])\n",
      "\n"
     ]
    },
    {
     "name": "stderr",
     "output_type": "stream",
     "text": [
      " 33%|████████████████████████████████████                                                                        | 1/3 [00:37<01:15, 37.75s/it]"
     ]
    },
    {
     "name": "stdout",
     "output_type": "stream",
     "text": [
      "Total number of pickup locations: 783\n",
      "Total number of pickup locations with enough records to train: 783\n",
      "Total number of models trained: 2349\n",
      "TOTAL TIME TAKEN: 37.739 seconds\n",
      "--------------------\n"
     ]
    },
    {
     "name": "stderr",
     "output_type": "stream",
     "text": [
      "\n",
      "100%|██████████████████████████████████████████████████████████████████████████████████████████████████████| 18/18 [00:00<00:00, 580749.78it/s]\u001b[A"
     ]
    },
    {
     "name": "stdout",
     "output_type": "stream",
     "text": [
      "Total files obtained 6\n",
      "Starting optimized run: each task fetching pre-loaded data from Ray object store...\n"
     ]
    },
    {
     "name": "stderr",
     "output_type": "stream",
     "text": [
      "\n"
     ]
    },
    {
     "name": "stdout",
     "output_type": "stream",
     "text": [
      "Sample of results: ('s3://anonymous@air-example-data/ursa-labs-taxi-data/by_year/2019/01/data.parquet/ecce6478ad09480cbc8539e0b6197c2d_000000.parquet', 151, [(DecisionTreeRegressor(), 479.692), (DecisionTreeRegressor(splitter='random'), 479.713), (LinearRegression(), 639.633)])\n",
      "\n"
     ]
    },
    {
     "name": "stderr",
     "output_type": "stream",
     "text": [
      " 67%|████████████████████████████████████████████████████████████████████████                                    | 2/3 [01:46<00:55, 55.83s/it]"
     ]
    },
    {
     "name": "stdout",
     "output_type": "stream",
     "text": [
      "Total number of pickup locations: 1568\n",
      "Total number of pickup locations with enough records to train: 1568\n",
      "Total number of models trained: 4704\n",
      "TOTAL TIME TAKEN: 68.477 seconds\n",
      "--------------------\n"
     ]
    },
    {
     "name": "stderr",
     "output_type": "stream",
     "text": [
      "\n",
      "100%|███████████████████████████████████████████████████████████████████████████████████████████████████████| 18/18 [00:00<00:00, 43364.43it/s]\u001b[A"
     ]
    },
    {
     "name": "stdout",
     "output_type": "stream",
     "text": [
      "Total files obtained 9\n",
      "Starting optimized run: each task fetching pre-loaded data from Ray object store...\n"
     ]
    },
    {
     "name": "stderr",
     "output_type": "stream",
     "text": [
      "\n",
      "\u001b[2m\u001b[36m(raylet)\u001b[0m Spilled 2194 MiB, 941 objects, write throughput 713 MiB/s. Set RAY_verbose_spill_logs=0 to disable this message.\n"
     ]
    },
    {
     "name": "stdout",
     "output_type": "stream",
     "text": [
      "Sample of results: ('s3://anonymous@air-example-data/ursa-labs-taxi-data/by_year/2018/10/data.parquet/20624e28db574114b47de3e43065f014_000000.parquet', 68, [(DecisionTreeRegressor(splitter='random'), 589.14), (DecisionTreeRegressor(), 589.186), (LinearRegression(), 740.233)])\n",
      "\n"
     ]
    },
    {
     "name": "stderr",
     "output_type": "stream",
     "text": [
      "100%|████████████████████████████████████████████████████████████████████████████████████████████████████████████| 3/3 [03:35<00:00, 71.87s/it]"
     ]
    },
    {
     "name": "stdout",
     "output_type": "stream",
     "text": [
      "Total number of pickup locations: 2355\n",
      "Total number of pickup locations with enough records to train: 2355\n",
      "Total number of models trained: 7065\n",
      "TOTAL TIME TAKEN: 109.322 seconds\n",
      "--------------------\n"
     ]
    },
    {
     "name": "stderr",
     "output_type": "stream",
     "text": [
      "\n"
     ]
    }
   ],
   "source": [
    "for starting_idx in tqdm(starting_indexes):\n",
    "    files = [f\"s3://anonymous@{file}\" for file in tqdm(dataset.files)][starting_idx:]\n",
    "    print(f\"Total files obtained {len(files)}\")\n",
    "    results, time_stats = ommt.run_batch_training_with_object_store(files, models=models)\n",
    "    all_stats_times.append(time_stats)\n",
    "    print(f\"Sample of results: {results[:-1][0]}\")\n",
    "    print(\"\", flush=True)\n",
    "    print(f\"Total number of pickup locations: {time_stats['total_pickup_locations']}\")\n",
    "    print(f\"Total number of pickup locations with enough records to train: {time_stats['total_pickup_locations_trained']}\")\n",
    "    print(f\"Total number of models trained: {time_stats['total_models_trained']}\")\n",
    "    print(f\"TOTAL TIME TAKEN: {time_stats['total_training_time']} seconds\")\n",
    "    print(\"--\" * 10)"
   ]
  },
  {
   "cell_type": "code",
   "execution_count": 8,
   "id": "fb98aa76-3937-4a03-ade1-ed37737bece5",
   "metadata": {},
   "outputs": [
    {
     "data": {
      "text/html": [
       "<div>\n",
       "<style scoped>\n",
       "    .dataframe tbody tr th:only-of-type {\n",
       "        vertical-align: middle;\n",
       "    }\n",
       "\n",
       "    .dataframe tbody tr th {\n",
       "        vertical-align: top;\n",
       "    }\n",
       "\n",
       "    .dataframe thead th {\n",
       "        text-align: right;\n",
       "    }\n",
       "</style>\n",
       "<table border=\"1\" class=\"dataframe\">\n",
       "  <thead>\n",
       "    <tr style=\"text-align: right;\">\n",
       "      <th></th>\n",
       "      <th>total_pickup_locations</th>\n",
       "      <th>total_pickup_locations_trained</th>\n",
       "      <th>total_models_trained</th>\n",
       "      <th>total_training_time</th>\n",
       "    </tr>\n",
       "  </thead>\n",
       "  <tbody>\n",
       "    <tr>\n",
       "      <th>3</th>\n",
       "      <td>783</td>\n",
       "      <td>783</td>\n",
       "      <td>2349</td>\n",
       "      <td>37.739</td>\n",
       "    </tr>\n",
       "    <tr>\n",
       "      <th>6</th>\n",
       "      <td>1568</td>\n",
       "      <td>1568</td>\n",
       "      <td>4704</td>\n",
       "      <td>68.477</td>\n",
       "    </tr>\n",
       "    <tr>\n",
       "      <th>9</th>\n",
       "      <td>2355</td>\n",
       "      <td>2355</td>\n",
       "      <td>7065</td>\n",
       "      <td>109.322</td>\n",
       "    </tr>\n",
       "  </tbody>\n",
       "</table>\n",
       "</div>"
      ],
      "text/plain": [
       "   total_pickup_locations  total_pickup_locations_trained  \\\n",
       "3                     783                             783   \n",
       "6                    1568                            1568   \n",
       "9                    2355                            2355   \n",
       "\n",
       "   total_models_trained  total_training_time  \n",
       "3                  2349               37.739  \n",
       "6                  4704               68.477  \n",
       "9                  7065              109.322  "
      ]
     },
     "metadata": {},
     "output_type": "display_data"
    }
   ],
   "source": [
    "#  Print all cumulative results and stats\n",
    "all_stats_times_df = pd.DataFrame(all_stats_times, index=[3, 6, 9])\n",
    "# all_stats_times_df = pd.DataFrame(all_stats_times, index=[3, 6, 9, 12, 15, 18])\n",
    "display(all_stats_times_df)"
   ]
  },
  {
   "cell_type": "code",
   "execution_count": 10,
   "id": "94e2f673-c76a-4044-a220-1ad378f45bf6",
   "metadata": {},
   "outputs": [
    {
     "data": {
      "image/png": "[encoded data removed]",
      "text/plain": [
       "<Figure size 640x480 with 1 Axes>"
      ]
     },
     "metadata": {},
     "output_type": "display_data"
    }
   ],
   "source": [
    "# Plot some times\n",
    "all_stats_times_df.plot(kind=\"bar\")\n",
    "\n",
    "plt.ylabel(\"Total locations, Models Trained, Training times\", fontsize=12)\n",
    "plt.xlabel(\"Number of files per batch\", fontsize=12)\n",
    "plt.title(\"Optimized batch training with Ray object store\")\n",
    "\n",
    "plt.grid(False)\n",
    "plt.show()"
   ]
  }
 ],
 "metadata": {
  "kernelspec": {
   "display_name": "Python 3 (ipykernel)",
   "language": "python",
   "name": "python3"
  },
  "language_info": {
   "codemirror_mode": {
    "name": "ipython",
    "version": 3
   },
   "file_extension": ".py",
   "mimetype": "text/x-python",
   "name": "python",
   "nbconvert_exporter": "python",
   "pygments_lexer": "ipython3",
   "version": "3.8.13"
  }
 },
 "nbformat": 4,
 "nbformat_minor": 5
}
