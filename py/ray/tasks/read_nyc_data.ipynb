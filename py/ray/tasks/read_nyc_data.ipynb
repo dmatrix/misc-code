{
 "cells": [
  {
   "cell_type": "code",
   "execution_count": 45,
   "id": "49acaebe-339c-4eff-9ff9-f3970ece765c",
   "metadata": {},
   "outputs": [],
   "source": [
    "from pyarrow import dataset as ds\n",
    "from pyarrow import parquet as pq\n",
    "import pyarrow as pa\n",
    "import pandas as pd\n",
    "import mmd_utils as mmt"
   ]
  },
  {
   "cell_type": "code",
   "execution_count": 22,
   "id": "20457e02-3a16-4d1f-b372-8b774402b6e6",
   "metadata": {},
   "outputs": [],
   "source": [
    "# Let's read the data as pyarrow table\n",
    "dataset = ds.dataset(\n",
    "        \"s3://anonymous@air-example-data/ursa-labs-taxi-data/by_year/\",\n",
    "        partitioning=[\"year\", \"month\"],\n",
    ")"
   ]
  },
  {
   "cell_type": "code",
   "execution_count": 27,
   "id": "9952898d-ccf5-43c5-8d88-31c8d36ce079",
   "metadata": {},
   "outputs": [
    {
     "data": {
      "text/plain": [
       "'s3://anonymous@air-example-data/ursa-labs-taxi-data/by_year/2019/06/data.parquet/ab5b9d2b8cc94be19346e260b543ec35_000000.parquet'"
      ]
     },
     "execution_count": 27,
     "metadata": {},
     "output_type": "execute_result"
    }
   ],
   "source": [
    "file=f\"s3://anonymous@{dataset.files[-1:][0]}\"\n",
    "file"
   ]
  },
  {
   "cell_type": "code",
   "execution_count": 38,
   "id": "f3f621a6-4447-409d-91fb-3e52be323691",
   "metadata": {},
   "outputs": [],
   "source": [
    "df = pq.read_table(\n",
    "        file,\n",
    "        filters=[(\"pickup_location_id\", \"=\", 25)],\n",
    "        columns=[\n",
    "            \"pickup_at\",\n",
    "            \"dropoff_at\",\n",
    "            \"pickup_location_id\",\n",
    "            \"dropoff_location_id\",\n",
    "        ],\n",
    "    ).to_pandas()"
   ]
  },
  {
   "cell_type": "code",
   "execution_count": 40,
   "id": "90d2fdd1-760f-4c6c-988c-117619af6a76",
   "metadata": {},
   "outputs": [
    {
     "data": {
      "text/html": [
       "<div>\n",
       "<style scoped>\n",
       "    .dataframe tbody tr th:only-of-type {\n",
       "        vertical-align: middle;\n",
       "    }\n",
       "\n",
       "    .dataframe tbody tr th {\n",
       "        vertical-align: top;\n",
       "    }\n",
       "\n",
       "    .dataframe thead th {\n",
       "        text-align: right;\n",
       "    }\n",
       "</style>\n",
       "<table border=\"1\" class=\"dataframe\">\n",
       "  <thead>\n",
       "    <tr style=\"text-align: right;\">\n",
       "      <th></th>\n",
       "      <th>pickup_at</th>\n",
       "      <th>dropoff_at</th>\n",
       "      <th>pickup_location_id</th>\n",
       "      <th>dropoff_location_id</th>\n",
       "    </tr>\n",
       "  </thead>\n",
       "  <tbody>\n",
       "    <tr>\n",
       "      <th>0</th>\n",
       "      <td>2019-06-01 00:05:58</td>\n",
       "      <td>2019-06-01 00:17:01</td>\n",
       "      <td>25</td>\n",
       "      <td>97</td>\n",
       "    </tr>\n",
       "    <tr>\n",
       "      <th>1</th>\n",
       "      <td>2019-06-01 00:50:49</td>\n",
       "      <td>2019-06-01 00:53:58</td>\n",
       "      <td>25</td>\n",
       "      <td>25</td>\n",
       "    </tr>\n",
       "    <tr>\n",
       "      <th>2</th>\n",
       "      <td>2019-06-01 00:33:28</td>\n",
       "      <td>2019-06-01 00:35:41</td>\n",
       "      <td>25</td>\n",
       "      <td>181</td>\n",
       "    </tr>\n",
       "    <tr>\n",
       "      <th>3</th>\n",
       "      <td>2019-06-01 00:09:27</td>\n",
       "      <td>2019-06-01 00:23:05</td>\n",
       "      <td>25</td>\n",
       "      <td>89</td>\n",
       "    </tr>\n",
       "    <tr>\n",
       "      <th>4</th>\n",
       "      <td>2019-06-01 00:04:32</td>\n",
       "      <td>2019-06-01 00:09:51</td>\n",
       "      <td>25</td>\n",
       "      <td>181</td>\n",
       "    </tr>\n",
       "  </tbody>\n",
       "</table>\n",
       "</div>"
      ],
      "text/plain": [
       "            pickup_at          dropoff_at  pickup_location_id  \\\n",
       "0 2019-06-01 00:05:58 2019-06-01 00:17:01                  25   \n",
       "1 2019-06-01 00:50:49 2019-06-01 00:53:58                  25   \n",
       "2 2019-06-01 00:33:28 2019-06-01 00:35:41                  25   \n",
       "3 2019-06-01 00:09:27 2019-06-01 00:23:05                  25   \n",
       "4 2019-06-01 00:04:32 2019-06-01 00:09:51                  25   \n",
       "\n",
       "   dropoff_location_id  \n",
       "0                   97  \n",
       "1                   25  \n",
       "2                  181  \n",
       "3                   89  \n",
       "4                  181  "
      ]
     },
     "metadata": {},
     "output_type": "display_data"
    }
   ],
   "source": [
    "display(df.head(5))"
   ]
  },
  {
   "cell_type": "code",
   "execution_count": 46,
   "id": "3c9b6044-02dd-4724-8e13-c8c16411c5da",
   "metadata": {},
   "outputs": [],
   "source": [
    "transform_df = mmt.transform_batch(df)"
   ]
  },
  {
   "cell_type": "code",
   "execution_count": 47,
   "id": "9c87c2be-4691-460c-af33-faf43290444a",
   "metadata": {},
   "outputs": [
    {
     "data": {
      "text/html": [
       "<div>\n",
       "<style scoped>\n",
       "    .dataframe tbody tr th:only-of-type {\n",
       "        vertical-align: middle;\n",
       "    }\n",
       "\n",
       "    .dataframe tbody tr th {\n",
       "        vertical-align: top;\n",
       "    }\n",
       "\n",
       "    .dataframe thead th {\n",
       "        text-align: right;\n",
       "    }\n",
       "</style>\n",
       "<table border=\"1\" class=\"dataframe\">\n",
       "  <thead>\n",
       "    <tr style=\"text-align: right;\">\n",
       "      <th></th>\n",
       "      <th>pickup_at</th>\n",
       "      <th>dropoff_at</th>\n",
       "      <th>pickup_location_id</th>\n",
       "      <th>dropoff_location_id</th>\n",
       "      <th>trip_duration</th>\n",
       "    </tr>\n",
       "  </thead>\n",
       "  <tbody>\n",
       "    <tr>\n",
       "      <th>0</th>\n",
       "      <td>2019-06-01 00:05:58</td>\n",
       "      <td>2019-06-01 00:17:01</td>\n",
       "      <td>25</td>\n",
       "      <td>97</td>\n",
       "      <td>663</td>\n",
       "    </tr>\n",
       "    <tr>\n",
       "      <th>1</th>\n",
       "      <td>2019-06-01 00:50:49</td>\n",
       "      <td>2019-06-01 00:53:58</td>\n",
       "      <td>25</td>\n",
       "      <td>25</td>\n",
       "      <td>189</td>\n",
       "    </tr>\n",
       "    <tr>\n",
       "      <th>2</th>\n",
       "      <td>2019-06-01 00:33:28</td>\n",
       "      <td>2019-06-01 00:35:41</td>\n",
       "      <td>25</td>\n",
       "      <td>181</td>\n",
       "      <td>133</td>\n",
       "    </tr>\n",
       "    <tr>\n",
       "      <th>3</th>\n",
       "      <td>2019-06-01 00:09:27</td>\n",
       "      <td>2019-06-01 00:23:05</td>\n",
       "      <td>25</td>\n",
       "      <td>89</td>\n",
       "      <td>818</td>\n",
       "    </tr>\n",
       "    <tr>\n",
       "      <th>4</th>\n",
       "      <td>2019-06-01 00:04:32</td>\n",
       "      <td>2019-06-01 00:09:51</td>\n",
       "      <td>25</td>\n",
       "      <td>181</td>\n",
       "      <td>319</td>\n",
       "    </tr>\n",
       "  </tbody>\n",
       "</table>\n",
       "</div>"
      ],
      "text/plain": [
       "            pickup_at          dropoff_at  pickup_location_id  \\\n",
       "0 2019-06-01 00:05:58 2019-06-01 00:17:01                  25   \n",
       "1 2019-06-01 00:50:49 2019-06-01 00:53:58                  25   \n",
       "2 2019-06-01 00:33:28 2019-06-01 00:35:41                  25   \n",
       "3 2019-06-01 00:09:27 2019-06-01 00:23:05                  25   \n",
       "4 2019-06-01 00:04:32 2019-06-01 00:09:51                  25   \n",
       "\n",
       "   dropoff_location_id  trip_duration  \n",
       "0                   97            663  \n",
       "1                   25            189  \n",
       "2                  181            133  \n",
       "3                   89            818  \n",
       "4                  181            319  "
      ]
     },
     "metadata": {},
     "output_type": "display_data"
    }
   ],
   "source": [
    "display(transform_df.head(5))"
   ]
  }
 ],
 "metadata": {
  "kernelspec": {
   "display_name": "Python 3 (ipykernel)",
   "language": "python",
   "name": "python3"
  },
  "language_info": {
   "codemirror_mode": {
    "name": "ipython",
    "version": 3
   },
   "file_extension": ".py",
   "mimetype": "text/x-python",
   "name": "python",
   "nbconvert_exporter": "python",
   "pygments_lexer": "ipython3",
   "version": "3.8.13"
  }
 },
 "nbformat": 4,
 "nbformat_minor": 5
}
