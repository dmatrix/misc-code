{
 "cells": [
  {
   "cell_type": "code",
   "execution_count": 1,
   "metadata": {},
   "outputs": [],
   "source": [
    "import os\n",
    "import time\n",
    "import multiprocessing\n",
    "import math\n",
    "import ray"
   ]
  },
  {
   "cell_type": "code",
   "execution_count": 3,
   "metadata": {},
   "outputs": [],
   "source": [
    "from ray_tasks import none_ray_task, ray_task"
   ]
  },
  {
   "cell_type": "markdown",
   "metadata": {},
   "source": [
    "### Get the Number of Cores"
   ]
  },
  {
   "cell_type": "code",
   "execution_count": 5,
   "metadata": {},
   "outputs": [
    {
     "name": "stdout",
     "output_type": "stream",
     "text": [
      "Number of cores: 12\n"
     ]
    }
   ],
   "source": [
    "n_cores = multiprocessing.cpu_count()\n",
    "print(\"Number of cores: {}\".format(n_cores))"
   ]
  },
  {
   "cell_type": "markdown",
   "metadata": {},
   "source": [
    "### Invoke the local task on a single core"
   ]
  },
  {
   "cell_type": "code",
   "execution_count": 6,
   "metadata": {},
   "outputs": [
    {
     "name": "stdout",
     "output_type": "stream",
     "text": [
      "Local return valued: 577306.97\n",
      "Local return valued: 577306.97\n",
      "Local return valued: 577306.97\n",
      "Local return valued: 577306.97\n",
      "Local return valued: 577306.97\n",
      "Local return valued: 577306.97\n",
      "Local return valued: 577306.97\n",
      "Local return valued: 577306.97\n",
      "Local return valued: 577306.97\n",
      "Local return valued: 577306.97\n",
      "Local return valued: 577306.97\n",
      "Local return valued: 577306.97\n",
      "Time elapsed for non ray task: 0.02\n"
     ]
    }
   ],
   "source": [
    "# invoke local task\n",
    "start = time.time()\n",
    "for _ in range(n_cores):\n",
    "    print(\"Local return valued: {:.2f}\". format(none_ray_task(1, 10000)))\n",
    "print(\"Time elapsed for non ray task: {:.2f}\".format(time.time() - start))"
   ]
  },
  {
   "cell_type": "markdown",
   "metadata": {},
   "source": [
    "### Initialize on the local host"
   ]
  },
  {
   "cell_type": "code",
   "execution_count": null,
   "metadata": {},
   "outputs": [],
   "source": [
    "# Initialize on the local host\n",
    "ray.init(num_cpus=n_cores)"
   ]
  },
  {
   "cell_type": "code",
   "execution_count": null,
   "metadata": {},
   "outputs": [],
   "source": [
    "start = time.time()\n",
    "for _ in range(n_cores):\n",
    "    print(\"Remote Ray task returned value: {:.2f}\".format(ray.get(ray_task.remote(1, 10000))))\n",
    "print(\"Time elapsed for non Ray task: {:.2f}\".format(time.time() - start))"
   ]
  },
  {
   "cell_type": "code",
   "execution_count": null,
   "metadata": {},
   "outputs": [],
   "source": []
  }
 ],
 "metadata": {
  "kernelspec": {
   "display_name": "Python 3",
   "language": "python",
   "name": "python3"
  },
  "language_info": {
   "codemirror_mode": {
    "name": "ipython",
    "version": 3
   },
   "file_extension": ".py",
   "mimetype": "text/x-python",
   "name": "python",
   "nbconvert_exporter": "python",
   "pygments_lexer": "ipython3",
   "version": "3.9.5"
  }
 },
 "nbformat": 4,
 "nbformat_minor": 4
}
