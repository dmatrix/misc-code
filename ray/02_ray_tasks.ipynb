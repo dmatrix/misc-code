{
 "cells": [
  {
   "cell_type": "code",
   "execution_count": 22,
   "metadata": {},
   "outputs": [],
   "source": [
    "import os\n",
    "import time\n",
    "import multiprocessing\n",
    "import math\n",
    "import ray"
   ]
  },
  {
   "cell_type": "code",
   "execution_count": 23,
   "metadata": {},
   "outputs": [],
   "source": [
    "from ray_tasks import none_ray_task, ray_task"
   ]
  },
  {
   "cell_type": "markdown",
   "metadata": {},
   "source": [
    "### Get the Number of Cores"
   ]
  },
  {
   "cell_type": "code",
   "execution_count": 24,
   "metadata": {},
   "outputs": [
    {
     "name": "stdout",
     "output_type": "stream",
     "text": [
      "Number of cores: 12\n"
     ]
    }
   ],
   "source": [
    "n_cores = multiprocessing.cpu_count()\n",
    "print(\"Number of cores: {}\".format(n_cores))"
   ]
  },
  {
   "cell_type": "markdown",
   "metadata": {},
   "source": [
    "### Invoke the local task on a single core"
   ]
  },
  {
   "cell_type": "code",
   "execution_count": 25,
   "metadata": {},
   "outputs": [
    {
     "name": "stdout",
     "output_type": "stream",
     "text": [
      "Local return valued: 18257417214.20\n",
      "Local return valued: 18257417214.20\n",
      "Local return valued: 18257417214.20\n",
      "Local return valued: 18257417214.20\n",
      "Local return valued: 18257417214.20\n",
      "Local return valued: 18257417214.20\n",
      "Local return valued: 18257417214.20\n",
      "Local return valued: 18257417214.20\n",
      "Local return valued: 18257417214.20\n",
      "Local return valued: 18257417214.20\n",
      "Local return valued: 18257417214.20\n",
      "Local return valued: 18257417214.20\n",
      "Time elapsed for non ray task: 10.03\n"
     ]
    }
   ],
   "source": [
    "# invoke local task\n",
    "start = time.time()\n",
    "for _ in range(n_cores):\n",
    "    print(\"Local return valued: {:.2f}\". format(none_ray_task(1, 10000000)))\n",
    "print(\"Time elapsed for non ray task: {:.2f}\".format(time.time() - start))"
   ]
  },
  {
   "cell_type": "markdown",
   "metadata": {},
   "source": [
    "### Initialize on the local host"
   ]
  },
  {
   "cell_type": "code",
   "execution_count": 26,
   "metadata": {},
   "outputs": [
    {
     "name": "stderr",
     "output_type": "stream",
     "text": [
      "2021-08-14 22:01:18,869\tINFO services.py:1245 -- View the Ray dashboard at \u001b[1m\u001b[32mhttp://127.0.0.1:8265\u001b[39m\u001b[22m\n"
     ]
    },
    {
     "data": {
      "text/plain": [
       "{'node_ip_address': '192.168.86.35',\n",
       " 'raylet_ip_address': '192.168.86.35',\n",
       " 'redis_address': '192.168.86.35:6379',\n",
       " 'object_store_address': '/tmp/ray/session_2021-08-14_22-01-17_337373_81399/sockets/plasma_store',\n",
       " 'raylet_socket_name': '/tmp/ray/session_2021-08-14_22-01-17_337373_81399/sockets/raylet',\n",
       " 'webui_url': '127.0.0.1:8265',\n",
       " 'session_dir': '/tmp/ray/session_2021-08-14_22-01-17_337373_81399',\n",
       " 'metrics_export_port': 57638,\n",
       " 'node_id': '996c08269c703d6e04c7bc56885719c1fd09150d0eb3d011f128c452'}"
      ]
     },
     "execution_count": 26,
     "metadata": {},
     "output_type": "execute_result"
    }
   ],
   "source": [
    "# Initialize on the local host\n",
    "ray.init(num_cpus=n_cores, ignore_reinit_error=True,)"
   ]
  },
  {
   "cell_type": "code",
   "execution_count": 29,
   "metadata": {},
   "outputs": [
    {
     "name": "stdout",
     "output_type": "stream",
     "text": [
      "\u001b[2m\u001b[36m(pid=82079)\u001b[0m pid=82079; ppid=82066\n",
      "Remote Ray task returned value: 18257417214.20\n",
      "\u001b[2m\u001b[36m(pid=82079)\u001b[0m pid=82079; ppid=82066\n",
      "Remote Ray task returned value: 18257417214.20\n",
      "\u001b[2m\u001b[36m(pid=82079)\u001b[0m pid=82079; ppid=82066\n",
      "Remote Ray task returned value: 18257417214.20\n",
      "\u001b[2m\u001b[36m(pid=82079)\u001b[0m pid=82079; ppid=82066\n",
      "Remote Ray task returned value: 18257417214.20\n",
      "\u001b[2m\u001b[36m(pid=82079)\u001b[0m pid=82079; ppid=82066\n",
      "Remote Ray task returned value: 18257417214.20\n",
      "\u001b[2m\u001b[36m(pid=82079)\u001b[0m pid=82079; ppid=82066\n",
      "Remote Ray task returned value: 18257417214.20\n",
      "\u001b[2m\u001b[36m(pid=82079)\u001b[0m pid=82079; ppid=82066\n",
      "Remote Ray task returned value: 18257417214.20\n",
      "\u001b[2m\u001b[36m(pid=82079)\u001b[0m pid=82079; ppid=82066\n",
      "Remote Ray task returned value: 18257417214.20\n",
      "\u001b[2m\u001b[36m(pid=82079)\u001b[0m pid=82079; ppid=82066\n",
      "Remote Ray task returned value: 18257417214.20\n",
      "\u001b[2m\u001b[36m(pid=82079)\u001b[0m pid=82079; ppid=82066\n",
      "Remote Ray task returned value: 18257417214.20\n",
      "\u001b[2m\u001b[36m(pid=82079)\u001b[0m pid=82079; ppid=82066\n",
      "Remote Ray task returned value: 18257417214.20\n",
      "\u001b[2m\u001b[36m(pid=82079)\u001b[0m pid=82079; ppid=82066\n",
      "Remote Ray task returned value: 18257417214.20\n",
      "Time elapsed for non Ray task: 9.98\n"
     ]
    }
   ],
   "source": [
    "start = time.time()\n",
    "for _ in range(n_cores):\n",
    "    print(\"Remote Ray task returned value: {:.2f}\".format(ray.get(ray_task.remote(1, 10000000))))\n",
    "print(\"Time elapsed for non Ray task: {:.2f}\".format(time.time() - start))"
   ]
  },
  {
   "cell_type": "code",
   "execution_count": 30,
   "metadata": {},
   "outputs": [],
   "source": [
    "# shutdown\n",
    "ray.shutdown()"
   ]
  }
 ],
 "metadata": {
  "kernelspec": {
   "display_name": "Python 3",
   "language": "python",
   "name": "python3"
  },
  "language_info": {
   "codemirror_mode": {
    "name": "ipython",
    "version": 3
   },
   "file_extension": ".py",
   "mimetype": "text/x-python",
   "name": "python",
   "nbconvert_exporter": "python",
   "pygments_lexer": "ipython3",
   "version": "3.9.5"
  }
 },
 "nbformat": 4,
 "nbformat_minor": 4
}
